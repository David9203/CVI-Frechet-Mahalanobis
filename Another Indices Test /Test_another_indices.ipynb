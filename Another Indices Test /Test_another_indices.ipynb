{
  "nbformat": 4,
  "nbformat_minor": 0,
  "metadata": {
    "colab": {
      "provenance": []
    },
    "kernelspec": {
      "name": "python3",
      "display_name": "Python 3"
    },
    "language_info": {
      "name": "python"
    }
  },
  "cells": [
    {
      "cell_type": "code",
      "execution_count": null,
      "metadata": {
        "id": "fO0Q1CRywhlw"
      },
      "outputs": [],
      "source": []
    },
    {
      "cell_type": "code",
      "execution_count": null,
      "metadata": {
        "id": "PXjJtpBPuvrt"
      },
      "outputs": [],
      "source": [
        "import numpy as np\n",
        "import pandas as pd\n",
        "import matplotlib.pyplot as plt\n",
        "from matplotlib.colors import ListedColormap\n",
        "from sklearn.model_selection import train_test_split\n",
        "from sklearn.preprocessing import StandardScaler\n",
        "from sklearn.datasets import make_moons, make_circles, make_classification\n",
        "from sklearn.neural_network import MLPClassifier\n",
        "from sklearn.neighbors import KNeighborsClassifier\n",
        "from sklearn.svm import SVC\n",
        "from sklearn.gaussian_process import GaussianProcessClassifier\n",
        "from sklearn.gaussian_process.kernels import RBF\n",
        "from sklearn.tree import DecisionTreeClassifier\n",
        "from sklearn.ensemble import RandomForestClassifier, AdaBoostClassifier\n",
        "from sklearn.naive_bayes import GaussianNB\n",
        "from sklearn.discriminant_analysis import QuadraticDiscriminantAnalysis\n",
        "from sklearn.metrics.cluster import adjusted_mutual_info_score\n"
      ]
    },
    {
      "cell_type": "code",
      "execution_count": null,
      "metadata": {
        "id": "Jr6pdXbGSnKT"
      },
      "outputs": [],
      "source": [
        "  import os                           \n",
        "import math                         \n",
        "import numpy as np                  \n",
        "from scipy import signal, stats     \n",
        "from scipy.fft import fftshift      \n",
        "import matplotlib.pyplot as plt     \n",
        "import statistics                   \n",
        "import time                         \n",
        "import pickle                                 \n",
        "import json                         \n",
        "import datetime \n",
        "import warnings\n",
        "warnings.filterwarnings('ignore')\n",
        "import librosa\n",
        "import soundfile as sf\n",
        "import pandas as pd\n",
        "import plotly.graph_objs as go\n",
        "import plotly.offline as pyo\n",
        "import seaborn as sns # Seaborn (version : 0.11.1)\n",
        "plt.style.use('seaborn')\n",
        "indices_escogidos=['BETA','P','M','NP','BNF','MD','SF','RMS','CF','SC','SNR']\n",
        "from sklearn import metrics\n",
        "from numpy import linalg as LA\n",
        "from scipy.spatial import distance"
      ]
    },
    {
      "cell_type": "code",
      "execution_count": null,
      "metadata": {
        "id": "fC4NjG4kSYOD"
      },
      "outputs": [],
      "source": [
        "from sklearn.cluster import kmeans_plusplus\n",
        "from sklearn.datasets import make_blobs\n",
        "import matplotlib.pyplot as plt\n",
        "\n",
        "from sklearn.metrics import accuracy_score\n",
        "from sklearn.metrics import classification_report\n",
        "from sklearn.mixture import GaussianMixture\n",
        "from sklearn.metrics import accuracy_score\n",
        "from sklearn.metrics import classification_report\n",
        "from sklearn.metrics import f1_score\n",
        "from copy import deepcopy\n",
        "from matplotlib.pyplot import figure\n",
        "\n",
        "\n"
      ]
    },
    {
      "cell_type": "code",
      "execution_count": null,
      "metadata": {
        "id": "UtvIxhwvUcPH"
      },
      "outputs": [],
      "source": []
    },
    {
      "cell_type": "code",
      "execution_count": null,
      "metadata": {
        "id": "F7SrKoKiyvkP"
      },
      "outputs": [],
      "source": [
        "def frechetDistance(u1,u2,E1,E2): \n",
        "  return (LA.norm(np.absolute(u1-u2)**2))+np.trace(E1+E2-(2*(E1*E2)**(0.5)))"
      ]
    },
    {
      "cell_type": "code",
      "execution_count": null,
      "metadata": {
        "id": "pWROpm2rhRxS"
      },
      "outputs": [],
      "source": [
        "def genData(n_samples,n_featuress, n_components,cl_std,randomstate):\n",
        "  X, y_true = make_blobs(\n",
        "        n_samples, n_features, centers=n_components, cluster_std=cl_std, random_state=randomstate\n",
        "    )\n",
        "  X = X[:, ::-1]\n",
        "  dataFrame=pd.DataFrame(X)\n",
        "  dataFrame[\"y\"]=y_true\n",
        "  return dataFrame"
      ]
    },
    {
      "cell_type": "code",
      "source": [],
      "metadata": {
        "id": "NnwlVfC-WSgQ"
      },
      "execution_count": null,
      "outputs": []
    },
    {
      "cell_type": "markdown",
      "metadata": {
        "id": "UxeuMjd8EG1l"
      },
      "source": [
        "# mdcgenpy framework"
      ]
    },
    {
      "cell_type": "code",
      "execution_count": null,
      "metadata": {
        "colab": {
          "base_uri": "https://localhost:8080/"
        },
        "id": "bFvNeG1XERAU",
        "outputId": "ae67b73c-1796-40b7-e6eb-2c1fbc07072e"
      },
      "outputs": [
        {
          "output_type": "stream",
          "name": "stdout",
          "text": [
            "Cloning into 'mdcgenpy'...\n",
            "remote: Enumerating objects: 202, done.\u001b[K\n",
            "remote: Total 202 (delta 0), reused 0 (delta 0), pack-reused 202\u001b[K\n",
            "Receiving objects: 100% (202/202), 56.64 KiB | 483.00 KiB/s, done.\n",
            "Resolving deltas: 100% (105/105), done.\n"
          ]
        }
      ],
      "source": [
        "!git clone https://github.com/CN-TU/mdcgenpy"
      ]
    },
    {
      "cell_type": "code",
      "execution_count": null,
      "metadata": {
        "colab": {
          "base_uri": "https://localhost:8080/"
        },
        "id": "ueUn34CKEamY",
        "outputId": "ca8526c9-40eb-4a74-d023-e46910a9f721"
      },
      "outputs": [
        {
          "output_type": "stream",
          "name": "stdout",
          "text": [
            "/content/mdcgenpy/mdcgenpy/Clusters-Features/mdcgenpy\n"
          ]
        }
      ],
      "source": [
        "cd mdcgenpy"
      ]
    },
    {
      "cell_type": "code",
      "execution_count": null,
      "metadata": {
        "colab": {
          "base_uri": "https://localhost:8080/"
        },
        "id": "skkCudheEkI0",
        "outputId": "9b948ae9-9875-4808-c8b7-4dd2a1ccb788"
      },
      "outputs": [
        {
          "output_type": "stream",
          "name": "stdout",
          "text": [
            "\u001b[0m\u001b[01;34mdocs\u001b[0m/              LICENSE    \u001b[01;32mmdcgenpy.py\u001b[0m*  requirements.txt\n",
            "json_example.json  \u001b[01;34mmdcgenpy\u001b[0m/  README.rst    setup.py\n"
          ]
        }
      ],
      "source": [
        "ls"
      ]
    },
    {
      "cell_type": "code",
      "execution_count": null,
      "metadata": {
        "colab": {
          "base_uri": "https://localhost:8080/"
        },
        "id": "58vZgqVmEksi",
        "outputId": "28da6c86-3ac4-46fb-c5d4-41d7cf9b69dd"
      },
      "outputs": [
        {
          "output_type": "stream",
          "name": "stdout",
          "text": [
            "Looking in indexes: https://pypi.org/simple, https://us-python.pkg.dev/colab-wheels/public/simple/\n",
            "Requirement already satisfied: numpy in /usr/local/lib/python3.8/dist-packages (from -r requirements.txt (line 1)) (1.21.6)\n",
            "Requirement already satisfied: six in /usr/local/lib/python3.8/dist-packages (from -r requirements.txt (line 2)) (1.15.0)\n",
            "Requirement already satisfied: scipy in /usr/local/lib/python3.8/dist-packages (from -r requirements.txt (line 3)) (1.7.3)\n"
          ]
        }
      ],
      "source": [
        "pip install -r requirements.txt"
      ]
    },
    {
      "cell_type": "code",
      "execution_count": null,
      "metadata": {
        "colab": {
          "base_uri": "https://localhost:8080/"
        },
        "id": "g905OQsVFTLX",
        "outputId": "9c88a48f-5c2e-4e1b-a4fc-e732c801342a"
      },
      "outputs": [
        {
          "output_type": "stream",
          "name": "stdout",
          "text": [
            "\u001b[0m\u001b[01;34mdocs\u001b[0m/              LICENSE    \u001b[01;32mmdcgenpy.py\u001b[0m*  requirements.txt\n",
            "json_example.json  \u001b[01;34mmdcgenpy\u001b[0m/  README.rst    setup.py\n"
          ]
        }
      ],
      "source": [
        "ls"
      ]
    },
    {
      "cell_type": "code",
      "execution_count": null,
      "metadata": {
        "colab": {
          "base_uri": "https://localhost:8080/"
        },
        "id": "pccE-Nw6FpvK",
        "outputId": "969d7653-3139-4a93-b6b6-d01fe83c7bff"
      },
      "outputs": [
        {
          "output_type": "stream",
          "name": "stdout",
          "text": [
            "/content/mdcgenpy/mdcgenpy/Clusters-Features/mdcgenpy/mdcgenpy\n"
          ]
        }
      ],
      "source": [
        "cd mdcgenpy/ "
      ]
    },
    {
      "cell_type": "code",
      "execution_count": null,
      "metadata": {
        "id": "rWDZ3FqTGTEc"
      },
      "outputs": [],
      "source": [
        "from clusters import ClusterGenerator"
      ]
    },
    {
      "cell_type": "code",
      "source": [],
      "metadata": {
        "id": "NtmSaU-LzNnU"
      },
      "execution_count": null,
      "outputs": []
    },
    {
      "cell_type": "markdown",
      "source": [
        "## testing Features"
      ],
      "metadata": {
        "id": "KAXkRA3kyXkT"
      }
    },
    {
      "cell_type": "code",
      "source": [
        "ls"
      ],
      "metadata": {
        "id": "7UWyMKYBYdkA",
        "colab": {
          "base_uri": "https://localhost:8080/"
        },
        "outputId": "2a21c764-a9e3-4529-fda8-ab98dc57bf27"
      },
      "execution_count": null,
      "outputs": [
        {
          "output_type": "stream",
          "name": "stdout",
          "text": [
            "\u001b[0m\u001b[01;34mclusters\u001b[0m/  __init__.py  \u001b[01;34minterface\u001b[0m/  \u001b[01;34mmdcgenutils\u001b[0m/\n"
          ]
        }
      ]
    },
    {
      "cell_type": "code",
      "source": [
        "!git clone https://github.com/Simon-Bertrand/Clusters-Features.git"
      ],
      "metadata": {
        "id": "1KJ4k078rS32",
        "colab": {
          "base_uri": "https://localhost:8080/"
        },
        "outputId": "5746e4f9-81a9-4696-bc73-30f321baed25"
      },
      "execution_count": null,
      "outputs": [
        {
          "output_type": "stream",
          "name": "stdout",
          "text": [
            "Cloning into 'Clusters-Features'...\n",
            "remote: Enumerating objects: 1150, done.\u001b[K\n",
            "remote: Counting objects: 100% (46/46), done.\u001b[K\n",
            "remote: Compressing objects: 100% (8/8), done.\u001b[K\n",
            "remote: Total 1150 (delta 44), reused 38 (delta 38), pack-reused 1104\u001b[K\n",
            "Receiving objects: 100% (1150/1150), 24.47 MiB | 15.16 MiB/s, done.\n",
            "Resolving deltas: 100% (720/720), done.\n"
          ]
        }
      ]
    },
    {
      "cell_type": "code",
      "source": [
        "cd Clusters-Features"
      ],
      "metadata": {
        "id": "g3xQQHSwrYAS",
        "colab": {
          "base_uri": "https://localhost:8080/"
        },
        "outputId": "f5cf0552-3e96-4679-87df-a9250e1e8348"
      },
      "execution_count": null,
      "outputs": [
        {
          "output_type": "stream",
          "name": "stdout",
          "text": [
            "/content/mdcgenpy/mdcgenpy/Clusters-Features/mdcgenpy/mdcgenpy/Clusters-Features\n"
          ]
        }
      ]
    },
    {
      "cell_type": "code",
      "source": [
        "ls\n"
      ],
      "metadata": {
        "id": "gEf_KI3UC7Tc",
        "colab": {
          "base_uri": "https://localhost:8080/"
        },
        "outputId": "e9d3bd66-c9ba-4508-f491-e4973aedda02"
      },
      "execution_count": null,
      "outputs": [
        {
          "output_type": "stream",
          "name": "stdout",
          "text": [
            "\u001b[0m\u001b[01;34mbuild-docs\u001b[0m/              JUPYTERME.ipynb  \u001b[01;32mMakefile\u001b[0m*         setup.py\n",
            "\u001b[01;34mClustersFeatures\u001b[0m/        LICENSE          README.md\n",
            "clustersfeatures-cli.py  \u001b[01;32mmake.bat\u001b[0m*        requirements.txt\n"
          ]
        }
      ]
    },
    {
      "cell_type": "code",
      "source": [
        "pip  install -r requirements.txt"
      ],
      "metadata": {
        "id": "vI2T-u-1DnrR",
        "colab": {
          "base_uri": "https://localhost:8080/"
        },
        "outputId": "80250b7f-4dbe-43cb-a148-56fa6f4f9d6e"
      },
      "execution_count": null,
      "outputs": [
        {
          "output_type": "stream",
          "name": "stdout",
          "text": [
            "Looking in indexes: https://pypi.org/simple, https://us-python.pkg.dev/colab-wheels/public/simple/\n",
            "Requirement already satisfied: numpy in /usr/local/lib/python3.8/dist-packages (from -r requirements.txt (line 1)) (1.21.6)\n",
            "Requirement already satisfied: pandas in /usr/local/lib/python3.8/dist-packages (from -r requirements.txt (line 2)) (1.3.5)\n",
            "Requirement already satisfied: scipy in /usr/local/lib/python3.8/dist-packages (from -r requirements.txt (line 3)) (1.7.3)\n",
            "Requirement already satisfied: scikit-learn in /usr/local/lib/python3.8/dist-packages (from -r requirements.txt (line 4)) (1.0.2)\n",
            "Requirement already satisfied: plotly in /usr/local/lib/python3.8/dist-packages (from -r requirements.txt (line 5)) (5.5.0)\n",
            "Requirement already satisfied: numba in /usr/local/lib/python3.8/dist-packages (from -r requirements.txt (line 6)) (0.56.4)\n",
            "Requirement already satisfied: umap-learn>=0.5.1 in /usr/local/lib/python3.8/dist-packages (from -r requirements.txt (line 7)) (0.5.3)\n",
            "Requirement already satisfied: statsmodels in /usr/local/lib/python3.8/dist-packages (from -r requirements.txt (line 8)) (0.12.2)\n",
            "Requirement already satisfied: Pillow in /usr/local/lib/python3.8/dist-packages (from -r requirements.txt (line 9)) (7.1.2)\n",
            "Requirement already satisfied: pytz>=2017.3 in /usr/local/lib/python3.8/dist-packages (from pandas->-r requirements.txt (line 2)) (2022.7)\n",
            "Requirement already satisfied: python-dateutil>=2.7.3 in /usr/local/lib/python3.8/dist-packages (from pandas->-r requirements.txt (line 2)) (2.8.2)\n",
            "Requirement already satisfied: threadpoolctl>=2.0.0 in /usr/local/lib/python3.8/dist-packages (from scikit-learn->-r requirements.txt (line 4)) (3.1.0)\n",
            "Requirement already satisfied: joblib>=0.11 in /usr/local/lib/python3.8/dist-packages (from scikit-learn->-r requirements.txt (line 4)) (1.2.0)\n",
            "Requirement already satisfied: tenacity>=6.2.0 in /usr/local/lib/python3.8/dist-packages (from plotly->-r requirements.txt (line 5)) (8.1.0)\n",
            "Requirement already satisfied: six in /usr/local/lib/python3.8/dist-packages (from plotly->-r requirements.txt (line 5)) (1.15.0)\n",
            "Requirement already satisfied: importlib-metadata in /usr/local/lib/python3.8/dist-packages (from numba->-r requirements.txt (line 6)) (5.2.0)\n",
            "Requirement already satisfied: llvmlite<0.40,>=0.39.0dev0 in /usr/local/lib/python3.8/dist-packages (from numba->-r requirements.txt (line 6)) (0.39.1)\n",
            "Requirement already satisfied: setuptools in /usr/local/lib/python3.8/dist-packages (from numba->-r requirements.txt (line 6)) (57.4.0)\n",
            "Requirement already satisfied: tqdm in /usr/local/lib/python3.8/dist-packages (from umap-learn>=0.5.1->-r requirements.txt (line 7)) (4.64.1)\n",
            "Requirement already satisfied: pynndescent>=0.5 in /usr/local/lib/python3.8/dist-packages (from umap-learn>=0.5.1->-r requirements.txt (line 7)) (0.5.8)\n",
            "Requirement already satisfied: patsy>=0.5 in /usr/local/lib/python3.8/dist-packages (from statsmodels->-r requirements.txt (line 8)) (0.5.3)\n",
            "Requirement already satisfied: zipp>=0.5 in /usr/local/lib/python3.8/dist-packages (from importlib-metadata->numba->-r requirements.txt (line 6)) (3.11.0)\n"
          ]
        }
      ]
    },
    {
      "cell_type": "code",
      "source": [
        "from ClustersFeatures import *\n",
        "from clusters import ClusterGenerator\n"
      ],
      "metadata": {
        "id": "koTU455EDtIE"
      },
      "execution_count": null,
      "outputs": []
    },
    {
      "cell_type": "markdown",
      "source": [
        "reemplazar la ruta del excel donde se cargan las configuraciones de las bases de datos"
      ],
      "metadata": {
        "id": "qHe5ncxCe2Ln"
      }
    },
    {
      "cell_type": "code",
      "source": [
        "car=pd.read_excel(\"/content/drive/MyDrive/Doctorado/2022/Diciembre/info_generateddata_logistic.xlsx\") ## Cargar excel con caracteristicas"
      ],
      "metadata": {
        "id": "Wv979s1OFeHl"
      },
      "execution_count": null,
      "outputs": []
    },
    {
      "cell_type": "code",
      "source": [
        "\n",
        "def iterateindex(inf,sup):\n",
        "  cpred=[]\n",
        "  admis=[]\n",
        "\n",
        "  ncreal=[]\n",
        "  ncpred_slope=[]\n",
        "  ncpred_min=[]\n",
        "  sil=[]\n",
        "  silluette=[]\n",
        "  bh=[]\n",
        "  rtl=[]\n",
        "  sd=[]\n",
        "  db=[]\n",
        "  xb=[]\n",
        "  ch=[]\n",
        "  dnn=[]\n",
        "  mr=[]\n",
        "  pb=[]\n",
        "  rt=[]\n",
        "  wg=[]\n",
        "  dr=[]\n",
        "  c=[]\n",
        "\n",
        "  for index, row in car.iloc[inf:sup,3:12].iterrows():\n",
        "    print(index)\n",
        "    cluster_gen=ClusterGenerator(seed=1, n_samples=row.samples, n_feats=row.n_feats, k=row.k_real, \n",
        "                      distributions=row.distributions, mv=False, corr=0., compactness_factor=row.compactness_factor, alpha_n=row.alpha_n,\n",
        "                      scale=True, outliers=row.outliers, rotate=False, add_noise=int(row.add_noise),  ki_coeff=3.)\n",
        "    data = cluster_gen.generate_data()\n",
        "    dataFrame= pd.DataFrame(data[0],columns=[\"a\",\"b\"]).round(3)\n",
        "    dataFrame['y']=data[1]\n",
        "    kgmm=row.k_real+20\n",
        "\n",
        "    varuncer=[]\n",
        "    separation=[]\n",
        "    sil=[]\n",
        "    g1=[]\n",
        "    g2=[]\n",
        "    g3=[]\n",
        "    g4=[]\n",
        "    g5=[]\n",
        "\n",
        "    g6=[]\n",
        "    g7=[]\n",
        "    g8=[]\n",
        "    g9=[]\n",
        "    g10=[]\n",
        "    g11=[]\n",
        "    g12=[]\n",
        "    g13=[]\n",
        "    X_train11=dataFrame.iloc[:,:row.n_feats].copy()\n",
        "    for l in range(2,kgmm):\n",
        "      rand=1\n",
        "      \n",
        "      #unce, sep,pred=uncertainity_mean(X_train11,n_components=l)\n",
        "      GM = GaussianMixture(n_components=l, random_state=rand, covariance_type=\"full\").fit(X_train11)\n",
        "      pred=GM.predict(X_train11)\n",
        "      sil.append(metrics.silhouette_score(X_train11, pred, metric='euclidean'))\n",
        "      X_train11[\"target\"]=pred\n",
        "\n",
        "      CC=ClustersCharacteristics(X_train11,label_target=\"target\")\n",
        "      g1.append(CC.score_index_ball_hall())\n",
        "      g2.append(CC.score_index_ratkowsky_lance())\n",
        "      g3.append(CC.score_index_SD())\n",
        "      g5.append(CC.score_index_xie_beni())\n",
        "      g6.append(CC.score_index_calinski_harabasz())\n",
        "      g7.append(CC.score_index_dunn())\n",
        "      g8.append(CC.score_index_mclain_rao())\n",
        "      g9.append(CC.score_index_point_biserial())\n",
        "      g10.append(CC.score_index_ray_turi())\n",
        "      g11.append(CC.score_index_wemmert_gancarski())\n",
        "      g13.append(CC.score_index_c())\n",
        "    \n",
        "      try:\n",
        "          g4.append(CC.score_index_davies_bouldin())\n",
        "      except:\n",
        "          print(\"An exception occurred\")\n",
        "          g4.append(0)\n",
        "\n",
        "\n",
        "\n",
        "    silluette.append(np.array(sil).argmax()+2)\n",
        "    bh.append(np.diff(np.array(g1)).argmax()+2)\n",
        "    rtl.append(np.array(g2).argmax()+2)\n",
        "    sd.append(np.array(g3).argmin()+2)\n",
        "    db.append(np.array(g4).argmin()+2)\n",
        "    xb.append(np.array(g5).argmin()+2)\n",
        "    ch.append(np.array(g6).argmax()+2)\n",
        "    dnn.append(np.array(g7).argmax()+2)\n",
        "    mr.append(np.array(g8).argmin()+2)\n",
        "    pb.append(np.array(g9).argmax()+2)\n",
        "    rt.append(np.array(g10).argmin()+2)\n",
        "    wg.append(np.array(g11).argmax()+2)\n",
        "    c.append(np.array(g13).argmin()+2)\n",
        "\n",
        "  ncrecomended=[silluette,bh,rtl,sd,db,xb,ch,dnn,mr,pb,rt,wg,c]\n",
        "\n",
        "  adm=[]\n",
        "  for i in range(len(ncrecomended)):\n",
        "    GMM_test= GaussianMixture(n_components=ncrecomended[i][0], covariance_type=\"full\",random_state=1).fit(X_train11.iloc[:,:row.n_feats])\n",
        "    predy=GMM_test.predict(X_train11.iloc[:,:row.n_feats])\n",
        "    adm.append(adjusted_mutual_info_score(dataFrame['y'], predy))\n",
        "  return adm,ncrecomended"
      ],
      "metadata": {
        "id": "6sbhqQ5m20w-"
      },
      "execution_count": null,
      "outputs": []
    },
    {
      "cell_type": "markdown",
      "source": [
        "reemplazar las dos rutas, para donde se va a guardar los resultados"
      ],
      "metadata": {
        "id": "M17X4Ky7eYjQ"
      }
    },
    {
      "cell_type": "code",
      "source": [
        "for i in range(60,900,20):\n",
        "  admis, cpred =iterateindex(i,i+20)\n",
        "  with open(\"/content/drive/MyDrive/Doctorado/2023/Enero/tesanotherfeatures_logistic/\"+\"admsco_\"+str(i)+\"_\"+str(i+20)+\".txt\", 'w') as f:\n",
        "      for s in admis:\n",
        "          f.write(str(s) + '\\n')\n",
        "  with open(\"/content/drive/MyDrive/Doctorado/2023/Enero/tesanotherfeatures_logistic/\"+\"clusterspred_\"+str(i)+\"_\"+str(i+20)+\".txt\", 'w') as f:\n",
        "      for s in cpred:\n",
        "          f.write(str(s) + '\\n')"
      ],
      "metadata": {
        "colab": {
          "base_uri": "https://localhost:8080/"
        },
        "id": "J9_oCuSj8Bji",
        "outputId": "0cf9a5c2-03e8-4407-9cf8-4b1bd127f91d"
      },
      "execution_count": null,
      "outputs": [
        {
          "output_type": "stream",
          "name": "stdout",
          "text": [
            "60\n",
            "61\n",
            "62\n",
            "63\n",
            "64\n",
            "65\n",
            "An exception occurred\n",
            "66\n",
            "67\n",
            "68\n",
            "69\n",
            "70\n",
            "71\n",
            "72\n",
            "73\n",
            "74\n",
            "75\n",
            "76\n"
          ]
        }
      ]
    },
    {
      "cell_type": "code",
      "source": [
        "admis"
      ],
      "metadata": {
        "colab": {
          "base_uri": "https://localhost:8080/"
        },
        "id": "tx9DSdcRLjqu",
        "outputId": "973c3a89-ef4a-4e38-e557-e51e27e1b956"
      },
      "execution_count": null,
      "outputs": [
        {
          "output_type": "execute_result",
          "data": {
            "text/plain": [
              "[0.9100357389208751,\n",
              " 0.7031173706869478,\n",
              " 0.9100357389208751,\n",
              " 0.7365632704897201,\n",
              " 0.7031173706869478,\n",
              " 0.9100357389208751,\n",
              " 0.913995978806802,\n",
              " 0.7031173706869478,\n",
              " 0.9100357389208751,\n",
              " 0.7031173706869478,\n",
              " 0.7031173706869478,\n",
              " 0.9785551732015669,\n",
              " 0.9100357389208751]"
            ]
          },
          "metadata": {},
          "execution_count": 73
        }
      ]
    },
    {
      "cell_type": "code",
      "source": [],
      "metadata": {
        "id": "HjvSZzxWejow"
      },
      "execution_count": null,
      "outputs": []
    }
  ]
}