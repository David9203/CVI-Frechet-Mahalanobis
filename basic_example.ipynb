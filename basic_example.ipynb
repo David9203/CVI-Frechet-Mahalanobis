{
  "nbformat": 4,
  "nbformat_minor": 0,
  "metadata": {
    "colab": {
      "provenance": []
    },
    "kernelspec": {
      "name": "python3",
      "display_name": "Python 3"
    },
    "language_info": {
      "name": "python"
    }
  },
  "cells": [
    {
      "cell_type": "code",
      "execution_count": null,
      "metadata": {
        "id": "-VUFABnoaLLW"
      },
      "outputs": [],
      "source": []
    },
    {
      "cell_type": "code",
      "source": [
        "import os\n",
        "import math\n",
        "import numpy as np\n",
        "import pandas as pd\n",
        "import statistics\n",
        "import matplotlib.pyplot as plt\n",
        "from scipy import signal, stats\n",
        "from scipy.spatial import distance\n",
        "from numpy import linalg as LA\n",
        "from sklearn.metrics.cluster import adjusted_mutual_info_score\n",
        "from sklearn import metrics\n",
        "from sklearn.cluster import kmeans_plusplus\n",
        "from sklearn.datasets import make_blobs\n",
        "import matplotlib.pyplot as plt\n",
        "from sklearn.metrics import accuracy_score\n",
        "from sklearn.metrics import classification_report\n",
        "from sklearn.mixture import GaussianMixture\n",
        "from sklearn.metrics import accuracy_score\n",
        "from sklearn.metrics import classification_report\n",
        "from sklearn.metrics import f1_score\n",
        "import warnings\n",
        "warnings.filterwarnings(\"ignore\")"
      ],
      "metadata": {
        "id": "5Jo5E4cmabyk"
      },
      "execution_count": 37,
      "outputs": []
    },
    {
      "cell_type": "code",
      "execution_count": 4,
      "metadata": {
        "id": "lumrCsRYbMvs"
      },
      "outputs": [],
      "source": [
        "def uncertainity_mean(X_train1,pred,means,covariances,weights,km,numberofdimens):\n",
        "  X_train1[\"pred\"]=pred\n",
        "  meanss=means\n",
        "  weiths=weights\n",
        "  variances=[]\n",
        "  covariancematrix=covariances\n",
        "  for i in covariancematrix: #The diagonal of cov is the variance of each gmm\n",
        "    diag=np.diag(i)\n",
        "    variances.append(diag)\n",
        "  variances=np.array(variances)\n",
        "  countiterations=0\n",
        "  unc=[]\n",
        "  un=[]\n",
        "\n",
        "  sep=[]\n",
        "  for g in range(0,len(meanss)):  ##Frechet distance\n",
        "    for t in range(0,len(meanss)):\n",
        "      if (t==g):\n",
        "        continue\n",
        "      else:\n",
        "        sep.append(frechetDistance(meanss[t],meanss[g],covariancematrix[t],covariancematrix[g]))\n",
        "  separation=np.array(sep)\n",
        "  Dmin=np.array(separation).min()\n",
        "  Dmax=np.array(separation).max()\n",
        "  Sep=(Dmax/Dmin)*(1/separation.sum())\n",
        "\n",
        "  for i in range(0,len(meanss)):  #Uncertainty  ##i run each cluster\n",
        "    cweight=weiths[i]\n",
        "    cmean=meanss[i]\n",
        "    cvar=variances[i]\n",
        "    lim_inf=cmean-(km*cvar)\n",
        "    lim_sup=cmean+(km*cvar)\n",
        "    unc=[]\n",
        "    o=X_train1[X_train1[\"pred\"]==i].iloc[:,:numberofdimens].copy()\n",
        "\n",
        "    for j in range(len(o)): # j run each data\n",
        "      DM=distance.mahalanobis(np.array(o.iloc[j]), cmean, np.linalg.inv(covariancematrix[i]))\n",
        "      varbool=(DM>=km)\n",
        "      varunc=[]\n",
        "      #print(\"varbool\",varbool)\n",
        "      if (varbool):\n",
        "        varunc.append(2*km*DM)\n",
        "      else:\n",
        "        vs=((DM**2)+(km*DM)+(km**2)/2)\n",
        "        varunc.append(vs)\n",
        "    un.append(np.array(varunc))\n",
        "  return np.sum(un)/Sep"
      ]
    },
    {
      "cell_type": "code",
      "execution_count": 5,
      "metadata": {
        "id": "q5CMBV6pUcIo"
      },
      "outputs": [],
      "source": [
        "\n",
        "def merguncertain (xtrain,y,Means,covariances,weights,numberofdimens):\n",
        "  X_train11=xtrain\n",
        "  X_train11[\"pred\"]=y\n",
        "  UNIndex=[]\n",
        "  len(Means)\n",
        "  Pairwise=np.ones((len(Means), len(Means)))\n",
        "  labels=[]\n",
        "  for i in range(len(Means)):\n",
        "    labels.append(i)\n",
        "    for j in range(len(Means)):\n",
        "        if (i==j):\n",
        "          continue\n",
        "        Pairwise[j,i]=(frechetDistance(Means[i],Means[j],covariances[i],covariances[j]))\n",
        "\n",
        "  while len(Pairwise) > 2 :\n",
        "      UNIndex.append(uncertainity_mean(X_train11.iloc[:,:numberofdimens],X_train11[\"pred\"],Means,covariances,weights,1,numberofdimens))\n",
        "\n",
        "      Similar_clusters=np.unravel_index(Pairwise.argmin(),Pairwise.shape)\n",
        "      Similar_clusters_labels=( labels[Similar_clusters[0]],labels[Similar_clusters[1]])\n",
        "\n",
        "      #update Mean\n",
        "      data_size_1=len(X_train11[X_train11[\"pred\"]==Similar_clusters_labels[0]])\n",
        "      data_size_2=len(X_train11[X_train11[\"pred\"]==Similar_clusters_labels[1]])\n",
        "      mean_1=Means[Similar_clusters[0]]\n",
        "      mean_2=Means[Similar_clusters[1]]\n",
        "      new_mean = (data_size_1* mean_1 + data_size_2*mean_2)/(data_size_1 + data_size_2)\n",
        "      Means[Similar_clusters[0]]=new_mean\n",
        "\n",
        "      #Update labels\n",
        "      X_train11[\"pred\"]=X_train11[\"pred\"].replace(Similar_clusters_labels[1], Similar_clusters_labels[0])\n",
        "      #print(X_train11[\"pred\"].unique())\n",
        "      NewCovariance=X_train11[X_train11[\"pred\"]==Similar_clusters_labels[0]].iloc[:,:numberofdimens].cov()\n",
        "      covariances[Similar_clusters[0]]=NewCovariance\n",
        "      weights[Similar_clusters[0]]=weights[Similar_clusters[0]]+weights[Similar_clusters[1]]\n",
        "\n",
        "      updpairwisecolum=[]\n",
        "      for j in range(0,len(Means)):\n",
        "          updpairwisecolum.append((frechetDistance(Means[Similar_clusters[0]],Means[j],covariances[Similar_clusters[0]],covariances[j])))\n",
        "      #print(updpairwisecolum)\n",
        "      Pairwise[:,Similar_clusters[0]]=updpairwisecolum\n",
        "      Pairwise[Similar_clusters[0],:]=updpairwisecolum\n",
        "\n",
        "      Means= np.delete(Means, (Similar_clusters[1]), axis=0)\n",
        "      weights= np.delete(weights, (Similar_clusters[1]), axis=0)\n",
        "      covariances=np.delete(covariances, (Similar_clusters[1]), axis=0)\n",
        "      labels.remove(Similar_clusters_labels[1])\n",
        "      Pairwise= np.delete(Pairwise, (Similar_clusters[1]), axis=0)\n",
        "      Pairwise= np.delete(Pairwise, (Similar_clusters[1]), axis=1)\n",
        "      np.fill_diagonal(Pairwise, 1)\n",
        "  return UNIndex"
      ]
    },
    {
      "cell_type": "code",
      "execution_count": 6,
      "metadata": {
        "id": "F7SrKoKiyvkP"
      },
      "outputs": [],
      "source": [
        "def frechetDistance(u1,u2,E1,E2):\n",
        "  return (LA.norm(np.absolute(u1-u2)**2))+np.trace(E1+E2-(2*(E1*E2)**(0.5)))"
      ]
    },
    {
      "cell_type": "code",
      "source": [],
      "metadata": {
        "id": "FY7zKoUvapIk"
      },
      "execution_count": null,
      "outputs": []
    },
    {
      "cell_type": "markdown",
      "metadata": {
        "id": "07d7GupJc_6E"
      },
      "source": [
        "#Iris Dataset\n"
      ]
    },
    {
      "cell_type": "code",
      "execution_count": 7,
      "metadata": {
        "id": "KmM3oDe6UhOt"
      },
      "outputs": [],
      "source": [
        "import numpy as np\n",
        "import pandas as pd\n",
        "from sklearn.datasets import load_iris\n",
        "\n",
        "iris = load_iris()\n",
        "data1 = pd.DataFrame(data= np.c_[iris['data'], iris['target']],\n",
        "                     columns= iris['feature_names'] + ['target'])"
      ]
    },
    {
      "cell_type": "code",
      "execution_count": 8,
      "metadata": {
        "colab": {
          "base_uri": "https://localhost:8080/",
          "height": 424
        },
        "id": "MfJfcKP7UhRG",
        "outputId": "622e127b-0209-44ec-a5d8-9c4572d74495"
      },
      "outputs": [
        {
          "output_type": "execute_result",
          "data": {
            "text/plain": [
              "     sepal length (cm)  sepal width (cm)  petal length (cm)  petal width (cm)  \\\n",
              "0                  5.1               3.5                1.4               0.2   \n",
              "1                  4.9               3.0                1.4               0.2   \n",
              "2                  4.7               3.2                1.3               0.2   \n",
              "3                  4.6               3.1                1.5               0.2   \n",
              "4                  5.0               3.6                1.4               0.2   \n",
              "..                 ...               ...                ...               ...   \n",
              "145                6.7               3.0                5.2               2.3   \n",
              "146                6.3               2.5                5.0               1.9   \n",
              "147                6.5               3.0                5.2               2.0   \n",
              "148                6.2               3.4                5.4               2.3   \n",
              "149                5.9               3.0                5.1               1.8   \n",
              "\n",
              "     target  \n",
              "0       0.0  \n",
              "1       0.0  \n",
              "2       0.0  \n",
              "3       0.0  \n",
              "4       0.0  \n",
              "..      ...  \n",
              "145     2.0  \n",
              "146     2.0  \n",
              "147     2.0  \n",
              "148     2.0  \n",
              "149     2.0  \n",
              "\n",
              "[150 rows x 5 columns]"
            ],
            "text/html": [
              "\n",
              "  <div id=\"df-30308a3b-4da1-4eee-a0e5-2bcf9bbb8408\">\n",
              "    <div class=\"colab-df-container\">\n",
              "      <div>\n",
              "<style scoped>\n",
              "    .dataframe tbody tr th:only-of-type {\n",
              "        vertical-align: middle;\n",
              "    }\n",
              "\n",
              "    .dataframe tbody tr th {\n",
              "        vertical-align: top;\n",
              "    }\n",
              "\n",
              "    .dataframe thead th {\n",
              "        text-align: right;\n",
              "    }\n",
              "</style>\n",
              "<table border=\"1\" class=\"dataframe\">\n",
              "  <thead>\n",
              "    <tr style=\"text-align: right;\">\n",
              "      <th></th>\n",
              "      <th>sepal length (cm)</th>\n",
              "      <th>sepal width (cm)</th>\n",
              "      <th>petal length (cm)</th>\n",
              "      <th>petal width (cm)</th>\n",
              "      <th>target</th>\n",
              "    </tr>\n",
              "  </thead>\n",
              "  <tbody>\n",
              "    <tr>\n",
              "      <th>0</th>\n",
              "      <td>5.1</td>\n",
              "      <td>3.5</td>\n",
              "      <td>1.4</td>\n",
              "      <td>0.2</td>\n",
              "      <td>0.0</td>\n",
              "    </tr>\n",
              "    <tr>\n",
              "      <th>1</th>\n",
              "      <td>4.9</td>\n",
              "      <td>3.0</td>\n",
              "      <td>1.4</td>\n",
              "      <td>0.2</td>\n",
              "      <td>0.0</td>\n",
              "    </tr>\n",
              "    <tr>\n",
              "      <th>2</th>\n",
              "      <td>4.7</td>\n",
              "      <td>3.2</td>\n",
              "      <td>1.3</td>\n",
              "      <td>0.2</td>\n",
              "      <td>0.0</td>\n",
              "    </tr>\n",
              "    <tr>\n",
              "      <th>3</th>\n",
              "      <td>4.6</td>\n",
              "      <td>3.1</td>\n",
              "      <td>1.5</td>\n",
              "      <td>0.2</td>\n",
              "      <td>0.0</td>\n",
              "    </tr>\n",
              "    <tr>\n",
              "      <th>4</th>\n",
              "      <td>5.0</td>\n",
              "      <td>3.6</td>\n",
              "      <td>1.4</td>\n",
              "      <td>0.2</td>\n",
              "      <td>0.0</td>\n",
              "    </tr>\n",
              "    <tr>\n",
              "      <th>...</th>\n",
              "      <td>...</td>\n",
              "      <td>...</td>\n",
              "      <td>...</td>\n",
              "      <td>...</td>\n",
              "      <td>...</td>\n",
              "    </tr>\n",
              "    <tr>\n",
              "      <th>145</th>\n",
              "      <td>6.7</td>\n",
              "      <td>3.0</td>\n",
              "      <td>5.2</td>\n",
              "      <td>2.3</td>\n",
              "      <td>2.0</td>\n",
              "    </tr>\n",
              "    <tr>\n",
              "      <th>146</th>\n",
              "      <td>6.3</td>\n",
              "      <td>2.5</td>\n",
              "      <td>5.0</td>\n",
              "      <td>1.9</td>\n",
              "      <td>2.0</td>\n",
              "    </tr>\n",
              "    <tr>\n",
              "      <th>147</th>\n",
              "      <td>6.5</td>\n",
              "      <td>3.0</td>\n",
              "      <td>5.2</td>\n",
              "      <td>2.0</td>\n",
              "      <td>2.0</td>\n",
              "    </tr>\n",
              "    <tr>\n",
              "      <th>148</th>\n",
              "      <td>6.2</td>\n",
              "      <td>3.4</td>\n",
              "      <td>5.4</td>\n",
              "      <td>2.3</td>\n",
              "      <td>2.0</td>\n",
              "    </tr>\n",
              "    <tr>\n",
              "      <th>149</th>\n",
              "      <td>5.9</td>\n",
              "      <td>3.0</td>\n",
              "      <td>5.1</td>\n",
              "      <td>1.8</td>\n",
              "      <td>2.0</td>\n",
              "    </tr>\n",
              "  </tbody>\n",
              "</table>\n",
              "<p>150 rows × 5 columns</p>\n",
              "</div>\n",
              "      <button class=\"colab-df-convert\" onclick=\"convertToInteractive('df-30308a3b-4da1-4eee-a0e5-2bcf9bbb8408')\"\n",
              "              title=\"Convert this dataframe to an interactive table.\"\n",
              "              style=\"display:none;\">\n",
              "        \n",
              "  <svg xmlns=\"http://www.w3.org/2000/svg\" height=\"24px\"viewBox=\"0 0 24 24\"\n",
              "       width=\"24px\">\n",
              "    <path d=\"M0 0h24v24H0V0z\" fill=\"none\"/>\n",
              "    <path d=\"M18.56 5.44l.94 2.06.94-2.06 2.06-.94-2.06-.94-.94-2.06-.94 2.06-2.06.94zm-11 1L8.5 8.5l.94-2.06 2.06-.94-2.06-.94L8.5 2.5l-.94 2.06-2.06.94zm10 10l.94 2.06.94-2.06 2.06-.94-2.06-.94-.94-2.06-.94 2.06-2.06.94z\"/><path d=\"M17.41 7.96l-1.37-1.37c-.4-.4-.92-.59-1.43-.59-.52 0-1.04.2-1.43.59L10.3 9.45l-7.72 7.72c-.78.78-.78 2.05 0 2.83L4 21.41c.39.39.9.59 1.41.59.51 0 1.02-.2 1.41-.59l7.78-7.78 2.81-2.81c.8-.78.8-2.07 0-2.86zM5.41 20L4 18.59l7.72-7.72 1.47 1.35L5.41 20z\"/>\n",
              "  </svg>\n",
              "      </button>\n",
              "      \n",
              "  <style>\n",
              "    .colab-df-container {\n",
              "      display:flex;\n",
              "      flex-wrap:wrap;\n",
              "      gap: 12px;\n",
              "    }\n",
              "\n",
              "    .colab-df-convert {\n",
              "      background-color: #E8F0FE;\n",
              "      border: none;\n",
              "      border-radius: 50%;\n",
              "      cursor: pointer;\n",
              "      display: none;\n",
              "      fill: #1967D2;\n",
              "      height: 32px;\n",
              "      padding: 0 0 0 0;\n",
              "      width: 32px;\n",
              "    }\n",
              "\n",
              "    .colab-df-convert:hover {\n",
              "      background-color: #E2EBFA;\n",
              "      box-shadow: 0px 1px 2px rgba(60, 64, 67, 0.3), 0px 1px 3px 1px rgba(60, 64, 67, 0.15);\n",
              "      fill: #174EA6;\n",
              "    }\n",
              "\n",
              "    [theme=dark] .colab-df-convert {\n",
              "      background-color: #3B4455;\n",
              "      fill: #D2E3FC;\n",
              "    }\n",
              "\n",
              "    [theme=dark] .colab-df-convert:hover {\n",
              "      background-color: #434B5C;\n",
              "      box-shadow: 0px 1px 3px 1px rgba(0, 0, 0, 0.15);\n",
              "      filter: drop-shadow(0px 1px 2px rgba(0, 0, 0, 0.3));\n",
              "      fill: #FFFFFF;\n",
              "    }\n",
              "  </style>\n",
              "\n",
              "      <script>\n",
              "        const buttonEl =\n",
              "          document.querySelector('#df-30308a3b-4da1-4eee-a0e5-2bcf9bbb8408 button.colab-df-convert');\n",
              "        buttonEl.style.display =\n",
              "          google.colab.kernel.accessAllowed ? 'block' : 'none';\n",
              "\n",
              "        async function convertToInteractive(key) {\n",
              "          const element = document.querySelector('#df-30308a3b-4da1-4eee-a0e5-2bcf9bbb8408');\n",
              "          const dataTable =\n",
              "            await google.colab.kernel.invokeFunction('convertToInteractive',\n",
              "                                                     [key], {});\n",
              "          if (!dataTable) return;\n",
              "\n",
              "          const docLinkHtml = 'Like what you see? Visit the ' +\n",
              "            '<a target=\"_blank\" href=https://colab.research.google.com/notebooks/data_table.ipynb>data table notebook</a>'\n",
              "            + ' to learn more about interactive tables.';\n",
              "          element.innerHTML = '';\n",
              "          dataTable['output_type'] = 'display_data';\n",
              "          await google.colab.output.renderOutput(dataTable, element);\n",
              "          const docLink = document.createElement('div');\n",
              "          docLink.innerHTML = docLinkHtml;\n",
              "          element.appendChild(docLink);\n",
              "        }\n",
              "      </script>\n",
              "    </div>\n",
              "  </div>\n",
              "  "
            ]
          },
          "metadata": {},
          "execution_count": 8
        }
      ],
      "source": [
        "data1"
      ]
    },
    {
      "cell_type": "markdown",
      "metadata": {
        "id": "ZeXg56ASq5pa"
      },
      "source": [
        "## Approach 1: Calculating performance in base of index UF\n"
      ]
    },
    {
      "cell_type": "code",
      "execution_count": 38,
      "metadata": {
        "id": "ms37QYslqC2n"
      },
      "outputs": [],
      "source": [
        "Index=[]\n",
        "liminfierior=2\n",
        "limsuperior=20\n",
        "for i in range(2,20):\n",
        "  Y = data1[\"target\"]\n",
        "  X = data1.drop(columns = \"target\")\n",
        "\n",
        "  #X_train, X_test, y_train, y_test = train_test_split(X, y, test_size=0.1, random_state=42,stratify=y)$\n",
        "\n",
        "  X_train111=X.copy()\n",
        "  GM = GaussianMixture(n_components=i, covariance_type=\"full\",random_state=1).fit(X_train111)\n",
        "  X_train111[\"pred\"]=GM.predict(X_train111)\n",
        "  Means=GM.means_\n",
        "  covariances=GM.covariances_\n",
        "  weights=GM.weights_\n",
        "  numberofdimens=X_train111.shape[1]-1\n",
        "  y=X_train111[\"pred\"]\n",
        "  Index.append(uncertainity_mean(X_train111.iloc[:,:numberofdimens],X_train111[\"pred\"],Means,covariances,weights,1,numberofdimens))\n"
      ]
    },
    {
      "cell_type": "code",
      "execution_count": 39,
      "metadata": {
        "colab": {
          "base_uri": "https://localhost:8080/",
          "height": 467
        },
        "id": "z6G-8oV0q4Vd",
        "outputId": "c55ed124-f9bf-47d3-bb26-3fe1c882fd1b"
      },
      "outputs": [
        {
          "output_type": "execute_result",
          "data": {
            "text/plain": [
              "<Axes: xlabel='ind'>"
            ]
          },
          "metadata": {},
          "execution_count": 39
        },
        {
          "output_type": "display_data",
          "data": {
            "text/plain": [
              "<Figure size 640x480 with 1 Axes>"
            ],
            "image/png": "[encoded data removed]"
          },
          "metadata": {}
        }
      ],
      "source": [
        "change=pd.DataFrame(Index,columns=[\"UFindex\"])\n",
        "change[\"ind\"]=np.linspace(2,len(change)+2,len(change))\n",
        "\n",
        "change.plot(\"ind\",[\"UFindex\"])"
      ]
    },
    {
      "cell_type": "code",
      "execution_count": 18,
      "metadata": {
        "colab": {
          "base_uri": "https://localhost:8080/"
        },
        "id": "4Y7mEwGRnn-Y",
        "outputId": "b79ba75e-ee58-47c9-cc16-713118ccbf5b"
      },
      "outputs": [
        {
          "output_type": "execute_result",
          "data": {
            "text/plain": [
              "2"
            ]
          },
          "metadata": {},
          "execution_count": 18
        }
      ],
      "source": [
        "change[\"UFindex\"].argmin()"
      ]
    },
    {
      "cell_type": "code",
      "source": [],
      "metadata": {
        "id": "7mEOrVHjgdZO"
      },
      "execution_count": null,
      "outputs": []
    },
    {
      "cell_type": "markdown",
      "metadata": {
        "id": "b-y4yVx4dkrQ"
      },
      "source": [
        "## Approach 2: Meging methodology\n"
      ]
    },
    {
      "cell_type": "code",
      "execution_count": 40,
      "metadata": {
        "colab": {
          "base_uri": "https://localhost:8080/",
          "height": 467
        },
        "id": "IEFl9INY5OU6",
        "outputId": "2a9bb1d6-a598-4209-d45d-ed0139490ebd"
      },
      "outputs": [
        {
          "output_type": "execute_result",
          "data": {
            "text/plain": [
              "<Axes: xlabel='ind'>"
            ]
          },
          "metadata": {},
          "execution_count": 40
        },
        {
          "output_type": "display_data",
          "data": {
            "text/plain": [
              "<Figure size 640x480 with 1 Axes>"
            ],
            "image/png": "[encoded data removed]"
          },
          "metadata": {}
        }
      ],
      "source": [
        "from sklearn.model_selection import train_test_split\n",
        "\n",
        "Y = data1[\"target\"]\n",
        "X = data1.drop(columns = \"target\")\n",
        "\n",
        "#X_train, X_test, y_train, y_test = train_test_split(X, y, test_size=0.1, random_state=42,stratify=y)$\n",
        "\n",
        "X_train111=X.copy()\n",
        "GM = GaussianMixture(n_components=20, covariance_type=\"full\", random_state= 5).fit(X_train111)\n",
        "X_train111[\"pred\"]=GM.predict(X_train111)\n",
        "Means=GM.means_\n",
        "covariances=GM.covariances_\n",
        "weights=GM.weights_\n",
        "y=X_train111[\"pred\"]\n",
        "index=merguncertain (X,y,Means,covariances,weights,X.shape[1])\n",
        "\n",
        "index.reverse()\n",
        "change=pd.DataFrame(index,columns=[\"a\"])\n",
        "change[\"ind\"]=np.linspace(0,len(change),len(change))\n",
        "\n",
        "change.plot(\"ind\",[\"a\"])\n"
      ]
    },
    {
      "cell_type": "code",
      "execution_count": 35,
      "metadata": {
        "id": "ggCZKnZcDt71"
      },
      "outputs": [],
      "source": [
        "\n",
        "change=change.iloc[:-1,:]"
      ]
    },
    {
      "cell_type": "code",
      "execution_count": 36,
      "metadata": {
        "colab": {
          "base_uri": "https://localhost:8080/"
        },
        "id": "i0tmChDa-9gH",
        "outputId": "6088e513-b9b6-4378-93c6-2880b9ba55a9"
      },
      "outputs": [
        {
          "output_type": "execute_result",
          "data": {
            "text/plain": [
              "2"
            ]
          },
          "metadata": {},
          "execution_count": 36
        }
      ],
      "source": [
        "\n",
        "recomended=change[\"a\"].argmin()+2\n",
        "GMM_test= GaussianMixture(n_components=recomended, covariance_type=\"full\",random_state=0).fit(X)\n",
        "predy=GMM_test.predict(X)\n",
        "recomended"
      ]
    },
    {
      "cell_type": "code",
      "source": [],
      "metadata": {
        "id": "O83r8_vVhbVV"
      },
      "execution_count": null,
      "outputs": []
    }
  ]
}