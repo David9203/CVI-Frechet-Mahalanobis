{
  "cells": [
    {
      "cell_type": "code",
      "execution_count": null,
      "metadata": {
        "id": "1rq_hJ_dG-uc"
      },
      "outputs": [],
      "source": [
        "!pip install pypots"
      ]
    },
    {
      "cell_type": "code",
      "execution_count": null,
      "metadata": {
        "colab": {
          "base_uri": "https://localhost:8080/"
        },
        "id": "1yZYB5-5HhGB",
        "outputId": "b4d89bfa-7a30-4302-fb8b-24fa17d4c8f3"
      },
      "outputs": [
        {
          "output_type": "stream",
          "name": "stdout",
          "text": [
            "fatal: destination path 'PyPOTS' already exists and is not an empty directory.\n"
          ]
        }
      ],
      "source": [
        "!git clone https://github.com/WenjieDu/PyPOTS.git"
      ]
    },
    {
      "cell_type": "code",
      "execution_count": null,
      "metadata": {
        "colab": {
          "base_uri": "https://localhost:8080/"
        },
        "id": "O15SU7Szy_EL",
        "outputId": "4cb33951-81c2-4ea7-ca0c-38a70dacc2a3"
      },
      "outputs": [
        {
          "name": "stdout",
          "output_type": "stream",
          "text": [
            "Looking in indexes: https://pypi.org/simple, https://us-python.pkg.dev/colab-wheels/public/simple/\n",
            "Requirement already satisfied: pycorruptor in /usr/local/lib/python3.10/dist-packages (0.0.4)\n",
            "Requirement already satisfied: scikit-learn in /usr/local/lib/python3.10/dist-packages (from pycorruptor) (1.2.2)\n",
            "Requirement already satisfied: pandas in /usr/local/lib/python3.10/dist-packages (from pycorruptor) (1.5.3)\n",
            "Requirement already satisfied: numpy in /usr/local/lib/python3.10/dist-packages (from pycorruptor) (1.22.4)\n",
            "Requirement already satisfied: pytz>=2020.1 in /usr/local/lib/python3.10/dist-packages (from pandas->pycorruptor) (2022.7.1)\n",
            "Requirement already satisfied: python-dateutil>=2.8.1 in /usr/local/lib/python3.10/dist-packages (from pandas->pycorruptor) (2.8.2)\n",
            "Requirement already satisfied: scipy>=1.3.2 in /usr/local/lib/python3.10/dist-packages (from scikit-learn->pycorruptor) (1.10.1)\n",
            "Requirement already satisfied: threadpoolctl>=2.0.0 in /usr/local/lib/python3.10/dist-packages (from scikit-learn->pycorruptor) (3.1.0)\n",
            "Requirement already satisfied: joblib>=1.1.1 in /usr/local/lib/python3.10/dist-packages (from scikit-learn->pycorruptor) (1.2.0)\n",
            "Requirement already satisfied: six>=1.5 in /usr/local/lib/python3.10/dist-packages (from python-dateutil>=2.8.1->pandas->pycorruptor) (1.16.0)\n"
          ]
        }
      ],
      "source": [
        "#pip install pycorruptor"
      ]
    },
    {
      "cell_type": "code",
      "execution_count": null,
      "metadata": {
        "colab": {
          "base_uri": "https://localhost:8080/"
        },
        "id": "ZGvfZ7GDHtiL",
        "outputId": "e4255e99-a589-4568-a22c-d4d33bd5f597"
      },
      "outputs": [
        {
          "output_type": "stream",
          "name": "stdout",
          "text": [
            "/content/drive/MyDrive/Doctorado/2023/Abril/PyPOTS\n"
          ]
        }
      ],
      "source": [
        "cd /content/drive/MyDrive/Doctorado/2023/Abril/PyPOTS"
      ]
    },
    {
      "cell_type": "code",
      "execution_count": null,
      "metadata": {
        "colab": {
          "base_uri": "https://localhost:8080/"
        },
        "id": "bcYbXxigzOkw",
        "outputId": "ff505428-5c75-415b-c6b1-baf582f52525"
      },
      "outputs": [
        {
          "output_type": "stream",
          "name": "stdout",
          "text": [
            "Looking in indexes: https://pypi.org/simple, https://us-python.pkg.dev/colab-wheels/public/simple/\n",
            "Collecting numpy>=1.23.3\n",
            "  Downloading numpy-1.24.3-cp310-cp310-manylinux_2_17_x86_64.manylinux2014_x86_64.whl (17.3 MB)\n",
            "\u001b[2K     \u001b[90m━━━━━━━━━━━━━━━━━━━━━━━━━━━━━━━━━━━━━━━━\u001b[0m \u001b[32m17.3/17.3 MB\u001b[0m \u001b[31m62.9 MB/s\u001b[0m eta \u001b[36m0:00:00\u001b[0m\n",
            "\u001b[?25hRequirement already satisfied: scikit-learn>=0.24.1 in /usr/local/lib/python3.10/dist-packages (from -r requirements.txt (line 2)) (1.2.2)\n",
            "Requirement already satisfied: pandas<2.0.0 in /usr/local/lib/python3.10/dist-packages (from -r requirements.txt (line 3)) (1.5.3)\n",
            "Requirement already satisfied: torch>=1.10.0 in /usr/local/lib/python3.10/dist-packages (from -r requirements.txt (line 4)) (2.0.0+cu118)\n",
            "Requirement already satisfied: scipy in /usr/local/lib/python3.10/dist-packages (from -r requirements.txt (line 5)) (1.10.1)\n",
            "Requirement already satisfied: tensorboard in /usr/local/lib/python3.10/dist-packages (from -r requirements.txt (line 6)) (2.12.2)\n",
            "Collecting pycorruptor\n",
            "  Downloading pycorruptor-0.0.4-py3-none-any.whl (17 kB)\n",
            "Collecting tsdb\n",
            "  Downloading tsdb-0.0.8-py3-none-any.whl (29 kB)\n",
            "Requirement already satisfied: h5py in /usr/local/lib/python3.10/dist-packages (from -r requirements.txt (line 9)) (3.8.0)\n",
            "Requirement already satisfied: threadpoolctl>=2.0.0 in /usr/local/lib/python3.10/dist-packages (from scikit-learn>=0.24.1->-r requirements.txt (line 2)) (3.1.0)\n",
            "Requirement already satisfied: joblib>=1.1.1 in /usr/local/lib/python3.10/dist-packages (from scikit-learn>=0.24.1->-r requirements.txt (line 2)) (1.2.0)\n",
            "Requirement already satisfied: pytz>=2020.1 in /usr/local/lib/python3.10/dist-packages (from pandas<2.0.0->-r requirements.txt (line 3)) (2022.7.1)\n",
            "Requirement already satisfied: python-dateutil>=2.8.1 in /usr/local/lib/python3.10/dist-packages (from pandas<2.0.0->-r requirements.txt (line 3)) (2.8.2)\n",
            "Requirement already satisfied: filelock in /usr/local/lib/python3.10/dist-packages (from torch>=1.10.0->-r requirements.txt (line 4)) (3.12.0)\n",
            "Requirement already satisfied: sympy in /usr/local/lib/python3.10/dist-packages (from torch>=1.10.0->-r requirements.txt (line 4)) (1.11.1)\n",
            "Requirement already satisfied: typing-extensions in /usr/local/lib/python3.10/dist-packages (from torch>=1.10.0->-r requirements.txt (line 4)) (4.5.0)\n",
            "Requirement already satisfied: jinja2 in /usr/local/lib/python3.10/dist-packages (from torch>=1.10.0->-r requirements.txt (line 4)) (3.1.2)\n",
            "Requirement already satisfied: triton==2.0.0 in /usr/local/lib/python3.10/dist-packages (from torch>=1.10.0->-r requirements.txt (line 4)) (2.0.0)\n",
            "Requirement already satisfied: networkx in /usr/local/lib/python3.10/dist-packages (from torch>=1.10.0->-r requirements.txt (line 4)) (3.1)\n",
            "Requirement already satisfied: lit in /usr/local/lib/python3.10/dist-packages (from triton==2.0.0->torch>=1.10.0->-r requirements.txt (line 4)) (16.0.2)\n",
            "Requirement already satisfied: cmake in /usr/local/lib/python3.10/dist-packages (from triton==2.0.0->torch>=1.10.0->-r requirements.txt (line 4)) (3.25.2)\n",
            "Requirement already satisfied: protobuf>=3.19.6 in /usr/local/lib/python3.10/dist-packages (from tensorboard->-r requirements.txt (line 6)) (3.20.3)\n",
            "Requirement already satisfied: grpcio>=1.48.2 in /usr/local/lib/python3.10/dist-packages (from tensorboard->-r requirements.txt (line 6)) (1.54.0)\n",
            "Requirement already satisfied: setuptools>=41.0.0 in /usr/local/lib/python3.10/dist-packages (from tensorboard->-r requirements.txt (line 6)) (67.7.2)\n",
            "Requirement already satisfied: tensorboard-data-server<0.8.0,>=0.7.0 in /usr/local/lib/python3.10/dist-packages (from tensorboard->-r requirements.txt (line 6)) (0.7.0)\n",
            "Requirement already satisfied: google-auth<3,>=1.6.3 in /usr/local/lib/python3.10/dist-packages (from tensorboard->-r requirements.txt (line 6)) (2.17.3)\n",
            "Requirement already satisfied: werkzeug>=1.0.1 in /usr/local/lib/python3.10/dist-packages (from tensorboard->-r requirements.txt (line 6)) (2.3.0)\n",
            "Requirement already satisfied: absl-py>=0.4 in /usr/local/lib/python3.10/dist-packages (from tensorboard->-r requirements.txt (line 6)) (1.4.0)\n",
            "Requirement already satisfied: markdown>=2.6.8 in /usr/local/lib/python3.10/dist-packages (from tensorboard->-r requirements.txt (line 6)) (3.4.3)\n",
            "Requirement already satisfied: wheel>=0.26 in /usr/local/lib/python3.10/dist-packages (from tensorboard->-r requirements.txt (line 6)) (0.40.0)\n",
            "Requirement already satisfied: tensorboard-plugin-wit>=1.6.0 in /usr/local/lib/python3.10/dist-packages (from tensorboard->-r requirements.txt (line 6)) (1.8.1)\n",
            "Requirement already satisfied: requests<3,>=2.21.0 in /usr/local/lib/python3.10/dist-packages (from tensorboard->-r requirements.txt (line 6)) (2.27.1)\n",
            "Requirement already satisfied: google-auth-oauthlib<1.1,>=0.5 in /usr/local/lib/python3.10/dist-packages (from tensorboard->-r requirements.txt (line 6)) (1.0.0)\n",
            "Requirement already satisfied: cachetools<6.0,>=2.0.0 in /usr/local/lib/python3.10/dist-packages (from google-auth<3,>=1.6.3->tensorboard->-r requirements.txt (line 6)) (5.3.0)\n",
            "Requirement already satisfied: pyasn1-modules>=0.2.1 in /usr/local/lib/python3.10/dist-packages (from google-auth<3,>=1.6.3->tensorboard->-r requirements.txt (line 6)) (0.3.0)\n",
            "Requirement already satisfied: rsa<5,>=3.1.4 in /usr/local/lib/python3.10/dist-packages (from google-auth<3,>=1.6.3->tensorboard->-r requirements.txt (line 6)) (4.9)\n",
            "Requirement already satisfied: six>=1.9.0 in /usr/local/lib/python3.10/dist-packages (from google-auth<3,>=1.6.3->tensorboard->-r requirements.txt (line 6)) (1.16.0)\n",
            "Requirement already satisfied: requests-oauthlib>=0.7.0 in /usr/local/lib/python3.10/dist-packages (from google-auth-oauthlib<1.1,>=0.5->tensorboard->-r requirements.txt (line 6)) (1.3.1)\n",
            "Requirement already satisfied: idna<4,>=2.5 in /usr/local/lib/python3.10/dist-packages (from requests<3,>=2.21.0->tensorboard->-r requirements.txt (line 6)) (3.4)\n",
            "Requirement already satisfied: certifi>=2017.4.17 in /usr/local/lib/python3.10/dist-packages (from requests<3,>=2.21.0->tensorboard->-r requirements.txt (line 6)) (2022.12.7)\n",
            "Requirement already satisfied: urllib3<1.27,>=1.21.1 in /usr/local/lib/python3.10/dist-packages (from requests<3,>=2.21.0->tensorboard->-r requirements.txt (line 6)) (1.26.15)\n",
            "Requirement already satisfied: charset-normalizer~=2.0.0 in /usr/local/lib/python3.10/dist-packages (from requests<3,>=2.21.0->tensorboard->-r requirements.txt (line 6)) (2.0.12)\n",
            "Requirement already satisfied: MarkupSafe>=2.1.1 in /usr/local/lib/python3.10/dist-packages (from werkzeug>=1.0.1->tensorboard->-r requirements.txt (line 6)) (2.1.2)\n",
            "Requirement already satisfied: mpmath>=0.19 in /usr/local/lib/python3.10/dist-packages (from sympy->torch>=1.10.0->-r requirements.txt (line 4)) (1.3.0)\n",
            "Requirement already satisfied: pyasn1<0.6.0,>=0.4.6 in /usr/local/lib/python3.10/dist-packages (from pyasn1-modules>=0.2.1->google-auth<3,>=1.6.3->tensorboard->-r requirements.txt (line 6)) (0.5.0)\n",
            "Requirement already satisfied: oauthlib>=3.0.0 in /usr/local/lib/python3.10/dist-packages (from requests-oauthlib>=0.7.0->google-auth-oauthlib<1.1,>=0.5->tensorboard->-r requirements.txt (line 6)) (3.2.2)\n",
            "Installing collected packages: numpy, tsdb, pycorruptor\n",
            "  Attempting uninstall: numpy\n",
            "    Found existing installation: numpy 1.22.4\n",
            "    Uninstalling numpy-1.22.4:\n",
            "      Successfully uninstalled numpy-1.22.4\n",
            "\u001b[31mERROR: pip's dependency resolver does not currently take into account all the packages that are installed. This behaviour is the source of the following dependency conflicts.\n",
            "tensorflow 2.12.0 requires numpy<1.24,>=1.22, but you have numpy 1.24.3 which is incompatible.\n",
            "numba 0.56.4 requires numpy<1.24,>=1.18, but you have numpy 1.24.3 which is incompatible.\u001b[0m\u001b[31m\n",
            "\u001b[0mSuccessfully installed numpy-1.24.3 pycorruptor-0.0.4 tsdb-0.0.8\n"
          ]
        }
      ],
      "source": [
        "pip install -r requirements.txt"
      ]
    },
    {
      "cell_type": "code",
      "execution_count": null,
      "metadata": {
        "colab": {
          "base_uri": "https://localhost:8080/"
        },
        "id": "jBLPEnY67NgJ",
        "outputId": "369bbb36-ae61-47e7-b114-9e26f731a227"
      },
      "outputs": [
        {
          "output_type": "stream",
          "name": "stdout",
          "text": [
            "[Errno 2] No such file or directory: 'PyPOTS/pypots/tests/'\n",
            "/content\n"
          ]
        }
      ],
      "source": [
        "cd PyPOTS/pypots/tests/"
      ]
    },
    {
      "cell_type": "code",
      "execution_count": null,
      "metadata": {
        "id": "YZ1JVQB_762t"
      },
      "outputs": [],
      "source": [
        "import numpy as np\n",
        "from sklearn.preprocessing import StandardScaler\n",
        "from pypots.data import load_specific_dataset, mcar, masked_fill\n",
        "from pypots.imputation import SAITS\n",
        "from pypots.utils.metrics import cal_mae\n"
      ]
    },
    {
      "cell_type": "code",
      "execution_count": null,
      "metadata": {
        "id": "1tGGb2c7MDWl"
      },
      "outputs": [],
      "source": [
        "!python test_clustering.py"
      ]
    },
    {
      "cell_type": "code",
      "execution_count": null,
      "metadata": {
        "id": "yTYUfGNCMDgV"
      },
      "outputs": [],
      "source": [
        "cd /content/drive/MyDrive/Doctorado/2023/Abril/PyPOTS/pypots/tests"
      ]
    },
    {
      "cell_type": "code",
      "execution_count": null,
      "metadata": {
        "colab": {
          "base_uri": "https://localhost:8080/"
        },
        "id": "B5jqFNn4ymwS",
        "outputId": "08a7d9c2-c985-41b6-cd65-796e46734015"
      },
      "outputs": [
        {
          "output_type": "stream",
          "name": "stdout",
          "text": [
            "checkkkk\n"
          ]
        }
      ],
      "source": [
        "import sys\n",
        "print('checkkkk')\n",
        "sys.path.append('/content/drive/MyDrive/Doctorado/2023/Abril/PyPOTS/pypots/tests')\n",
        "sys.path.append( '/content/drive/MyDrive/Doctorado/2023/Abril/PyPOTS/pypots' )\n",
        "import unittest\n",
        "\n",
        "import numpy as np\n",
        "import pytest\n",
        "import os\n",
        "from pypots.clustering import VaDER, CRLI\n",
        "from global_test_config import DATA, RESULT_SAVING_DIR\n",
        "from pypots.utils.logging import logger\n",
        "from pypots.utils.metrics import cal_rand_index, cal_cluster_purity\n",
        "from sklearn.metrics.cluster import adjusted_mutual_info_score\n"
      ]
    },
    {
      "cell_type": "code",
      "execution_count": null,
      "metadata": {
        "id": "G2OBsrNQiJ2b"
      },
      "outputs": [],
      "source": [
        "import numpy as np\n",
        "\n",
        "from pypots.data import load_specific_dataset, mcar, masked_fill\n",
        "from pypots.imputation import SAITS\n",
        "from pypots.utils.metrics import cal_mae\n",
        "# Data preprocessing. Tedious, but PyPOTS can help. 🤓\n"
      ]
    },
    {
      "cell_type": "code",
      "execution_count": null,
      "metadata": {
        "colab": {
          "base_uri": "https://localhost:8080/"
        },
        "id": "up73apiEAefd",
        "outputId": "be75bf7d-6750-4535-a078-033ad4ff32f8"
      },
      "outputs": [
        {
          "output_type": "stream",
          "name": "stderr",
          "text": [
            "2023-05-01 07:21:51 [INFO]: Loading the dataset physionet_2012 with TSDB (https://github.com/WenjieDu/Time_Series_Database)...\n",
            "2023-05-01 07:21:51 [INFO]: Starting preprocessing physionet_2012...\n"
          ]
        },
        {
          "output_type": "stream",
          "name": "stdout",
          "text": [
            "Start downloading...\n",
            "Successfully downloaded data to /tmp/tmpa85hh407/set-a.tar.gz.\n",
            "Successfully extracted data to /root/.tsdb_cached_datasets/physionet_2012\n",
            "Successfully downloaded data to /tmp/tmpev8di1kv/set-b.tar.gz.\n",
            "Successfully extracted data to /root/.tsdb_cached_datasets/physionet_2012\n",
            "Successfully downloaded data to /tmp/tmpmyx43vs9/set-c.tar.gz.\n",
            "Successfully extracted data to /root/.tsdb_cached_datasets/physionet_2012\n",
            "Successfully downloaded data to /root/.tsdb_cached_datasets/physionet_2012/Outcomes-a.txt.\n",
            "Successfully downloaded data to /root/.tsdb_cached_datasets/physionet_2012/Outcomes-b.txt.\n",
            "Successfully downloaded data to /root/.tsdb_cached_datasets/physionet_2012/Outcomes-c.txt.\n",
            "Ignore 140501, because its len==1, having no time series data\n",
            "Ignore 141264, because its len==1, having no time series data\n",
            "Ignore 140936, because its len==1, having no time series data\n",
            "Ignore 150309, because its len==1, having no time series data\n",
            "Ignore 145611, because its len==1, having no time series data\n",
            "Ignore 147514, because its len==1, having no time series data\n",
            "Ignore 150649, because its len==1, having no time series data\n",
            "Ignore 143656, because its len==1, having no time series data\n",
            "Ignore 142998, because its len==1, having no time series data\n",
            "Ignore 142731, because its len==1, having no time series data\n",
            "Ignore 155655, because its len==1, having no time series data\n",
            "Ignore 156254, because its len==1, having no time series data\n",
            "Successfully saved to /root/.tsdb_cached_datasets/physionet_2012/physionet_2012_cache.pkl\n",
            "Loaded successfully!\n"
          ]
        }
      ],
      "source": [
        "data = load_specific_dataset('physionet_2012')  # PyPOTS will automatically download and extract it.\n"
      ]
    },
    {
      "cell_type": "code",
      "execution_count": null,
      "metadata": {
        "id": "tkQZa1svMfbs"
      },
      "outputs": [],
      "source": [
        "\n",
        "X = data['X']"
      ]
    },
    {
      "cell_type": "code",
      "execution_count": null,
      "metadata": {
        "colab": {
          "base_uri": "https://localhost:8080/",
          "height": 488
        },
        "id": "hVxG9MZZMg0H",
        "outputId": "a2d71b9d-c8c6-4781-98a4-e21a89067b94"
      },
      "outputs": [
        {
          "data": {
            "text/html": [
              "\n",
              "  <div id=\"df-87790b54-39e2-4d08-96a3-cf5c16fca5ab\">\n",
              "    <div class=\"colab-df-container\">\n",
              "      <div>\n",
              "<style scoped>\n",
              "    .dataframe tbody tr th:only-of-type {\n",
              "        vertical-align: middle;\n",
              "    }\n",
              "\n",
              "    .dataframe tbody tr th {\n",
              "        vertical-align: top;\n",
              "    }\n",
              "\n",
              "    .dataframe thead th {\n",
              "        text-align: right;\n",
              "    }\n",
              "</style>\n",
              "<table border=\"1\" class=\"dataframe\">\n",
              "  <thead>\n",
              "    <tr style=\"text-align: right;\">\n",
              "      <th></th>\n",
              "      <th>RecordID</th>\n",
              "      <th>ALP</th>\n",
              "      <th>ALT</th>\n",
              "      <th>AST</th>\n",
              "      <th>Albumin</th>\n",
              "      <th>BUN</th>\n",
              "      <th>Bilirubin</th>\n",
              "      <th>Cholesterol</th>\n",
              "      <th>Creatinine</th>\n",
              "      <th>DiasABP</th>\n",
              "      <th>...</th>\n",
              "      <th>RespRate</th>\n",
              "      <th>SaO2</th>\n",
              "      <th>SysABP</th>\n",
              "      <th>Temp</th>\n",
              "      <th>TroponinI</th>\n",
              "      <th>TroponinT</th>\n",
              "      <th>Urine</th>\n",
              "      <th>WBC</th>\n",
              "      <th>Weight</th>\n",
              "      <th>pH</th>\n",
              "    </tr>\n",
              "  </thead>\n",
              "  <tbody>\n",
              "    <tr>\n",
              "      <th>0</th>\n",
              "      <td>132539</td>\n",
              "      <td>NaN</td>\n",
              "      <td>NaN</td>\n",
              "      <td>NaN</td>\n",
              "      <td>NaN</td>\n",
              "      <td>NaN</td>\n",
              "      <td>NaN</td>\n",
              "      <td>NaN</td>\n",
              "      <td>NaN</td>\n",
              "      <td>NaN</td>\n",
              "      <td>...</td>\n",
              "      <td>19.0</td>\n",
              "      <td>NaN</td>\n",
              "      <td>NaN</td>\n",
              "      <td>35.35</td>\n",
              "      <td>NaN</td>\n",
              "      <td>NaN</td>\n",
              "      <td>480.0</td>\n",
              "      <td>NaN</td>\n",
              "      <td>-1.0</td>\n",
              "      <td>NaN</td>\n",
              "    </tr>\n",
              "    <tr>\n",
              "      <th>1</th>\n",
              "      <td>132539</td>\n",
              "      <td>NaN</td>\n",
              "      <td>NaN</td>\n",
              "      <td>NaN</td>\n",
              "      <td>NaN</td>\n",
              "      <td>NaN</td>\n",
              "      <td>NaN</td>\n",
              "      <td>NaN</td>\n",
              "      <td>NaN</td>\n",
              "      <td>NaN</td>\n",
              "      <td>...</td>\n",
              "      <td>18.0</td>\n",
              "      <td>NaN</td>\n",
              "      <td>NaN</td>\n",
              "      <td>NaN</td>\n",
              "      <td>NaN</td>\n",
              "      <td>NaN</td>\n",
              "      <td>30.0</td>\n",
              "      <td>NaN</td>\n",
              "      <td>NaN</td>\n",
              "      <td>NaN</td>\n",
              "    </tr>\n",
              "    <tr>\n",
              "      <th>2</th>\n",
              "      <td>132539</td>\n",
              "      <td>NaN</td>\n",
              "      <td>NaN</td>\n",
              "      <td>NaN</td>\n",
              "      <td>NaN</td>\n",
              "      <td>NaN</td>\n",
              "      <td>NaN</td>\n",
              "      <td>NaN</td>\n",
              "      <td>NaN</td>\n",
              "      <td>NaN</td>\n",
              "      <td>...</td>\n",
              "      <td>19.0</td>\n",
              "      <td>NaN</td>\n",
              "      <td>NaN</td>\n",
              "      <td>NaN</td>\n",
              "      <td>NaN</td>\n",
              "      <td>NaN</td>\n",
              "      <td>170.0</td>\n",
              "      <td>NaN</td>\n",
              "      <td>NaN</td>\n",
              "      <td>NaN</td>\n",
              "    </tr>\n",
              "    <tr>\n",
              "      <th>3</th>\n",
              "      <td>132539</td>\n",
              "      <td>NaN</td>\n",
              "      <td>NaN</td>\n",
              "      <td>NaN</td>\n",
              "      <td>NaN</td>\n",
              "      <td>NaN</td>\n",
              "      <td>NaN</td>\n",
              "      <td>NaN</td>\n",
              "      <td>NaN</td>\n",
              "      <td>NaN</td>\n",
              "      <td>...</td>\n",
              "      <td>20.0</td>\n",
              "      <td>NaN</td>\n",
              "      <td>NaN</td>\n",
              "      <td>37.80</td>\n",
              "      <td>NaN</td>\n",
              "      <td>NaN</td>\n",
              "      <td>60.0</td>\n",
              "      <td>NaN</td>\n",
              "      <td>NaN</td>\n",
              "      <td>NaN</td>\n",
              "    </tr>\n",
              "    <tr>\n",
              "      <th>4</th>\n",
              "      <td>132539</td>\n",
              "      <td>NaN</td>\n",
              "      <td>NaN</td>\n",
              "      <td>NaN</td>\n",
              "      <td>NaN</td>\n",
              "      <td>NaN</td>\n",
              "      <td>NaN</td>\n",
              "      <td>NaN</td>\n",
              "      <td>NaN</td>\n",
              "      <td>NaN</td>\n",
              "      <td>...</td>\n",
              "      <td>20.0</td>\n",
              "      <td>NaN</td>\n",
              "      <td>NaN</td>\n",
              "      <td>NaN</td>\n",
              "      <td>NaN</td>\n",
              "      <td>NaN</td>\n",
              "      <td>NaN</td>\n",
              "      <td>NaN</td>\n",
              "      <td>NaN</td>\n",
              "      <td>NaN</td>\n",
              "    </tr>\n",
              "    <tr>\n",
              "      <th>...</th>\n",
              "      <td>...</td>\n",
              "      <td>...</td>\n",
              "      <td>...</td>\n",
              "      <td>...</td>\n",
              "      <td>...</td>\n",
              "      <td>...</td>\n",
              "      <td>...</td>\n",
              "      <td>...</td>\n",
              "      <td>...</td>\n",
              "      <td>...</td>\n",
              "      <td>...</td>\n",
              "      <td>...</td>\n",
              "      <td>...</td>\n",
              "      <td>...</td>\n",
              "      <td>...</td>\n",
              "      <td>...</td>\n",
              "      <td>...</td>\n",
              "      <td>...</td>\n",
              "      <td>...</td>\n",
              "      <td>...</td>\n",
              "      <td>...</td>\n",
              "    </tr>\n",
              "    <tr>\n",
              "      <th>575419</th>\n",
              "      <td>163037</td>\n",
              "      <td>NaN</td>\n",
              "      <td>NaN</td>\n",
              "      <td>NaN</td>\n",
              "      <td>NaN</td>\n",
              "      <td>NaN</td>\n",
              "      <td>NaN</td>\n",
              "      <td>NaN</td>\n",
              "      <td>NaN</td>\n",
              "      <td>51.0</td>\n",
              "      <td>...</td>\n",
              "      <td>NaN</td>\n",
              "      <td>NaN</td>\n",
              "      <td>122.0</td>\n",
              "      <td>NaN</td>\n",
              "      <td>NaN</td>\n",
              "      <td>NaN</td>\n",
              "      <td>60.0</td>\n",
              "      <td>NaN</td>\n",
              "      <td>NaN</td>\n",
              "      <td>NaN</td>\n",
              "    </tr>\n",
              "    <tr>\n",
              "      <th>575420</th>\n",
              "      <td>163037</td>\n",
              "      <td>NaN</td>\n",
              "      <td>NaN</td>\n",
              "      <td>NaN</td>\n",
              "      <td>NaN</td>\n",
              "      <td>NaN</td>\n",
              "      <td>NaN</td>\n",
              "      <td>NaN</td>\n",
              "      <td>NaN</td>\n",
              "      <td>NaN</td>\n",
              "      <td>...</td>\n",
              "      <td>NaN</td>\n",
              "      <td>NaN</td>\n",
              "      <td>NaN</td>\n",
              "      <td>NaN</td>\n",
              "      <td>NaN</td>\n",
              "      <td>NaN</td>\n",
              "      <td>NaN</td>\n",
              "      <td>NaN</td>\n",
              "      <td>NaN</td>\n",
              "      <td>NaN</td>\n",
              "    </tr>\n",
              "    <tr>\n",
              "      <th>575421</th>\n",
              "      <td>163037</td>\n",
              "      <td>NaN</td>\n",
              "      <td>NaN</td>\n",
              "      <td>NaN</td>\n",
              "      <td>NaN</td>\n",
              "      <td>NaN</td>\n",
              "      <td>NaN</td>\n",
              "      <td>NaN</td>\n",
              "      <td>NaN</td>\n",
              "      <td>56.0</td>\n",
              "      <td>...</td>\n",
              "      <td>NaN</td>\n",
              "      <td>NaN</td>\n",
              "      <td>147.0</td>\n",
              "      <td>37.30</td>\n",
              "      <td>NaN</td>\n",
              "      <td>NaN</td>\n",
              "      <td>50.0</td>\n",
              "      <td>NaN</td>\n",
              "      <td>NaN</td>\n",
              "      <td>NaN</td>\n",
              "    </tr>\n",
              "    <tr>\n",
              "      <th>575422</th>\n",
              "      <td>163037</td>\n",
              "      <td>NaN</td>\n",
              "      <td>NaN</td>\n",
              "      <td>NaN</td>\n",
              "      <td>NaN</td>\n",
              "      <td>NaN</td>\n",
              "      <td>NaN</td>\n",
              "      <td>NaN</td>\n",
              "      <td>NaN</td>\n",
              "      <td>50.0</td>\n",
              "      <td>...</td>\n",
              "      <td>NaN</td>\n",
              "      <td>NaN</td>\n",
              "      <td>90.0</td>\n",
              "      <td>NaN</td>\n",
              "      <td>NaN</td>\n",
              "      <td>NaN</td>\n",
              "      <td>NaN</td>\n",
              "      <td>NaN</td>\n",
              "      <td>NaN</td>\n",
              "      <td>NaN</td>\n",
              "    </tr>\n",
              "    <tr>\n",
              "      <th>575423</th>\n",
              "      <td>163037</td>\n",
              "      <td>NaN</td>\n",
              "      <td>NaN</td>\n",
              "      <td>NaN</td>\n",
              "      <td>NaN</td>\n",
              "      <td>NaN</td>\n",
              "      <td>NaN</td>\n",
              "      <td>NaN</td>\n",
              "      <td>NaN</td>\n",
              "      <td>47.0</td>\n",
              "      <td>...</td>\n",
              "      <td>NaN</td>\n",
              "      <td>NaN</td>\n",
              "      <td>99.0</td>\n",
              "      <td>NaN</td>\n",
              "      <td>NaN</td>\n",
              "      <td>NaN</td>\n",
              "      <td>30.0</td>\n",
              "      <td>NaN</td>\n",
              "      <td>NaN</td>\n",
              "      <td>NaN</td>\n",
              "    </tr>\n",
              "  </tbody>\n",
              "</table>\n",
              "<p>575424 rows × 38 columns</p>\n",
              "</div>\n",
              "      <button class=\"colab-df-convert\" onclick=\"convertToInteractive('df-87790b54-39e2-4d08-96a3-cf5c16fca5ab')\"\n",
              "              title=\"Convert this dataframe to an interactive table.\"\n",
              "              style=\"display:none;\">\n",
              "        \n",
              "  <svg xmlns=\"http://www.w3.org/2000/svg\" height=\"24px\"viewBox=\"0 0 24 24\"\n",
              "       width=\"24px\">\n",
              "    <path d=\"M0 0h24v24H0V0z\" fill=\"none\"/>\n",
              "    <path d=\"M18.56 5.44l.94 2.06.94-2.06 2.06-.94-2.06-.94-.94-2.06-.94 2.06-2.06.94zm-11 1L8.5 8.5l.94-2.06 2.06-.94-2.06-.94L8.5 2.5l-.94 2.06-2.06.94zm10 10l.94 2.06.94-2.06 2.06-.94-2.06-.94-.94-2.06-.94 2.06-2.06.94z\"/><path d=\"M17.41 7.96l-1.37-1.37c-.4-.4-.92-.59-1.43-.59-.52 0-1.04.2-1.43.59L10.3 9.45l-7.72 7.72c-.78.78-.78 2.05 0 2.83L4 21.41c.39.39.9.59 1.41.59.51 0 1.02-.2 1.41-.59l7.78-7.78 2.81-2.81c.8-.78.8-2.07 0-2.86zM5.41 20L4 18.59l7.72-7.72 1.47 1.35L5.41 20z\"/>\n",
              "  </svg>\n",
              "      </button>\n",
              "      \n",
              "  <style>\n",
              "    .colab-df-container {\n",
              "      display:flex;\n",
              "      flex-wrap:wrap;\n",
              "      gap: 12px;\n",
              "    }\n",
              "\n",
              "    .colab-df-convert {\n",
              "      background-color: #E8F0FE;\n",
              "      border: none;\n",
              "      border-radius: 50%;\n",
              "      cursor: pointer;\n",
              "      display: none;\n",
              "      fill: #1967D2;\n",
              "      height: 32px;\n",
              "      padding: 0 0 0 0;\n",
              "      width: 32px;\n",
              "    }\n",
              "\n",
              "    .colab-df-convert:hover {\n",
              "      background-color: #E2EBFA;\n",
              "      box-shadow: 0px 1px 2px rgba(60, 64, 67, 0.3), 0px 1px 3px 1px rgba(60, 64, 67, 0.15);\n",
              "      fill: #174EA6;\n",
              "    }\n",
              "\n",
              "    [theme=dark] .colab-df-convert {\n",
              "      background-color: #3B4455;\n",
              "      fill: #D2E3FC;\n",
              "    }\n",
              "\n",
              "    [theme=dark] .colab-df-convert:hover {\n",
              "      background-color: #434B5C;\n",
              "      box-shadow: 0px 1px 3px 1px rgba(0, 0, 0, 0.15);\n",
              "      filter: drop-shadow(0px 1px 2px rgba(0, 0, 0, 0.3));\n",
              "      fill: #FFFFFF;\n",
              "    }\n",
              "  </style>\n",
              "\n",
              "      <script>\n",
              "        const buttonEl =\n",
              "          document.querySelector('#df-87790b54-39e2-4d08-96a3-cf5c16fca5ab button.colab-df-convert');\n",
              "        buttonEl.style.display =\n",
              "          google.colab.kernel.accessAllowed ? 'block' : 'none';\n",
              "\n",
              "        async function convertToInteractive(key) {\n",
              "          const element = document.querySelector('#df-87790b54-39e2-4d08-96a3-cf5c16fca5ab');\n",
              "          const dataTable =\n",
              "            await google.colab.kernel.invokeFunction('convertToInteractive',\n",
              "                                                     [key], {});\n",
              "          if (!dataTable) return;\n",
              "\n",
              "          const docLinkHtml = 'Like what you see? Visit the ' +\n",
              "            '<a target=\"_blank\" href=https://colab.research.google.com/notebooks/data_table.ipynb>data table notebook</a>'\n",
              "            + ' to learn more about interactive tables.';\n",
              "          element.innerHTML = '';\n",
              "          dataTable['output_type'] = 'display_data';\n",
              "          await google.colab.output.renderOutput(dataTable, element);\n",
              "          const docLink = document.createElement('div');\n",
              "          docLink.innerHTML = docLinkHtml;\n",
              "          element.appendChild(docLink);\n",
              "        }\n",
              "      </script>\n",
              "    </div>\n",
              "  </div>\n",
              "  "
            ],
            "text/plain": [
              "        RecordID  ALP  ALT  AST  Albumin  BUN  Bilirubin  Cholesterol  \\\n",
              "0         132539  NaN  NaN  NaN      NaN  NaN        NaN          NaN   \n",
              "1         132539  NaN  NaN  NaN      NaN  NaN        NaN          NaN   \n",
              "2         132539  NaN  NaN  NaN      NaN  NaN        NaN          NaN   \n",
              "3         132539  NaN  NaN  NaN      NaN  NaN        NaN          NaN   \n",
              "4         132539  NaN  NaN  NaN      NaN  NaN        NaN          NaN   \n",
              "...          ...  ...  ...  ...      ...  ...        ...          ...   \n",
              "575419    163037  NaN  NaN  NaN      NaN  NaN        NaN          NaN   \n",
              "575420    163037  NaN  NaN  NaN      NaN  NaN        NaN          NaN   \n",
              "575421    163037  NaN  NaN  NaN      NaN  NaN        NaN          NaN   \n",
              "575422    163037  NaN  NaN  NaN      NaN  NaN        NaN          NaN   \n",
              "575423    163037  NaN  NaN  NaN      NaN  NaN        NaN          NaN   \n",
              "\n",
              "        Creatinine  DiasABP  ...  RespRate  SaO2  SysABP   Temp  TroponinI  \\\n",
              "0              NaN      NaN  ...      19.0   NaN     NaN  35.35        NaN   \n",
              "1              NaN      NaN  ...      18.0   NaN     NaN    NaN        NaN   \n",
              "2              NaN      NaN  ...      19.0   NaN     NaN    NaN        NaN   \n",
              "3              NaN      NaN  ...      20.0   NaN     NaN  37.80        NaN   \n",
              "4              NaN      NaN  ...      20.0   NaN     NaN    NaN        NaN   \n",
              "...            ...      ...  ...       ...   ...     ...    ...        ...   \n",
              "575419         NaN     51.0  ...       NaN   NaN   122.0    NaN        NaN   \n",
              "575420         NaN      NaN  ...       NaN   NaN     NaN    NaN        NaN   \n",
              "575421         NaN     56.0  ...       NaN   NaN   147.0  37.30        NaN   \n",
              "575422         NaN     50.0  ...       NaN   NaN    90.0    NaN        NaN   \n",
              "575423         NaN     47.0  ...       NaN   NaN    99.0    NaN        NaN   \n",
              "\n",
              "        TroponinT  Urine  WBC  Weight  pH  \n",
              "0             NaN  480.0  NaN    -1.0 NaN  \n",
              "1             NaN   30.0  NaN     NaN NaN  \n",
              "2             NaN  170.0  NaN     NaN NaN  \n",
              "3             NaN   60.0  NaN     NaN NaN  \n",
              "4             NaN    NaN  NaN     NaN NaN  \n",
              "...           ...    ...  ...     ...  ..  \n",
              "575419        NaN   60.0  NaN     NaN NaN  \n",
              "575420        NaN    NaN  NaN     NaN NaN  \n",
              "575421        NaN   50.0  NaN     NaN NaN  \n",
              "575422        NaN    NaN  NaN     NaN NaN  \n",
              "575423        NaN   30.0  NaN     NaN NaN  \n",
              "\n",
              "[575424 rows x 38 columns]"
            ]
          },
          "execution_count": 7,
          "metadata": {},
          "output_type": "execute_result"
        }
      ],
      "source": [
        "X"
      ]
    },
    {
      "cell_type": "code",
      "execution_count": null,
      "metadata": {
        "id": "VG5B7IThoR4z"
      },
      "outputs": [],
      "source": [
        "X = data['X']\n",
        "\n",
        "num_samples = len(X['RecordID'].unique())\n",
        "X = X.drop('RecordID', axis = 1)\n",
        "X = StandardScaler().fit_transform(X.to_numpy())\n",
        "X = X.reshape(num_samples, 48, -1)\n",
        "X_intact, X, missing_mask, indicating_mask = mcar(X, 0.1) # hold out 10% observed values as ground truth\n",
        "X = masked_fill(X, 1 - missing_mask, np.nan)\n",
        "dataset = {\"X\": X}\n",
        "y = data['y']\n"
      ]
    },
    {
      "cell_type": "code",
      "execution_count": null,
      "metadata": {
        "colab": {
          "base_uri": "https://localhost:8080/"
        },
        "id": "d-_SObCSMp_S",
        "outputId": "c8d4f18e-ddd8-402e-deaf-0a45796313d9"
      },
      "outputs": [
        {
          "data": {
            "text/plain": [
              "(11988, 48, 37)"
            ]
          },
          "execution_count": 16,
          "metadata": {},
          "output_type": "execute_result"
        }
      ],
      "source": [
        "dataset['X'].shape"
      ]
    },
    {
      "cell_type": "markdown",
      "metadata": {
        "id": "8CcsiAVpBzlI"
      },
      "source": [
        "# Test"
      ]
    },
    {
      "cell_type": "code",
      "execution_count": null,
      "metadata": {
        "colab": {
          "base_uri": "https://localhost:8080/"
        },
        "id": "JJYY7a11RBuR",
        "outputId": "f857c232-2bfb-423b-82c6-55c7b80f6367"
      },
      "outputs": [
        {
          "output_type": "stream",
          "name": "stdout",
          "text": [
            "/content/drive/MyDrive/Doctorado/2023/Abril\n"
          ]
        }
      ],
      "source": [
        "cd /content/drive/MyDrive/Doctorado/2023/Abril/"
      ]
    },
    {
      "cell_type": "code",
      "source": [
        "c = np.array([[1,2,3],[4,5,6]])"
      ],
      "metadata": {
        "colab": {
          "base_uri": "https://localhost:8080/",
          "height": 169
        },
        "id": "X-9ijs3zGMn2",
        "outputId": "fa251f0b-49d4-4c75-8b53-21a68704dfc7"
      },
      "execution_count": null,
      "outputs": [
        {
          "output_type": "error",
          "ename": "NameError",
          "evalue": "ignored",
          "traceback": [
            "\u001b[0;31m---------------------------------------------------------------------------\u001b[0m",
            "\u001b[0;31mNameError\u001b[0m                                 Traceback (most recent call last)",
            "\u001b[0;32m<ipython-input-4-64d15b4d9538>\u001b[0m in \u001b[0;36m<cell line: 1>\u001b[0;34m()\u001b[0m\n\u001b[0;32m----> 1\u001b[0;31m \u001b[0mc\u001b[0m \u001b[0;34m=\u001b[0m \u001b[0mnp\u001b[0m\u001b[0;34m.\u001b[0m\u001b[0marray\u001b[0m\u001b[0;34m(\u001b[0m\u001b[0;34m[\u001b[0m\u001b[0;34m[\u001b[0m\u001b[0;36m1\u001b[0m\u001b[0;34m,\u001b[0m\u001b[0;36m2\u001b[0m\u001b[0;34m,\u001b[0m\u001b[0;36m3\u001b[0m\u001b[0;34m]\u001b[0m\u001b[0;34m,\u001b[0m\u001b[0;34m[\u001b[0m\u001b[0;36m4\u001b[0m\u001b[0;34m,\u001b[0m\u001b[0;36m5\u001b[0m\u001b[0;34m,\u001b[0m\u001b[0;36m6\u001b[0m\u001b[0;34m]\u001b[0m\u001b[0;34m]\u001b[0m\u001b[0;34m)\u001b[0m\u001b[0;34m\u001b[0m\u001b[0;34m\u001b[0m\u001b[0m\n\u001b[0m",
            "\u001b[0;31mNameError\u001b[0m: name 'np' is not defined"
          ]
        }
      ]
    },
    {
      "cell_type": "code",
      "source": [
        "ls"
      ],
      "metadata": {
        "colab": {
          "base_uri": "https://localhost:8080/"
        },
        "id": "RauxA2kc6EFm",
        "outputId": "f189848e-d54a-44e4-8ed4-1092c5a9e92c"
      },
      "execution_count": null,
      "outputs": [
        {
          "output_type": "stream",
          "name": "stdout",
          "text": [
            "environment_for_conda_test.yml  \u001b[0m\u001b[01;34mmdcgenpy\u001b[0m/               test_data.py\n",
            "firtsexperiment1.txt            \u001b[01;34m__pycache__\u001b[0m/            test_forecasting.py\n",
            "firtsexperiment2.txt            results.txt             test_imputation.py\n",
            "firtsexperiment.txt             test_classification.py  \u001b[01;34mtesting_results\u001b[0m/\n",
            "global_test_config.py           test_cli.py             test_utils.py\n",
            "__init__.py                     test_clustering.py\n"
          ]
        }
      ]
    },
    {
      "cell_type": "code",
      "execution_count": null,
      "metadata": {
        "colab": {
          "base_uri": "https://localhost:8080/",
          "height": 1000
        },
        "id": "NyjRtHsrfpk5",
        "outputId": "6ca11f40-2e86-47a2-97e7-6ee7e993b63f"
      },
      "outputs": [
        {
          "output_type": "stream",
          "name": "stderr",
          "text": [
            "2023-05-01 07:25:38 [INFO]: No given device, using default device: cpu\n",
            "2023-05-01 07:25:38 [INFO]: Model initialized successfully with the number of trainable parameters: 823108\n",
            "2023-05-01 07:31:03 [INFO]: epoch 0: training loss_generator 3.9690, train loss_discriminator 0.3736\n",
            "2023-05-01 07:36:01 [INFO]: epoch 1: training loss_generator 3.8573, train loss_discriminator 0.3573\n",
            "2023-05-01 07:41:00 [INFO]: epoch 2: training loss_generator 3.8073, train loss_discriminator 0.3516\n",
            "2023-05-01 07:45:57 [INFO]: epoch 3: training loss_generator 3.7711, train loss_discriminator 0.3482\n",
            "2023-05-01 07:50:51 [INFO]: epoch 4: training loss_generator 3.8444, train loss_discriminator 0.3340\n",
            "2023-05-01 07:50:51 [INFO]: Finished training.\n",
            "/usr/local/lib/python3.10/dist-packages/sklearn/cluster/_kmeans.py:870: FutureWarning: The default value of `n_init` will change from 10 to 'auto' in 1.4. Set the value of `n_init` explicitly to suppress the warning\n",
            "  warnings.warn(\n",
            "2023-05-01 07:52:03 [INFO]: No given device, using default device: cpu\n",
            "2023-05-01 07:52:03 [INFO]: Model initialized successfully with the number of trainable parameters: 823108\n",
            "2023-05-01 07:57:20 [INFO]: epoch 0: training loss_generator 3.9516, train loss_discriminator 0.3754\n",
            "2023-05-01 08:02:18 [INFO]: epoch 1: training loss_generator 3.8424, train loss_discriminator 0.3582\n",
            "2023-05-01 08:07:07 [INFO]: epoch 2: training loss_generator 3.7858, train loss_discriminator 0.3522\n",
            "2023-05-01 08:11:58 [INFO]: epoch 3: training loss_generator 3.7457, train loss_discriminator 0.3491\n",
            "2023-05-01 08:16:45 [INFO]: epoch 4: training loss_generator 3.7537, train loss_discriminator 0.3420\n",
            "2023-05-01 08:16:45 [INFO]: Finished training.\n",
            "/usr/local/lib/python3.10/dist-packages/sklearn/cluster/_kmeans.py:870: FutureWarning: The default value of `n_init` will change from 10 to 'auto' in 1.4. Set the value of `n_init` explicitly to suppress the warning\n",
            "  warnings.warn(\n",
            "2023-05-01 08:17:55 [INFO]: No given device, using default device: cpu\n",
            "2023-05-01 08:17:55 [INFO]: Model initialized successfully with the number of trainable parameters: 823108\n",
            "2023-05-01 08:23:07 [INFO]: epoch 0: training loss_generator 3.9532, train loss_discriminator 0.3788\n",
            "2023-05-01 08:27:59 [INFO]: epoch 1: training loss_generator 3.8523, train loss_discriminator 0.3599\n",
            "2023-05-01 08:32:51 [INFO]: epoch 2: training loss_generator 3.7936, train loss_discriminator 0.3532\n",
            "2023-05-01 08:37:35 [INFO]: epoch 3: training loss_generator 3.8245, train loss_discriminator 0.3362\n",
            "2023-05-01 08:42:23 [INFO]: epoch 4: training loss_generator 3.9706, train loss_discriminator 0.3163\n",
            "2023-05-01 08:42:23 [INFO]: Finished training.\n",
            "/usr/local/lib/python3.10/dist-packages/sklearn/cluster/_kmeans.py:870: FutureWarning: The default value of `n_init` will change from 10 to 'auto' in 1.4. Set the value of `n_init` explicitly to suppress the warning\n",
            "  warnings.warn(\n",
            "2023-05-01 08:43:32 [INFO]: No given device, using default device: cpu\n",
            "2023-05-01 08:43:32 [INFO]: Model initialized successfully with the number of trainable parameters: 823108\n",
            "2023-05-01 08:48:40 [INFO]: epoch 0: training loss_generator 3.9547, train loss_discriminator 0.3720\n",
            "2023-05-01 08:53:24 [INFO]: epoch 1: training loss_generator 3.8464, train loss_discriminator 0.3565\n",
            "2023-05-01 08:58:11 [INFO]: epoch 2: training loss_generator 3.7944, train loss_discriminator 0.3510\n",
            "2023-05-01 09:03:01 [INFO]: epoch 3: training loss_generator 3.8240, train loss_discriminator 0.3381\n",
            "2023-05-01 09:07:53 [INFO]: epoch 4: training loss_generator 3.9635, train loss_discriminator 0.3190\n",
            "2023-05-01 09:07:53 [INFO]: Finished training.\n",
            "/usr/local/lib/python3.10/dist-packages/sklearn/cluster/_kmeans.py:870: FutureWarning: The default value of `n_init` will change from 10 to 'auto' in 1.4. Set the value of `n_init` explicitly to suppress the warning\n",
            "  warnings.warn(\n",
            "2023-05-01 09:09:04 [INFO]: No given device, using default device: cpu\n",
            "2023-05-01 09:09:04 [INFO]: Model initialized successfully with the number of trainable parameters: 823108\n",
            "2023-05-01 09:14:19 [INFO]: epoch 0: training loss_generator 3.9081, train loss_discriminator 0.3745\n",
            "2023-05-01 09:19:11 [INFO]: epoch 1: training loss_generator 3.8323, train loss_discriminator 0.3577\n",
            "2023-05-01 09:24:03 [INFO]: epoch 2: training loss_generator 3.7948, train loss_discriminator 0.3511\n",
            "2023-05-01 09:28:52 [INFO]: epoch 3: training loss_generator 3.8873, train loss_discriminator 0.3362\n",
            "2023-05-01 09:33:42 [INFO]: epoch 4: training loss_generator 4.0363, train loss_discriminator 0.3178\n",
            "2023-05-01 09:33:42 [INFO]: Finished training.\n",
            "/usr/local/lib/python3.10/dist-packages/sklearn/cluster/_kmeans.py:870: FutureWarning: The default value of `n_init` will change from 10 to 'auto' in 1.4. Set the value of `n_init` explicitly to suppress the warning\n",
            "  warnings.warn(\n",
            "2023-05-01 09:34:54 [INFO]: No given device, using default device: cpu\n",
            "2023-05-01 09:34:54 [INFO]: Model initialized successfully with the number of trainable parameters: 823108\n",
            "2023-05-01 09:40:03 [INFO]: epoch 0: training loss_generator 3.8939, train loss_discriminator 0.3734\n",
            "2023-05-01 09:44:54 [INFO]: epoch 1: training loss_generator 3.8183, train loss_discriminator 0.3571\n",
            "2023-05-01 09:49:47 [INFO]: epoch 2: training loss_generator 3.7746, train loss_discriminator 0.3515\n",
            "2023-05-01 09:54:35 [INFO]: epoch 3: training loss_generator 3.7400, train loss_discriminator 0.3481\n",
            "2023-05-01 09:59:24 [INFO]: epoch 4: training loss_generator 3.7550, train loss_discriminator 0.3365\n",
            "2023-05-01 09:59:24 [INFO]: Finished training.\n",
            "/usr/local/lib/python3.10/dist-packages/sklearn/cluster/_kmeans.py:870: FutureWarning: The default value of `n_init` will change from 10 to 'auto' in 1.4. Set the value of `n_init` explicitly to suppress the warning\n",
            "  warnings.warn(\n"
          ]
        },
        {
          "output_type": "error",
          "ename": "TypeError",
          "evalue": "ignored",
          "traceback": [
            "\u001b[0;31m---------------------------------------------------------------------------\u001b[0m",
            "\u001b[0;31mTypeError\u001b[0m                                 Traceback (most recent call last)",
            "\u001b[0;32m<ipython-input-8-6f6d6e74ab3b>\u001b[0m in \u001b[0;36m<cell line: 26>\u001b[0;34m()\u001b[0m\n\u001b[1;32m     25\u001b[0m \u001b[0mfile\u001b[0m \u001b[0;34m=\u001b[0m \u001b[0mopen\u001b[0m\u001b[0;34m(\u001b[0m\u001b[0;34m'results.txt'\u001b[0m\u001b[0;34m,\u001b[0m\u001b[0;34m'w'\u001b[0m\u001b[0;34m)\u001b[0m\u001b[0;34m\u001b[0m\u001b[0;34m\u001b[0m\u001b[0m\n\u001b[1;32m     26\u001b[0m \u001b[0;32mfor\u001b[0m \u001b[0mitem\u001b[0m \u001b[0;32min\u001b[0m \u001b[0mresults\u001b[0m\u001b[0;34m:\u001b[0m\u001b[0;34m\u001b[0m\u001b[0;34m\u001b[0m\u001b[0m\n\u001b[0;32m---> 27\u001b[0;31m         \u001b[0mfile\u001b[0m\u001b[0;34m.\u001b[0m\u001b[0mwrite\u001b[0m\u001b[0;34m(\u001b[0m\u001b[0mitem\u001b[0m\u001b[0;34m+\u001b[0m\u001b[0;34m\"\\n\"\u001b[0m\u001b[0;34m)\u001b[0m\u001b[0;34m\u001b[0m\u001b[0;34m\u001b[0m\u001b[0m\n\u001b[0m\u001b[1;32m     28\u001b[0m \u001b[0mfile\u001b[0m\u001b[0;34m.\u001b[0m\u001b[0mclose\u001b[0m\u001b[0;34m(\u001b[0m\u001b[0;34m)\u001b[0m\u001b[0;34m\u001b[0m\u001b[0;34m\u001b[0m\u001b[0m\n\u001b[1;32m     29\u001b[0m \u001b[0;34m\u001b[0m\u001b[0m\n",
            "\u001b[0;31mTypeError\u001b[0m: can only concatenate list (not \"str\") to list"
          ]
        }
      ],
      "source": [
        "results=[]\n",
        "AMS=[]\n",
        "RII=[]\n",
        "for i in range(2,8):\n",
        "\n",
        "  crli = CRLI(\n",
        "      n_steps=48,\n",
        "      n_features=37,\n",
        "      n_clusters=i,\n",
        "      n_generator_layers=2,\n",
        "      rnn_hidden_size=128,\n",
        "      epochs=5\n",
        "  )\n",
        "  crli.fit(dataset)\n",
        "  clustt=crli.cluster(dataset)\n",
        "  results.append(clustt.tolist())\n",
        "  RI = cal_rand_index(clustt, y.values.flatten())\n",
        "  RII.append(RI)\n",
        "  AM=adjusted_mutual_info_score(clustt, y.values.flatten())\n",
        "  AMS.append(AM)\n",
        "\n",
        "with open(\"firtsexperiment.txt\", \"w\") as output:\n",
        "    output.write(str(results))\n",
        "\n",
        "file = open('results.txt','w')\n",
        "for item in results:\n",
        "\tfile.write(item+\"\\n\")\n",
        "file.close()\n",
        "\n",
        "file = open('AM.txt','w')\n",
        "for item in AM:\n",
        "\tfile.write(item+\"\\n\")\n",
        "file.close()"
      ]
    },
    {
      "cell_type": "code",
      "source": [
        " len(results)"
      ],
      "metadata": {
        "colab": {
          "base_uri": "https://localhost:8080/"
        },
        "id": "gVaWdu7H6JWM",
        "outputId": "c0355652-3808-4734-953a-c84bd79af496"
      },
      "execution_count": null,
      "outputs": [
        {
          "output_type": "execute_result",
          "data": {
            "text/plain": [
              "6"
            ]
          },
          "metadata": {},
          "execution_count": 11
        }
      ]
    },
    {
      "cell_type": "code",
      "source": [
        "pwd"
      ],
      "metadata": {
        "colab": {
          "base_uri": "https://localhost:8080/",
          "height": 35
        },
        "id": "Kni62qyL6zlE",
        "outputId": "6a182524-ed27-4b09-aff4-a9c4c9fbc098"
      },
      "execution_count": null,
      "outputs": [
        {
          "output_type": "execute_result",
          "data": {
            "text/plain": [
              "'/content/drive/MyDrive/Doctorado/2023/Abril/PyPOTS/pypots/tests'"
            ],
            "application/vnd.google.colaboratory.intrinsic+json": {
              "type": "string"
            }
          },
          "metadata": {},
          "execution_count": 17
        }
      ]
    },
    {
      "cell_type": "code",
      "execution_count": null,
      "metadata": {
        "id": "i0EhmuUkfpqH"
      },
      "outputs": [],
      "source": [
        "cp firtsexperiment.txt /content/drive/MyDrive/Doctorado/2023/Abril/"
      ]
    },
    {
      "cell_type": "markdown",
      "metadata": {
        "id": "8tPJRyMvTn3I"
      },
      "source": [
        "# Validity indices"
      ]
    },
    {
      "cell_type": "code",
      "execution_count": null,
      "metadata": {
        "id": "KGrkZiZ7TlyP"
      },
      "outputs": [],
      "source": [
        "import pandas as pd\n",
        "import numpy as np\n",
        "from sklearn.preprocessing import MinMaxScaler\n",
        "from sklearn.cluster import KMeans\n",
        "from sklearn.metrics import silhouette_score\n",
        "from sklearn.metrics import davies_bouldin_score\n",
        "from sklearn.cluster import MiniBatchKMeans\n",
        "import os\n",
        "from tqdm.notebook import tqdm\n",
        "import matplotlib.pyplot as plt\n",
        "import warnings\n",
        "\n",
        "# Suprimir todos los warnings\n",
        "warnings.filterwarnings('ignore')"
      ]
    },
    {
      "cell_type": "code",
      "execution_count": null,
      "metadata": {
        "id": "VufRYJi7Tl1n"
      },
      "outputs": [],
      "source": [
        "#!git clone https://github.com/CN-TU/mdcgenpy\n"
      ]
    },
    {
      "cell_type": "code",
      "execution_count": null,
      "metadata": {
        "colab": {
          "base_uri": "https://localhost:8080/"
        },
        "id": "hOAFrg_2VotO",
        "outputId": "32fdb24b-3c56-49be-a7f9-992306488c60"
      },
      "outputs": [
        {
          "output_type": "stream",
          "name": "stdout",
          "text": [
            "/content/drive/MyDrive/Doctorado/2023/Abril/PyPOTS/pypots/tests/mdcgenpy/mdcgenpy/Clusters-Features\n"
          ]
        }
      ],
      "source": [
        "cd /content/drive/MyDrive/Doctorado/2023/Abril/PyPOTS/pypots/tests/mdcgenpy/mdcgenpy/Clusters-Features"
      ]
    },
    {
      "cell_type": "code",
      "execution_count": null,
      "metadata": {
        "colab": {
          "base_uri": "https://localhost:8080/"
        },
        "id": "xmtvIjJFV1FT",
        "outputId": "4533ab48-8445-4c67-b215-01139a5081ff"
      },
      "outputs": [
        {
          "output_type": "stream",
          "name": "stdout",
          "text": [
            "Looking in indexes: https://pypi.org/simple, https://us-python.pkg.dev/colab-wheels/public/simple/\n",
            "Requirement already satisfied: numpy in /usr/local/lib/python3.10/dist-packages (from -r requirements.txt (line 1)) (1.22.4)\n",
            "Requirement already satisfied: pandas in /usr/local/lib/python3.10/dist-packages (from -r requirements.txt (line 2)) (1.5.3)\n",
            "Requirement already satisfied: scipy in /usr/local/lib/python3.10/dist-packages (from -r requirements.txt (line 3)) (1.10.1)\n",
            "Requirement already satisfied: scikit-learn in /usr/local/lib/python3.10/dist-packages (from -r requirements.txt (line 4)) (1.2.2)\n",
            "Requirement already satisfied: plotly in /usr/local/lib/python3.10/dist-packages (from -r requirements.txt (line 5)) (5.13.1)\n",
            "Requirement already satisfied: numba in /usr/local/lib/python3.10/dist-packages (from -r requirements.txt (line 6)) (0.56.4)\n",
            "Collecting umap-learn>=0.5.1 (from -r requirements.txt (line 7))\n",
            "  Downloading umap-learn-0.5.3.tar.gz (88 kB)\n",
            "\u001b[2K     \u001b[90m━━━━━━━━━━━━━━━━━━━━━━━━━━━━━━━━━━━━━━━━\u001b[0m \u001b[32m88.2/88.2 kB\u001b[0m \u001b[31m3.1 MB/s\u001b[0m eta \u001b[36m0:00:00\u001b[0m\n",
            "\u001b[?25h  Preparing metadata (setup.py) ... \u001b[?25l\u001b[?25hdone\n",
            "Requirement already satisfied: statsmodels in /usr/local/lib/python3.10/dist-packages (from -r requirements.txt (line 8)) (0.13.5)\n",
            "Requirement already satisfied: Pillow in /usr/local/lib/python3.10/dist-packages (from -r requirements.txt (line 9)) (8.4.0)\n",
            "Requirement already satisfied: python-dateutil>=2.8.1 in /usr/local/lib/python3.10/dist-packages (from pandas->-r requirements.txt (line 2)) (2.8.2)\n",
            "Requirement already satisfied: pytz>=2020.1 in /usr/local/lib/python3.10/dist-packages (from pandas->-r requirements.txt (line 2)) (2022.7.1)\n",
            "Requirement already satisfied: joblib>=1.1.1 in /usr/local/lib/python3.10/dist-packages (from scikit-learn->-r requirements.txt (line 4)) (1.2.0)\n",
            "Requirement already satisfied: threadpoolctl>=2.0.0 in /usr/local/lib/python3.10/dist-packages (from scikit-learn->-r requirements.txt (line 4)) (3.1.0)\n",
            "Requirement already satisfied: tenacity>=6.2.0 in /usr/local/lib/python3.10/dist-packages (from plotly->-r requirements.txt (line 5)) (8.2.2)\n",
            "Requirement already satisfied: llvmlite<0.40,>=0.39.0dev0 in /usr/local/lib/python3.10/dist-packages (from numba->-r requirements.txt (line 6)) (0.39.1)\n",
            "Requirement already satisfied: setuptools in /usr/local/lib/python3.10/dist-packages (from numba->-r requirements.txt (line 6)) (67.7.2)\n",
            "Collecting pynndescent>=0.5 (from umap-learn>=0.5.1->-r requirements.txt (line 7))\n",
            "  Downloading pynndescent-0.5.10.tar.gz (1.1 MB)\n",
            "\u001b[2K     \u001b[90m━━━━━━━━━━━━━━━━━━━━━━━━━━━━━━━━━━━━━━━━\u001b[0m \u001b[32m1.1/1.1 MB\u001b[0m \u001b[31m14.0 MB/s\u001b[0m eta \u001b[36m0:00:00\u001b[0m\n",
            "\u001b[?25h  Preparing metadata (setup.py) ... \u001b[?25l\u001b[?25hdone\n",
            "Requirement already satisfied: tqdm in /usr/local/lib/python3.10/dist-packages (from umap-learn>=0.5.1->-r requirements.txt (line 7)) (4.65.0)\n",
            "Requirement already satisfied: patsy>=0.5.2 in /usr/local/lib/python3.10/dist-packages (from statsmodels->-r requirements.txt (line 8)) (0.5.3)\n",
            "Requirement already satisfied: packaging>=21.3 in /usr/local/lib/python3.10/dist-packages (from statsmodels->-r requirements.txt (line 8)) (23.1)\n",
            "Requirement already satisfied: six in /usr/local/lib/python3.10/dist-packages (from patsy>=0.5.2->statsmodels->-r requirements.txt (line 8)) (1.16.0)\n",
            "Building wheels for collected packages: umap-learn, pynndescent\n",
            "  Building wheel for umap-learn (setup.py) ... \u001b[?25l\u001b[?25hdone\n",
            "  Created wheel for umap-learn: filename=umap_learn-0.5.3-py3-none-any.whl size=82830 sha256=54a2365c9d5d72b777a75d2606d6c0ee19121af39b830cc073175bccd4762c85\n",
            "  Stored in directory: /root/.cache/pip/wheels/a0/e8/c6/a37ea663620bd5200ea1ba0907ab3c217042c1d035ef606acc\n",
            "  Building wheel for pynndescent (setup.py) ... \u001b[?25l\u001b[?25hdone\n",
            "  Created wheel for pynndescent: filename=pynndescent-0.5.10-py3-none-any.whl size=55640 sha256=d19c56d7b84bcc2a4b7f856c158766b79bf9263faad9534734d3029633eca424\n",
            "  Stored in directory: /root/.cache/pip/wheels/4a/38/5d/f60a40a66a9512b7e5e83517ebc2d1b42d857be97d135f1096\n",
            "Successfully built umap-learn pynndescent\n",
            "Installing collected packages: pynndescent, umap-learn\n",
            "Successfully installed pynndescent-0.5.10 umap-learn-0.5.3\n"
          ]
        }
      ],
      "source": [
        "pip  install -r requirements.txt\n"
      ]
    },
    {
      "cell_type": "code",
      "source": [
        "from ClustersFeatures import *\n"
      ],
      "metadata": {
        "id": "Jpkxe4NFlBbI"
      },
      "execution_count": null,
      "outputs": []
    },
    {
      "cell_type": "code",
      "execution_count": null,
      "metadata": {
        "id": "4CfL2V8DWgvn"
      },
      "outputs": [],
      "source": [
        "import sys\n",
        "sys.path.append( os.path.abspath(os.path.dirname(\"/Doctorado/2023/Abril/PyPOTS/pypots/tests/mdcgenpy/mdcgenpy/Clusters-Features/\")+'/..') )"
      ]
    },
    {
      "cell_type": "code",
      "source": [
        "cd /content/drive/MyDrive/Doctorado/2023/Abril/"
      ],
      "metadata": {
        "colab": {
          "base_uri": "https://localhost:8080/"
        },
        "id": "C6Dy9iEuKtRh",
        "outputId": "dd25c029-7f8a-4f0a-856b-733b6f33665d"
      },
      "execution_count": null,
      "outputs": [
        {
          "output_type": "stream",
          "name": "stdout",
          "text": [
            "/content/drive/MyDrive/Doctorado/2023/Abril\n"
          ]
        }
      ]
    },
    {
      "cell_type": "code",
      "source": [
        "ls"
      ],
      "metadata": {
        "colab": {
          "base_uri": "https://localhost:8080/"
        },
        "id": "BBdVFhAZNAhB",
        "outputId": "f7187abe-a0e1-45d8-a6e2-f463d00b3e2d"
      },
      "execution_count": null,
      "outputs": [
        {
          "output_type": "stream",
          "name": "stdout",
          "text": [
            "'Carta para evaluadore:.gdoc'   firtsexperiment.txt\n",
            "'EAAI-23-2240 (1).pdf'          \u001b[0m\u001b[01;34mPyPOTS\u001b[0m/\n",
            "'evaluacion articulo.xlsx'      results.txt\n",
            " firtsexperiment1.txt           Seriesdetiempo_experimentos_.ipynb\n",
            " firtsexperiment2.txt\n"
          ]
        }
      ]
    },
    {
      "cell_type": "code",
      "source": [
        "with open('firtsexperiment.txt', 'r') as f:\n",
        "    firtsexperiment = f.readlines()"
      ],
      "metadata": {
        "id": "ui6yp78UKr8X"
      },
      "execution_count": null,
      "outputs": []
    },
    {
      "cell_type": "code",
      "source": [
        "\n",
        "Split=str(firtsexperiment).split('], [')\n",
        "list1=list( map(int,Split[0].split(\"['[[\")[1].split(',') ))\n",
        "list2=list(map(int,Split[1].split(',')))\n",
        "list3=list(map(int,Split[2].split(',')))\n",
        "list4=list(map(int,Split[3].split(',')))\n",
        "list5=list(map(int,Split[4].split(',')))\n",
        "list6=list( map(int,Split[5].split(\"]]']\")[0].split(',') ))"
      ],
      "metadata": {
        "id": "a4OMhlsbVsXl"
      },
      "execution_count": null,
      "outputs": []
    },
    {
      "cell_type": "code",
      "source": [
        "Firtsexperiment = np.array([list1,list2,list3,list4,list5],dtype=int)\n"
      ],
      "metadata": {
        "id": "kynO6pr7XS1N"
      },
      "execution_count": null,
      "outputs": []
    },
    {
      "cell_type": "code",
      "source": [
        "with open('firtsexperiment1.txt', 'r') as f:\n",
        "    firtsexperiment1 = f.readlines()"
      ],
      "metadata": {
        "id": "zkRribmpSHb0"
      },
      "execution_count": null,
      "outputs": []
    },
    {
      "cell_type": "code",
      "source": [
        "\n",
        "Split=str(firtsexperiment1).split('], dtype=int32),')\n",
        "list1=[]\n",
        "for i in range(23):\n",
        "  list1.extend(list(map(int, Split[0].split(\"['[array([\")[1].split(\",\\\\n', '       \")[i].split(','))))\n",
        "\n",
        "list5=[]\n",
        "for i in range(23):\n",
        "  list5.extend(list(map(int, Split[5].split(\" array([\")[1].split(\"], dtype=int32)]']\")[0].split(\",\\\\n', '       \")[i].split(','))))\n",
        "\n",
        "def inner(n):\n",
        "  lii=[]\n",
        "  for i in range(23):\n",
        "    lii.extend(list(map(int, Split[n].split(\" array([\")[1].split(\",\\\\n', '       \")[i].split(','))))\n",
        "  return lii\n",
        "\n",
        "\n",
        "list2=inner(1)\n",
        "list3=inner(2)\n",
        "list4=inner(3)\n",
        "list5=inner(4)\n",
        "\n",
        "Secondoexperiment = np.array([list1,list2,list3,list4,list5],dtype=int)\n"
      ],
      "metadata": {
        "id": "O96A_vR7YKDK"
      },
      "execution_count": null,
      "outputs": []
    },
    {
      "cell_type": "code",
      "source": [
        "with open('firtsexperiment2.txt', 'r') as f:\n",
        "    firtsexperiment1 = f.readlines()"
      ],
      "metadata": {
        "id": "tMoDHjDgZhi6"
      },
      "execution_count": null,
      "outputs": []
    },
    {
      "cell_type": "code",
      "source": [
        "Split=str(firtsexperiment1).split('], dtype=int32),')\n",
        "list1=[]\n",
        "for i in range(23):\n",
        "  list1.extend(list(map(int, Split[0].split(\"['[array([\")[1].split(\",\\\\n', '       \")[i].split(','))))\n",
        "\n",
        "list5=[]\n",
        "for i in range(23):\n",
        "  list5.extend(list(map(int, Split[5].split(\" array([\")[1].split(\"], dtype=int32)]']\")[0].split(\",\\\\n', '       \")[i].split(','))))\n",
        "\n",
        "def inner(n):\n",
        "  lii=[]\n",
        "  for i in range(23):\n",
        "    lii.extend(list(map(int, Split[n].split(\" array([\")[1].split(\",\\\\n', '       \")[i].split(','))))\n",
        "  return lii\n",
        "\n",
        "\n",
        "list2=inner(1)\n",
        "list3=inner(2)\n",
        "list4=inner(3)\n",
        "list5=inner(4)\n",
        "\n",
        "terzoexperiment = np.array([list1,list2,list3,list4,list5],dtype=int)"
      ],
      "metadata": {
        "id": "NM8qRJyjcL03"
      },
      "execution_count": null,
      "outputs": []
    },
    {
      "cell_type": "code",
      "source": [],
      "metadata": {
        "id": "FAtG9IP9RV_f"
      },
      "execution_count": null,
      "outputs": []
    },
    {
      "cell_type": "code",
      "source": [],
      "metadata": {
        "id": "8WleaJWBRWCe"
      },
      "execution_count": null,
      "outputs": []
    },
    {
      "cell_type": "markdown",
      "source": [
        "### Load Data"
      ],
      "metadata": {
        "id": "PXKIlFn5lRqL"
      }
    },
    {
      "cell_type": "code",
      "execution_count": null,
      "metadata": {
        "id": "hVuJASN_lQ1S"
      },
      "outputs": [],
      "source": [
        "import numpy as np\n",
        "\n",
        "from pypots.data import load_specific_dataset, mcar, masked_fill\n",
        "from pypots.imputation import SAITS\n",
        "from pypots.utils.metrics import cal_mae\n",
        "# Data preprocessing. Tedious, but PyPOTS can help. 🤓\n"
      ]
    },
    {
      "cell_type": "code",
      "execution_count": null,
      "metadata": {
        "colab": {
          "base_uri": "https://localhost:8080/"
        },
        "outputId": "d248bc46-e032-4f92-bad7-f566884ff5e1",
        "id": "5D2kcmhSlQ1S"
      },
      "outputs": [
        {
          "output_type": "stream",
          "name": "stderr",
          "text": [
            "2023-05-02 08:57:09 [INFO]: Loading the dataset physionet_2012 with TSDB (https://github.com/WenjieDu/Time_Series_Database)...\n",
            "2023-05-02 08:57:09 [INFO]: Starting preprocessing physionet_2012...\n"
          ]
        },
        {
          "output_type": "stream",
          "name": "stdout",
          "text": [
            "Start downloading...\n",
            "Successfully downloaded data to /tmp/tmpk097pm_d/set-a.tar.gz.\n",
            "Successfully extracted data to /root/.tsdb_cached_datasets/physionet_2012\n",
            "Successfully downloaded data to /tmp/tmp1koqchum/set-b.tar.gz.\n",
            "Successfully extracted data to /root/.tsdb_cached_datasets/physionet_2012\n",
            "Successfully downloaded data to /tmp/tmpgk7o4obj/set-c.tar.gz.\n",
            "Successfully extracted data to /root/.tsdb_cached_datasets/physionet_2012\n",
            "Successfully downloaded data to /root/.tsdb_cached_datasets/physionet_2012/Outcomes-a.txt.\n",
            "Successfully downloaded data to /root/.tsdb_cached_datasets/physionet_2012/Outcomes-b.txt.\n",
            "Successfully downloaded data to /root/.tsdb_cached_datasets/physionet_2012/Outcomes-c.txt.\n",
            "Ignore 140936, because its len==1, having no time series data\n",
            "Ignore 140501, because its len==1, having no time series data\n",
            "Ignore 141264, because its len==1, having no time series data\n",
            "Ignore 143656, because its len==1, having no time series data\n",
            "Ignore 147514, because its len==1, having no time series data\n",
            "Ignore 142998, because its len==1, having no time series data\n",
            "Ignore 145611, because its len==1, having no time series data\n",
            "Ignore 142731, because its len==1, having no time series data\n",
            "Ignore 150309, because its len==1, having no time series data\n",
            "Ignore 150649, because its len==1, having no time series data\n",
            "Ignore 155655, because its len==1, having no time series data\n",
            "Ignore 156254, because its len==1, having no time series data\n",
            "Successfully saved to /root/.tsdb_cached_datasets/physionet_2012/physionet_2012_cache.pkl\n",
            "Loaded successfully!\n"
          ]
        }
      ],
      "source": [
        "data = load_specific_dataset('physionet_2012')  # PyPOTS will automatically download and extract it.\n"
      ]
    },
    {
      "cell_type": "code",
      "source": [
        "data['X']"
      ],
      "metadata": {
        "colab": {
          "base_uri": "https://localhost:8080/",
          "height": 488
        },
        "id": "TqPofi32rhST",
        "outputId": "def0ae66-2baa-48c6-c24f-2d6ebe6b2e64"
      },
      "execution_count": null,
      "outputs": [
        {
          "output_type": "execute_result",
          "data": {
            "text/plain": [
              "        RecordID  ALP  ALT  AST  Albumin  BUN  Bilirubin  Cholesterol  \\\n",
              "0         132539  NaN  NaN  NaN      NaN  NaN        NaN          NaN   \n",
              "1         132539  NaN  NaN  NaN      NaN  NaN        NaN          NaN   \n",
              "2         132539  NaN  NaN  NaN      NaN  NaN        NaN          NaN   \n",
              "3         132539  NaN  NaN  NaN      NaN  NaN        NaN          NaN   \n",
              "4         132539  NaN  NaN  NaN      NaN  NaN        NaN          NaN   \n",
              "...          ...  ...  ...  ...      ...  ...        ...          ...   \n",
              "575419    163037  NaN  NaN  NaN      NaN  NaN        NaN          NaN   \n",
              "575420    163037  NaN  NaN  NaN      NaN  NaN        NaN          NaN   \n",
              "575421    163037  NaN  NaN  NaN      NaN  NaN        NaN          NaN   \n",
              "575422    163037  NaN  NaN  NaN      NaN  NaN        NaN          NaN   \n",
              "575423    163037  NaN  NaN  NaN      NaN  NaN        NaN          NaN   \n",
              "\n",
              "        Creatinine  DiasABP  ...  RespRate  SaO2  SysABP   Temp  TroponinI  \\\n",
              "0              NaN      NaN  ...      19.0   NaN     NaN  35.35        NaN   \n",
              "1              NaN      NaN  ...      18.0   NaN     NaN    NaN        NaN   \n",
              "2              NaN      NaN  ...      19.0   NaN     NaN    NaN        NaN   \n",
              "3              NaN      NaN  ...      20.0   NaN     NaN  37.80        NaN   \n",
              "4              NaN      NaN  ...      20.0   NaN     NaN    NaN        NaN   \n",
              "...            ...      ...  ...       ...   ...     ...    ...        ...   \n",
              "575419         NaN     51.0  ...       NaN   NaN   122.0    NaN        NaN   \n",
              "575420         NaN      NaN  ...       NaN   NaN     NaN    NaN        NaN   \n",
              "575421         NaN     56.0  ...       NaN   NaN   147.0  37.30        NaN   \n",
              "575422         NaN     50.0  ...       NaN   NaN    90.0    NaN        NaN   \n",
              "575423         NaN     47.0  ...       NaN   NaN    99.0    NaN        NaN   \n",
              "\n",
              "        TroponinT  Urine  WBC  Weight  pH  \n",
              "0             NaN  480.0  NaN    -1.0 NaN  \n",
              "1             NaN   30.0  NaN     NaN NaN  \n",
              "2             NaN  170.0  NaN     NaN NaN  \n",
              "3             NaN   60.0  NaN     NaN NaN  \n",
              "4             NaN    NaN  NaN     NaN NaN  \n",
              "...           ...    ...  ...     ...  ..  \n",
              "575419        NaN   60.0  NaN     NaN NaN  \n",
              "575420        NaN    NaN  NaN     NaN NaN  \n",
              "575421        NaN   50.0  NaN     NaN NaN  \n",
              "575422        NaN    NaN  NaN     NaN NaN  \n",
              "575423        NaN   30.0  NaN     NaN NaN  \n",
              "\n",
              "[575424 rows x 38 columns]"
            ],
            "text/html": [
              "\n",
              "  <div id=\"df-9d4b048e-277f-436d-96e1-23401a8bceff\">\n",
              "    <div class=\"colab-df-container\">\n",
              "      <div>\n",
              "<style scoped>\n",
              "    .dataframe tbody tr th:only-of-type {\n",
              "        vertical-align: middle;\n",
              "    }\n",
              "\n",
              "    .dataframe tbody tr th {\n",
              "        vertical-align: top;\n",
              "    }\n",
              "\n",
              "    .dataframe thead th {\n",
              "        text-align: right;\n",
              "    }\n",
              "</style>\n",
              "<table border=\"1\" class=\"dataframe\">\n",
              "  <thead>\n",
              "    <tr style=\"text-align: right;\">\n",
              "      <th></th>\n",
              "      <th>RecordID</th>\n",
              "      <th>ALP</th>\n",
              "      <th>ALT</th>\n",
              "      <th>AST</th>\n",
              "      <th>Albumin</th>\n",
              "      <th>BUN</th>\n",
              "      <th>Bilirubin</th>\n",
              "      <th>Cholesterol</th>\n",
              "      <th>Creatinine</th>\n",
              "      <th>DiasABP</th>\n",
              "      <th>...</th>\n",
              "      <th>RespRate</th>\n",
              "      <th>SaO2</th>\n",
              "      <th>SysABP</th>\n",
              "      <th>Temp</th>\n",
              "      <th>TroponinI</th>\n",
              "      <th>TroponinT</th>\n",
              "      <th>Urine</th>\n",
              "      <th>WBC</th>\n",
              "      <th>Weight</th>\n",
              "      <th>pH</th>\n",
              "    </tr>\n",
              "  </thead>\n",
              "  <tbody>\n",
              "    <tr>\n",
              "      <th>0</th>\n",
              "      <td>132539</td>\n",
              "      <td>NaN</td>\n",
              "      <td>NaN</td>\n",
              "      <td>NaN</td>\n",
              "      <td>NaN</td>\n",
              "      <td>NaN</td>\n",
              "      <td>NaN</td>\n",
              "      <td>NaN</td>\n",
              "      <td>NaN</td>\n",
              "      <td>NaN</td>\n",
              "      <td>...</td>\n",
              "      <td>19.0</td>\n",
              "      <td>NaN</td>\n",
              "      <td>NaN</td>\n",
              "      <td>35.35</td>\n",
              "      <td>NaN</td>\n",
              "      <td>NaN</td>\n",
              "      <td>480.0</td>\n",
              "      <td>NaN</td>\n",
              "      <td>-1.0</td>\n",
              "      <td>NaN</td>\n",
              "    </tr>\n",
              "    <tr>\n",
              "      <th>1</th>\n",
              "      <td>132539</td>\n",
              "      <td>NaN</td>\n",
              "      <td>NaN</td>\n",
              "      <td>NaN</td>\n",
              "      <td>NaN</td>\n",
              "      <td>NaN</td>\n",
              "      <td>NaN</td>\n",
              "      <td>NaN</td>\n",
              "      <td>NaN</td>\n",
              "      <td>NaN</td>\n",
              "      <td>...</td>\n",
              "      <td>18.0</td>\n",
              "      <td>NaN</td>\n",
              "      <td>NaN</td>\n",
              "      <td>NaN</td>\n",
              "      <td>NaN</td>\n",
              "      <td>NaN</td>\n",
              "      <td>30.0</td>\n",
              "      <td>NaN</td>\n",
              "      <td>NaN</td>\n",
              "      <td>NaN</td>\n",
              "    </tr>\n",
              "    <tr>\n",
              "      <th>2</th>\n",
              "      <td>132539</td>\n",
              "      <td>NaN</td>\n",
              "      <td>NaN</td>\n",
              "      <td>NaN</td>\n",
              "      <td>NaN</td>\n",
              "      <td>NaN</td>\n",
              "      <td>NaN</td>\n",
              "      <td>NaN</td>\n",
              "      <td>NaN</td>\n",
              "      <td>NaN</td>\n",
              "      <td>...</td>\n",
              "      <td>19.0</td>\n",
              "      <td>NaN</td>\n",
              "      <td>NaN</td>\n",
              "      <td>NaN</td>\n",
              "      <td>NaN</td>\n",
              "      <td>NaN</td>\n",
              "      <td>170.0</td>\n",
              "      <td>NaN</td>\n",
              "      <td>NaN</td>\n",
              "      <td>NaN</td>\n",
              "    </tr>\n",
              "    <tr>\n",
              "      <th>3</th>\n",
              "      <td>132539</td>\n",
              "      <td>NaN</td>\n",
              "      <td>NaN</td>\n",
              "      <td>NaN</td>\n",
              "      <td>NaN</td>\n",
              "      <td>NaN</td>\n",
              "      <td>NaN</td>\n",
              "      <td>NaN</td>\n",
              "      <td>NaN</td>\n",
              "      <td>NaN</td>\n",
              "      <td>...</td>\n",
              "      <td>20.0</td>\n",
              "      <td>NaN</td>\n",
              "      <td>NaN</td>\n",
              "      <td>37.80</td>\n",
              "      <td>NaN</td>\n",
              "      <td>NaN</td>\n",
              "      <td>60.0</td>\n",
              "      <td>NaN</td>\n",
              "      <td>NaN</td>\n",
              "      <td>NaN</td>\n",
              "    </tr>\n",
              "    <tr>\n",
              "      <th>4</th>\n",
              "      <td>132539</td>\n",
              "      <td>NaN</td>\n",
              "      <td>NaN</td>\n",
              "      <td>NaN</td>\n",
              "      <td>NaN</td>\n",
              "      <td>NaN</td>\n",
              "      <td>NaN</td>\n",
              "      <td>NaN</td>\n",
              "      <td>NaN</td>\n",
              "      <td>NaN</td>\n",
              "      <td>...</td>\n",
              "      <td>20.0</td>\n",
              "      <td>NaN</td>\n",
              "      <td>NaN</td>\n",
              "      <td>NaN</td>\n",
              "      <td>NaN</td>\n",
              "      <td>NaN</td>\n",
              "      <td>NaN</td>\n",
              "      <td>NaN</td>\n",
              "      <td>NaN</td>\n",
              "      <td>NaN</td>\n",
              "    </tr>\n",
              "    <tr>\n",
              "      <th>...</th>\n",
              "      <td>...</td>\n",
              "      <td>...</td>\n",
              "      <td>...</td>\n",
              "      <td>...</td>\n",
              "      <td>...</td>\n",
              "      <td>...</td>\n",
              "      <td>...</td>\n",
              "      <td>...</td>\n",
              "      <td>...</td>\n",
              "      <td>...</td>\n",
              "      <td>...</td>\n",
              "      <td>...</td>\n",
              "      <td>...</td>\n",
              "      <td>...</td>\n",
              "      <td>...</td>\n",
              "      <td>...</td>\n",
              "      <td>...</td>\n",
              "      <td>...</td>\n",
              "      <td>...</td>\n",
              "      <td>...</td>\n",
              "      <td>...</td>\n",
              "    </tr>\n",
              "    <tr>\n",
              "      <th>575419</th>\n",
              "      <td>163037</td>\n",
              "      <td>NaN</td>\n",
              "      <td>NaN</td>\n",
              "      <td>NaN</td>\n",
              "      <td>NaN</td>\n",
              "      <td>NaN</td>\n",
              "      <td>NaN</td>\n",
              "      <td>NaN</td>\n",
              "      <td>NaN</td>\n",
              "      <td>51.0</td>\n",
              "      <td>...</td>\n",
              "      <td>NaN</td>\n",
              "      <td>NaN</td>\n",
              "      <td>122.0</td>\n",
              "      <td>NaN</td>\n",
              "      <td>NaN</td>\n",
              "      <td>NaN</td>\n",
              "      <td>60.0</td>\n",
              "      <td>NaN</td>\n",
              "      <td>NaN</td>\n",
              "      <td>NaN</td>\n",
              "    </tr>\n",
              "    <tr>\n",
              "      <th>575420</th>\n",
              "      <td>163037</td>\n",
              "      <td>NaN</td>\n",
              "      <td>NaN</td>\n",
              "      <td>NaN</td>\n",
              "      <td>NaN</td>\n",
              "      <td>NaN</td>\n",
              "      <td>NaN</td>\n",
              "      <td>NaN</td>\n",
              "      <td>NaN</td>\n",
              "      <td>NaN</td>\n",
              "      <td>...</td>\n",
              "      <td>NaN</td>\n",
              "      <td>NaN</td>\n",
              "      <td>NaN</td>\n",
              "      <td>NaN</td>\n",
              "      <td>NaN</td>\n",
              "      <td>NaN</td>\n",
              "      <td>NaN</td>\n",
              "      <td>NaN</td>\n",
              "      <td>NaN</td>\n",
              "      <td>NaN</td>\n",
              "    </tr>\n",
              "    <tr>\n",
              "      <th>575421</th>\n",
              "      <td>163037</td>\n",
              "      <td>NaN</td>\n",
              "      <td>NaN</td>\n",
              "      <td>NaN</td>\n",
              "      <td>NaN</td>\n",
              "      <td>NaN</td>\n",
              "      <td>NaN</td>\n",
              "      <td>NaN</td>\n",
              "      <td>NaN</td>\n",
              "      <td>56.0</td>\n",
              "      <td>...</td>\n",
              "      <td>NaN</td>\n",
              "      <td>NaN</td>\n",
              "      <td>147.0</td>\n",
              "      <td>37.30</td>\n",
              "      <td>NaN</td>\n",
              "      <td>NaN</td>\n",
              "      <td>50.0</td>\n",
              "      <td>NaN</td>\n",
              "      <td>NaN</td>\n",
              "      <td>NaN</td>\n",
              "    </tr>\n",
              "    <tr>\n",
              "      <th>575422</th>\n",
              "      <td>163037</td>\n",
              "      <td>NaN</td>\n",
              "      <td>NaN</td>\n",
              "      <td>NaN</td>\n",
              "      <td>NaN</td>\n",
              "      <td>NaN</td>\n",
              "      <td>NaN</td>\n",
              "      <td>NaN</td>\n",
              "      <td>NaN</td>\n",
              "      <td>50.0</td>\n",
              "      <td>...</td>\n",
              "      <td>NaN</td>\n",
              "      <td>NaN</td>\n",
              "      <td>90.0</td>\n",
              "      <td>NaN</td>\n",
              "      <td>NaN</td>\n",
              "      <td>NaN</td>\n",
              "      <td>NaN</td>\n",
              "      <td>NaN</td>\n",
              "      <td>NaN</td>\n",
              "      <td>NaN</td>\n",
              "    </tr>\n",
              "    <tr>\n",
              "      <th>575423</th>\n",
              "      <td>163037</td>\n",
              "      <td>NaN</td>\n",
              "      <td>NaN</td>\n",
              "      <td>NaN</td>\n",
              "      <td>NaN</td>\n",
              "      <td>NaN</td>\n",
              "      <td>NaN</td>\n",
              "      <td>NaN</td>\n",
              "      <td>NaN</td>\n",
              "      <td>47.0</td>\n",
              "      <td>...</td>\n",
              "      <td>NaN</td>\n",
              "      <td>NaN</td>\n",
              "      <td>99.0</td>\n",
              "      <td>NaN</td>\n",
              "      <td>NaN</td>\n",
              "      <td>NaN</td>\n",
              "      <td>30.0</td>\n",
              "      <td>NaN</td>\n",
              "      <td>NaN</td>\n",
              "      <td>NaN</td>\n",
              "    </tr>\n",
              "  </tbody>\n",
              "</table>\n",
              "<p>575424 rows × 38 columns</p>\n",
              "</div>\n",
              "      <button class=\"colab-df-convert\" onclick=\"convertToInteractive('df-9d4b048e-277f-436d-96e1-23401a8bceff')\"\n",
              "              title=\"Convert this dataframe to an interactive table.\"\n",
              "              style=\"display:none;\">\n",
              "        \n",
              "  <svg xmlns=\"http://www.w3.org/2000/svg\" height=\"24px\"viewBox=\"0 0 24 24\"\n",
              "       width=\"24px\">\n",
              "    <path d=\"M0 0h24v24H0V0z\" fill=\"none\"/>\n",
              "    <path d=\"M18.56 5.44l.94 2.06.94-2.06 2.06-.94-2.06-.94-.94-2.06-.94 2.06-2.06.94zm-11 1L8.5 8.5l.94-2.06 2.06-.94-2.06-.94L8.5 2.5l-.94 2.06-2.06.94zm10 10l.94 2.06.94-2.06 2.06-.94-2.06-.94-.94-2.06-.94 2.06-2.06.94z\"/><path d=\"M17.41 7.96l-1.37-1.37c-.4-.4-.92-.59-1.43-.59-.52 0-1.04.2-1.43.59L10.3 9.45l-7.72 7.72c-.78.78-.78 2.05 0 2.83L4 21.41c.39.39.9.59 1.41.59.51 0 1.02-.2 1.41-.59l7.78-7.78 2.81-2.81c.8-.78.8-2.07 0-2.86zM5.41 20L4 18.59l7.72-7.72 1.47 1.35L5.41 20z\"/>\n",
              "  </svg>\n",
              "      </button>\n",
              "      \n",
              "  <style>\n",
              "    .colab-df-container {\n",
              "      display:flex;\n",
              "      flex-wrap:wrap;\n",
              "      gap: 12px;\n",
              "    }\n",
              "\n",
              "    .colab-df-convert {\n",
              "      background-color: #E8F0FE;\n",
              "      border: none;\n",
              "      border-radius: 50%;\n",
              "      cursor: pointer;\n",
              "      display: none;\n",
              "      fill: #1967D2;\n",
              "      height: 32px;\n",
              "      padding: 0 0 0 0;\n",
              "      width: 32px;\n",
              "    }\n",
              "\n",
              "    .colab-df-convert:hover {\n",
              "      background-color: #E2EBFA;\n",
              "      box-shadow: 0px 1px 2px rgba(60, 64, 67, 0.3), 0px 1px 3px 1px rgba(60, 64, 67, 0.15);\n",
              "      fill: #174EA6;\n",
              "    }\n",
              "\n",
              "    [theme=dark] .colab-df-convert {\n",
              "      background-color: #3B4455;\n",
              "      fill: #D2E3FC;\n",
              "    }\n",
              "\n",
              "    [theme=dark] .colab-df-convert:hover {\n",
              "      background-color: #434B5C;\n",
              "      box-shadow: 0px 1px 3px 1px rgba(0, 0, 0, 0.15);\n",
              "      filter: drop-shadow(0px 1px 2px rgba(0, 0, 0, 0.3));\n",
              "      fill: #FFFFFF;\n",
              "    }\n",
              "  </style>\n",
              "\n",
              "      <script>\n",
              "        const buttonEl =\n",
              "          document.querySelector('#df-9d4b048e-277f-436d-96e1-23401a8bceff button.colab-df-convert');\n",
              "        buttonEl.style.display =\n",
              "          google.colab.kernel.accessAllowed ? 'block' : 'none';\n",
              "\n",
              "        async function convertToInteractive(key) {\n",
              "          const element = document.querySelector('#df-9d4b048e-277f-436d-96e1-23401a8bceff');\n",
              "          const dataTable =\n",
              "            await google.colab.kernel.invokeFunction('convertToInteractive',\n",
              "                                                     [key], {});\n",
              "          if (!dataTable) return;\n",
              "\n",
              "          const docLinkHtml = 'Like what you see? Visit the ' +\n",
              "            '<a target=\"_blank\" href=https://colab.research.google.com/notebooks/data_table.ipynb>data table notebook</a>'\n",
              "            + ' to learn more about interactive tables.';\n",
              "          element.innerHTML = '';\n",
              "          dataTable['output_type'] = 'display_data';\n",
              "          await google.colab.output.renderOutput(dataTable, element);\n",
              "          const docLink = document.createElement('div');\n",
              "          docLink.innerHTML = docLinkHtml;\n",
              "          element.appendChild(docLink);\n",
              "        }\n",
              "      </script>\n",
              "    </div>\n",
              "  </div>\n",
              "  "
            ]
          },
          "metadata": {},
          "execution_count": 171
        }
      ]
    },
    {
      "cell_type": "code",
      "source": [
        "X = data['X']\n",
        "FirtsDataset= X.drop('RecordID', axis = 1)\n"
      ],
      "metadata": {
        "colab": {
          "base_uri": "https://localhost:8080/",
          "height": 187
        },
        "id": "GrOC5MfBssRd",
        "outputId": "3ca09625-ff07-4172-c113-0f5b8ad6fcc2"
      },
      "execution_count": null,
      "outputs": [
        {
          "output_type": "error",
          "ename": "NameError",
          "evalue": "ignored",
          "traceback": [
            "\u001b[0;31m---------------------------------------------------------------------------\u001b[0m",
            "\u001b[0;31mNameError\u001b[0m                                 Traceback (most recent call last)",
            "\u001b[0;32m<ipython-input-6-eed6704f4b01>\u001b[0m in \u001b[0;36m<cell line: 1>\u001b[0;34m()\u001b[0m\n\u001b[0;32m----> 1\u001b[0;31m \u001b[0mX\u001b[0m \u001b[0;34m=\u001b[0m \u001b[0mdata\u001b[0m\u001b[0;34m[\u001b[0m\u001b[0;34m'X'\u001b[0m\u001b[0;34m]\u001b[0m\u001b[0;34m\u001b[0m\u001b[0;34m\u001b[0m\u001b[0m\n\u001b[0m\u001b[1;32m      2\u001b[0m \u001b[0mFirtsDataset\u001b[0m\u001b[0;34m=\u001b[0m \u001b[0mX\u001b[0m\u001b[0;34m.\u001b[0m\u001b[0mdrop\u001b[0m\u001b[0;34m(\u001b[0m\u001b[0;34m'RecordID'\u001b[0m\u001b[0;34m,\u001b[0m \u001b[0maxis\u001b[0m \u001b[0;34m=\u001b[0m \u001b[0;36m1\u001b[0m\u001b[0;34m)\u001b[0m\u001b[0;34m\u001b[0m\u001b[0;34m\u001b[0m\u001b[0m\n",
            "\u001b[0;31mNameError\u001b[0m: name 'data' is not defined"
          ]
        }
      ]
    },
    {
      "cell_type": "code",
      "source": [],
      "metadata": {
        "id": "OdHaL4-bstm4"
      },
      "execution_count": null,
      "outputs": []
    },
    {
      "cell_type": "code",
      "source": [
        "import tsdb\n",
        "data1 = tsdb.load_dataset('UCR_UEA_SwedishLeaf')\n"
      ],
      "metadata": {
        "colab": {
          "base_uri": "https://localhost:8080/"
        },
        "id": "kknbDacTjFPD",
        "outputId": "0e3d7ddd-59ed-43b8-d6f8-00af56c41399"
      },
      "execution_count": null,
      "outputs": [
        {
          "output_type": "stream",
          "name": "stdout",
          "text": [
            "Start downloading...\n",
            "Successfully downloaded data to /tmp/tmpq40dikll/SwedishLeaf.zip.\n",
            "Successfully extracted data to /root/.tsdb_cached_datasets/UCR_UEA_SwedishLeaf\n",
            "Successfully saved to /root/.tsdb_cached_datasets/UCR_UEA_SwedishLeaf/UCR_UEA_SwedishLeaf_cache.pkl\n",
            "Loaded successfully!\n"
          ]
        }
      ]
    },
    {
      "cell_type": "code",
      "source": [
        "second=pd.DataFrame(data1['X_train'].reshape(500, 128 ))"
      ],
      "metadata": {
        "id": "HHT_c2RijFSH"
      },
      "execution_count": null,
      "outputs": []
    },
    {
      "cell_type": "code",
      "source": [
        "data = tsdb.load_dataset('UCR_UEA_Wafer')\n",
        "Third=pd.DataFrame(data['X_train'].reshape(1000, 152 ))"
      ],
      "metadata": {
        "colab": {
          "base_uri": "https://localhost:8080/"
        },
        "id": "J0LDLAr9jFZ3",
        "outputId": "be299d80-efd2-41fa-d8d5-94f823d1e37d"
      },
      "execution_count": null,
      "outputs": [
        {
          "output_type": "stream",
          "name": "stdout",
          "text": [
            "Start downloading...\n",
            "Successfully downloaded data to /tmp/tmp7nry__tl/Wafer.zip.\n",
            "Successfully extracted data to /root/.tsdb_cached_datasets/UCR_UEA_Wafer\n",
            "Successfully saved to /root/.tsdb_cached_datasets/UCR_UEA_Wafer/UCR_UEA_Wafer_cache.pkl\n",
            "Loaded successfully!\n"
          ]
        }
      ]
    },
    {
      "cell_type": "code",
      "source": [
        "tsdb.list_available_datasets()"
      ],
      "metadata": {
        "id": "1SxE4KqK3mOc"
      },
      "execution_count": null,
      "outputs": []
    },
    {
      "cell_type": "code",
      "source": [
        "import tsdb\n",
        "data4 = tsdb.load_dataset('UCR_UEA_ArrowHead') #3 classes\n",
        "Four=pd.DataFrame(data4['X_train'].reshape( 251,36 ))"
      ],
      "metadata": {
        "colab": {
          "base_uri": "https://localhost:8080/"
        },
        "id": "6Tur4Swa3mR3",
        "outputId": "de4f456b-9ba2-4418-c8d7-061011e7cce8"
      },
      "execution_count": null,
      "outputs": [
        {
          "output_type": "stream",
          "name": "stdout",
          "text": [
            "Start downloading...\n",
            "Successfully downloaded data to /tmp/tmpb9w69_mh/ArrowHead.zip.\n",
            "Successfully extracted data to /root/.tsdb_cached_datasets/UCR_UEA_ArrowHead\n",
            "Successfully saved to /root/.tsdb_cached_datasets/UCR_UEA_ArrowHead/UCR_UEA_ArrowHead_cache.pkl\n",
            "Loaded successfully!\n"
          ]
        }
      ]
    },
    {
      "cell_type": "code",
      "source": [
        "import tsdb\n",
        "data5 = tsdb.load_dataset('UCR_UEA_BeetleFly') # 2 classes \n",
        "Five=pd.DataFrame(data5['X_train'].reshape( 512,20 ))"
      ],
      "metadata": {
        "colab": {
          "base_uri": "https://localhost:8080/"
        },
        "id": "XDGEcyGb5N7z",
        "outputId": "93712ecf-7fa6-404a-ae34-4993f14b60f4"
      },
      "execution_count": null,
      "outputs": [
        {
          "output_type": "stream",
          "name": "stdout",
          "text": [
            "Start downloading...\n",
            "Successfully downloaded data to /tmp/tmpxhz16_8v/BeetleFly.zip.\n",
            "Successfully extracted data to /root/.tsdb_cached_datasets/UCR_UEA_BeetleFly\n",
            "Successfully saved to /root/.tsdb_cached_datasets/UCR_UEA_BeetleFly/UCR_UEA_BeetleFly_cache.pkl\n",
            "Loaded successfully!\n"
          ]
        }
      ]
    },
    {
      "cell_type": "code",
      "source": [
        "import tsdb\n",
        "data6 = tsdb.load_dataset('UCR_UEA_Car') # Car 4 classes\n",
        "Six=pd.DataFrame(data6['X_train'].reshape( 577,60 ))"
      ],
      "metadata": {
        "colab": {
          "base_uri": "https://localhost:8080/"
        },
        "id": "elCmnwut5N_b",
        "outputId": "13e99f4f-551b-4a01-9a17-75d2973d0bbd"
      },
      "execution_count": null,
      "outputs": [
        {
          "output_type": "stream",
          "name": "stdout",
          "text": [
            "Start downloading...\n",
            "Successfully downloaded data to /tmp/tmpusdoo9ys/Car.zip.\n",
            "Successfully extracted data to /root/.tsdb_cached_datasets/UCR_UEA_Car\n",
            "Successfully saved to /root/.tsdb_cached_datasets/UCR_UEA_Car/UCR_UEA_Car_cache.pkl\n",
            "Loaded successfully!\n"
          ]
        }
      ]
    },
    {
      "cell_type": "code",
      "source": [
        "from sklearn import metrics\n",
        "from sklearn.cluster import MiniBatchKMeans\n",
        "from sklearn.metrics import silhouette_score\n",
        "\n",
        "def allindices(df_norm):\n",
        "    cpred=[]\n",
        "    admis=[]\n",
        "\n",
        "    dimensions=212\n",
        "        \n",
        "    sil=[]\n",
        "    silluette=[]\n",
        "    bh=[]\n",
        "    rtl=[]\n",
        "    sd=[]\n",
        "    db=[]\n",
        "    xb=[]\n",
        "    ch=[]\n",
        "    dnn=[]\n",
        "    mr=[]\n",
        "    pb=[]\n",
        "    rt=[]\n",
        "    wg=[]\n",
        "    dr=[]\n",
        "    c=[]\n",
        "\n",
        "        \n",
        "        \n",
        "    sil=[]\n",
        "    g1=[]\n",
        "    g2=[]\n",
        "    g3=[]\n",
        "    g4=[]\n",
        "    g5=[]\n",
        "    g6=[]\n",
        "    g7=[]\n",
        "    g8=[]\n",
        "    g9=[]\n",
        "    g10=[]\n",
        "    g11=[]\n",
        "    g12=[]\n",
        "    g13=[]\n",
        "\n",
        "    for i in range (2,15):\n",
        "\n",
        "        kmeans_model = MiniBatchKMeans(n_clusters=i, random_state=1)\n",
        "        kmeans_model.fit(df_norm)\n",
        "        pred = kmeans_model.predict(df_norm)\n",
        "        X_train11=df_norm.copy()\n",
        "          \n",
        "        #unce, sep,pred=uncertainity_mean(X_train11,n_components=l)\n",
        "      \n",
        "        sil.append(metrics.silhouette_score(X_train11, pred, metric='euclidean'))\n",
        "        X_train11[\"target\"]=pred\n",
        "\n",
        "        CC=ClustersCharacteristics(X_train11,label_target=\"target\")\n",
        "        g1.append(CC.score_index_ball_hall())\n",
        "        g2.append(CC.score_index_ratkowsky_lance())\n",
        "        g3.append(CC.score_index_SD())\n",
        "        g5.append(CC.score_index_xie_beni())\n",
        "        g6.append(CC.score_index_calinski_harabasz())\n",
        "        g7.append(CC.score_index_dunn())\n",
        "        g8.append(CC.score_index_mclain_rao())\n",
        "        g9.append(CC.score_index_point_biserial())\n",
        "        g10.append(CC.score_index_ray_turi())\n",
        "        g11.append(CC.score_index_wemmert_gancarski())\n",
        "        g13.append(CC.score_index_c())\n",
        "\n",
        "        try:\n",
        "          g4.append(CC.score_index_davies_bouldin())\n",
        "        except:\n",
        "          print(\"An exception occurred\")\n",
        "          g4.append(0)\n",
        "    silluette.append(np.array(sil).argmax()+2)\n",
        "    bh.append(np.diff(np.array(g1)).argmax()+2)\n",
        "    rtl.append(np.array(g2).argmax()+2)\n",
        "    sd.append(np.array(g3).argmin()+2)\n",
        "    db.append(np.array(g4).argmin()+2)\n",
        "    xb.append(np.array(g5).argmin()+2)\n",
        "    ch.append(np.array(g6).argmax()+2)\n",
        "    dnn.append(np.array(g7).argmax()+2)\n",
        "    mr.append(np.array(g8).argmin()+2)\n",
        "    pb.append(np.array(g9).argmax()+2)\n",
        "    rt.append(np.array(g10).argmin()+2)\n",
        "    wg.append(np.array(g11).argmax()+2)\n",
        "    c.append(np.array(g13).argmin()+2)\n",
        "    ncrecomended=[silluette,bh,rtl,sd,db,xb,ch,dnn,mr,pb,rt,wg,c]\n",
        "\n",
        "    print(ncrecomended)\n",
        "    cpred.append(ncrecomended) \n",
        "    return ncrecomended"
      ],
      "metadata": {
        "id": "8I_aM4vphKQI"
      },
      "execution_count": null,
      "outputs": []
    },
    {
      "cell_type": "code",
      "execution_count": null,
      "metadata": {
        "id": "S6cZameTw0ps"
      },
      "outputs": [],
      "source": [
        "import sys\n",
        "import getopt\n",
        "#sys.path.insert(0, '~/nestor/')\n",
        "from sklearn.mixture import GaussianMixture\n",
        "from sklearn import metrics\n",
        "from numpy import linalg as LA\n",
        "from scipy.spatial import distance\n",
        "import numpy as np\n",
        "import pandas as pd\n",
        "import os                           \n",
        "import math                         \n",
        "from sklearn import metrics\n",
        "from numpy import linalg as LA\n",
        "import statistics      \n",
        "from sklearn.metrics.cluster import adjusted_mutual_info_score\n",
        "import warnings\n",
        "warnings.filterwarnings('ignore')\n",
        "\n",
        "def uncertainity_mean(X_train1,pred,means,covariances,weights,km,numberofdimens):\n",
        "  X_train1[\"pred\"]=pred\n",
        "  meanss=means\n",
        "  weiths=weights\n",
        "  variances=[]\n",
        "  covariancematrix=covariances\n",
        "  for i in covariancematrix: #The diagonal of cov is the variance of each gmm\n",
        "    diag=np.diag(i)\n",
        "    variances.append(diag)\n",
        "  variances=np.array(variances)\n",
        "  countiterations=0\n",
        "  unc=[]\n",
        "  un=[]\n",
        "\n",
        "  sep=[]\n",
        "  for g in range(0,len(meanss)):  ##Frechet distance\n",
        "    for t in range(0,len(meanss)):\n",
        "      if (t==g):\n",
        "        continue\n",
        "      else:  \n",
        "        sep.append(frechetDistance(meanss[t],meanss[g],covariancematrix[t],covariancematrix[g]))\n",
        "  separation=np.array(sep)\n",
        "  Dmin=np.array(separation).min()\n",
        "  Dmax=np.array(separation).max()\n",
        "  Sep=(Dmax/Dmin)*(1/separation.sum())\n",
        "\n",
        "  for i in range(0,len(meanss)):  #Uncertainty  ##i run each cluster\n",
        "    cweight=weiths[i]\n",
        "    cmean=meanss[i]\n",
        "    cvar=variances[i]\n",
        "    lim_inf=cmean-(km*cvar)\n",
        "    lim_sup=cmean+(km*cvar)\n",
        "    unc=[]\n",
        "    o=X_train1[X_train1[\"pred\"]==i].iloc[:,:numberofdimens].copy()\n",
        "\n",
        "    for j in range(len(o)): # j run each data \n",
        "      DM=distance.mahalanobis(np.array(o.iloc[j]), cmean, np.linalg.inv(covariancematrix[i]))\n",
        "      varbool=(DM>=km)\n",
        "      varunc=[]\n",
        "      #print(\"varbool\",varbool)\n",
        "      if (varbool):\n",
        "        varunc.append(2*km*DM)\n",
        "      else:\n",
        "        vs=((DM**2)+(km*DM)+(km**2)/2)\n",
        "        varunc.append(vs)\n",
        "    un.append(np.array(varunc)) \n",
        "  return np.sum(un)/Sep\n",
        "\n",
        "\n",
        "def merguncertain (xtrain,y,Means,covariances,weights,numberofdimens):\n",
        "  X_train11=xtrain\n",
        "  X_train11[\"pred\"]=y\n",
        "  UNIndex=[]\n",
        "  len(Means)\n",
        "  Pairwise=np.ones((len(Means), len(Means)))\n",
        "  labels=[]\n",
        "  for i in range(len(Means)):\n",
        "    labels.append(i)\n",
        "    for j in range(len(Means)):\n",
        "        if (i==j):\n",
        "          continue\n",
        "        Pairwise[j,i]=(frechetDistance(Means[i],Means[j],covariances[i],covariances[j]))\n",
        "        \n",
        "\n",
        "  while len(Pairwise) > 2 :\n",
        "      UNIndex.append(uncertainity_mean(X_train11.iloc[:,:numberofdimens],X_train11[\"pred\"],Means,covariances,weights,1,numberofdimens))\n",
        "\n",
        "      Similar_clusters=np.unravel_index(Pairwise.argmin(),Pairwise.shape)  \n",
        "      Similar_clusters_labels=( labels[Similar_clusters[0]],labels[Similar_clusters[1]])\n",
        "\n",
        "      data_size_1=len(X_train11[X_train11[\"pred\"]==Similar_clusters_labels[0]])\n",
        "      data_size_2=len(X_train11[X_train11[\"pred\"]==Similar_clusters_labels[1]])\n",
        "      mean_1=Means[Similar_clusters[0]]\n",
        "      mean_2=Means[Similar_clusters[1]] \n",
        "      new_mean = (data_size_1* mean_1 + data_size_2*mean_2)/(data_size_1 + data_size_2)\n",
        "      Means[Similar_clusters[0]]=new_mean\n",
        "\n",
        "      X_train11[\"pred\"]=X_train11[\"pred\"].replace(Similar_clusters_labels[1], Similar_clusters_labels[0])\n",
        "      #print(X_train11[\"pred\"].unique())\n",
        "      NewCovariance=X_train11[X_train11[\"pred\"]==Similar_clusters_labels[0]].iloc[:,:numberofdimens].cov()\n",
        "      covariances[Similar_clusters[0]]=NewCovariance\n",
        "      weights[Similar_clusters[0]]=weights[Similar_clusters[0]]+weights[Similar_clusters[1]]\n",
        "\n",
        "      updpairwisecolum=[]\n",
        "      for j in range(0,len(Means)):\n",
        "          updpairwisecolum.append((frechetDistance(Means[Similar_clusters[0]],Means[j],covariances[Similar_clusters[0]],covariances[j])))\n",
        "      #print(updpairwisecolum)    \n",
        "      Pairwise[:,Similar_clusters[0]]=updpairwisecolum\n",
        "      Pairwise[Similar_clusters[0],:]=updpairwisecolum\n",
        "\n",
        "      Means= np.delete(Means, (Similar_clusters[1]), axis=0)\n",
        "      weights= np.delete(weights, (Similar_clusters[1]), axis=0)\n",
        "      covariances=np.delete(covariances, (Similar_clusters[1]), axis=0)\n",
        "      labels.remove(Similar_clusters_labels[1])\n",
        "      Pairwise= np.delete(Pairwise, (Similar_clusters[1]), axis=0)\n",
        "      Pairwise= np.delete(Pairwise, (Similar_clusters[1]), axis=1)\n",
        "      np.fill_diagonal(Pairwise, 1)\n",
        "  return UNIndex\n",
        "\n",
        "def frechetDistance(u1,u2,E1,E2): \n",
        "  return (LA.norm(np.absolute(u1-u2)**2))+np.trace(E1+E2-(2*(E1*E2)**(0.5)))\n",
        "\n",
        "def genData(n_samples,n_featuress, n_components,cl_std,randomstate):\n",
        "  X, y_true = make_blobs(\n",
        "        n_samples, n_features, centers=n_components, cluster_std=cl_std, random_state=randomstate\n",
        "    )\n",
        "  X = X[:, ::-1]\n",
        "  dataFrame=pd.DataFrame(X)\n",
        "  dataFrame[\"y\"]=y_true\n",
        "  return dataFrame\n",
        "\n"
      ]
    },
    {
      "cell_type": "code",
      "execution_count": null,
      "metadata": {
        "id": "6eaTOrI5ycqF"
      },
      "outputs": [],
      "source": [
        "def UW_index(X,lim):\n",
        "  cpred=[]\n",
        "  admis=[]\n",
        "  \n",
        "  dataFrame= pd.DataFrame(X).round(4)\n",
        "  dim=dataFrame.shape[1]\n",
        "  kgmm=lim \n",
        "\n",
        "  X_train111=dataFrame\n",
        "  GM = GaussianMixture(n_components=kgmm, covariance_type=\"full\",random_state=1).fit(X_train111)\n",
        "  X_train111[\"pred\"]=GM.predict(X_train111)\n",
        "  Means=GM.means_\n",
        "  covariances=GM.covariances_\n",
        "  weights=GM.weights_\n",
        "  y=X_train111[\"pred\"]\n",
        "      \n",
        "  index=merguncertain (dataFrame,y,Means,covariances,weights,dim)\n",
        "  #index.reverse()\n",
        "  change=pd.DataFrame(index,columns=[\"a\"])\n",
        "  recomended=change[\"a\"].argmin()+2\n",
        "  print('number of recommended clusters',recomended)\n",
        "  return recomended, change\n"
      ]
    },
    {
      "cell_type": "code",
      "execution_count": null,
      "metadata": {
        "id": "wFZaf-Rrycwz"
      },
      "outputs": [],
      "source": [
        "def UW_indexrelation(X,lim,numberofdimens):\n",
        "  cpred=[]\n",
        "  admis=[]\n",
        "    \n",
        "  dataFrame= pd.DataFrame(X).round(4)\n",
        "  dim=dataFrame.shape[1]\n",
        "  kgmm=lim \n",
        "\n",
        "  X_train111=dataFrame.copy()\n",
        "  GM = GaussianMixture(n_components=kgmm, covariance_type=\"full\",random_state=1).fit(X_train111)\n",
        "  X_train111[\"pred\"]=GM.predict(X_train111)\n",
        "  Means=GM.means_\n",
        "  covariances=GM.covariances_\n",
        "  weights=GM.weights_\n",
        "  y=X_train111[\"pred\"]\n",
        "  return uncertainity_mean(X_train111.iloc[:,1:numberofdimens],y,Means,covariances,weights,1,numberofdimens)\n"
      ]
    },
    {
      "cell_type": "code",
      "source": [
        "def UW_indexrelation(X,lim,numberofdimens):\n",
        "  cpred=[]\n",
        "  admis=[]\n",
        "    \n",
        "  dataFrame= pd.DataFrame(X).round(4)\n",
        "  dim=dataFrame.shape[1]\n",
        "  kgmm=lim \n",
        "\n",
        "  X_train111=dataFrame.copy()\n",
        "  GM = GaussianMixture(n_components=kgmm, covariance_type=\"full\",random_state=1).fit(X_train111)\n",
        "  X_train111[\"pred\"]=GM.predict(X_train111)\n",
        "  Means=GM.means_\n",
        "  covariances=GM.covariances_\n",
        "  weights=GM.weights_\n",
        "  y=X_train111[\"pred\"]\n",
        "  return uncertainity_mean(X_train111.iloc[:,1:numberofdimens],y,Means,covariances,weights,1,numberofdimens)\n"
      ],
      "metadata": {
        "id": "32fQnSSct62x"
      },
      "execution_count": null,
      "outputs": []
    },
    {
      "cell_type": "code",
      "source": [
        "second"
      ],
      "metadata": {
        "colab": {
          "base_uri": "https://localhost:8080/",
          "height": 488
        },
        "id": "RqitAtkPrWGo",
        "outputId": "ac24ae2c-7256-4fc7-b1eb-27cfb637bf46"
      },
      "execution_count": null,
      "outputs": [
        {
          "output_type": "execute_result",
          "data": {
            "text/plain": [
              "          0        1         2         3         4         5         6    \\\n",
              "0    1.524750  1.53812  1.410790  1.244400  1.039470  0.868676  0.664257   \n",
              "1    2.214930  2.05051  1.842350  1.635900  1.432590  1.285370  1.143260   \n",
              "2    1.872010  1.72637  1.573640  1.396900  1.252210  1.083760  0.955383   \n",
              "3    1.731019  1.70220  1.553009  1.387209  1.144580  0.951378  0.733035   \n",
              "4    1.842670  1.74943  1.593560  1.420510  1.268400  1.118720  0.972792   \n",
              "..        ...      ...       ...       ...       ...       ...       ...   \n",
              "495  1.555160  1.39118  1.027670  0.747651  0.425793  0.158014  0.152089   \n",
              "496  1.823961  1.74961  1.579271  1.384801  1.204190  1.022790  0.876355   \n",
              "497  2.009910  1.89306  1.711190  1.492730  1.312480  1.097560  0.949675   \n",
              "498  1.474660  1.49555  1.358110  1.142910  0.906578  0.752583  0.985894   \n",
              "499  2.021830  1.92956  1.740330  1.581830  1.428630  1.250230  1.103560   \n",
              "\n",
              "          7         8         9    ...       118       119       120  \\\n",
              "0    0.489801  0.268549  0.072490  ...  0.857708  0.760649  0.521033   \n",
              "1    1.006700  0.834105  0.712422  ...  0.597998  0.712422  0.876184   \n",
              "2    0.796125  0.718198  0.551916  ...  0.543164  0.660779  0.731471   \n",
              "3    0.559737  0.853391  1.037270  ... -0.157605  0.102225  0.317060   \n",
              "4    0.832494  0.711975  0.584576  ...  0.546884  0.635829  0.755926   \n",
              "..        ...       ...       ...  ...       ...       ...       ...   \n",
              "495 -0.104332 -0.113924 -0.279057  ...  0.228196  0.465730  0.150071   \n",
              "496  0.736351  0.632646  0.529009  ...  0.789007  0.744690  0.836515   \n",
              "497  0.844477  0.782751  0.732888  ...  0.531051  0.694845  0.753352   \n",
              "498  1.034220  0.868768  0.655180  ...  0.281352  0.524566  0.764574   \n",
              "499  0.957912  0.795351  0.668549  ...  0.549013  0.642931  0.794356   \n",
              "\n",
              "          121       122       123       124      125      126       127  \n",
              "0    0.362176  0.561489  0.741670  0.955210  1.09676  1.32531  1.484260  \n",
              "1    1.000530  1.143260  1.339930  1.541850  1.75360  1.96243  2.167350  \n",
              "2    0.865444  0.978358  1.158070  1.309600  1.49456  1.65084  1.839430  \n",
              "3    0.569536  0.786314  0.998449  1.217750  1.33880  1.58373  1.688559  \n",
              "4    0.895839  1.041540  1.188390  1.338390  1.51080  1.66561  1.822640  \n",
              "..        ...       ...       ...       ...      ...      ...       ...  \n",
              "495  0.092285  0.235049  0.392797  0.700363  1.01844  1.32524  1.515870  \n",
              "496  0.895575  1.026450  1.139960  1.265440  1.44938  1.61830  1.798490  \n",
              "497  0.927181  1.003640  1.199830  1.372080  1.58494  1.76518  1.976150  \n",
              "498  1.000560  1.130920  0.986802  0.818025  1.04678  1.28382  1.432340  \n",
              "499  0.926149  1.086920  1.280660  1.447140  1.61903  1.81512  1.991430  \n",
              "\n",
              "[500 rows x 128 columns]"
            ],
            "text/html": [
              "\n",
              "  <div id=\"df-ea1ce62d-05ea-4315-9b3b-9ff5a7c2baab\">\n",
              "    <div class=\"colab-df-container\">\n",
              "      <div>\n",
              "<style scoped>\n",
              "    .dataframe tbody tr th:only-of-type {\n",
              "        vertical-align: middle;\n",
              "    }\n",
              "\n",
              "    .dataframe tbody tr th {\n",
              "        vertical-align: top;\n",
              "    }\n",
              "\n",
              "    .dataframe thead th {\n",
              "        text-align: right;\n",
              "    }\n",
              "</style>\n",
              "<table border=\"1\" class=\"dataframe\">\n",
              "  <thead>\n",
              "    <tr style=\"text-align: right;\">\n",
              "      <th></th>\n",
              "      <th>0</th>\n",
              "      <th>1</th>\n",
              "      <th>2</th>\n",
              "      <th>3</th>\n",
              "      <th>4</th>\n",
              "      <th>5</th>\n",
              "      <th>6</th>\n",
              "      <th>7</th>\n",
              "      <th>8</th>\n",
              "      <th>9</th>\n",
              "      <th>...</th>\n",
              "      <th>118</th>\n",
              "      <th>119</th>\n",
              "      <th>120</th>\n",
              "      <th>121</th>\n",
              "      <th>122</th>\n",
              "      <th>123</th>\n",
              "      <th>124</th>\n",
              "      <th>125</th>\n",
              "      <th>126</th>\n",
              "      <th>127</th>\n",
              "    </tr>\n",
              "  </thead>\n",
              "  <tbody>\n",
              "    <tr>\n",
              "      <th>0</th>\n",
              "      <td>1.524750</td>\n",
              "      <td>1.53812</td>\n",
              "      <td>1.410790</td>\n",
              "      <td>1.244400</td>\n",
              "      <td>1.039470</td>\n",
              "      <td>0.868676</td>\n",
              "      <td>0.664257</td>\n",
              "      <td>0.489801</td>\n",
              "      <td>0.268549</td>\n",
              "      <td>0.072490</td>\n",
              "      <td>...</td>\n",
              "      <td>0.857708</td>\n",
              "      <td>0.760649</td>\n",
              "      <td>0.521033</td>\n",
              "      <td>0.362176</td>\n",
              "      <td>0.561489</td>\n",
              "      <td>0.741670</td>\n",
              "      <td>0.955210</td>\n",
              "      <td>1.09676</td>\n",
              "      <td>1.32531</td>\n",
              "      <td>1.484260</td>\n",
              "    </tr>\n",
              "    <tr>\n",
              "      <th>1</th>\n",
              "      <td>2.214930</td>\n",
              "      <td>2.05051</td>\n",
              "      <td>1.842350</td>\n",
              "      <td>1.635900</td>\n",
              "      <td>1.432590</td>\n",
              "      <td>1.285370</td>\n",
              "      <td>1.143260</td>\n",
              "      <td>1.006700</td>\n",
              "      <td>0.834105</td>\n",
              "      <td>0.712422</td>\n",
              "      <td>...</td>\n",
              "      <td>0.597998</td>\n",
              "      <td>0.712422</td>\n",
              "      <td>0.876184</td>\n",
              "      <td>1.000530</td>\n",
              "      <td>1.143260</td>\n",
              "      <td>1.339930</td>\n",
              "      <td>1.541850</td>\n",
              "      <td>1.75360</td>\n",
              "      <td>1.96243</td>\n",
              "      <td>2.167350</td>\n",
              "    </tr>\n",
              "    <tr>\n",
              "      <th>2</th>\n",
              "      <td>1.872010</td>\n",
              "      <td>1.72637</td>\n",
              "      <td>1.573640</td>\n",
              "      <td>1.396900</td>\n",
              "      <td>1.252210</td>\n",
              "      <td>1.083760</td>\n",
              "      <td>0.955383</td>\n",
              "      <td>0.796125</td>\n",
              "      <td>0.718198</td>\n",
              "      <td>0.551916</td>\n",
              "      <td>...</td>\n",
              "      <td>0.543164</td>\n",
              "      <td>0.660779</td>\n",
              "      <td>0.731471</td>\n",
              "      <td>0.865444</td>\n",
              "      <td>0.978358</td>\n",
              "      <td>1.158070</td>\n",
              "      <td>1.309600</td>\n",
              "      <td>1.49456</td>\n",
              "      <td>1.65084</td>\n",
              "      <td>1.839430</td>\n",
              "    </tr>\n",
              "    <tr>\n",
              "      <th>3</th>\n",
              "      <td>1.731019</td>\n",
              "      <td>1.70220</td>\n",
              "      <td>1.553009</td>\n",
              "      <td>1.387209</td>\n",
              "      <td>1.144580</td>\n",
              "      <td>0.951378</td>\n",
              "      <td>0.733035</td>\n",
              "      <td>0.559737</td>\n",
              "      <td>0.853391</td>\n",
              "      <td>1.037270</td>\n",
              "      <td>...</td>\n",
              "      <td>-0.157605</td>\n",
              "      <td>0.102225</td>\n",
              "      <td>0.317060</td>\n",
              "      <td>0.569536</td>\n",
              "      <td>0.786314</td>\n",
              "      <td>0.998449</td>\n",
              "      <td>1.217750</td>\n",
              "      <td>1.33880</td>\n",
              "      <td>1.58373</td>\n",
              "      <td>1.688559</td>\n",
              "    </tr>\n",
              "    <tr>\n",
              "      <th>4</th>\n",
              "      <td>1.842670</td>\n",
              "      <td>1.74943</td>\n",
              "      <td>1.593560</td>\n",
              "      <td>1.420510</td>\n",
              "      <td>1.268400</td>\n",
              "      <td>1.118720</td>\n",
              "      <td>0.972792</td>\n",
              "      <td>0.832494</td>\n",
              "      <td>0.711975</td>\n",
              "      <td>0.584576</td>\n",
              "      <td>...</td>\n",
              "      <td>0.546884</td>\n",
              "      <td>0.635829</td>\n",
              "      <td>0.755926</td>\n",
              "      <td>0.895839</td>\n",
              "      <td>1.041540</td>\n",
              "      <td>1.188390</td>\n",
              "      <td>1.338390</td>\n",
              "      <td>1.51080</td>\n",
              "      <td>1.66561</td>\n",
              "      <td>1.822640</td>\n",
              "    </tr>\n",
              "    <tr>\n",
              "      <th>...</th>\n",
              "      <td>...</td>\n",
              "      <td>...</td>\n",
              "      <td>...</td>\n",
              "      <td>...</td>\n",
              "      <td>...</td>\n",
              "      <td>...</td>\n",
              "      <td>...</td>\n",
              "      <td>...</td>\n",
              "      <td>...</td>\n",
              "      <td>...</td>\n",
              "      <td>...</td>\n",
              "      <td>...</td>\n",
              "      <td>...</td>\n",
              "      <td>...</td>\n",
              "      <td>...</td>\n",
              "      <td>...</td>\n",
              "      <td>...</td>\n",
              "      <td>...</td>\n",
              "      <td>...</td>\n",
              "      <td>...</td>\n",
              "      <td>...</td>\n",
              "    </tr>\n",
              "    <tr>\n",
              "      <th>495</th>\n",
              "      <td>1.555160</td>\n",
              "      <td>1.39118</td>\n",
              "      <td>1.027670</td>\n",
              "      <td>0.747651</td>\n",
              "      <td>0.425793</td>\n",
              "      <td>0.158014</td>\n",
              "      <td>0.152089</td>\n",
              "      <td>-0.104332</td>\n",
              "      <td>-0.113924</td>\n",
              "      <td>-0.279057</td>\n",
              "      <td>...</td>\n",
              "      <td>0.228196</td>\n",
              "      <td>0.465730</td>\n",
              "      <td>0.150071</td>\n",
              "      <td>0.092285</td>\n",
              "      <td>0.235049</td>\n",
              "      <td>0.392797</td>\n",
              "      <td>0.700363</td>\n",
              "      <td>1.01844</td>\n",
              "      <td>1.32524</td>\n",
              "      <td>1.515870</td>\n",
              "    </tr>\n",
              "    <tr>\n",
              "      <th>496</th>\n",
              "      <td>1.823961</td>\n",
              "      <td>1.74961</td>\n",
              "      <td>1.579271</td>\n",
              "      <td>1.384801</td>\n",
              "      <td>1.204190</td>\n",
              "      <td>1.022790</td>\n",
              "      <td>0.876355</td>\n",
              "      <td>0.736351</td>\n",
              "      <td>0.632646</td>\n",
              "      <td>0.529009</td>\n",
              "      <td>...</td>\n",
              "      <td>0.789007</td>\n",
              "      <td>0.744690</td>\n",
              "      <td>0.836515</td>\n",
              "      <td>0.895575</td>\n",
              "      <td>1.026450</td>\n",
              "      <td>1.139960</td>\n",
              "      <td>1.265440</td>\n",
              "      <td>1.44938</td>\n",
              "      <td>1.61830</td>\n",
              "      <td>1.798490</td>\n",
              "    </tr>\n",
              "    <tr>\n",
              "      <th>497</th>\n",
              "      <td>2.009910</td>\n",
              "      <td>1.89306</td>\n",
              "      <td>1.711190</td>\n",
              "      <td>1.492730</td>\n",
              "      <td>1.312480</td>\n",
              "      <td>1.097560</td>\n",
              "      <td>0.949675</td>\n",
              "      <td>0.844477</td>\n",
              "      <td>0.782751</td>\n",
              "      <td>0.732888</td>\n",
              "      <td>...</td>\n",
              "      <td>0.531051</td>\n",
              "      <td>0.694845</td>\n",
              "      <td>0.753352</td>\n",
              "      <td>0.927181</td>\n",
              "      <td>1.003640</td>\n",
              "      <td>1.199830</td>\n",
              "      <td>1.372080</td>\n",
              "      <td>1.58494</td>\n",
              "      <td>1.76518</td>\n",
              "      <td>1.976150</td>\n",
              "    </tr>\n",
              "    <tr>\n",
              "      <th>498</th>\n",
              "      <td>1.474660</td>\n",
              "      <td>1.49555</td>\n",
              "      <td>1.358110</td>\n",
              "      <td>1.142910</td>\n",
              "      <td>0.906578</td>\n",
              "      <td>0.752583</td>\n",
              "      <td>0.985894</td>\n",
              "      <td>1.034220</td>\n",
              "      <td>0.868768</td>\n",
              "      <td>0.655180</td>\n",
              "      <td>...</td>\n",
              "      <td>0.281352</td>\n",
              "      <td>0.524566</td>\n",
              "      <td>0.764574</td>\n",
              "      <td>1.000560</td>\n",
              "      <td>1.130920</td>\n",
              "      <td>0.986802</td>\n",
              "      <td>0.818025</td>\n",
              "      <td>1.04678</td>\n",
              "      <td>1.28382</td>\n",
              "      <td>1.432340</td>\n",
              "    </tr>\n",
              "    <tr>\n",
              "      <th>499</th>\n",
              "      <td>2.021830</td>\n",
              "      <td>1.92956</td>\n",
              "      <td>1.740330</td>\n",
              "      <td>1.581830</td>\n",
              "      <td>1.428630</td>\n",
              "      <td>1.250230</td>\n",
              "      <td>1.103560</td>\n",
              "      <td>0.957912</td>\n",
              "      <td>0.795351</td>\n",
              "      <td>0.668549</td>\n",
              "      <td>...</td>\n",
              "      <td>0.549013</td>\n",
              "      <td>0.642931</td>\n",
              "      <td>0.794356</td>\n",
              "      <td>0.926149</td>\n",
              "      <td>1.086920</td>\n",
              "      <td>1.280660</td>\n",
              "      <td>1.447140</td>\n",
              "      <td>1.61903</td>\n",
              "      <td>1.81512</td>\n",
              "      <td>1.991430</td>\n",
              "    </tr>\n",
              "  </tbody>\n",
              "</table>\n",
              "<p>500 rows × 128 columns</p>\n",
              "</div>\n",
              "      <button class=\"colab-df-convert\" onclick=\"convertToInteractive('df-ea1ce62d-05ea-4315-9b3b-9ff5a7c2baab')\"\n",
              "              title=\"Convert this dataframe to an interactive table.\"\n",
              "              style=\"display:none;\">\n",
              "        \n",
              "  <svg xmlns=\"http://www.w3.org/2000/svg\" height=\"24px\"viewBox=\"0 0 24 24\"\n",
              "       width=\"24px\">\n",
              "    <path d=\"M0 0h24v24H0V0z\" fill=\"none\"/>\n",
              "    <path d=\"M18.56 5.44l.94 2.06.94-2.06 2.06-.94-2.06-.94-.94-2.06-.94 2.06-2.06.94zm-11 1L8.5 8.5l.94-2.06 2.06-.94-2.06-.94L8.5 2.5l-.94 2.06-2.06.94zm10 10l.94 2.06.94-2.06 2.06-.94-2.06-.94-.94-2.06-.94 2.06-2.06.94z\"/><path d=\"M17.41 7.96l-1.37-1.37c-.4-.4-.92-.59-1.43-.59-.52 0-1.04.2-1.43.59L10.3 9.45l-7.72 7.72c-.78.78-.78 2.05 0 2.83L4 21.41c.39.39.9.59 1.41.59.51 0 1.02-.2 1.41-.59l7.78-7.78 2.81-2.81c.8-.78.8-2.07 0-2.86zM5.41 20L4 18.59l7.72-7.72 1.47 1.35L5.41 20z\"/>\n",
              "  </svg>\n",
              "      </button>\n",
              "      \n",
              "  <style>\n",
              "    .colab-df-container {\n",
              "      display:flex;\n",
              "      flex-wrap:wrap;\n",
              "      gap: 12px;\n",
              "    }\n",
              "\n",
              "    .colab-df-convert {\n",
              "      background-color: #E8F0FE;\n",
              "      border: none;\n",
              "      border-radius: 50%;\n",
              "      cursor: pointer;\n",
              "      display: none;\n",
              "      fill: #1967D2;\n",
              "      height: 32px;\n",
              "      padding: 0 0 0 0;\n",
              "      width: 32px;\n",
              "    }\n",
              "\n",
              "    .colab-df-convert:hover {\n",
              "      background-color: #E2EBFA;\n",
              "      box-shadow: 0px 1px 2px rgba(60, 64, 67, 0.3), 0px 1px 3px 1px rgba(60, 64, 67, 0.15);\n",
              "      fill: #174EA6;\n",
              "    }\n",
              "\n",
              "    [theme=dark] .colab-df-convert {\n",
              "      background-color: #3B4455;\n",
              "      fill: #D2E3FC;\n",
              "    }\n",
              "\n",
              "    [theme=dark] .colab-df-convert:hover {\n",
              "      background-color: #434B5C;\n",
              "      box-shadow: 0px 1px 3px 1px rgba(0, 0, 0, 0.15);\n",
              "      filter: drop-shadow(0px 1px 2px rgba(0, 0, 0, 0.3));\n",
              "      fill: #FFFFFF;\n",
              "    }\n",
              "  </style>\n",
              "\n",
              "      <script>\n",
              "        const buttonEl =\n",
              "          document.querySelector('#df-ea1ce62d-05ea-4315-9b3b-9ff5a7c2baab button.colab-df-convert');\n",
              "        buttonEl.style.display =\n",
              "          google.colab.kernel.accessAllowed ? 'block' : 'none';\n",
              "\n",
              "        async function convertToInteractive(key) {\n",
              "          const element = document.querySelector('#df-ea1ce62d-05ea-4315-9b3b-9ff5a7c2baab');\n",
              "          const dataTable =\n",
              "            await google.colab.kernel.invokeFunction('convertToInteractive',\n",
              "                                                     [key], {});\n",
              "          if (!dataTable) return;\n",
              "\n",
              "          const docLinkHtml = 'Like what you see? Visit the ' +\n",
              "            '<a target=\"_blank\" href=https://colab.research.google.com/notebooks/data_table.ipynb>data table notebook</a>'\n",
              "            + ' to learn more about interactive tables.';\n",
              "          element.innerHTML = '';\n",
              "          dataTable['output_type'] = 'display_data';\n",
              "          await google.colab.output.renderOutput(dataTable, element);\n",
              "          const docLink = document.createElement('div');\n",
              "          docLink.innerHTML = docLinkHtml;\n",
              "          element.appendChild(docLink);\n",
              "        }\n",
              "      </script>\n",
              "    </div>\n",
              "  </div>\n",
              "  "
            ]
          },
          "metadata": {},
          "execution_count": 183
        }
      ]
    },
    {
      "cell_type": "markdown",
      "source": [
        "### Kmeans"
      ],
      "metadata": {
        "id": "2waApJuKkN-Q"
      }
    },
    {
      "cell_type": "code",
      "source": [
        "nrecomm1=allindices(second)\n",
        "print(nrecomm1)\n"
      ],
      "metadata": {
        "colab": {
          "base_uri": "https://localhost:8080/"
        },
        "id": "QcpltBu-hlVJ",
        "outputId": "dcb1872d-da1f-42c2-f2f9-d8115cb25a52"
      },
      "execution_count": null,
      "outputs": [
        {
          "output_type": "stream",
          "name": "stdout",
          "text": [
            "[[2], [5], [13], [3], [2], [2], [2], [2], [14], [5], [2], [2], [12]]\n",
            "[[2], [5], [13], [3], [2], [2], [2], [2], [14], [5], [2], [2], [12]]\n"
          ]
        }
      ]
    },
    {
      "cell_type": "code",
      "source": [
        "nrecomm1=allindices(Third)\n",
        "print(nrecomm1)\n"
      ],
      "metadata": {
        "colab": {
          "base_uri": "https://localhost:8080/"
        },
        "id": "saHrkrJmjj0T",
        "outputId": "2c5dda26-dc43-409b-ded3-d6f68f6b6fab"
      },
      "execution_count": null,
      "outputs": [
        {
          "output_type": "stream",
          "name": "stdout",
          "text": [
            "[[2], [5], [14], [3], [2], [2], [2], [2], [14], [14], [2], [2], [2]]\n",
            "[[2], [5], [14], [3], [2], [2], [2], [2], [14], [14], [2], [2], [2]]\n"
          ]
        }
      ]
    },
    {
      "cell_type": "code",
      "source": [
        "nrecomm1=allindices(Four)\n",
        "print(nrecomm1)\n"
      ],
      "metadata": {
        "colab": {
          "base_uri": "https://localhost:8080/"
        },
        "id": "yYlk6rU7jms2",
        "outputId": "8bbae300-3c6f-4bb0-aad5-b9ec3dce81e9"
      },
      "execution_count": null,
      "outputs": [
        {
          "output_type": "stream",
          "name": "stdout",
          "text": [
            "[[2], [13], [14], [26], [4], [8], [2], [8], [14], [14], [4], [2], [10]]\n",
            "[[2], [13], [14], [26], [4], [8], [2], [8], [14], [14], [4], [2], [10]]\n"
          ]
        }
      ]
    },
    {
      "cell_type": "code",
      "source": [
        "nrecomm1=allindices(Five)\n",
        "print(nrecomm1)"
      ],
      "metadata": {
        "colab": {
          "base_uri": "https://localhost:8080/"
        },
        "id": "hH1iuLKmjrj6",
        "outputId": "4522703f-fd55-4bec-f085-07bf94be6b9e"
      },
      "execution_count": null,
      "outputs": [
        {
          "output_type": "stream",
          "name": "stdout",
          "text": [
            "[[2], [11], [14], [26], [2], [8], [2], [8], [14], [13], [2], [2], [14]]\n",
            "[[2], [11], [14], [26], [2], [8], [2], [8], [14], [13], [2], [2], [14]]\n"
          ]
        }
      ]
    },
    {
      "cell_type": "code",
      "source": [
        "nrecomm1=allindices(Six)\n",
        "print(nrecomm1)"
      ],
      "metadata": {
        "id": "MdwL68z0d0Qv",
        "outputId": "c2558ce8-c68c-40df-afc8-dc823f659e99",
        "colab": {
          "base_uri": "https://localhost:8080/"
        }
      },
      "execution_count": null,
      "outputs": [
        {
          "output_type": "stream",
          "name": "stdout",
          "text": [
            "[[2], [13], [13], [24], [13], [9], [2], [9], [11], [14], [2], [2], [11]]\n",
            "[[2], [13], [13], [24], [13], [9], [2], [9], [11], [14], [2], [2], [11]]\n"
          ]
        }
      ]
    },
    {
      "cell_type": "code",
      "source": [
        "result=[]\n",
        "for i in range(2,20):\n",
        "  result.append(UW_indexrelation(second,i,128))"
      ],
      "metadata": {
        "id": "DIE9gv4XuSXx"
      },
      "execution_count": null,
      "outputs": []
    },
    {
      "cell_type": "code",
      "source": [
        "result"
      ],
      "metadata": {
        "colab": {
          "base_uri": "https://localhost:8080/"
        },
        "id": "8A8Xlp6KrWJc",
        "outputId": "f2307af0-28a1-458e-9e9f-9e060301d1b3"
      },
      "execution_count": null,
      "outputs": [
        {
          "output_type": "execute_result",
          "data": {
            "text/plain": [
              "[42914.401870481284,\n",
              " 84130.74592425274,\n",
              " 192842.01503095077,\n",
              " 340028.0228479525,\n",
              " 682218.0806647,\n",
              " 994783.8184524993,\n",
              " 1950029.39206119,\n",
              " 3314275.0683440575,\n",
              " 5663087.2256554775,\n",
              " 9309425.30677024,\n",
              " 11535877.43637875,\n",
              " 13009063.47120264,\n",
              " 22429221.30161047,\n",
              " 29189397.395940937,\n",
              " 39326641.12514322,\n",
              " 29749834.538541194,\n",
              " 37205651.43306845,\n",
              " 50345908.110957086]"
            ]
          },
          "metadata": {},
          "execution_count": 196
        }
      ]
    },
    {
      "cell_type": "code",
      "source": [
        "UW_index(second,20)"
      ],
      "metadata": {
        "colab": {
          "base_uri": "https://localhost:8080/"
        },
        "id": "r65192cKrWL9",
        "outputId": "8a55eefd-c784-4a5a-e086-4cd619368bb8"
      },
      "execution_count": null,
      "outputs": [
        {
          "output_type": "stream",
          "name": "stdout",
          "text": [
            "number of recommended clusters 19\n"
          ]
        },
        {
          "output_type": "execute_result",
          "data": {
            "text/plain": [
              "(19,\n",
              "                a\n",
              " 0   3.632440e+06\n",
              " 1   2.214463e+06\n",
              " 2   7.781661e+06\n",
              " 3   3.094848e+06\n",
              " 4   4.694810e+06\n",
              " 5   3.407270e+06\n",
              " 6   4.207887e+06\n",
              " 7   7.231832e+06\n",
              " 8   9.717707e+06\n",
              " 9   1.279490e+07\n",
              " 10  1.912170e+07\n",
              " 11  2.183027e+07\n",
              " 12  2.364303e+07\n",
              " 13  3.678730e+07\n",
              " 14  4.072356e+07\n",
              " 15  4.358661e+07\n",
              " 16  4.670780e+07\n",
              " 17  3.520228e+04)"
            ]
          },
          "metadata": {},
          "execution_count": 198
        }
      ]
    },
    {
      "cell_type": "code",
      "source": [
        "Third"
      ],
      "metadata": {
        "colab": {
          "base_uri": "https://localhost:8080/",
          "height": 488
        },
        "id": "ImRPL1irrWOT",
        "outputId": "be375100-ca79-4f1b-ca92-c7a1949e8c45"
      },
      "execution_count": null,
      "outputs": [
        {
          "output_type": "execute_result",
          "data": {
            "text/plain": [
              "          0         1         2         3         4         5         6    \\\n",
              "0   -1.602294 -1.670823 -1.693666 -1.699377 -1.699377 -1.703660 -1.703660   \n",
              "1    1.084591  1.084591  1.084591  1.065308  1.065308  1.065308  1.065308   \n",
              "2    0.362689  0.362689  0.362689  0.393316  0.362689  0.362689  0.362689   \n",
              "3   -1.094523 -1.094523 -1.094523 -1.096732 -1.094523 -1.096732 -1.094523   \n",
              "4   -1.103761 -1.103761 -1.103761 -1.103761 -1.103761 -1.103761 -1.103761   \n",
              "..        ...       ...       ...       ...       ...       ...       ...   \n",
              "995 -1.621709 -1.644240 -1.652689 -1.658322 -1.658322 -1.662546 -1.658322   \n",
              "996  0.813520  0.813520  0.813520  0.813520  0.813520  0.813520  0.813520   \n",
              "997 -0.832885 -0.977293 -0.923421 -0.953684 -0.936716 -0.946148 -0.943889   \n",
              "998  0.930389  0.930389  0.930389  0.930389  0.930389  0.930389  0.930389   \n",
              "999 -1.148181 -1.150335 -1.148181 -1.148181 -1.148181 -1.148181 -1.148181   \n",
              "\n",
              "          7         8         9    ...       142       143       144  \\\n",
              "0   -1.703660 -1.703660 -1.703660  ... -1.145432 -1.145432 -1.145432   \n",
              "1    1.065308  1.065308  1.084591  ...  1.065308  1.065308  1.065308   \n",
              "2    0.362689  0.362689  0.362689  ...  0.393316  0.393316  0.393316   \n",
              "3   -1.094523 -1.094523 -1.096732  ... -1.096732 -1.096732 -1.096732   \n",
              "4   -1.103761 -1.103761 -1.103761  ... -1.103761 -1.103761 -1.103761   \n",
              "..        ...       ...       ...  ...       ...       ...       ...   \n",
              "995 -1.662546 -1.662546 -1.662546  ... -1.111952 -1.111952 -1.111952   \n",
              "996  0.813520  0.813520  0.813520  ...  0.758193  0.758193  0.758193   \n",
              "997 -0.938630 -0.952115 -0.928769  ... -0.942169 -0.942518 -0.941143   \n",
              "998  0.930389  0.865309  0.930389  ...  0.930389  0.930389  0.930389   \n",
              "999 -1.148181 -1.148181 -1.148181  ... -1.165413 -1.167567 -1.169721   \n",
              "\n",
              "          145       146       147       148       149       150       151  \n",
              "0   -1.145432 -1.145432 -1.145432 -1.145432 -1.145432 -1.145432 -1.145432  \n",
              "1    1.065308  1.065308  1.065308  1.065308  1.065308  1.065308  1.065308  \n",
              "2    0.362689  0.393316  0.393316  0.393316  0.393316  0.393316  0.393316  \n",
              "3   -1.096732 -1.096732 -1.096732 -1.096732 -1.096732 -1.096732 -1.096732  \n",
              "4   -1.103761 -1.103761 -1.103761 -1.103761 -1.103761 -1.103761 -1.103761  \n",
              "..        ...       ...       ...       ...       ...       ...       ...  \n",
              "995 -1.111952 -1.111952 -1.111952 -1.111952 -1.111952 -1.111952 -1.111952  \n",
              "996  0.758193  0.758193  0.758193  0.758193  0.758193  0.758193  0.758193  \n",
              "997 -0.943985 -0.939208 -0.946774 -0.934842 -0.953684 -0.923421 -0.977293  \n",
              "998  0.930389  0.930389  0.930389  0.930389  0.930389  0.930389  0.930389  \n",
              "999 -1.171875 -1.174028 -1.176182 -1.178336 -1.180490 -1.182644 -1.184798  \n",
              "\n",
              "[1000 rows x 152 columns]"
            ],
            "text/html": [
              "\n",
              "  <div id=\"df-fd45077c-5d0c-41a0-9191-5d8ac1c1827d\">\n",
              "    <div class=\"colab-df-container\">\n",
              "      <div>\n",
              "<style scoped>\n",
              "    .dataframe tbody tr th:only-of-type {\n",
              "        vertical-align: middle;\n",
              "    }\n",
              "\n",
              "    .dataframe tbody tr th {\n",
              "        vertical-align: top;\n",
              "    }\n",
              "\n",
              "    .dataframe thead th {\n",
              "        text-align: right;\n",
              "    }\n",
              "</style>\n",
              "<table border=\"1\" class=\"dataframe\">\n",
              "  <thead>\n",
              "    <tr style=\"text-align: right;\">\n",
              "      <th></th>\n",
              "      <th>0</th>\n",
              "      <th>1</th>\n",
              "      <th>2</th>\n",
              "      <th>3</th>\n",
              "      <th>4</th>\n",
              "      <th>5</th>\n",
              "      <th>6</th>\n",
              "      <th>7</th>\n",
              "      <th>8</th>\n",
              "      <th>9</th>\n",
              "      <th>...</th>\n",
              "      <th>142</th>\n",
              "      <th>143</th>\n",
              "      <th>144</th>\n",
              "      <th>145</th>\n",
              "      <th>146</th>\n",
              "      <th>147</th>\n",
              "      <th>148</th>\n",
              "      <th>149</th>\n",
              "      <th>150</th>\n",
              "      <th>151</th>\n",
              "    </tr>\n",
              "  </thead>\n",
              "  <tbody>\n",
              "    <tr>\n",
              "      <th>0</th>\n",
              "      <td>-1.602294</td>\n",
              "      <td>-1.670823</td>\n",
              "      <td>-1.693666</td>\n",
              "      <td>-1.699377</td>\n",
              "      <td>-1.699377</td>\n",
              "      <td>-1.703660</td>\n",
              "      <td>-1.703660</td>\n",
              "      <td>-1.703660</td>\n",
              "      <td>-1.703660</td>\n",
              "      <td>-1.703660</td>\n",
              "      <td>...</td>\n",
              "      <td>-1.145432</td>\n",
              "      <td>-1.145432</td>\n",
              "      <td>-1.145432</td>\n",
              "      <td>-1.145432</td>\n",
              "      <td>-1.145432</td>\n",
              "      <td>-1.145432</td>\n",
              "      <td>-1.145432</td>\n",
              "      <td>-1.145432</td>\n",
              "      <td>-1.145432</td>\n",
              "      <td>-1.145432</td>\n",
              "    </tr>\n",
              "    <tr>\n",
              "      <th>1</th>\n",
              "      <td>1.084591</td>\n",
              "      <td>1.084591</td>\n",
              "      <td>1.084591</td>\n",
              "      <td>1.065308</td>\n",
              "      <td>1.065308</td>\n",
              "      <td>1.065308</td>\n",
              "      <td>1.065308</td>\n",
              "      <td>1.065308</td>\n",
              "      <td>1.065308</td>\n",
              "      <td>1.084591</td>\n",
              "      <td>...</td>\n",
              "      <td>1.065308</td>\n",
              "      <td>1.065308</td>\n",
              "      <td>1.065308</td>\n",
              "      <td>1.065308</td>\n",
              "      <td>1.065308</td>\n",
              "      <td>1.065308</td>\n",
              "      <td>1.065308</td>\n",
              "      <td>1.065308</td>\n",
              "      <td>1.065308</td>\n",
              "      <td>1.065308</td>\n",
              "    </tr>\n",
              "    <tr>\n",
              "      <th>2</th>\n",
              "      <td>0.362689</td>\n",
              "      <td>0.362689</td>\n",
              "      <td>0.362689</td>\n",
              "      <td>0.393316</td>\n",
              "      <td>0.362689</td>\n",
              "      <td>0.362689</td>\n",
              "      <td>0.362689</td>\n",
              "      <td>0.362689</td>\n",
              "      <td>0.362689</td>\n",
              "      <td>0.362689</td>\n",
              "      <td>...</td>\n",
              "      <td>0.393316</td>\n",
              "      <td>0.393316</td>\n",
              "      <td>0.393316</td>\n",
              "      <td>0.362689</td>\n",
              "      <td>0.393316</td>\n",
              "      <td>0.393316</td>\n",
              "      <td>0.393316</td>\n",
              "      <td>0.393316</td>\n",
              "      <td>0.393316</td>\n",
              "      <td>0.393316</td>\n",
              "    </tr>\n",
              "    <tr>\n",
              "      <th>3</th>\n",
              "      <td>-1.094523</td>\n",
              "      <td>-1.094523</td>\n",
              "      <td>-1.094523</td>\n",
              "      <td>-1.096732</td>\n",
              "      <td>-1.094523</td>\n",
              "      <td>-1.096732</td>\n",
              "      <td>-1.094523</td>\n",
              "      <td>-1.094523</td>\n",
              "      <td>-1.094523</td>\n",
              "      <td>-1.096732</td>\n",
              "      <td>...</td>\n",
              "      <td>-1.096732</td>\n",
              "      <td>-1.096732</td>\n",
              "      <td>-1.096732</td>\n",
              "      <td>-1.096732</td>\n",
              "      <td>-1.096732</td>\n",
              "      <td>-1.096732</td>\n",
              "      <td>-1.096732</td>\n",
              "      <td>-1.096732</td>\n",
              "      <td>-1.096732</td>\n",
              "      <td>-1.096732</td>\n",
              "    </tr>\n",
              "    <tr>\n",
              "      <th>4</th>\n",
              "      <td>-1.103761</td>\n",
              "      <td>-1.103761</td>\n",
              "      <td>-1.103761</td>\n",
              "      <td>-1.103761</td>\n",
              "      <td>-1.103761</td>\n",
              "      <td>-1.103761</td>\n",
              "      <td>-1.103761</td>\n",
              "      <td>-1.103761</td>\n",
              "      <td>-1.103761</td>\n",
              "      <td>-1.103761</td>\n",
              "      <td>...</td>\n",
              "      <td>-1.103761</td>\n",
              "      <td>-1.103761</td>\n",
              "      <td>-1.103761</td>\n",
              "      <td>-1.103761</td>\n",
              "      <td>-1.103761</td>\n",
              "      <td>-1.103761</td>\n",
              "      <td>-1.103761</td>\n",
              "      <td>-1.103761</td>\n",
              "      <td>-1.103761</td>\n",
              "      <td>-1.103761</td>\n",
              "    </tr>\n",
              "    <tr>\n",
              "      <th>...</th>\n",
              "      <td>...</td>\n",
              "      <td>...</td>\n",
              "      <td>...</td>\n",
              "      <td>...</td>\n",
              "      <td>...</td>\n",
              "      <td>...</td>\n",
              "      <td>...</td>\n",
              "      <td>...</td>\n",
              "      <td>...</td>\n",
              "      <td>...</td>\n",
              "      <td>...</td>\n",
              "      <td>...</td>\n",
              "      <td>...</td>\n",
              "      <td>...</td>\n",
              "      <td>...</td>\n",
              "      <td>...</td>\n",
              "      <td>...</td>\n",
              "      <td>...</td>\n",
              "      <td>...</td>\n",
              "      <td>...</td>\n",
              "      <td>...</td>\n",
              "    </tr>\n",
              "    <tr>\n",
              "      <th>995</th>\n",
              "      <td>-1.621709</td>\n",
              "      <td>-1.644240</td>\n",
              "      <td>-1.652689</td>\n",
              "      <td>-1.658322</td>\n",
              "      <td>-1.658322</td>\n",
              "      <td>-1.662546</td>\n",
              "      <td>-1.658322</td>\n",
              "      <td>-1.662546</td>\n",
              "      <td>-1.662546</td>\n",
              "      <td>-1.662546</td>\n",
              "      <td>...</td>\n",
              "      <td>-1.111952</td>\n",
              "      <td>-1.111952</td>\n",
              "      <td>-1.111952</td>\n",
              "      <td>-1.111952</td>\n",
              "      <td>-1.111952</td>\n",
              "      <td>-1.111952</td>\n",
              "      <td>-1.111952</td>\n",
              "      <td>-1.111952</td>\n",
              "      <td>-1.111952</td>\n",
              "      <td>-1.111952</td>\n",
              "    </tr>\n",
              "    <tr>\n",
              "      <th>996</th>\n",
              "      <td>0.813520</td>\n",
              "      <td>0.813520</td>\n",
              "      <td>0.813520</td>\n",
              "      <td>0.813520</td>\n",
              "      <td>0.813520</td>\n",
              "      <td>0.813520</td>\n",
              "      <td>0.813520</td>\n",
              "      <td>0.813520</td>\n",
              "      <td>0.813520</td>\n",
              "      <td>0.813520</td>\n",
              "      <td>...</td>\n",
              "      <td>0.758193</td>\n",
              "      <td>0.758193</td>\n",
              "      <td>0.758193</td>\n",
              "      <td>0.758193</td>\n",
              "      <td>0.758193</td>\n",
              "      <td>0.758193</td>\n",
              "      <td>0.758193</td>\n",
              "      <td>0.758193</td>\n",
              "      <td>0.758193</td>\n",
              "      <td>0.758193</td>\n",
              "    </tr>\n",
              "    <tr>\n",
              "      <th>997</th>\n",
              "      <td>-0.832885</td>\n",
              "      <td>-0.977293</td>\n",
              "      <td>-0.923421</td>\n",
              "      <td>-0.953684</td>\n",
              "      <td>-0.936716</td>\n",
              "      <td>-0.946148</td>\n",
              "      <td>-0.943889</td>\n",
              "      <td>-0.938630</td>\n",
              "      <td>-0.952115</td>\n",
              "      <td>-0.928769</td>\n",
              "      <td>...</td>\n",
              "      <td>-0.942169</td>\n",
              "      <td>-0.942518</td>\n",
              "      <td>-0.941143</td>\n",
              "      <td>-0.943985</td>\n",
              "      <td>-0.939208</td>\n",
              "      <td>-0.946774</td>\n",
              "      <td>-0.934842</td>\n",
              "      <td>-0.953684</td>\n",
              "      <td>-0.923421</td>\n",
              "      <td>-0.977293</td>\n",
              "    </tr>\n",
              "    <tr>\n",
              "      <th>998</th>\n",
              "      <td>0.930389</td>\n",
              "      <td>0.930389</td>\n",
              "      <td>0.930389</td>\n",
              "      <td>0.930389</td>\n",
              "      <td>0.930389</td>\n",
              "      <td>0.930389</td>\n",
              "      <td>0.930389</td>\n",
              "      <td>0.930389</td>\n",
              "      <td>0.865309</td>\n",
              "      <td>0.930389</td>\n",
              "      <td>...</td>\n",
              "      <td>0.930389</td>\n",
              "      <td>0.930389</td>\n",
              "      <td>0.930389</td>\n",
              "      <td>0.930389</td>\n",
              "      <td>0.930389</td>\n",
              "      <td>0.930389</td>\n",
              "      <td>0.930389</td>\n",
              "      <td>0.930389</td>\n",
              "      <td>0.930389</td>\n",
              "      <td>0.930389</td>\n",
              "    </tr>\n",
              "    <tr>\n",
              "      <th>999</th>\n",
              "      <td>-1.148181</td>\n",
              "      <td>-1.150335</td>\n",
              "      <td>-1.148181</td>\n",
              "      <td>-1.148181</td>\n",
              "      <td>-1.148181</td>\n",
              "      <td>-1.148181</td>\n",
              "      <td>-1.148181</td>\n",
              "      <td>-1.148181</td>\n",
              "      <td>-1.148181</td>\n",
              "      <td>-1.148181</td>\n",
              "      <td>...</td>\n",
              "      <td>-1.165413</td>\n",
              "      <td>-1.167567</td>\n",
              "      <td>-1.169721</td>\n",
              "      <td>-1.171875</td>\n",
              "      <td>-1.174028</td>\n",
              "      <td>-1.176182</td>\n",
              "      <td>-1.178336</td>\n",
              "      <td>-1.180490</td>\n",
              "      <td>-1.182644</td>\n",
              "      <td>-1.184798</td>\n",
              "    </tr>\n",
              "  </tbody>\n",
              "</table>\n",
              "<p>1000 rows × 152 columns</p>\n",
              "</div>\n",
              "      <button class=\"colab-df-convert\" onclick=\"convertToInteractive('df-fd45077c-5d0c-41a0-9191-5d8ac1c1827d')\"\n",
              "              title=\"Convert this dataframe to an interactive table.\"\n",
              "              style=\"display:none;\">\n",
              "        \n",
              "  <svg xmlns=\"http://www.w3.org/2000/svg\" height=\"24px\"viewBox=\"0 0 24 24\"\n",
              "       width=\"24px\">\n",
              "    <path d=\"M0 0h24v24H0V0z\" fill=\"none\"/>\n",
              "    <path d=\"M18.56 5.44l.94 2.06.94-2.06 2.06-.94-2.06-.94-.94-2.06-.94 2.06-2.06.94zm-11 1L8.5 8.5l.94-2.06 2.06-.94-2.06-.94L8.5 2.5l-.94 2.06-2.06.94zm10 10l.94 2.06.94-2.06 2.06-.94-2.06-.94-.94-2.06-.94 2.06-2.06.94z\"/><path d=\"M17.41 7.96l-1.37-1.37c-.4-.4-.92-.59-1.43-.59-.52 0-1.04.2-1.43.59L10.3 9.45l-7.72 7.72c-.78.78-.78 2.05 0 2.83L4 21.41c.39.39.9.59 1.41.59.51 0 1.02-.2 1.41-.59l7.78-7.78 2.81-2.81c.8-.78.8-2.07 0-2.86zM5.41 20L4 18.59l7.72-7.72 1.47 1.35L5.41 20z\"/>\n",
              "  </svg>\n",
              "      </button>\n",
              "      \n",
              "  <style>\n",
              "    .colab-df-container {\n",
              "      display:flex;\n",
              "      flex-wrap:wrap;\n",
              "      gap: 12px;\n",
              "    }\n",
              "\n",
              "    .colab-df-convert {\n",
              "      background-color: #E8F0FE;\n",
              "      border: none;\n",
              "      border-radius: 50%;\n",
              "      cursor: pointer;\n",
              "      display: none;\n",
              "      fill: #1967D2;\n",
              "      height: 32px;\n",
              "      padding: 0 0 0 0;\n",
              "      width: 32px;\n",
              "    }\n",
              "\n",
              "    .colab-df-convert:hover {\n",
              "      background-color: #E2EBFA;\n",
              "      box-shadow: 0px 1px 2px rgba(60, 64, 67, 0.3), 0px 1px 3px 1px rgba(60, 64, 67, 0.15);\n",
              "      fill: #174EA6;\n",
              "    }\n",
              "\n",
              "    [theme=dark] .colab-df-convert {\n",
              "      background-color: #3B4455;\n",
              "      fill: #D2E3FC;\n",
              "    }\n",
              "\n",
              "    [theme=dark] .colab-df-convert:hover {\n",
              "      background-color: #434B5C;\n",
              "      box-shadow: 0px 1px 3px 1px rgba(0, 0, 0, 0.15);\n",
              "      filter: drop-shadow(0px 1px 2px rgba(0, 0, 0, 0.3));\n",
              "      fill: #FFFFFF;\n",
              "    }\n",
              "  </style>\n",
              "\n",
              "      <script>\n",
              "        const buttonEl =\n",
              "          document.querySelector('#df-fd45077c-5d0c-41a0-9191-5d8ac1c1827d button.colab-df-convert');\n",
              "        buttonEl.style.display =\n",
              "          google.colab.kernel.accessAllowed ? 'block' : 'none';\n",
              "\n",
              "        async function convertToInteractive(key) {\n",
              "          const element = document.querySelector('#df-fd45077c-5d0c-41a0-9191-5d8ac1c1827d');\n",
              "          const dataTable =\n",
              "            await google.colab.kernel.invokeFunction('convertToInteractive',\n",
              "                                                     [key], {});\n",
              "          if (!dataTable) return;\n",
              "\n",
              "          const docLinkHtml = 'Like what you see? Visit the ' +\n",
              "            '<a target=\"_blank\" href=https://colab.research.google.com/notebooks/data_table.ipynb>data table notebook</a>'\n",
              "            + ' to learn more about interactive tables.';\n",
              "          element.innerHTML = '';\n",
              "          dataTable['output_type'] = 'display_data';\n",
              "          await google.colab.output.renderOutput(dataTable, element);\n",
              "          const docLink = document.createElement('div');\n",
              "          docLink.innerHTML = docLinkHtml;\n",
              "          element.appendChild(docLink);\n",
              "        }\n",
              "      </script>\n",
              "    </div>\n",
              "  </div>\n",
              "  "
            ]
          },
          "metadata": {},
          "execution_count": 199
        }
      ]
    },
    {
      "cell_type": "code",
      "source": [
        "result=[]\n",
        "for i in range(2,10):\n",
        "  result.append(UW_indexrelation(Third,i,152))"
      ],
      "metadata": {
        "id": "IGRN-WtfrWQy"
      },
      "execution_count": null,
      "outputs": []
    },
    {
      "cell_type": "code",
      "source": [
        "result"
      ],
      "metadata": {
        "colab": {
          "base_uri": "https://localhost:8080/"
        },
        "id": "oj2C7e_13QRj",
        "outputId": "a5c88b45-a0e4-41d9-f2dc-92d95be6cbc3"
      },
      "execution_count": null,
      "outputs": [
        {
          "output_type": "execute_result",
          "data": {
            "text/plain": [
              "[364383.2777423055,\n",
              " 2156435.7872953494,\n",
              " 4149352.4247944085,\n",
              " 7897422.027868147,\n",
              " 20013551.873549826,\n",
              " 15685379.109241782,\n",
              " 44960009.11519573,\n",
              " 58103426.57312045]"
            ]
          },
          "metadata": {},
          "execution_count": 205
        }
      ]
    },
    {
      "cell_type": "code",
      "source": [
        "UW_index(Third,10)"
      ],
      "metadata": {
        "colab": {
          "base_uri": "https://localhost:8080/"
        },
        "id": "A3TuClSkrWTh",
        "outputId": "294d1928-080c-4409-c39f-076a5845de8c"
      },
      "execution_count": null,
      "outputs": [
        {
          "output_type": "stream",
          "name": "stdout",
          "text": [
            "number of recommended clusters 2\n"
          ]
        },
        {
          "output_type": "execute_result",
          "data": {
            "text/plain": [
              "(2,\n",
              "               a\n",
              " 0  7.289296e+04\n",
              " 1  2.786041e+07\n",
              " 2  1.955233e+07\n",
              " 3  5.074366e+07\n",
              " 4  3.110034e+07\n",
              " 5  1.481162e+07\n",
              " 6  2.236838e+07\n",
              " 7  6.292647e+06)"
            ]
          },
          "metadata": {},
          "execution_count": 206
        }
      ]
    },
    {
      "cell_type": "code",
      "source": [],
      "metadata": {
        "id": "sSZBhgCy4a_R"
      },
      "execution_count": null,
      "outputs": []
    },
    {
      "cell_type": "code",
      "source": [
        "result=[]\n",
        "for i in range(2,10):\n",
        "  result.append(UW_indexrelation(Four,i,152))"
      ],
      "metadata": {
        "id": "OzXL9ZyPWzKy"
      },
      "execution_count": null,
      "outputs": []
    },
    {
      "cell_type": "code",
      "source": [
        "result"
      ],
      "metadata": {
        "colab": {
          "base_uri": "https://localhost:8080/"
        },
        "outputId": "8e34a905-6dcf-409f-f48c-e9356e08f14f",
        "id": "lnhC-bwLWzKz"
      },
      "execution_count": null,
      "outputs": [
        {
          "output_type": "execute_result",
          "data": {
            "text/plain": [
              "[3250.547471904153,\n",
              " 17280.48846846,\n",
              " 30487.670946750626,\n",
              " 109721.34361244948,\n",
              " 191403.1728494599,\n",
              " 817215.2366761533,\n",
              " 2136393.913265037,\n",
              " 2009108.9108581522]"
            ]
          },
          "metadata": {},
          "execution_count": 235
        }
      ]
    },
    {
      "cell_type": "code",
      "source": [
        "UW_index(Four,10)"
      ],
      "metadata": {
        "colab": {
          "base_uri": "https://localhost:8080/"
        },
        "outputId": "59aa6c3f-b644-41b7-8116-6b9f7c4359a7",
        "id": "ai5SFX8uWzKz"
      },
      "execution_count": null,
      "outputs": [
        {
          "output_type": "stream",
          "name": "stdout",
          "text": [
            "number of recommended clusters 2\n"
          ]
        },
        {
          "output_type": "execute_result",
          "data": {
            "text/plain": [
              "(2,\n",
              "                a\n",
              " 0    3557.978141\n",
              " 1  239266.855461\n",
              " 2  114599.258194\n",
              " 3  112782.877545\n",
              " 4  179143.733482\n",
              " 5   46662.212453\n",
              " 6   26588.934625\n",
              " 7   10730.921794)"
            ]
          },
          "metadata": {},
          "execution_count": 236
        }
      ]
    },
    {
      "cell_type": "code",
      "source": [],
      "metadata": {
        "id": "6FftBlhm6j2B"
      },
      "execution_count": null,
      "outputs": []
    },
    {
      "cell_type": "code",
      "source": [
        "result=[]\n",
        "for i in range(2,10):\n",
        "  result.append(UW_indexrelation(Four,i,152))"
      ],
      "metadata": {
        "id": "nE1PhwvJ6kPr"
      },
      "execution_count": null,
      "outputs": []
    },
    {
      "cell_type": "code",
      "source": [
        "result"
      ],
      "metadata": {
        "colab": {
          "base_uri": "https://localhost:8080/"
        },
        "outputId": "8ec79936-bd63-41c2-c5d9-70dcb1a1e006",
        "id": "ZNgWOdHU6kPr"
      },
      "execution_count": null,
      "outputs": [
        {
          "output_type": "execute_result",
          "data": {
            "text/plain": [
              "[3250.547471904153,\n",
              " 17280.48846846,\n",
              " 30487.670946750626,\n",
              " 109721.34361244948,\n",
              " 191403.1728494599,\n",
              " 817215.2366761533,\n",
              " 2136393.913265037,\n",
              " 2009108.9108581522]"
            ]
          },
          "metadata": {},
          "execution_count": 241
        }
      ]
    },
    {
      "cell_type": "code",
      "source": [
        "UW_index(Four,10)"
      ],
      "metadata": {
        "colab": {
          "base_uri": "https://localhost:8080/"
        },
        "outputId": "94299162-cbc5-41d3-af04-4f2a44b80650",
        "id": "ThIRajfJ6kPr"
      },
      "execution_count": null,
      "outputs": [
        {
          "output_type": "stream",
          "name": "stdout",
          "text": [
            "number of recommended clusters 2\n"
          ]
        },
        {
          "output_type": "execute_result",
          "data": {
            "text/plain": [
              "(2,\n",
              "                a\n",
              " 0    3557.978141\n",
              " 1  239266.855461\n",
              " 2  114599.258194\n",
              " 3  112782.877545\n",
              " 4  179143.733482\n",
              " 5   46662.212453\n",
              " 6   26588.934625\n",
              " 7   10730.921794)"
            ]
          },
          "metadata": {},
          "execution_count": 237
        }
      ]
    },
    {
      "cell_type": "code",
      "source": [],
      "metadata": {
        "id": "B4P-cn6V6j4t"
      },
      "execution_count": null,
      "outputs": []
    },
    {
      "cell_type": "code",
      "source": [
        "result=[]\n",
        "for i in range(2,10):\n",
        "  result.append(UW_indexrelation(Five,i,152))"
      ],
      "metadata": {
        "id": "MJa5uqvQXKVD"
      },
      "execution_count": null,
      "outputs": []
    },
    {
      "cell_type": "code",
      "source": [
        "result"
      ],
      "metadata": {
        "colab": {
          "base_uri": "https://localhost:8080/"
        },
        "outputId": "1b6316b4-f593-4e9f-80eb-9c52bdad5f67",
        "id": "zNZzr4ZhXKVD"
      },
      "execution_count": null,
      "outputs": [
        {
          "output_type": "execute_result",
          "data": {
            "text/plain": [
              "[3680.518879958009,\n",
              " 314.11711008988095,\n",
              " 45707.09122224715,\n",
              " 23448.2818544899,\n",
              " 52852.27417755544,\n",
              " 72778.83338409738,\n",
              " 113088.1381815899,\n",
              " 141606.05151444554]"
            ]
          },
          "metadata": {},
          "execution_count": 239
        }
      ]
    },
    {
      "cell_type": "code",
      "source": [
        "UW_index(Four,10)"
      ],
      "metadata": {
        "colab": {
          "base_uri": "https://localhost:8080/"
        },
        "outputId": "94299162-cbc5-41d3-af04-4f2a44b80650",
        "id": "gU6300puXKVE"
      },
      "execution_count": null,
      "outputs": [
        {
          "output_type": "stream",
          "name": "stdout",
          "text": [
            "number of recommended clusters 2\n"
          ]
        },
        {
          "output_type": "execute_result",
          "data": {
            "text/plain": [
              "(2,\n",
              "                a\n",
              " 0    3557.978141\n",
              " 1  239266.855461\n",
              " 2  114599.258194\n",
              " 3  112782.877545\n",
              " 4  179143.733482\n",
              " 5   46662.212453\n",
              " 6   26588.934625\n",
              " 7   10730.921794)"
            ]
          },
          "metadata": {},
          "execution_count": 237
        }
      ]
    },
    {
      "cell_type": "code",
      "source": [],
      "metadata": {
        "id": "ZTJV6SE9XKVE"
      },
      "execution_count": null,
      "outputs": []
    },
    {
      "cell_type": "code",
      "source": [
        "result=[]\n",
        "for i in range(2,10):\n",
        "  result.append(UW_indexrelation(Six,i,577))"
      ],
      "metadata": {
        "id": "NN1-nw6dmudy"
      },
      "execution_count": null,
      "outputs": []
    },
    {
      "cell_type": "code",
      "source": [
        "result"
      ],
      "metadata": {
        "colab": {
          "base_uri": "https://localhost:8080/"
        },
        "outputId": "76260cbc-35e6-4a27-ccbb-91ee42b5252b",
        "id": "FJSUhfhAmudy"
      },
      "execution_count": null,
      "outputs": [
        {
          "output_type": "execute_result",
          "data": {
            "text/plain": [
              "[108512.86475735482,\n",
              " 114598.48765760066,\n",
              " 188664.01603672758,\n",
              " 579476.0327620336,\n",
              " 944330.6708407745,\n",
              " 1803551.8430575503,\n",
              " 3005748.066881134,\n",
              " 4674853.712538042]"
            ]
          },
          "metadata": {},
          "execution_count": 19
        }
      ]
    },
    {
      "cell_type": "code",
      "source": [
        "UW_index(Six,10)"
      ],
      "metadata": {
        "colab": {
          "base_uri": "https://localhost:8080/"
        },
        "outputId": "6618ffde-d916-4205-bff2-73ba02ee6041",
        "id": "epTy98t6mudz"
      },
      "execution_count": null,
      "outputs": [
        {
          "output_type": "stream",
          "name": "stdout",
          "text": [
            "number of recommended clusters 2\n"
          ]
        },
        {
          "output_type": "execute_result",
          "data": {
            "text/plain": [
              "(2,\n",
              "               a\n",
              " 0  3.618911e+03\n",
              " 1  1.224800e+07\n",
              " 2  7.804659e+06\n",
              " 3  5.456514e+06\n",
              " 4  3.607735e+06\n",
              " 5  4.500516e+06\n",
              " 6  3.420917e+06\n",
              " 7  2.132659e+06)"
            ]
          },
          "metadata": {},
          "execution_count": 20
        }
      ]
    },
    {
      "cell_type": "code",
      "source": [],
      "metadata": {
        "id": "30bdMvIH6j7c"
      },
      "execution_count": null,
      "outputs": []
    },
    {
      "cell_type": "code",
      "source": [],
      "metadata": {
        "id": "4GqJKoPl6j-Y"
      },
      "execution_count": null,
      "outputs": []
    },
    {
      "cell_type": "code",
      "source": [],
      "metadata": {
        "id": "gh9luDe56kAz"
      },
      "execution_count": null,
      "outputs": []
    },
    {
      "cell_type": "code",
      "source": [],
      "metadata": {
        "id": "tFOZkZd4rWan"
      },
      "execution_count": null,
      "outputs": []
    },
    {
      "cell_type": "code",
      "source": [],
      "metadata": {
        "id": "1Iv2xtMlrWeD"
      },
      "execution_count": null,
      "outputs": []
    },
    {
      "cell_type": "code",
      "execution_count": null,
      "metadata": {
        "id": "0ZupYRRyV1QO"
      },
      "outputs": [],
      "source": []
    },
    {
      "cell_type": "code",
      "execution_count": null,
      "metadata": {
        "colab": {
          "base_uri": "https://localhost:8080/"
        },
        "id": "QBpcAcDJzQga",
        "outputId": "49b4de5d-7a3a-4236-9626-412ce9a0c66a"
      },
      "outputs": [
        {
          "name": "stderr",
          "output_type": "stream",
          "text": [
            "2023-04-30 15:36:11 [INFO]: Loading the dataset physionet_2012 with TSDB (https://github.com/WenjieDu/Time_Series_Database)...\n",
            "2023-04-30 15:36:11 [INFO]: Starting preprocessing physionet_2012...\n"
          ]
        },
        {
          "name": "stdout",
          "output_type": "stream",
          "text": [
            "Dataset physionet_2012 has already been downloaded. Processing directly...\n",
            "Dataset physionet_2012 has already been cached. Loading from cache directly...\n",
            "Loaded successfully!\n"
          ]
        }
      ],
      "source": [
        "data = load_specific_dataset('physionet_2012')  # PyPOTS will automatically download and extract it.\n",
        "X = data['X']"
      ]
    },
    {
      "cell_type": "code",
      "execution_count": null,
      "metadata": {
        "colab": {
          "base_uri": "https://localhost:8080/",
          "height": 488
        },
        "id": "E80emoVkz3iZ",
        "outputId": "229f5543-c8d8-4bd5-a020-4e70a883db1f"
      },
      "outputs": [
        {
          "data": {
            "text/html": [
              "\n",
              "  <div id=\"df-a3e3de5c-d092-4514-bf6b-34e18e68182a\">\n",
              "    <div class=\"colab-df-container\">\n",
              "      <div>\n",
              "<style scoped>\n",
              "    .dataframe tbody tr th:only-of-type {\n",
              "        vertical-align: middle;\n",
              "    }\n",
              "\n",
              "    .dataframe tbody tr th {\n",
              "        vertical-align: top;\n",
              "    }\n",
              "\n",
              "    .dataframe thead th {\n",
              "        text-align: right;\n",
              "    }\n",
              "</style>\n",
              "<table border=\"1\" class=\"dataframe\">\n",
              "  <thead>\n",
              "    <tr style=\"text-align: right;\">\n",
              "      <th></th>\n",
              "      <th>RecordID</th>\n",
              "      <th>ALP</th>\n",
              "      <th>ALT</th>\n",
              "      <th>AST</th>\n",
              "      <th>Albumin</th>\n",
              "      <th>BUN</th>\n",
              "      <th>Bilirubin</th>\n",
              "      <th>Cholesterol</th>\n",
              "      <th>Creatinine</th>\n",
              "      <th>DiasABP</th>\n",
              "      <th>...</th>\n",
              "      <th>RespRate</th>\n",
              "      <th>SaO2</th>\n",
              "      <th>SysABP</th>\n",
              "      <th>Temp</th>\n",
              "      <th>TroponinI</th>\n",
              "      <th>TroponinT</th>\n",
              "      <th>Urine</th>\n",
              "      <th>WBC</th>\n",
              "      <th>Weight</th>\n",
              "      <th>pH</th>\n",
              "    </tr>\n",
              "  </thead>\n",
              "  <tbody>\n",
              "    <tr>\n",
              "      <th>0</th>\n",
              "      <td>132539</td>\n",
              "      <td>NaN</td>\n",
              "      <td>NaN</td>\n",
              "      <td>NaN</td>\n",
              "      <td>NaN</td>\n",
              "      <td>NaN</td>\n",
              "      <td>NaN</td>\n",
              "      <td>NaN</td>\n",
              "      <td>NaN</td>\n",
              "      <td>NaN</td>\n",
              "      <td>...</td>\n",
              "      <td>19.0</td>\n",
              "      <td>NaN</td>\n",
              "      <td>NaN</td>\n",
              "      <td>35.35</td>\n",
              "      <td>NaN</td>\n",
              "      <td>NaN</td>\n",
              "      <td>480.0</td>\n",
              "      <td>NaN</td>\n",
              "      <td>-1.0</td>\n",
              "      <td>NaN</td>\n",
              "    </tr>\n",
              "    <tr>\n",
              "      <th>1</th>\n",
              "      <td>132539</td>\n",
              "      <td>NaN</td>\n",
              "      <td>NaN</td>\n",
              "      <td>NaN</td>\n",
              "      <td>NaN</td>\n",
              "      <td>NaN</td>\n",
              "      <td>NaN</td>\n",
              "      <td>NaN</td>\n",
              "      <td>NaN</td>\n",
              "      <td>NaN</td>\n",
              "      <td>...</td>\n",
              "      <td>18.0</td>\n",
              "      <td>NaN</td>\n",
              "      <td>NaN</td>\n",
              "      <td>NaN</td>\n",
              "      <td>NaN</td>\n",
              "      <td>NaN</td>\n",
              "      <td>30.0</td>\n",
              "      <td>NaN</td>\n",
              "      <td>NaN</td>\n",
              "      <td>NaN</td>\n",
              "    </tr>\n",
              "    <tr>\n",
              "      <th>2</th>\n",
              "      <td>132539</td>\n",
              "      <td>NaN</td>\n",
              "      <td>NaN</td>\n",
              "      <td>NaN</td>\n",
              "      <td>NaN</td>\n",
              "      <td>NaN</td>\n",
              "      <td>NaN</td>\n",
              "      <td>NaN</td>\n",
              "      <td>NaN</td>\n",
              "      <td>NaN</td>\n",
              "      <td>...</td>\n",
              "      <td>19.0</td>\n",
              "      <td>NaN</td>\n",
              "      <td>NaN</td>\n",
              "      <td>NaN</td>\n",
              "      <td>NaN</td>\n",
              "      <td>NaN</td>\n",
              "      <td>170.0</td>\n",
              "      <td>NaN</td>\n",
              "      <td>NaN</td>\n",
              "      <td>NaN</td>\n",
              "    </tr>\n",
              "    <tr>\n",
              "      <th>3</th>\n",
              "      <td>132539</td>\n",
              "      <td>NaN</td>\n",
              "      <td>NaN</td>\n",
              "      <td>NaN</td>\n",
              "      <td>NaN</td>\n",
              "      <td>NaN</td>\n",
              "      <td>NaN</td>\n",
              "      <td>NaN</td>\n",
              "      <td>NaN</td>\n",
              "      <td>NaN</td>\n",
              "      <td>...</td>\n",
              "      <td>20.0</td>\n",
              "      <td>NaN</td>\n",
              "      <td>NaN</td>\n",
              "      <td>37.80</td>\n",
              "      <td>NaN</td>\n",
              "      <td>NaN</td>\n",
              "      <td>60.0</td>\n",
              "      <td>NaN</td>\n",
              "      <td>NaN</td>\n",
              "      <td>NaN</td>\n",
              "    </tr>\n",
              "    <tr>\n",
              "      <th>4</th>\n",
              "      <td>132539</td>\n",
              "      <td>NaN</td>\n",
              "      <td>NaN</td>\n",
              "      <td>NaN</td>\n",
              "      <td>NaN</td>\n",
              "      <td>NaN</td>\n",
              "      <td>NaN</td>\n",
              "      <td>NaN</td>\n",
              "      <td>NaN</td>\n",
              "      <td>NaN</td>\n",
              "      <td>...</td>\n",
              "      <td>20.0</td>\n",
              "      <td>NaN</td>\n",
              "      <td>NaN</td>\n",
              "      <td>NaN</td>\n",
              "      <td>NaN</td>\n",
              "      <td>NaN</td>\n",
              "      <td>NaN</td>\n",
              "      <td>NaN</td>\n",
              "      <td>NaN</td>\n",
              "      <td>NaN</td>\n",
              "    </tr>\n",
              "    <tr>\n",
              "      <th>...</th>\n",
              "      <td>...</td>\n",
              "      <td>...</td>\n",
              "      <td>...</td>\n",
              "      <td>...</td>\n",
              "      <td>...</td>\n",
              "      <td>...</td>\n",
              "      <td>...</td>\n",
              "      <td>...</td>\n",
              "      <td>...</td>\n",
              "      <td>...</td>\n",
              "      <td>...</td>\n",
              "      <td>...</td>\n",
              "      <td>...</td>\n",
              "      <td>...</td>\n",
              "      <td>...</td>\n",
              "      <td>...</td>\n",
              "      <td>...</td>\n",
              "      <td>...</td>\n",
              "      <td>...</td>\n",
              "      <td>...</td>\n",
              "      <td>...</td>\n",
              "    </tr>\n",
              "    <tr>\n",
              "      <th>575419</th>\n",
              "      <td>163037</td>\n",
              "      <td>NaN</td>\n",
              "      <td>NaN</td>\n",
              "      <td>NaN</td>\n",
              "      <td>NaN</td>\n",
              "      <td>NaN</td>\n",
              "      <td>NaN</td>\n",
              "      <td>NaN</td>\n",
              "      <td>NaN</td>\n",
              "      <td>51.0</td>\n",
              "      <td>...</td>\n",
              "      <td>NaN</td>\n",
              "      <td>NaN</td>\n",
              "      <td>122.0</td>\n",
              "      <td>NaN</td>\n",
              "      <td>NaN</td>\n",
              "      <td>NaN</td>\n",
              "      <td>60.0</td>\n",
              "      <td>NaN</td>\n",
              "      <td>NaN</td>\n",
              "      <td>NaN</td>\n",
              "    </tr>\n",
              "    <tr>\n",
              "      <th>575420</th>\n",
              "      <td>163037</td>\n",
              "      <td>NaN</td>\n",
              "      <td>NaN</td>\n",
              "      <td>NaN</td>\n",
              "      <td>NaN</td>\n",
              "      <td>NaN</td>\n",
              "      <td>NaN</td>\n",
              "      <td>NaN</td>\n",
              "      <td>NaN</td>\n",
              "      <td>NaN</td>\n",
              "      <td>...</td>\n",
              "      <td>NaN</td>\n",
              "      <td>NaN</td>\n",
              "      <td>NaN</td>\n",
              "      <td>NaN</td>\n",
              "      <td>NaN</td>\n",
              "      <td>NaN</td>\n",
              "      <td>NaN</td>\n",
              "      <td>NaN</td>\n",
              "      <td>NaN</td>\n",
              "      <td>NaN</td>\n",
              "    </tr>\n",
              "    <tr>\n",
              "      <th>575421</th>\n",
              "      <td>163037</td>\n",
              "      <td>NaN</td>\n",
              "      <td>NaN</td>\n",
              "      <td>NaN</td>\n",
              "      <td>NaN</td>\n",
              "      <td>NaN</td>\n",
              "      <td>NaN</td>\n",
              "      <td>NaN</td>\n",
              "      <td>NaN</td>\n",
              "      <td>56.0</td>\n",
              "      <td>...</td>\n",
              "      <td>NaN</td>\n",
              "      <td>NaN</td>\n",
              "      <td>147.0</td>\n",
              "      <td>37.30</td>\n",
              "      <td>NaN</td>\n",
              "      <td>NaN</td>\n",
              "      <td>50.0</td>\n",
              "      <td>NaN</td>\n",
              "      <td>NaN</td>\n",
              "      <td>NaN</td>\n",
              "    </tr>\n",
              "    <tr>\n",
              "      <th>575422</th>\n",
              "      <td>163037</td>\n",
              "      <td>NaN</td>\n",
              "      <td>NaN</td>\n",
              "      <td>NaN</td>\n",
              "      <td>NaN</td>\n",
              "      <td>NaN</td>\n",
              "      <td>NaN</td>\n",
              "      <td>NaN</td>\n",
              "      <td>NaN</td>\n",
              "      <td>50.0</td>\n",
              "      <td>...</td>\n",
              "      <td>NaN</td>\n",
              "      <td>NaN</td>\n",
              "      <td>90.0</td>\n",
              "      <td>NaN</td>\n",
              "      <td>NaN</td>\n",
              "      <td>NaN</td>\n",
              "      <td>NaN</td>\n",
              "      <td>NaN</td>\n",
              "      <td>NaN</td>\n",
              "      <td>NaN</td>\n",
              "    </tr>\n",
              "    <tr>\n",
              "      <th>575423</th>\n",
              "      <td>163037</td>\n",
              "      <td>NaN</td>\n",
              "      <td>NaN</td>\n",
              "      <td>NaN</td>\n",
              "      <td>NaN</td>\n",
              "      <td>NaN</td>\n",
              "      <td>NaN</td>\n",
              "      <td>NaN</td>\n",
              "      <td>NaN</td>\n",
              "      <td>47.0</td>\n",
              "      <td>...</td>\n",
              "      <td>NaN</td>\n",
              "      <td>NaN</td>\n",
              "      <td>99.0</td>\n",
              "      <td>NaN</td>\n",
              "      <td>NaN</td>\n",
              "      <td>NaN</td>\n",
              "      <td>30.0</td>\n",
              "      <td>NaN</td>\n",
              "      <td>NaN</td>\n",
              "      <td>NaN</td>\n",
              "    </tr>\n",
              "  </tbody>\n",
              "</table>\n",
              "<p>575424 rows × 38 columns</p>\n",
              "</div>\n",
              "      <button class=\"colab-df-convert\" onclick=\"convertToInteractive('df-a3e3de5c-d092-4514-bf6b-34e18e68182a')\"\n",
              "              title=\"Convert this dataframe to an interactive table.\"\n",
              "              style=\"display:none;\">\n",
              "        \n",
              "  <svg xmlns=\"http://www.w3.org/2000/svg\" height=\"24px\"viewBox=\"0 0 24 24\"\n",
              "       width=\"24px\">\n",
              "    <path d=\"M0 0h24v24H0V0z\" fill=\"none\"/>\n",
              "    <path d=\"M18.56 5.44l.94 2.06.94-2.06 2.06-.94-2.06-.94-.94-2.06-.94 2.06-2.06.94zm-11 1L8.5 8.5l.94-2.06 2.06-.94-2.06-.94L8.5 2.5l-.94 2.06-2.06.94zm10 10l.94 2.06.94-2.06 2.06-.94-2.06-.94-.94-2.06-.94 2.06-2.06.94z\"/><path d=\"M17.41 7.96l-1.37-1.37c-.4-.4-.92-.59-1.43-.59-.52 0-1.04.2-1.43.59L10.3 9.45l-7.72 7.72c-.78.78-.78 2.05 0 2.83L4 21.41c.39.39.9.59 1.41.59.51 0 1.02-.2 1.41-.59l7.78-7.78 2.81-2.81c.8-.78.8-2.07 0-2.86zM5.41 20L4 18.59l7.72-7.72 1.47 1.35L5.41 20z\"/>\n",
              "  </svg>\n",
              "      </button>\n",
              "      \n",
              "  <style>\n",
              "    .colab-df-container {\n",
              "      display:flex;\n",
              "      flex-wrap:wrap;\n",
              "      gap: 12px;\n",
              "    }\n",
              "\n",
              "    .colab-df-convert {\n",
              "      background-color: #E8F0FE;\n",
              "      border: none;\n",
              "      border-radius: 50%;\n",
              "      cursor: pointer;\n",
              "      display: none;\n",
              "      fill: #1967D2;\n",
              "      height: 32px;\n",
              "      padding: 0 0 0 0;\n",
              "      width: 32px;\n",
              "    }\n",
              "\n",
              "    .colab-df-convert:hover {\n",
              "      background-color: #E2EBFA;\n",
              "      box-shadow: 0px 1px 2px rgba(60, 64, 67, 0.3), 0px 1px 3px 1px rgba(60, 64, 67, 0.15);\n",
              "      fill: #174EA6;\n",
              "    }\n",
              "\n",
              "    [theme=dark] .colab-df-convert {\n",
              "      background-color: #3B4455;\n",
              "      fill: #D2E3FC;\n",
              "    }\n",
              "\n",
              "    [theme=dark] .colab-df-convert:hover {\n",
              "      background-color: #434B5C;\n",
              "      box-shadow: 0px 1px 3px 1px rgba(0, 0, 0, 0.15);\n",
              "      filter: drop-shadow(0px 1px 2px rgba(0, 0, 0, 0.3));\n",
              "      fill: #FFFFFF;\n",
              "    }\n",
              "  </style>\n",
              "\n",
              "      <script>\n",
              "        const buttonEl =\n",
              "          document.querySelector('#df-a3e3de5c-d092-4514-bf6b-34e18e68182a button.colab-df-convert');\n",
              "        buttonEl.style.display =\n",
              "          google.colab.kernel.accessAllowed ? 'block' : 'none';\n",
              "\n",
              "        async function convertToInteractive(key) {\n",
              "          const element = document.querySelector('#df-a3e3de5c-d092-4514-bf6b-34e18e68182a');\n",
              "          const dataTable =\n",
              "            await google.colab.kernel.invokeFunction('convertToInteractive',\n",
              "                                                     [key], {});\n",
              "          if (!dataTable) return;\n",
              "\n",
              "          const docLinkHtml = 'Like what you see? Visit the ' +\n",
              "            '<a target=\"_blank\" href=https://colab.research.google.com/notebooks/data_table.ipynb>data table notebook</a>'\n",
              "            + ' to learn more about interactive tables.';\n",
              "          element.innerHTML = '';\n",
              "          dataTable['output_type'] = 'display_data';\n",
              "          await google.colab.output.renderOutput(dataTable, element);\n",
              "          const docLink = document.createElement('div');\n",
              "          docLink.innerHTML = docLinkHtml;\n",
              "          element.appendChild(docLink);\n",
              "        }\n",
              "      </script>\n",
              "    </div>\n",
              "  </div>\n",
              "  "
            ],
            "text/plain": [
              "        RecordID  ALP  ALT  AST  Albumin  BUN  Bilirubin  Cholesterol  \\\n",
              "0         132539  NaN  NaN  NaN      NaN  NaN        NaN          NaN   \n",
              "1         132539  NaN  NaN  NaN      NaN  NaN        NaN          NaN   \n",
              "2         132539  NaN  NaN  NaN      NaN  NaN        NaN          NaN   \n",
              "3         132539  NaN  NaN  NaN      NaN  NaN        NaN          NaN   \n",
              "4         132539  NaN  NaN  NaN      NaN  NaN        NaN          NaN   \n",
              "...          ...  ...  ...  ...      ...  ...        ...          ...   \n",
              "575419    163037  NaN  NaN  NaN      NaN  NaN        NaN          NaN   \n",
              "575420    163037  NaN  NaN  NaN      NaN  NaN        NaN          NaN   \n",
              "575421    163037  NaN  NaN  NaN      NaN  NaN        NaN          NaN   \n",
              "575422    163037  NaN  NaN  NaN      NaN  NaN        NaN          NaN   \n",
              "575423    163037  NaN  NaN  NaN      NaN  NaN        NaN          NaN   \n",
              "\n",
              "        Creatinine  DiasABP  ...  RespRate  SaO2  SysABP   Temp  TroponinI  \\\n",
              "0              NaN      NaN  ...      19.0   NaN     NaN  35.35        NaN   \n",
              "1              NaN      NaN  ...      18.0   NaN     NaN    NaN        NaN   \n",
              "2              NaN      NaN  ...      19.0   NaN     NaN    NaN        NaN   \n",
              "3              NaN      NaN  ...      20.0   NaN     NaN  37.80        NaN   \n",
              "4              NaN      NaN  ...      20.0   NaN     NaN    NaN        NaN   \n",
              "...            ...      ...  ...       ...   ...     ...    ...        ...   \n",
              "575419         NaN     51.0  ...       NaN   NaN   122.0    NaN        NaN   \n",
              "575420         NaN      NaN  ...       NaN   NaN     NaN    NaN        NaN   \n",
              "575421         NaN     56.0  ...       NaN   NaN   147.0  37.30        NaN   \n",
              "575422         NaN     50.0  ...       NaN   NaN    90.0    NaN        NaN   \n",
              "575423         NaN     47.0  ...       NaN   NaN    99.0    NaN        NaN   \n",
              "\n",
              "        TroponinT  Urine  WBC  Weight  pH  \n",
              "0             NaN  480.0  NaN    -1.0 NaN  \n",
              "1             NaN   30.0  NaN     NaN NaN  \n",
              "2             NaN  170.0  NaN     NaN NaN  \n",
              "3             NaN   60.0  NaN     NaN NaN  \n",
              "4             NaN    NaN  NaN     NaN NaN  \n",
              "...           ...    ...  ...     ...  ..  \n",
              "575419        NaN   60.0  NaN     NaN NaN  \n",
              "575420        NaN    NaN  NaN     NaN NaN  \n",
              "575421        NaN   50.0  NaN     NaN NaN  \n",
              "575422        NaN    NaN  NaN     NaN NaN  \n",
              "575423        NaN   30.0  NaN     NaN NaN  \n",
              "\n",
              "[575424 rows x 38 columns]"
            ]
          },
          "execution_count": 241,
          "metadata": {},
          "output_type": "execute_result"
        }
      ],
      "source": [
        "X"
      ]
    },
    {
      "cell_type": "code",
      "execution_count": null,
      "metadata": {
        "id": "SHbNYUfPVov8"
      },
      "outputs": [],
      "source": [
        "\n",
        "Recomended_Clusters=UW_index(df_norm,20)\n",
        "print(Recomended_Clusters)"
      ]
    },
    {
      "cell_type": "code",
      "execution_count": null,
      "metadata": {
        "id": "6tAnbEplVoyK"
      },
      "outputs": [],
      "source": [
        "value=[]\n",
        "for i in range(2,20):\n",
        "    value.append(UW_indexrelation(df_norm,i, 212))"
      ]
    },
    {
      "cell_type": "markdown",
      "metadata": {
        "id": "wEJVZVit41Cy"
      },
      "source": [
        "# Usando TSDB para carga de bases de datos https://github.com/WenjieDu/TSDB"
      ]
    },
    {
      "cell_type": "code",
      "execution_count": null,
      "metadata": {
        "id": "CpPAIkXffp5c"
      },
      "outputs": [],
      "source": [
        "tsdb.list_available_datasets()"
      ]
    },
    {
      "cell_type": "markdown",
      "source": [
        "### UCR_UEF SwedishLeaf"
      ],
      "metadata": {
        "id": "KdqIS8cfkqHn"
      }
    },
    {
      "cell_type": "code",
      "execution_count": null,
      "metadata": {
        "id": "4rAERi_CfnsE",
        "colab": {
          "base_uri": "https://localhost:8080/",
          "height": 541
        },
        "outputId": "44fe1fc3-9f19-4939-b093-ec151217b24f"
      },
      "outputs": [
        {
          "output_type": "stream",
          "name": "stdout",
          "text": [
            "Dataset UCR_UEA_SwedishLeaf has already been downloaded. Processing directly...\n",
            "Dataset UCR_UEA_SwedishLeaf has already been cached. Loading from cache directly...\n",
            "Loaded successfully!\n"
          ]
        },
        {
          "output_type": "execute_result",
          "data": {
            "text/plain": [
              "          0        1         2         3         4         5         6    \\\n",
              "0    1.524750  1.53812  1.410790  1.244400  1.039470  0.868676  0.664257   \n",
              "1    2.214930  2.05051  1.842350  1.635900  1.432590  1.285370  1.143260   \n",
              "2    1.872010  1.72637  1.573640  1.396900  1.252210  1.083760  0.955383   \n",
              "3    1.731019  1.70220  1.553009  1.387209  1.144580  0.951378  0.733035   \n",
              "4    1.842670  1.74943  1.593560  1.420510  1.268400  1.118720  0.972792   \n",
              "..        ...      ...       ...       ...       ...       ...       ...   \n",
              "495  1.555160  1.39118  1.027670  0.747651  0.425793  0.158014  0.152089   \n",
              "496  1.823961  1.74961  1.579271  1.384801  1.204190  1.022790  0.876355   \n",
              "497  2.009910  1.89306  1.711190  1.492730  1.312480  1.097560  0.949675   \n",
              "498  1.474660  1.49555  1.358110  1.142910  0.906578  0.752583  0.985894   \n",
              "499  2.021830  1.92956  1.740330  1.581830  1.428630  1.250230  1.103560   \n",
              "\n",
              "          7         8         9    ...       118       119       120  \\\n",
              "0    0.489801  0.268549  0.072490  ...  0.857708  0.760649  0.521033   \n",
              "1    1.006700  0.834105  0.712422  ...  0.597998  0.712422  0.876184   \n",
              "2    0.796125  0.718198  0.551916  ...  0.543164  0.660779  0.731471   \n",
              "3    0.559737  0.853391  1.037270  ... -0.157605  0.102225  0.317060   \n",
              "4    0.832494  0.711975  0.584576  ...  0.546884  0.635829  0.755926   \n",
              "..        ...       ...       ...  ...       ...       ...       ...   \n",
              "495 -0.104332 -0.113924 -0.279057  ...  0.228196  0.465730  0.150071   \n",
              "496  0.736351  0.632646  0.529009  ...  0.789007  0.744690  0.836515   \n",
              "497  0.844477  0.782751  0.732888  ...  0.531051  0.694845  0.753352   \n",
              "498  1.034220  0.868768  0.655180  ...  0.281352  0.524566  0.764574   \n",
              "499  0.957912  0.795351  0.668549  ...  0.549013  0.642931  0.794356   \n",
              "\n",
              "          121       122       123       124      125      126       127  \n",
              "0    0.362176  0.561489  0.741670  0.955210  1.09676  1.32531  1.484260  \n",
              "1    1.000530  1.143260  1.339930  1.541850  1.75360  1.96243  2.167350  \n",
              "2    0.865444  0.978358  1.158070  1.309600  1.49456  1.65084  1.839430  \n",
              "3    0.569536  0.786314  0.998449  1.217750  1.33880  1.58373  1.688559  \n",
              "4    0.895839  1.041540  1.188390  1.338390  1.51080  1.66561  1.822640  \n",
              "..        ...       ...       ...       ...      ...      ...       ...  \n",
              "495  0.092285  0.235049  0.392797  0.700363  1.01844  1.32524  1.515870  \n",
              "496  0.895575  1.026450  1.139960  1.265440  1.44938  1.61830  1.798490  \n",
              "497  0.927181  1.003640  1.199830  1.372080  1.58494  1.76518  1.976150  \n",
              "498  1.000560  1.130920  0.986802  0.818025  1.04678  1.28382  1.432340  \n",
              "499  0.926149  1.086920  1.280660  1.447140  1.61903  1.81512  1.991430  \n",
              "\n",
              "[500 rows x 128 columns]"
            ],
            "text/html": [
              "\n",
              "  <div id=\"df-aa08a475-f72a-4f46-8bff-3965087c949d\">\n",
              "    <div class=\"colab-df-container\">\n",
              "      <div>\n",
              "<style scoped>\n",
              "    .dataframe tbody tr th:only-of-type {\n",
              "        vertical-align: middle;\n",
              "    }\n",
              "\n",
              "    .dataframe tbody tr th {\n",
              "        vertical-align: top;\n",
              "    }\n",
              "\n",
              "    .dataframe thead th {\n",
              "        text-align: right;\n",
              "    }\n",
              "</style>\n",
              "<table border=\"1\" class=\"dataframe\">\n",
              "  <thead>\n",
              "    <tr style=\"text-align: right;\">\n",
              "      <th></th>\n",
              "      <th>0</th>\n",
              "      <th>1</th>\n",
              "      <th>2</th>\n",
              "      <th>3</th>\n",
              "      <th>4</th>\n",
              "      <th>5</th>\n",
              "      <th>6</th>\n",
              "      <th>7</th>\n",
              "      <th>8</th>\n",
              "      <th>9</th>\n",
              "      <th>...</th>\n",
              "      <th>118</th>\n",
              "      <th>119</th>\n",
              "      <th>120</th>\n",
              "      <th>121</th>\n",
              "      <th>122</th>\n",
              "      <th>123</th>\n",
              "      <th>124</th>\n",
              "      <th>125</th>\n",
              "      <th>126</th>\n",
              "      <th>127</th>\n",
              "    </tr>\n",
              "  </thead>\n",
              "  <tbody>\n",
              "    <tr>\n",
              "      <th>0</th>\n",
              "      <td>1.524750</td>\n",
              "      <td>1.53812</td>\n",
              "      <td>1.410790</td>\n",
              "      <td>1.244400</td>\n",
              "      <td>1.039470</td>\n",
              "      <td>0.868676</td>\n",
              "      <td>0.664257</td>\n",
              "      <td>0.489801</td>\n",
              "      <td>0.268549</td>\n",
              "      <td>0.072490</td>\n",
              "      <td>...</td>\n",
              "      <td>0.857708</td>\n",
              "      <td>0.760649</td>\n",
              "      <td>0.521033</td>\n",
              "      <td>0.362176</td>\n",
              "      <td>0.561489</td>\n",
              "      <td>0.741670</td>\n",
              "      <td>0.955210</td>\n",
              "      <td>1.09676</td>\n",
              "      <td>1.32531</td>\n",
              "      <td>1.484260</td>\n",
              "    </tr>\n",
              "    <tr>\n",
              "      <th>1</th>\n",
              "      <td>2.214930</td>\n",
              "      <td>2.05051</td>\n",
              "      <td>1.842350</td>\n",
              "      <td>1.635900</td>\n",
              "      <td>1.432590</td>\n",
              "      <td>1.285370</td>\n",
              "      <td>1.143260</td>\n",
              "      <td>1.006700</td>\n",
              "      <td>0.834105</td>\n",
              "      <td>0.712422</td>\n",
              "      <td>...</td>\n",
              "      <td>0.597998</td>\n",
              "      <td>0.712422</td>\n",
              "      <td>0.876184</td>\n",
              "      <td>1.000530</td>\n",
              "      <td>1.143260</td>\n",
              "      <td>1.339930</td>\n",
              "      <td>1.541850</td>\n",
              "      <td>1.75360</td>\n",
              "      <td>1.96243</td>\n",
              "      <td>2.167350</td>\n",
              "    </tr>\n",
              "    <tr>\n",
              "      <th>2</th>\n",
              "      <td>1.872010</td>\n",
              "      <td>1.72637</td>\n",
              "      <td>1.573640</td>\n",
              "      <td>1.396900</td>\n",
              "      <td>1.252210</td>\n",
              "      <td>1.083760</td>\n",
              "      <td>0.955383</td>\n",
              "      <td>0.796125</td>\n",
              "      <td>0.718198</td>\n",
              "      <td>0.551916</td>\n",
              "      <td>...</td>\n",
              "      <td>0.543164</td>\n",
              "      <td>0.660779</td>\n",
              "      <td>0.731471</td>\n",
              "      <td>0.865444</td>\n",
              "      <td>0.978358</td>\n",
              "      <td>1.158070</td>\n",
              "      <td>1.309600</td>\n",
              "      <td>1.49456</td>\n",
              "      <td>1.65084</td>\n",
              "      <td>1.839430</td>\n",
              "    </tr>\n",
              "    <tr>\n",
              "      <th>3</th>\n",
              "      <td>1.731019</td>\n",
              "      <td>1.70220</td>\n",
              "      <td>1.553009</td>\n",
              "      <td>1.387209</td>\n",
              "      <td>1.144580</td>\n",
              "      <td>0.951378</td>\n",
              "      <td>0.733035</td>\n",
              "      <td>0.559737</td>\n",
              "      <td>0.853391</td>\n",
              "      <td>1.037270</td>\n",
              "      <td>...</td>\n",
              "      <td>-0.157605</td>\n",
              "      <td>0.102225</td>\n",
              "      <td>0.317060</td>\n",
              "      <td>0.569536</td>\n",
              "      <td>0.786314</td>\n",
              "      <td>0.998449</td>\n",
              "      <td>1.217750</td>\n",
              "      <td>1.33880</td>\n",
              "      <td>1.58373</td>\n",
              "      <td>1.688559</td>\n",
              "    </tr>\n",
              "    <tr>\n",
              "      <th>4</th>\n",
              "      <td>1.842670</td>\n",
              "      <td>1.74943</td>\n",
              "      <td>1.593560</td>\n",
              "      <td>1.420510</td>\n",
              "      <td>1.268400</td>\n",
              "      <td>1.118720</td>\n",
              "      <td>0.972792</td>\n",
              "      <td>0.832494</td>\n",
              "      <td>0.711975</td>\n",
              "      <td>0.584576</td>\n",
              "      <td>...</td>\n",
              "      <td>0.546884</td>\n",
              "      <td>0.635829</td>\n",
              "      <td>0.755926</td>\n",
              "      <td>0.895839</td>\n",
              "      <td>1.041540</td>\n",
              "      <td>1.188390</td>\n",
              "      <td>1.338390</td>\n",
              "      <td>1.51080</td>\n",
              "      <td>1.66561</td>\n",
              "      <td>1.822640</td>\n",
              "    </tr>\n",
              "    <tr>\n",
              "      <th>...</th>\n",
              "      <td>...</td>\n",
              "      <td>...</td>\n",
              "      <td>...</td>\n",
              "      <td>...</td>\n",
              "      <td>...</td>\n",
              "      <td>...</td>\n",
              "      <td>...</td>\n",
              "      <td>...</td>\n",
              "      <td>...</td>\n",
              "      <td>...</td>\n",
              "      <td>...</td>\n",
              "      <td>...</td>\n",
              "      <td>...</td>\n",
              "      <td>...</td>\n",
              "      <td>...</td>\n",
              "      <td>...</td>\n",
              "      <td>...</td>\n",
              "      <td>...</td>\n",
              "      <td>...</td>\n",
              "      <td>...</td>\n",
              "      <td>...</td>\n",
              "    </tr>\n",
              "    <tr>\n",
              "      <th>495</th>\n",
              "      <td>1.555160</td>\n",
              "      <td>1.39118</td>\n",
              "      <td>1.027670</td>\n",
              "      <td>0.747651</td>\n",
              "      <td>0.425793</td>\n",
              "      <td>0.158014</td>\n",
              "      <td>0.152089</td>\n",
              "      <td>-0.104332</td>\n",
              "      <td>-0.113924</td>\n",
              "      <td>-0.279057</td>\n",
              "      <td>...</td>\n",
              "      <td>0.228196</td>\n",
              "      <td>0.465730</td>\n",
              "      <td>0.150071</td>\n",
              "      <td>0.092285</td>\n",
              "      <td>0.235049</td>\n",
              "      <td>0.392797</td>\n",
              "      <td>0.700363</td>\n",
              "      <td>1.01844</td>\n",
              "      <td>1.32524</td>\n",
              "      <td>1.515870</td>\n",
              "    </tr>\n",
              "    <tr>\n",
              "      <th>496</th>\n",
              "      <td>1.823961</td>\n",
              "      <td>1.74961</td>\n",
              "      <td>1.579271</td>\n",
              "      <td>1.384801</td>\n",
              "      <td>1.204190</td>\n",
              "      <td>1.022790</td>\n",
              "      <td>0.876355</td>\n",
              "      <td>0.736351</td>\n",
              "      <td>0.632646</td>\n",
              "      <td>0.529009</td>\n",
              "      <td>...</td>\n",
              "      <td>0.789007</td>\n",
              "      <td>0.744690</td>\n",
              "      <td>0.836515</td>\n",
              "      <td>0.895575</td>\n",
              "      <td>1.026450</td>\n",
              "      <td>1.139960</td>\n",
              "      <td>1.265440</td>\n",
              "      <td>1.44938</td>\n",
              "      <td>1.61830</td>\n",
              "      <td>1.798490</td>\n",
              "    </tr>\n",
              "    <tr>\n",
              "      <th>497</th>\n",
              "      <td>2.009910</td>\n",
              "      <td>1.89306</td>\n",
              "      <td>1.711190</td>\n",
              "      <td>1.492730</td>\n",
              "      <td>1.312480</td>\n",
              "      <td>1.097560</td>\n",
              "      <td>0.949675</td>\n",
              "      <td>0.844477</td>\n",
              "      <td>0.782751</td>\n",
              "      <td>0.732888</td>\n",
              "      <td>...</td>\n",
              "      <td>0.531051</td>\n",
              "      <td>0.694845</td>\n",
              "      <td>0.753352</td>\n",
              "      <td>0.927181</td>\n",
              "      <td>1.003640</td>\n",
              "      <td>1.199830</td>\n",
              "      <td>1.372080</td>\n",
              "      <td>1.58494</td>\n",
              "      <td>1.76518</td>\n",
              "      <td>1.976150</td>\n",
              "    </tr>\n",
              "    <tr>\n",
              "      <th>498</th>\n",
              "      <td>1.474660</td>\n",
              "      <td>1.49555</td>\n",
              "      <td>1.358110</td>\n",
              "      <td>1.142910</td>\n",
              "      <td>0.906578</td>\n",
              "      <td>0.752583</td>\n",
              "      <td>0.985894</td>\n",
              "      <td>1.034220</td>\n",
              "      <td>0.868768</td>\n",
              "      <td>0.655180</td>\n",
              "      <td>...</td>\n",
              "      <td>0.281352</td>\n",
              "      <td>0.524566</td>\n",
              "      <td>0.764574</td>\n",
              "      <td>1.000560</td>\n",
              "      <td>1.130920</td>\n",
              "      <td>0.986802</td>\n",
              "      <td>0.818025</td>\n",
              "      <td>1.04678</td>\n",
              "      <td>1.28382</td>\n",
              "      <td>1.432340</td>\n",
              "    </tr>\n",
              "    <tr>\n",
              "      <th>499</th>\n",
              "      <td>2.021830</td>\n",
              "      <td>1.92956</td>\n",
              "      <td>1.740330</td>\n",
              "      <td>1.581830</td>\n",
              "      <td>1.428630</td>\n",
              "      <td>1.250230</td>\n",
              "      <td>1.103560</td>\n",
              "      <td>0.957912</td>\n",
              "      <td>0.795351</td>\n",
              "      <td>0.668549</td>\n",
              "      <td>...</td>\n",
              "      <td>0.549013</td>\n",
              "      <td>0.642931</td>\n",
              "      <td>0.794356</td>\n",
              "      <td>0.926149</td>\n",
              "      <td>1.086920</td>\n",
              "      <td>1.280660</td>\n",
              "      <td>1.447140</td>\n",
              "      <td>1.61903</td>\n",
              "      <td>1.81512</td>\n",
              "      <td>1.991430</td>\n",
              "    </tr>\n",
              "  </tbody>\n",
              "</table>\n",
              "<p>500 rows × 128 columns</p>\n",
              "</div>\n",
              "      <button class=\"colab-df-convert\" onclick=\"convertToInteractive('df-aa08a475-f72a-4f46-8bff-3965087c949d')\"\n",
              "              title=\"Convert this dataframe to an interactive table.\"\n",
              "              style=\"display:none;\">\n",
              "        \n",
              "  <svg xmlns=\"http://www.w3.org/2000/svg\" height=\"24px\"viewBox=\"0 0 24 24\"\n",
              "       width=\"24px\">\n",
              "    <path d=\"M0 0h24v24H0V0z\" fill=\"none\"/>\n",
              "    <path d=\"M18.56 5.44l.94 2.06.94-2.06 2.06-.94-2.06-.94-.94-2.06-.94 2.06-2.06.94zm-11 1L8.5 8.5l.94-2.06 2.06-.94-2.06-.94L8.5 2.5l-.94 2.06-2.06.94zm10 10l.94 2.06.94-2.06 2.06-.94-2.06-.94-.94-2.06-.94 2.06-2.06.94z\"/><path d=\"M17.41 7.96l-1.37-1.37c-.4-.4-.92-.59-1.43-.59-.52 0-1.04.2-1.43.59L10.3 9.45l-7.72 7.72c-.78.78-.78 2.05 0 2.83L4 21.41c.39.39.9.59 1.41.59.51 0 1.02-.2 1.41-.59l7.78-7.78 2.81-2.81c.8-.78.8-2.07 0-2.86zM5.41 20L4 18.59l7.72-7.72 1.47 1.35L5.41 20z\"/>\n",
              "  </svg>\n",
              "      </button>\n",
              "      \n",
              "  <style>\n",
              "    .colab-df-container {\n",
              "      display:flex;\n",
              "      flex-wrap:wrap;\n",
              "      gap: 12px;\n",
              "    }\n",
              "\n",
              "    .colab-df-convert {\n",
              "      background-color: #E8F0FE;\n",
              "      border: none;\n",
              "      border-radius: 50%;\n",
              "      cursor: pointer;\n",
              "      display: none;\n",
              "      fill: #1967D2;\n",
              "      height: 32px;\n",
              "      padding: 0 0 0 0;\n",
              "      width: 32px;\n",
              "    }\n",
              "\n",
              "    .colab-df-convert:hover {\n",
              "      background-color: #E2EBFA;\n",
              "      box-shadow: 0px 1px 2px rgba(60, 64, 67, 0.3), 0px 1px 3px 1px rgba(60, 64, 67, 0.15);\n",
              "      fill: #174EA6;\n",
              "    }\n",
              "\n",
              "    [theme=dark] .colab-df-convert {\n",
              "      background-color: #3B4455;\n",
              "      fill: #D2E3FC;\n",
              "    }\n",
              "\n",
              "    [theme=dark] .colab-df-convert:hover {\n",
              "      background-color: #434B5C;\n",
              "      box-shadow: 0px 1px 3px 1px rgba(0, 0, 0, 0.15);\n",
              "      filter: drop-shadow(0px 1px 2px rgba(0, 0, 0, 0.3));\n",
              "      fill: #FFFFFF;\n",
              "    }\n",
              "  </style>\n",
              "\n",
              "      <script>\n",
              "        const buttonEl =\n",
              "          document.querySelector('#df-aa08a475-f72a-4f46-8bff-3965087c949d button.colab-df-convert');\n",
              "        buttonEl.style.display =\n",
              "          google.colab.kernel.accessAllowed ? 'block' : 'none';\n",
              "\n",
              "        async function convertToInteractive(key) {\n",
              "          const element = document.querySelector('#df-aa08a475-f72a-4f46-8bff-3965087c949d');\n",
              "          const dataTable =\n",
              "            await google.colab.kernel.invokeFunction('convertToInteractive',\n",
              "                                                     [key], {});\n",
              "          if (!dataTable) return;\n",
              "\n",
              "          const docLinkHtml = 'Like what you see? Visit the ' +\n",
              "            '<a target=\"_blank\" href=https://colab.research.google.com/notebooks/data_table.ipynb>data table notebook</a>'\n",
              "            + ' to learn more about interactive tables.';\n",
              "          element.innerHTML = '';\n",
              "          dataTable['output_type'] = 'display_data';\n",
              "          await google.colab.output.renderOutput(dataTable, element);\n",
              "          const docLink = document.createElement('div');\n",
              "          docLink.innerHTML = docLinkHtml;\n",
              "          element.appendChild(docLink);\n",
              "        }\n",
              "      </script>\n",
              "    </div>\n",
              "  </div>\n",
              "  "
            ]
          },
          "metadata": {},
          "execution_count": 15
        }
      ],
      "source": [
        "import tsdb\n",
        "import pandas as pd\n",
        "data = tsdb.load_dataset('UCR_UEA_SwedishLeaf')\n",
        "pd.DataFrame(data['X_train'].reshape(500, 128 ))"
      ]
    },
    {
      "cell_type": "code",
      "execution_count": null,
      "metadata": {
        "colab": {
          "base_uri": "https://localhost:8080/"
        },
        "id": "x628JeRhI7aN",
        "outputId": "f3eb4396-cc03-4492-85fe-2a7682c4f717"
      },
      "outputs": [
        {
          "output_type": "execute_result",
          "data": {
            "text/plain": [
              "(500, 128, 1)"
            ]
          },
          "metadata": {},
          "execution_count": 16
        }
      ],
      "source": [
        "data['X_train'].shape\n"
      ]
    },
    {
      "cell_type": "code",
      "execution_count": null,
      "metadata": {
        "colab": {
          "base_uri": "https://localhost:8080/",
          "height": 488
        },
        "id": "ha8QcjM4LVG0",
        "outputId": "3516863c-ab64-42cd-872a-0bdeb8d6538b"
      },
      "outputs": [
        {
          "output_type": "execute_result",
          "data": {
            "text/plain": [
              "          0        1         2         3         4         5         6    \\\n",
              "0    1.524750  1.53812  1.410790  1.244400  1.039470  0.868676  0.664257   \n",
              "1    2.214930  2.05051  1.842350  1.635900  1.432590  1.285370  1.143260   \n",
              "2    1.872010  1.72637  1.573640  1.396900  1.252210  1.083760  0.955383   \n",
              "3    1.731019  1.70220  1.553009  1.387209  1.144580  0.951378  0.733035   \n",
              "4    1.842670  1.74943  1.593560  1.420510  1.268400  1.118720  0.972792   \n",
              "..        ...      ...       ...       ...       ...       ...       ...   \n",
              "495  1.555160  1.39118  1.027670  0.747651  0.425793  0.158014  0.152089   \n",
              "496  1.823961  1.74961  1.579271  1.384801  1.204190  1.022790  0.876355   \n",
              "497  2.009910  1.89306  1.711190  1.492730  1.312480  1.097560  0.949675   \n",
              "498  1.474660  1.49555  1.358110  1.142910  0.906578  0.752583  0.985894   \n",
              "499  2.021830  1.92956  1.740330  1.581830  1.428630  1.250230  1.103560   \n",
              "\n",
              "          7         8         9    ...       118       119       120  \\\n",
              "0    0.489801  0.268549  0.072490  ...  0.857708  0.760649  0.521033   \n",
              "1    1.006700  0.834105  0.712422  ...  0.597998  0.712422  0.876184   \n",
              "2    0.796125  0.718198  0.551916  ...  0.543164  0.660779  0.731471   \n",
              "3    0.559737  0.853391  1.037270  ... -0.157605  0.102225  0.317060   \n",
              "4    0.832494  0.711975  0.584576  ...  0.546884  0.635829  0.755926   \n",
              "..        ...       ...       ...  ...       ...       ...       ...   \n",
              "495 -0.104332 -0.113924 -0.279057  ...  0.228196  0.465730  0.150071   \n",
              "496  0.736351  0.632646  0.529009  ...  0.789007  0.744690  0.836515   \n",
              "497  0.844477  0.782751  0.732888  ...  0.531051  0.694845  0.753352   \n",
              "498  1.034220  0.868768  0.655180  ...  0.281352  0.524566  0.764574   \n",
              "499  0.957912  0.795351  0.668549  ...  0.549013  0.642931  0.794356   \n",
              "\n",
              "          121       122       123       124      125      126       127  \n",
              "0    0.362176  0.561489  0.741670  0.955210  1.09676  1.32531  1.484260  \n",
              "1    1.000530  1.143260  1.339930  1.541850  1.75360  1.96243  2.167350  \n",
              "2    0.865444  0.978358  1.158070  1.309600  1.49456  1.65084  1.839430  \n",
              "3    0.569536  0.786314  0.998449  1.217750  1.33880  1.58373  1.688559  \n",
              "4    0.895839  1.041540  1.188390  1.338390  1.51080  1.66561  1.822640  \n",
              "..        ...       ...       ...       ...      ...      ...       ...  \n",
              "495  0.092285  0.235049  0.392797  0.700363  1.01844  1.32524  1.515870  \n",
              "496  0.895575  1.026450  1.139960  1.265440  1.44938  1.61830  1.798490  \n",
              "497  0.927181  1.003640  1.199830  1.372080  1.58494  1.76518  1.976150  \n",
              "498  1.000560  1.130920  0.986802  0.818025  1.04678  1.28382  1.432340  \n",
              "499  0.926149  1.086920  1.280660  1.447140  1.61903  1.81512  1.991430  \n",
              "\n",
              "[500 rows x 128 columns]"
            ],
            "text/html": [
              "\n",
              "  <div id=\"df-eefa795f-9eb2-407c-8f84-0186012bfac5\">\n",
              "    <div class=\"colab-df-container\">\n",
              "      <div>\n",
              "<style scoped>\n",
              "    .dataframe tbody tr th:only-of-type {\n",
              "        vertical-align: middle;\n",
              "    }\n",
              "\n",
              "    .dataframe tbody tr th {\n",
              "        vertical-align: top;\n",
              "    }\n",
              "\n",
              "    .dataframe thead th {\n",
              "        text-align: right;\n",
              "    }\n",
              "</style>\n",
              "<table border=\"1\" class=\"dataframe\">\n",
              "  <thead>\n",
              "    <tr style=\"text-align: right;\">\n",
              "      <th></th>\n",
              "      <th>0</th>\n",
              "      <th>1</th>\n",
              "      <th>2</th>\n",
              "      <th>3</th>\n",
              "      <th>4</th>\n",
              "      <th>5</th>\n",
              "      <th>6</th>\n",
              "      <th>7</th>\n",
              "      <th>8</th>\n",
              "      <th>9</th>\n",
              "      <th>...</th>\n",
              "      <th>118</th>\n",
              "      <th>119</th>\n",
              "      <th>120</th>\n",
              "      <th>121</th>\n",
              "      <th>122</th>\n",
              "      <th>123</th>\n",
              "      <th>124</th>\n",
              "      <th>125</th>\n",
              "      <th>126</th>\n",
              "      <th>127</th>\n",
              "    </tr>\n",
              "  </thead>\n",
              "  <tbody>\n",
              "    <tr>\n",
              "      <th>0</th>\n",
              "      <td>1.524750</td>\n",
              "      <td>1.53812</td>\n",
              "      <td>1.410790</td>\n",
              "      <td>1.244400</td>\n",
              "      <td>1.039470</td>\n",
              "      <td>0.868676</td>\n",
              "      <td>0.664257</td>\n",
              "      <td>0.489801</td>\n",
              "      <td>0.268549</td>\n",
              "      <td>0.072490</td>\n",
              "      <td>...</td>\n",
              "      <td>0.857708</td>\n",
              "      <td>0.760649</td>\n",
              "      <td>0.521033</td>\n",
              "      <td>0.362176</td>\n",
              "      <td>0.561489</td>\n",
              "      <td>0.741670</td>\n",
              "      <td>0.955210</td>\n",
              "      <td>1.09676</td>\n",
              "      <td>1.32531</td>\n",
              "      <td>1.484260</td>\n",
              "    </tr>\n",
              "    <tr>\n",
              "      <th>1</th>\n",
              "      <td>2.214930</td>\n",
              "      <td>2.05051</td>\n",
              "      <td>1.842350</td>\n",
              "      <td>1.635900</td>\n",
              "      <td>1.432590</td>\n",
              "      <td>1.285370</td>\n",
              "      <td>1.143260</td>\n",
              "      <td>1.006700</td>\n",
              "      <td>0.834105</td>\n",
              "      <td>0.712422</td>\n",
              "      <td>...</td>\n",
              "      <td>0.597998</td>\n",
              "      <td>0.712422</td>\n",
              "      <td>0.876184</td>\n",
              "      <td>1.000530</td>\n",
              "      <td>1.143260</td>\n",
              "      <td>1.339930</td>\n",
              "      <td>1.541850</td>\n",
              "      <td>1.75360</td>\n",
              "      <td>1.96243</td>\n",
              "      <td>2.167350</td>\n",
              "    </tr>\n",
              "    <tr>\n",
              "      <th>2</th>\n",
              "      <td>1.872010</td>\n",
              "      <td>1.72637</td>\n",
              "      <td>1.573640</td>\n",
              "      <td>1.396900</td>\n",
              "      <td>1.252210</td>\n",
              "      <td>1.083760</td>\n",
              "      <td>0.955383</td>\n",
              "      <td>0.796125</td>\n",
              "      <td>0.718198</td>\n",
              "      <td>0.551916</td>\n",
              "      <td>...</td>\n",
              "      <td>0.543164</td>\n",
              "      <td>0.660779</td>\n",
              "      <td>0.731471</td>\n",
              "      <td>0.865444</td>\n",
              "      <td>0.978358</td>\n",
              "      <td>1.158070</td>\n",
              "      <td>1.309600</td>\n",
              "      <td>1.49456</td>\n",
              "      <td>1.65084</td>\n",
              "      <td>1.839430</td>\n",
              "    </tr>\n",
              "    <tr>\n",
              "      <th>3</th>\n",
              "      <td>1.731019</td>\n",
              "      <td>1.70220</td>\n",
              "      <td>1.553009</td>\n",
              "      <td>1.387209</td>\n",
              "      <td>1.144580</td>\n",
              "      <td>0.951378</td>\n",
              "      <td>0.733035</td>\n",
              "      <td>0.559737</td>\n",
              "      <td>0.853391</td>\n",
              "      <td>1.037270</td>\n",
              "      <td>...</td>\n",
              "      <td>-0.157605</td>\n",
              "      <td>0.102225</td>\n",
              "      <td>0.317060</td>\n",
              "      <td>0.569536</td>\n",
              "      <td>0.786314</td>\n",
              "      <td>0.998449</td>\n",
              "      <td>1.217750</td>\n",
              "      <td>1.33880</td>\n",
              "      <td>1.58373</td>\n",
              "      <td>1.688559</td>\n",
              "    </tr>\n",
              "    <tr>\n",
              "      <th>4</th>\n",
              "      <td>1.842670</td>\n",
              "      <td>1.74943</td>\n",
              "      <td>1.593560</td>\n",
              "      <td>1.420510</td>\n",
              "      <td>1.268400</td>\n",
              "      <td>1.118720</td>\n",
              "      <td>0.972792</td>\n",
              "      <td>0.832494</td>\n",
              "      <td>0.711975</td>\n",
              "      <td>0.584576</td>\n",
              "      <td>...</td>\n",
              "      <td>0.546884</td>\n",
              "      <td>0.635829</td>\n",
              "      <td>0.755926</td>\n",
              "      <td>0.895839</td>\n",
              "      <td>1.041540</td>\n",
              "      <td>1.188390</td>\n",
              "      <td>1.338390</td>\n",
              "      <td>1.51080</td>\n",
              "      <td>1.66561</td>\n",
              "      <td>1.822640</td>\n",
              "    </tr>\n",
              "    <tr>\n",
              "      <th>...</th>\n",
              "      <td>...</td>\n",
              "      <td>...</td>\n",
              "      <td>...</td>\n",
              "      <td>...</td>\n",
              "      <td>...</td>\n",
              "      <td>...</td>\n",
              "      <td>...</td>\n",
              "      <td>...</td>\n",
              "      <td>...</td>\n",
              "      <td>...</td>\n",
              "      <td>...</td>\n",
              "      <td>...</td>\n",
              "      <td>...</td>\n",
              "      <td>...</td>\n",
              "      <td>...</td>\n",
              "      <td>...</td>\n",
              "      <td>...</td>\n",
              "      <td>...</td>\n",
              "      <td>...</td>\n",
              "      <td>...</td>\n",
              "      <td>...</td>\n",
              "    </tr>\n",
              "    <tr>\n",
              "      <th>495</th>\n",
              "      <td>1.555160</td>\n",
              "      <td>1.39118</td>\n",
              "      <td>1.027670</td>\n",
              "      <td>0.747651</td>\n",
              "      <td>0.425793</td>\n",
              "      <td>0.158014</td>\n",
              "      <td>0.152089</td>\n",
              "      <td>-0.104332</td>\n",
              "      <td>-0.113924</td>\n",
              "      <td>-0.279057</td>\n",
              "      <td>...</td>\n",
              "      <td>0.228196</td>\n",
              "      <td>0.465730</td>\n",
              "      <td>0.150071</td>\n",
              "      <td>0.092285</td>\n",
              "      <td>0.235049</td>\n",
              "      <td>0.392797</td>\n",
              "      <td>0.700363</td>\n",
              "      <td>1.01844</td>\n",
              "      <td>1.32524</td>\n",
              "      <td>1.515870</td>\n",
              "    </tr>\n",
              "    <tr>\n",
              "      <th>496</th>\n",
              "      <td>1.823961</td>\n",
              "      <td>1.74961</td>\n",
              "      <td>1.579271</td>\n",
              "      <td>1.384801</td>\n",
              "      <td>1.204190</td>\n",
              "      <td>1.022790</td>\n",
              "      <td>0.876355</td>\n",
              "      <td>0.736351</td>\n",
              "      <td>0.632646</td>\n",
              "      <td>0.529009</td>\n",
              "      <td>...</td>\n",
              "      <td>0.789007</td>\n",
              "      <td>0.744690</td>\n",
              "      <td>0.836515</td>\n",
              "      <td>0.895575</td>\n",
              "      <td>1.026450</td>\n",
              "      <td>1.139960</td>\n",
              "      <td>1.265440</td>\n",
              "      <td>1.44938</td>\n",
              "      <td>1.61830</td>\n",
              "      <td>1.798490</td>\n",
              "    </tr>\n",
              "    <tr>\n",
              "      <th>497</th>\n",
              "      <td>2.009910</td>\n",
              "      <td>1.89306</td>\n",
              "      <td>1.711190</td>\n",
              "      <td>1.492730</td>\n",
              "      <td>1.312480</td>\n",
              "      <td>1.097560</td>\n",
              "      <td>0.949675</td>\n",
              "      <td>0.844477</td>\n",
              "      <td>0.782751</td>\n",
              "      <td>0.732888</td>\n",
              "      <td>...</td>\n",
              "      <td>0.531051</td>\n",
              "      <td>0.694845</td>\n",
              "      <td>0.753352</td>\n",
              "      <td>0.927181</td>\n",
              "      <td>1.003640</td>\n",
              "      <td>1.199830</td>\n",
              "      <td>1.372080</td>\n",
              "      <td>1.58494</td>\n",
              "      <td>1.76518</td>\n",
              "      <td>1.976150</td>\n",
              "    </tr>\n",
              "    <tr>\n",
              "      <th>498</th>\n",
              "      <td>1.474660</td>\n",
              "      <td>1.49555</td>\n",
              "      <td>1.358110</td>\n",
              "      <td>1.142910</td>\n",
              "      <td>0.906578</td>\n",
              "      <td>0.752583</td>\n",
              "      <td>0.985894</td>\n",
              "      <td>1.034220</td>\n",
              "      <td>0.868768</td>\n",
              "      <td>0.655180</td>\n",
              "      <td>...</td>\n",
              "      <td>0.281352</td>\n",
              "      <td>0.524566</td>\n",
              "      <td>0.764574</td>\n",
              "      <td>1.000560</td>\n",
              "      <td>1.130920</td>\n",
              "      <td>0.986802</td>\n",
              "      <td>0.818025</td>\n",
              "      <td>1.04678</td>\n",
              "      <td>1.28382</td>\n",
              "      <td>1.432340</td>\n",
              "    </tr>\n",
              "    <tr>\n",
              "      <th>499</th>\n",
              "      <td>2.021830</td>\n",
              "      <td>1.92956</td>\n",
              "      <td>1.740330</td>\n",
              "      <td>1.581830</td>\n",
              "      <td>1.428630</td>\n",
              "      <td>1.250230</td>\n",
              "      <td>1.103560</td>\n",
              "      <td>0.957912</td>\n",
              "      <td>0.795351</td>\n",
              "      <td>0.668549</td>\n",
              "      <td>...</td>\n",
              "      <td>0.549013</td>\n",
              "      <td>0.642931</td>\n",
              "      <td>0.794356</td>\n",
              "      <td>0.926149</td>\n",
              "      <td>1.086920</td>\n",
              "      <td>1.280660</td>\n",
              "      <td>1.447140</td>\n",
              "      <td>1.61903</td>\n",
              "      <td>1.81512</td>\n",
              "      <td>1.991430</td>\n",
              "    </tr>\n",
              "  </tbody>\n",
              "</table>\n",
              "<p>500 rows × 128 columns</p>\n",
              "</div>\n",
              "      <button class=\"colab-df-convert\" onclick=\"convertToInteractive('df-eefa795f-9eb2-407c-8f84-0186012bfac5')\"\n",
              "              title=\"Convert this dataframe to an interactive table.\"\n",
              "              style=\"display:none;\">\n",
              "        \n",
              "  <svg xmlns=\"http://www.w3.org/2000/svg\" height=\"24px\"viewBox=\"0 0 24 24\"\n",
              "       width=\"24px\">\n",
              "    <path d=\"M0 0h24v24H0V0z\" fill=\"none\"/>\n",
              "    <path d=\"M18.56 5.44l.94 2.06.94-2.06 2.06-.94-2.06-.94-.94-2.06-.94 2.06-2.06.94zm-11 1L8.5 8.5l.94-2.06 2.06-.94-2.06-.94L8.5 2.5l-.94 2.06-2.06.94zm10 10l.94 2.06.94-2.06 2.06-.94-2.06-.94-.94-2.06-.94 2.06-2.06.94z\"/><path d=\"M17.41 7.96l-1.37-1.37c-.4-.4-.92-.59-1.43-.59-.52 0-1.04.2-1.43.59L10.3 9.45l-7.72 7.72c-.78.78-.78 2.05 0 2.83L4 21.41c.39.39.9.59 1.41.59.51 0 1.02-.2 1.41-.59l7.78-7.78 2.81-2.81c.8-.78.8-2.07 0-2.86zM5.41 20L4 18.59l7.72-7.72 1.47 1.35L5.41 20z\"/>\n",
              "  </svg>\n",
              "      </button>\n",
              "      \n",
              "  <style>\n",
              "    .colab-df-container {\n",
              "      display:flex;\n",
              "      flex-wrap:wrap;\n",
              "      gap: 12px;\n",
              "    }\n",
              "\n",
              "    .colab-df-convert {\n",
              "      background-color: #E8F0FE;\n",
              "      border: none;\n",
              "      border-radius: 50%;\n",
              "      cursor: pointer;\n",
              "      display: none;\n",
              "      fill: #1967D2;\n",
              "      height: 32px;\n",
              "      padding: 0 0 0 0;\n",
              "      width: 32px;\n",
              "    }\n",
              "\n",
              "    .colab-df-convert:hover {\n",
              "      background-color: #E2EBFA;\n",
              "      box-shadow: 0px 1px 2px rgba(60, 64, 67, 0.3), 0px 1px 3px 1px rgba(60, 64, 67, 0.15);\n",
              "      fill: #174EA6;\n",
              "    }\n",
              "\n",
              "    [theme=dark] .colab-df-convert {\n",
              "      background-color: #3B4455;\n",
              "      fill: #D2E3FC;\n",
              "    }\n",
              "\n",
              "    [theme=dark] .colab-df-convert:hover {\n",
              "      background-color: #434B5C;\n",
              "      box-shadow: 0px 1px 3px 1px rgba(0, 0, 0, 0.15);\n",
              "      filter: drop-shadow(0px 1px 2px rgba(0, 0, 0, 0.3));\n",
              "      fill: #FFFFFF;\n",
              "    }\n",
              "  </style>\n",
              "\n",
              "      <script>\n",
              "        const buttonEl =\n",
              "          document.querySelector('#df-eefa795f-9eb2-407c-8f84-0186012bfac5 button.colab-df-convert');\n",
              "        buttonEl.style.display =\n",
              "          google.colab.kernel.accessAllowed ? 'block' : 'none';\n",
              "\n",
              "        async function convertToInteractive(key) {\n",
              "          const element = document.querySelector('#df-eefa795f-9eb2-407c-8f84-0186012bfac5');\n",
              "          const dataTable =\n",
              "            await google.colab.kernel.invokeFunction('convertToInteractive',\n",
              "                                                     [key], {});\n",
              "          if (!dataTable) return;\n",
              "\n",
              "          const docLinkHtml = 'Like what you see? Visit the ' +\n",
              "            '<a target=\"_blank\" href=https://colab.research.google.com/notebooks/data_table.ipynb>data table notebook</a>'\n",
              "            + ' to learn more about interactive tables.';\n",
              "          element.innerHTML = '';\n",
              "          dataTable['output_type'] = 'display_data';\n",
              "          await google.colab.output.renderOutput(dataTable, element);\n",
              "          const docLink = document.createElement('div');\n",
              "          docLink.innerHTML = docLinkHtml;\n",
              "          element.appendChild(docLink);\n",
              "        }\n",
              "      </script>\n",
              "    </div>\n",
              "  </div>\n",
              "  "
            ]
          },
          "metadata": {},
          "execution_count": 17
        }
      ],
      "source": [
        "pd.DataFrame(data['X_train'].reshape(500, 128 ))"
      ]
    },
    {
      "cell_type": "code",
      "execution_count": null,
      "metadata": {
        "id": "aAAiT31lE6k5"
      },
      "outputs": [],
      "source": [
        "X = pd.DataFrame(data['X_train'].reshape( 500,128 ))\n",
        "#X = data['X_train']\n",
        "num_samples = 500\n",
        "X = StandardScaler().fit_transform(X.to_numpy())\n",
        "X = X.reshape(num_samples, 128, -1)\n",
        "X_intact, X, missing_mask, indicating_mask = mcar(X, 0.1) # hold out 10% observed values as ground truth\n",
        "X = masked_fill(X, 1 - missing_mask, np.nan)\n"
      ]
    },
    {
      "cell_type": "code",
      "execution_count": null,
      "metadata": {
        "id": "PnjtsK9RNT8D"
      },
      "outputs": [],
      "source": [
        "dataset = {\"X\": X}\n"
      ]
    },
    {
      "cell_type": "code",
      "execution_count": null,
      "metadata": {
        "colab": {
          "base_uri": "https://localhost:8080/",
          "height": 1000
        },
        "id": "iCih5MOEulQD",
        "outputId": "22a4f2e6-f52f-4247-9e29-3093550861ad"
      },
      "outputs": [
        {
          "metadata": {
            "tags": null
          },
          "name": "stderr",
          "output_type": "stream",
          "text": [
            "2023-05-03 14:44:41 [INFO]: No given device, using default device: cpu\n",
            "2023-05-03 14:44:41 [INFO]: Model initialized successfully with the number of trainable parameters: 203956\n",
            "2023-05-03 14:45:01 [INFO]: epoch 0: training loss_generator 6.4720, train loss_discriminator 0.6020\n",
            "2023-05-03 14:45:20 [INFO]: epoch 1: training loss_generator 4.3619, train loss_discriminator 0.4990\n",
            "2023-05-03 14:45:36 [INFO]: epoch 2: training loss_generator 3.5658, train loss_discriminator 0.4432\n",
            "2023-05-03 14:45:52 [INFO]: epoch 3: training loss_generator 3.1449, train loss_discriminator 0.4152\n",
            "2023-05-03 14:46:10 [INFO]: epoch 4: training loss_generator 2.8650, train loss_discriminator 0.3980\n",
            "2023-05-03 14:46:10 [INFO]: Finished training.\n",
            "/usr/local/lib/python3.10/dist-packages/sklearn/cluster/_kmeans.py:870: FutureWarning: The default value of `n_init` will change from 10 to 'auto' in 1.4. Set the value of `n_init` explicitly to suppress the warning\n",
            "  warnings.warn(\n",
            "2023-05-03 14:46:13 [INFO]: No given device, using default device: cpu\n",
            "2023-05-03 14:46:13 [INFO]: Model initialized successfully with the number of trainable parameters: 203956\n"
          ]
        },
        {
          "metadata": {
            "tags": null
          },
          "name": "stdout",
          "output_type": "stream",
          "text": [
            "[0.15689908969655383]\n",
            "[0.4615070140280561]\n"
          ]
        },
        {
          "metadata": {
            "tags": null
          },
          "name": "stderr",
          "output_type": "stream",
          "text": [
            "2023-05-03 14:46:30 [INFO]: epoch 0: training loss_generator 5.2660, train loss_discriminator 0.6430\n",
            "2023-05-03 14:46:47 [INFO]: epoch 1: training loss_generator 3.7336, train loss_discriminator 0.5400\n",
            "2023-05-03 14:47:04 [INFO]: epoch 2: training loss_generator 3.1527, train loss_discriminator 0.4711\n",
            "2023-05-03 14:47:21 [INFO]: epoch 3: training loss_generator 2.8402, train loss_discriminator 0.4361\n",
            "2023-05-03 14:47:37 [INFO]: epoch 4: training loss_generator 2.6360, train loss_discriminator 0.4148\n",
            "2023-05-03 14:47:37 [INFO]: Finished training.\n",
            "/usr/local/lib/python3.10/dist-packages/sklearn/cluster/_kmeans.py:870: FutureWarning: The default value of `n_init` will change from 10 to 'auto' in 1.4. Set the value of `n_init` explicitly to suppress the warning\n",
            "  warnings.warn(\n",
            "2023-05-03 14:47:41 [INFO]: No given device, using default device: cpu\n",
            "2023-05-03 14:47:41 [INFO]: Model initialized successfully with the number of trainable parameters: 203956\n"
          ]
        },
        {
          "metadata": {
            "tags": null
          },
          "name": "stdout",
          "output_type": "stream",
          "text": [
            "[0.15689908969655383, 0.16067668353532327]\n",
            "[0.4615070140280561, 0.6129859719438878]\n"
          ]
        },
        {
          "metadata": {
            "tags": null
          },
          "name": "stderr",
          "output_type": "stream",
          "text": [
            "2023-05-03 14:48:00 [INFO]: epoch 0: training loss_generator 5.4605, train loss_discriminator 0.5156\n",
            "2023-05-03 14:48:16 [INFO]: epoch 1: training loss_generator 3.8170, train loss_discriminator 0.4353\n",
            "2023-05-03 14:48:32 [INFO]: epoch 2: training loss_generator 3.1922, train loss_discriminator 0.4010\n",
            "2023-05-03 14:48:49 [INFO]: epoch 3: training loss_generator 2.8605, train loss_discriminator 0.3833\n",
            "2023-05-03 14:49:06 [INFO]: epoch 4: training loss_generator 2.6384, train loss_discriminator 0.3724\n",
            "2023-05-03 14:49:06 [INFO]: Finished training.\n",
            "/usr/local/lib/python3.10/dist-packages/sklearn/cluster/_kmeans.py:870: FutureWarning: The default value of `n_init` will change from 10 to 'auto' in 1.4. Set the value of `n_init` explicitly to suppress the warning\n",
            "  warnings.warn(\n",
            "2023-05-03 14:49:10 [INFO]: No given device, using default device: cpu\n",
            "2023-05-03 14:49:10 [INFO]: Model initialized successfully with the number of trainable parameters: 203956\n"
          ]
        },
        {
          "metadata": {
            "tags": null
          },
          "name": "stdout",
          "output_type": "stream",
          "text": [
            "[0.15689908969655383, 0.16067668353532327, 0.21491587208163762]\n",
            "[0.4615070140280561, 0.6129859719438878, 0.6429899799599198]\n"
          ]
        },
        {
          "metadata": {
            "tags": null
          },
          "name": "stderr",
          "output_type": "stream",
          "text": [
            "2023-05-03 14:49:27 [INFO]: epoch 0: training loss_generator 5.6588, train loss_discriminator 0.5911\n",
            "2023-05-03 14:49:44 [INFO]: epoch 1: training loss_generator 3.9258, train loss_discriminator 0.4904\n",
            "2023-05-03 14:50:01 [INFO]: epoch 2: training loss_generator 3.2740, train loss_discriminator 0.4374\n",
            "2023-05-03 14:50:17 [INFO]: epoch 3: training loss_generator 2.9314, train loss_discriminator 0.4106\n",
            "2023-05-03 14:50:34 [INFO]: epoch 4: training loss_generator 2.7011, train loss_discriminator 0.3942\n",
            "2023-05-03 14:50:34 [INFO]: Finished training.\n",
            "/usr/local/lib/python3.10/dist-packages/sklearn/cluster/_kmeans.py:870: FutureWarning: The default value of `n_init` will change from 10 to 'auto' in 1.4. Set the value of `n_init` explicitly to suppress the warning\n",
            "  warnings.warn(\n",
            "2023-05-03 14:50:37 [INFO]: No given device, using default device: cpu\n",
            "2023-05-03 14:50:37 [INFO]: Model initialized successfully with the number of trainable parameters: 203956\n"
          ]
        },
        {
          "metadata": {
            "tags": null
          },
          "name": "stdout",
          "output_type": "stream",
          "text": [
            "[0.15689908969655383, 0.16067668353532327, 0.21491587208163762, 0.25593807828789494]\n",
            "[0.4615070140280561, 0.6129859719438878, 0.6429899799599198, 0.6792224448897796]\n"
          ]
        },
        {
          "metadata": {
            "tags": null
          },
          "name": "stderr",
          "output_type": "stream",
          "text": [
            "2023-05-03 14:50:56 [INFO]: epoch 0: training loss_generator 4.6971, train loss_discriminator 0.6394\n",
            "2023-05-03 14:51:13 [INFO]: epoch 1: training loss_generator 3.4291, train loss_discriminator 0.5412\n",
            "2023-05-03 14:51:29 [INFO]: epoch 2: training loss_generator 2.9436, train loss_discriminator 0.4716\n",
            "2023-05-03 14:51:45 [INFO]: epoch 3: training loss_generator 2.6784, train loss_discriminator 0.4370\n",
            "2023-05-03 14:52:02 [INFO]: epoch 4: training loss_generator 2.5002, train loss_discriminator 0.4154\n",
            "2023-05-03 14:52:02 [INFO]: Finished training.\n",
            "/usr/local/lib/python3.10/dist-packages/sklearn/cluster/_kmeans.py:870: FutureWarning: The default value of `n_init` will change from 10 to 'auto' in 1.4. Set the value of `n_init` explicitly to suppress the warning\n",
            "  warnings.warn(\n",
            "2023-05-03 14:52:06 [INFO]: No given device, using default device: cpu\n",
            "2023-05-03 14:52:06 [INFO]: Model initialized successfully with the number of trainable parameters: 203956\n"
          ]
        },
        {
          "metadata": {
            "tags": null
          },
          "name": "stdout",
          "output_type": "stream",
          "text": [
            "[0.15689908969655383, 0.16067668353532327, 0.21491587208163762, 0.25593807828789494, 0.28146216666779034]\n",
            "[0.4615070140280561, 0.6129859719438878, 0.6429899799599198, 0.6792224448897796, 0.6820360721442886]\n"
          ]
        },
        {
          "output_type": "stream",
          "name": "stderr",
          "text": [
            "2023-05-03 14:52:24 [INFO]: epoch 0: training loss_generator 5.8007, train loss_discriminator 0.6822\n",
            "2023-05-03 14:52:41 [INFO]: epoch 1: training loss_generator 3.9976, train loss_discriminator 0.5655\n",
            "2023-05-03 14:52:58 [INFO]: epoch 2: training loss_generator 3.3332, train loss_discriminator 0.4883\n",
            "2023-05-03 14:53:14 [INFO]: epoch 3: training loss_generator 2.9743, train loss_discriminator 0.4495\n",
            "2023-05-03 14:53:30 [INFO]: epoch 4: training loss_generator 2.7359, train loss_discriminator 0.4257\n",
            "2023-05-03 14:53:30 [INFO]: Finished training.\n",
            "/usr/local/lib/python3.10/dist-packages/sklearn/cluster/_kmeans.py:870: FutureWarning: The default value of `n_init` will change from 10 to 'auto' in 1.4. Set the value of `n_init` explicitly to suppress the warning\n",
            "  warnings.warn(\n",
            "2023-05-03 14:53:34 [INFO]: No given device, using default device: cpu\n",
            "2023-05-03 14:53:34 [INFO]: Model initialized successfully with the number of trainable parameters: 203956\n"
          ]
        },
        {
          "output_type": "stream",
          "name": "stdout",
          "text": [
            "[0.15689908969655383, 0.16067668353532327, 0.21491587208163762, 0.25593807828789494, 0.28146216666779034, 0.280508216521264]\n",
            "[0.4615070140280561, 0.6129859719438878, 0.6429899799599198, 0.6792224448897796, 0.6820360721442886, 0.7158717434869739]\n"
          ]
        },
        {
          "output_type": "stream",
          "name": "stderr",
          "text": [
            "2023-05-03 14:53:53 [INFO]: epoch 0: training loss_generator 5.1108, train loss_discriminator 0.5973\n",
            "2023-05-03 14:54:09 [INFO]: epoch 1: training loss_generator 3.6466, train loss_discriminator 0.5004\n"
          ]
        },
        {
          "output_type": "error",
          "ename": "KeyboardInterrupt",
          "evalue": "ignored",
          "traceback": [
            "\u001b[0;31m---------------------------------------------------------------------------\u001b[0m",
            "\u001b[0;31mKeyboardInterrupt\u001b[0m                         Traceback (most recent call last)",
            "\u001b[0;32m<ipython-input-20-73a5ab93941d>\u001b[0m in \u001b[0;36m<cell line: 5>\u001b[0;34m()\u001b[0m\n\u001b[1;32m     14\u001b[0m   )\n\u001b[1;32m     15\u001b[0m \u001b[0;34m\u001b[0m\u001b[0m\n\u001b[0;32m---> 16\u001b[0;31m   \u001b[0mcrli\u001b[0m\u001b[0;34m.\u001b[0m\u001b[0mfit\u001b[0m\u001b[0;34m(\u001b[0m\u001b[0mdataset\u001b[0m\u001b[0;34m)\u001b[0m\u001b[0;34m\u001b[0m\u001b[0;34m\u001b[0m\u001b[0m\n\u001b[0m\u001b[1;32m     17\u001b[0m   \u001b[0mclustt\u001b[0m\u001b[0;34m=\u001b[0m\u001b[0mcrli\u001b[0m\u001b[0;34m.\u001b[0m\u001b[0mcluster\u001b[0m\u001b[0;34m(\u001b[0m\u001b[0mdataset\u001b[0m\u001b[0;34m)\u001b[0m\u001b[0;34m\u001b[0m\u001b[0;34m\u001b[0m\u001b[0m\n\u001b[1;32m     18\u001b[0m   \u001b[0mresults\u001b[0m\u001b[0;34m.\u001b[0m\u001b[0mappend\u001b[0m\u001b[0;34m(\u001b[0m\u001b[0mclustt\u001b[0m\u001b[0;34m)\u001b[0m\u001b[0;34m\u001b[0m\u001b[0;34m\u001b[0m\u001b[0m\n",
            "\u001b[0;32m/usr/local/lib/python3.10/dist-packages/pypots/clustering/crli.py\u001b[0m in \u001b[0;36mfit\u001b[0;34m(self, train_set, file_type)\u001b[0m\n\u001b[1;32m    585\u001b[0m             \u001b[0mnum_workers\u001b[0m\u001b[0;34m=\u001b[0m\u001b[0mself\u001b[0m\u001b[0;34m.\u001b[0m\u001b[0mnum_workers\u001b[0m\u001b[0;34m,\u001b[0m\u001b[0;34m\u001b[0m\u001b[0;34m\u001b[0m\u001b[0m\n\u001b[1;32m    586\u001b[0m         )\n\u001b[0;32m--> 587\u001b[0;31m         \u001b[0mself\u001b[0m\u001b[0;34m.\u001b[0m\u001b[0m_train_model\u001b[0m\u001b[0;34m(\u001b[0m\u001b[0mtraining_loader\u001b[0m\u001b[0;34m)\u001b[0m\u001b[0;34m\u001b[0m\u001b[0;34m\u001b[0m\u001b[0m\n\u001b[0m\u001b[1;32m    588\u001b[0m         \u001b[0mself\u001b[0m\u001b[0;34m.\u001b[0m\u001b[0mmodel\u001b[0m\u001b[0;34m.\u001b[0m\u001b[0mload_state_dict\u001b[0m\u001b[0;34m(\u001b[0m\u001b[0mself\u001b[0m\u001b[0;34m.\u001b[0m\u001b[0mbest_model_dict\u001b[0m\u001b[0;34m)\u001b[0m\u001b[0;34m\u001b[0m\u001b[0;34m\u001b[0m\u001b[0m\n\u001b[1;32m    589\u001b[0m         \u001b[0mself\u001b[0m\u001b[0;34m.\u001b[0m\u001b[0mmodel\u001b[0m\u001b[0;34m.\u001b[0m\u001b[0meval\u001b[0m\u001b[0;34m(\u001b[0m\u001b[0;34m)\u001b[0m  \u001b[0;31m# set the model as eval status to freeze it.\u001b[0m\u001b[0;34m\u001b[0m\u001b[0;34m\u001b[0m\u001b[0m\n",
            "\u001b[0;32m/usr/local/lib/python3.10/dist-packages/pypots/clustering/crli.py\u001b[0m in \u001b[0;36m_train_model\u001b[0;34m(self, training_loader, val_loader)\u001b[0m\n\u001b[1;32m    485\u001b[0m                             \u001b[0minputs\u001b[0m\u001b[0;34m,\u001b[0m \u001b[0mtraining_object\u001b[0m\u001b[0;34m=\u001b[0m\u001b[0;34m\"discriminator\"\u001b[0m\u001b[0;34m\u001b[0m\u001b[0;34m\u001b[0m\u001b[0m\n\u001b[1;32m    486\u001b[0m                         )\n\u001b[0;32m--> 487\u001b[0;31m                         \u001b[0mresults\u001b[0m\u001b[0;34m[\u001b[0m\u001b[0;34m\"discrimination_loss\"\u001b[0m\u001b[0;34m]\u001b[0m\u001b[0;34m.\u001b[0m\u001b[0mbackward\u001b[0m\u001b[0;34m(\u001b[0m\u001b[0mretain_graph\u001b[0m\u001b[0;34m=\u001b[0m\u001b[0;32mTrue\u001b[0m\u001b[0;34m)\u001b[0m\u001b[0;34m\u001b[0m\u001b[0;34m\u001b[0m\u001b[0m\n\u001b[0m\u001b[1;32m    488\u001b[0m                         \u001b[0mself\u001b[0m\u001b[0;34m.\u001b[0m\u001b[0mD_optimizer\u001b[0m\u001b[0;34m.\u001b[0m\u001b[0mstep\u001b[0m\u001b[0;34m(\u001b[0m\u001b[0;34m)\u001b[0m\u001b[0;34m\u001b[0m\u001b[0;34m\u001b[0m\u001b[0m\n\u001b[1;32m    489\u001b[0m                         step_train_loss_D_collector.append(\n",
            "\u001b[0;32m/usr/local/lib/python3.10/dist-packages/torch/_tensor.py\u001b[0m in \u001b[0;36mbackward\u001b[0;34m(self, gradient, retain_graph, create_graph, inputs)\u001b[0m\n\u001b[1;32m    485\u001b[0m                 \u001b[0minputs\u001b[0m\u001b[0;34m=\u001b[0m\u001b[0minputs\u001b[0m\u001b[0;34m,\u001b[0m\u001b[0;34m\u001b[0m\u001b[0;34m\u001b[0m\u001b[0m\n\u001b[1;32m    486\u001b[0m             )\n\u001b[0;32m--> 487\u001b[0;31m         torch.autograd.backward(\n\u001b[0m\u001b[1;32m    488\u001b[0m             \u001b[0mself\u001b[0m\u001b[0;34m,\u001b[0m \u001b[0mgradient\u001b[0m\u001b[0;34m,\u001b[0m \u001b[0mretain_graph\u001b[0m\u001b[0;34m,\u001b[0m \u001b[0mcreate_graph\u001b[0m\u001b[0;34m,\u001b[0m \u001b[0minputs\u001b[0m\u001b[0;34m=\u001b[0m\u001b[0minputs\u001b[0m\u001b[0;34m\u001b[0m\u001b[0;34m\u001b[0m\u001b[0m\n\u001b[1;32m    489\u001b[0m         )\n",
            "\u001b[0;32m/usr/local/lib/python3.10/dist-packages/torch/autograd/__init__.py\u001b[0m in \u001b[0;36mbackward\u001b[0;34m(tensors, grad_tensors, retain_graph, create_graph, grad_variables, inputs)\u001b[0m\n\u001b[1;32m    198\u001b[0m     \u001b[0;31m# some Python versions print out the first line of a multi-line function\u001b[0m\u001b[0;34m\u001b[0m\u001b[0;34m\u001b[0m\u001b[0m\n\u001b[1;32m    199\u001b[0m     \u001b[0;31m# calls in the traceback and some print out the last line\u001b[0m\u001b[0;34m\u001b[0m\u001b[0;34m\u001b[0m\u001b[0m\n\u001b[0;32m--> 200\u001b[0;31m     Variable._execution_engine.run_backward(  # Calls into the C++ engine to run the backward pass\n\u001b[0m\u001b[1;32m    201\u001b[0m         \u001b[0mtensors\u001b[0m\u001b[0;34m,\u001b[0m \u001b[0mgrad_tensors_\u001b[0m\u001b[0;34m,\u001b[0m \u001b[0mretain_graph\u001b[0m\u001b[0;34m,\u001b[0m \u001b[0mcreate_graph\u001b[0m\u001b[0;34m,\u001b[0m \u001b[0minputs\u001b[0m\u001b[0;34m,\u001b[0m\u001b[0;34m\u001b[0m\u001b[0;34m\u001b[0m\u001b[0m\n\u001b[1;32m    202\u001b[0m         allow_unreachable=True, accumulate_grad=True)  # Calls into the C++ engine to run the backward pass\n",
            "\u001b[0;31mKeyboardInterrupt\u001b[0m: "
          ]
        }
      ],
      "source": [
        "results=[]\n",
        "AMS=[]\n",
        "RII=[]\n",
        "y=data['y_train']\n",
        "for i in range(2,20):\n",
        "\n",
        "  crli = CRLI(\n",
        "    n_steps=1,\n",
        "    n_features=1,\n",
        "    n_clusters=i,\n",
        "    n_generator_layers=2,\n",
        "    rnn_hidden_size=64,\n",
        "    epochs=5\n",
        "  )\n",
        "\n",
        "  crli.fit(dataset)\n",
        "  clustt=crli.cluster(dataset)\n",
        "  results.append(clustt)\n",
        "  RI = cal_rand_index(clustt, y)\n",
        "  RII.append(RI)\n",
        "  AM=adjusted_mutual_info_score(clustt, y)\n",
        "  AMS.append(AM)\n",
        "  print(AMS)\n",
        "  print(RII)\n",
        "#with open(\"/content/drive/MyDrive/Doctorado/2023/Abril/PyPOTS/pypots/tests/firtsexperiment1.txt\", \"w\") as output:\n",
        " #   output.write(str(results))"
      ]
    },
    {
      "cell_type": "code",
      "execution_count": null,
      "metadata": {
        "id": "Lipa6_rDulf1"
      },
      "outputs": [],
      "source": [
        "[0.14070038694973316, 0.19731838193350587, 0.24753549033598168, 0.26487219602215556, 0.26510535880789166, 0.32119419895311624]\n",
        "[0.39901402805611225, 0.5898997995991984, 0.7042565130260521, 0.688809619238477, 0.686629258517034, 0.7477995991983968]"
      ]
    },
    {
      "cell_type": "code",
      "source": [
        "results=[]\n",
        "AMS=[]\n",
        "RII=[]\n",
        "y=data['y_train']\n",
        "for i in range(8,20):\n",
        "\n",
        "  crli = CRLI(\n",
        "    n_steps=1,\n",
        "    n_features=1,\n",
        "    n_clusters=i,\n",
        "    n_generator_layers=2,\n",
        "    rnn_hidden_size=64,\n",
        "    epochs=5\n",
        "  )\n",
        "\n",
        "  crli.fit(dataset)\n",
        "  clustt=crli.cluster(dataset)\n",
        "  results.append(clustt)\n",
        "  RI = cal_rand_index(clustt, y)\n",
        "  RII.append(RI)\n",
        "  AM=adjusted_mutual_info_score(clustt, y)\n",
        "  AMS.append(AM)\n",
        "  print(AMS)\n",
        "  print(RII)\n",
        "#with open(\"/content/drive/MyDrive/Doctorado/2023/Abril/PyPOTS/pypots/tests/firtsexperiment1.txt\", \"w\") as output:\n",
        " #   output.write(str(results))"
      ],
      "metadata": {
        "id": "ktNqyv4YuuQ4",
        "colab": {
          "base_uri": "https://localhost:8080/"
        },
        "outputId": "079106c7-a132-4efe-981e-1a425a90ad96"
      },
      "execution_count": null,
      "outputs": [
        {
          "output_type": "stream",
          "name": "stderr",
          "text": [
            "2023-05-03 14:26:04 [INFO]: No given device, using default device: cpu\n",
            "2023-05-03 14:26:04 [INFO]: Model initialized successfully with the number of trainable parameters: 203956\n",
            "2023-05-03 14:26:24 [INFO]: epoch 0: training loss_generator 5.7712, train loss_discriminator 0.5958\n",
            "2023-05-03 14:26:41 [INFO]: epoch 1: training loss_generator 3.9861, train loss_discriminator 0.5031\n",
            "2023-05-03 14:26:59 [INFO]: epoch 2: training loss_generator 3.3148, train loss_discriminator 0.4466\n",
            "2023-05-03 14:27:16 [INFO]: epoch 3: training loss_generator 2.9620, train loss_discriminator 0.4181\n",
            "2023-05-03 14:27:34 [INFO]: epoch 4: training loss_generator 2.7309, train loss_discriminator 0.4004\n",
            "2023-05-03 14:27:34 [INFO]: Finished training.\n",
            "/usr/local/lib/python3.10/dist-packages/sklearn/cluster/_kmeans.py:870: FutureWarning: The default value of `n_init` will change from 10 to 'auto' in 1.4. Set the value of `n_init` explicitly to suppress the warning\n",
            "  warnings.warn(\n",
            "2023-05-03 14:27:38 [INFO]: No given device, using default device: cpu\n",
            "2023-05-03 14:27:38 [INFO]: Model initialized successfully with the number of trainable parameters: 203956\n"
          ]
        },
        {
          "output_type": "stream",
          "name": "stdout",
          "text": [
            "[0.3181720664932486]\n",
            "[0.7669498997995992]\n"
          ]
        },
        {
          "output_type": "stream",
          "name": "stderr",
          "text": [
            "2023-05-03 14:27:56 [INFO]: epoch 0: training loss_generator 4.2975, train loss_discriminator 0.5190\n",
            "2023-05-03 14:28:13 [INFO]: epoch 1: training loss_generator 3.2045, train loss_discriminator 0.4460\n",
            "2023-05-03 14:28:30 [INFO]: epoch 2: training loss_generator 2.7850, train loss_discriminator 0.4081\n",
            "2023-05-03 14:28:48 [INFO]: epoch 3: training loss_generator 2.5509, train loss_discriminator 0.3885\n",
            "2023-05-03 14:29:04 [INFO]: epoch 4: training loss_generator 2.3806, train loss_discriminator 0.3765\n",
            "2023-05-03 14:29:04 [INFO]: Finished training.\n",
            "/usr/local/lib/python3.10/dist-packages/sklearn/cluster/_kmeans.py:870: FutureWarning: The default value of `n_init` will change from 10 to 'auto' in 1.4. Set the value of `n_init` explicitly to suppress the warning\n",
            "  warnings.warn(\n",
            "2023-05-03 14:29:11 [INFO]: No given device, using default device: cpu\n",
            "2023-05-03 14:29:11 [INFO]: Model initialized successfully with the number of trainable parameters: 203956\n"
          ]
        },
        {
          "output_type": "stream",
          "name": "stdout",
          "text": [
            "[0.3181720664932486, 0.26272087358686047]\n",
            "[0.7669498997995992, 0.7754549098196393]\n"
          ]
        },
        {
          "output_type": "stream",
          "name": "stderr",
          "text": [
            "2023-05-03 14:29:31 [INFO]: epoch 0: training loss_generator 4.9899, train loss_discriminator 0.6419\n",
            "2023-05-03 14:29:48 [INFO]: epoch 1: training loss_generator 3.5769, train loss_discriminator 0.5430\n",
            "2023-05-03 14:30:04 [INFO]: epoch 2: training loss_generator 3.0351, train loss_discriminator 0.4732\n",
            "2023-05-03 14:30:21 [INFO]: epoch 3: training loss_generator 2.7447, train loss_discriminator 0.4379\n",
            "2023-05-03 14:30:38 [INFO]: epoch 4: training loss_generator 2.5400, train loss_discriminator 0.4161\n",
            "2023-05-03 14:30:38 [INFO]: Finished training.\n",
            "/usr/local/lib/python3.10/dist-packages/sklearn/cluster/_kmeans.py:870: FutureWarning: The default value of `n_init` will change from 10 to 'auto' in 1.4. Set the value of `n_init` explicitly to suppress the warning\n",
            "  warnings.warn(\n",
            "2023-05-03 14:30:43 [INFO]: No given device, using default device: cpu\n",
            "2023-05-03 14:30:43 [INFO]: Model initialized successfully with the number of trainable parameters: 203956\n"
          ]
        },
        {
          "output_type": "stream",
          "name": "stdout",
          "text": [
            "[0.3181720664932486, 0.26272087358686047, 0.2751269719000181]\n",
            "[0.7669498997995992, 0.7754549098196393, 0.8122645290581162]\n"
          ]
        },
        {
          "output_type": "stream",
          "name": "stderr",
          "text": [
            "2023-05-03 14:31:02 [INFO]: epoch 0: training loss_generator 4.7664, train loss_discriminator 0.5872\n",
            "2023-05-03 14:31:19 [INFO]: epoch 1: training loss_generator 3.4605, train loss_discriminator 0.4961\n",
            "2023-05-03 14:31:36 [INFO]: epoch 2: training loss_generator 2.9573, train loss_discriminator 0.4412\n",
            "2023-05-03 14:31:54 [INFO]: epoch 3: training loss_generator 2.6811, train loss_discriminator 0.4137\n",
            "2023-05-03 14:32:12 [INFO]: epoch 4: training loss_generator 2.4796, train loss_discriminator 0.3967\n",
            "2023-05-03 14:32:12 [INFO]: Finished training.\n",
            "/usr/local/lib/python3.10/dist-packages/sklearn/cluster/_kmeans.py:870: FutureWarning: The default value of `n_init` will change from 10 to 'auto' in 1.4. Set the value of `n_init` explicitly to suppress the warning\n",
            "  warnings.warn(\n",
            "2023-05-03 14:32:15 [INFO]: No given device, using default device: cpu\n",
            "2023-05-03 14:32:15 [INFO]: Model initialized successfully with the number of trainable parameters: 203956\n"
          ]
        },
        {
          "output_type": "stream",
          "name": "stdout",
          "text": [
            "[0.3181720664932486, 0.26272087358686047, 0.2751269719000181, 0.30443509113603956]\n",
            "[0.7669498997995992, 0.7754549098196393, 0.8122645290581162, 0.8031102204408818]\n"
          ]
        },
        {
          "output_type": "stream",
          "name": "stderr",
          "text": [
            "2023-05-03 14:32:34 [INFO]: epoch 0: training loss_generator 4.7280, train loss_discriminator 0.6525\n",
            "2023-05-03 14:32:52 [INFO]: epoch 1: training loss_generator 3.4300, train loss_discriminator 0.5306\n",
            "2023-05-03 14:33:10 [INFO]: epoch 2: training loss_generator 2.9379, train loss_discriminator 0.4645\n",
            "2023-05-03 14:33:27 [INFO]: epoch 3: training loss_generator 2.6667, train loss_discriminator 0.4312\n",
            "2023-05-03 14:33:44 [INFO]: epoch 4: training loss_generator 2.4745, train loss_discriminator 0.4109\n",
            "2023-05-03 14:33:44 [INFO]: Finished training.\n",
            "/usr/local/lib/python3.10/dist-packages/sklearn/cluster/_kmeans.py:870: FutureWarning: The default value of `n_init` will change from 10 to 'auto' in 1.4. Set the value of `n_init` explicitly to suppress the warning\n",
            "  warnings.warn(\n",
            "2023-05-03 14:33:47 [INFO]: No given device, using default device: cpu\n",
            "2023-05-03 14:33:47 [INFO]: Model initialized successfully with the number of trainable parameters: 203956\n"
          ]
        },
        {
          "output_type": "stream",
          "name": "stdout",
          "text": [
            "[0.3181720664932486, 0.26272087358686047, 0.2751269719000181, 0.30443509113603956, 0.29985244766484376]\n",
            "[0.7669498997995992, 0.7754549098196393, 0.8122645290581162, 0.8031102204408818, 0.8332344689378758]\n"
          ]
        },
        {
          "output_type": "stream",
          "name": "stderr",
          "text": [
            "2023-05-03 14:34:07 [INFO]: epoch 0: training loss_generator 3.9655, train loss_discriminator 0.5694\n",
            "2023-05-03 14:34:25 [INFO]: epoch 1: training loss_generator 3.0336, train loss_discriminator 0.4878\n",
            "2023-05-03 14:34:42 [INFO]: epoch 2: training loss_generator 2.6603, train loss_discriminator 0.4362\n",
            "2023-05-03 14:34:59 [INFO]: epoch 3: training loss_generator 2.4414, train loss_discriminator 0.4096\n",
            "2023-05-03 14:35:16 [INFO]: epoch 4: training loss_generator 2.2641, train loss_discriminator 0.3934\n",
            "2023-05-03 14:35:16 [INFO]: Finished training.\n",
            "/usr/local/lib/python3.10/dist-packages/sklearn/cluster/_kmeans.py:870: FutureWarning: The default value of `n_init` will change from 10 to 'auto' in 1.4. Set the value of `n_init` explicitly to suppress the warning\n",
            "  warnings.warn(\n",
            "2023-05-03 14:35:21 [INFO]: No given device, using default device: cpu\n",
            "2023-05-03 14:35:21 [INFO]: Model initialized successfully with the number of trainable parameters: 203956\n"
          ]
        },
        {
          "output_type": "stream",
          "name": "stdout",
          "text": [
            "[0.3181720664932486, 0.26272087358686047, 0.2751269719000181, 0.30443509113603956, 0.29985244766484376, 0.2839696291334308]\n",
            "[0.7669498997995992, 0.7754549098196393, 0.8122645290581162, 0.8031102204408818, 0.8332344689378758, 0.8515831663326653]\n"
          ]
        },
        {
          "output_type": "stream",
          "name": "stderr",
          "text": [
            "2023-05-03 14:35:40 [INFO]: epoch 0: training loss_generator 4.7977, train loss_discriminator 0.5577\n",
            "2023-05-03 14:35:57 [INFO]: epoch 1: training loss_generator 3.4602, train loss_discriminator 0.4657\n",
            "2023-05-03 14:36:14 [INFO]: epoch 2: training loss_generator 2.9457, train loss_discriminator 0.4218\n",
            "2023-05-03 14:36:32 [INFO]: epoch 3: training loss_generator 2.6614, train loss_discriminator 0.3992\n",
            "2023-05-03 14:36:50 [INFO]: epoch 4: training loss_generator 2.4453, train loss_discriminator 0.3854\n",
            "2023-05-03 14:36:50 [INFO]: Finished training.\n",
            "/usr/local/lib/python3.10/dist-packages/sklearn/cluster/_kmeans.py:870: FutureWarning: The default value of `n_init` will change from 10 to 'auto' in 1.4. Set the value of `n_init` explicitly to suppress the warning\n",
            "  warnings.warn(\n",
            "2023-05-03 14:36:53 [INFO]: No given device, using default device: cpu\n",
            "2023-05-03 14:36:53 [INFO]: Model initialized successfully with the number of trainable parameters: 203956\n"
          ]
        },
        {
          "output_type": "stream",
          "name": "stdout",
          "text": [
            "[0.3181720664932486, 0.26272087358686047, 0.2751269719000181, 0.30443509113603956, 0.29985244766484376, 0.2839696291334308, 0.3048381001668464]\n",
            "[0.7669498997995992, 0.7754549098196393, 0.8122645290581162, 0.8031102204408818, 0.8332344689378758, 0.8515831663326653, 0.8580761523046092]\n"
          ]
        },
        {
          "output_type": "stream",
          "name": "stderr",
          "text": [
            "2023-05-03 14:37:21 [INFO]: epoch 0: training loss_generator 4.3563, train loss_discriminator 0.6296\n",
            "2023-05-03 14:37:38 [INFO]: epoch 1: training loss_generator 3.2335, train loss_discriminator 0.5338\n",
            "2023-05-03 14:37:54 [INFO]: epoch 2: training loss_generator 2.7957, train loss_discriminator 0.4673\n",
            "2023-05-03 14:38:12 [INFO]: epoch 3: training loss_generator 2.5438, train loss_discriminator 0.4334\n",
            "2023-05-03 14:38:30 [INFO]: epoch 4: training loss_generator 2.3462, train loss_discriminator 0.4126\n",
            "2023-05-03 14:38:30 [INFO]: Finished training.\n",
            "/usr/local/lib/python3.10/dist-packages/sklearn/cluster/_kmeans.py:870: FutureWarning: The default value of `n_init` will change from 10 to 'auto' in 1.4. Set the value of `n_init` explicitly to suppress the warning\n",
            "  warnings.warn(\n",
            "2023-05-03 14:38:34 [INFO]: No given device, using default device: cpu\n",
            "2023-05-03 14:38:34 [INFO]: Model initialized successfully with the number of trainable parameters: 203956\n"
          ]
        },
        {
          "output_type": "stream",
          "name": "stdout",
          "text": [
            "[0.3181720664932486, 0.26272087358686047, 0.2751269719000181, 0.30443509113603956, 0.29985244766484376, 0.2839696291334308, 0.3048381001668464, 0.2815332979257938]\n",
            "[0.7669498997995992, 0.7754549098196393, 0.8122645290581162, 0.8031102204408818, 0.8332344689378758, 0.8515831663326653, 0.8580761523046092, 0.8585170340681363]\n"
          ]
        },
        {
          "output_type": "stream",
          "name": "stderr",
          "text": [
            "2023-05-03 14:38:52 [INFO]: epoch 0: training loss_generator 4.2880, train loss_discriminator 0.6026\n",
            "2023-05-03 14:39:10 [INFO]: epoch 1: training loss_generator 3.1920, train loss_discriminator 0.5105\n",
            "2023-05-03 14:39:28 [INFO]: epoch 2: training loss_generator 2.7735, train loss_discriminator 0.4506\n",
            "2023-05-03 14:39:44 [INFO]: epoch 3: training loss_generator 2.5268, train loss_discriminator 0.4207\n",
            "2023-05-03 14:40:02 [INFO]: epoch 4: training loss_generator 2.3238, train loss_discriminator 0.4023\n",
            "2023-05-03 14:40:02 [INFO]: Finished training.\n",
            "/usr/local/lib/python3.10/dist-packages/sklearn/cluster/_kmeans.py:870: FutureWarning: The default value of `n_init` will change from 10 to 'auto' in 1.4. Set the value of `n_init` explicitly to suppress the warning\n",
            "  warnings.warn(\n",
            "2023-05-03 14:40:05 [INFO]: No given device, using default device: cpu\n",
            "2023-05-03 14:40:06 [INFO]: Model initialized successfully with the number of trainable parameters: 203956\n"
          ]
        },
        {
          "output_type": "stream",
          "name": "stdout",
          "text": [
            "[0.3181720664932486, 0.26272087358686047, 0.2751269719000181, 0.30443509113603956, 0.29985244766484376, 0.2839696291334308, 0.3048381001668464, 0.2815332979257938, 0.3491373066737992]\n",
            "[0.7669498997995992, 0.7754549098196393, 0.8122645290581162, 0.8031102204408818, 0.8332344689378758, 0.8515831663326653, 0.8580761523046092, 0.8585170340681363, 0.8736032064128256]\n"
          ]
        },
        {
          "output_type": "stream",
          "name": "stderr",
          "text": [
            "2023-05-03 14:40:26 [INFO]: epoch 0: training loss_generator 4.2745, train loss_discriminator 0.5869\n",
            "2023-05-03 14:40:43 [INFO]: epoch 1: training loss_generator 3.1945, train loss_discriminator 0.4910\n",
            "2023-05-03 14:41:00 [INFO]: epoch 2: training loss_generator 2.7639, train loss_discriminator 0.4379\n",
            "2023-05-03 14:41:17 [INFO]: epoch 3: training loss_generator 2.5060, train loss_discriminator 0.4111\n",
            "2023-05-03 14:41:35 [INFO]: epoch 4: training loss_generator 2.2957, train loss_discriminator 0.3947\n",
            "2023-05-03 14:41:35 [INFO]: Finished training.\n",
            "/usr/local/lib/python3.10/dist-packages/sklearn/cluster/_kmeans.py:870: FutureWarning: The default value of `n_init` will change from 10 to 'auto' in 1.4. Set the value of `n_init` explicitly to suppress the warning\n",
            "  warnings.warn(\n",
            "2023-05-03 14:41:40 [INFO]: No given device, using default device: cpu\n",
            "2023-05-03 14:41:40 [INFO]: Model initialized successfully with the number of trainable parameters: 203956\n"
          ]
        },
        {
          "output_type": "stream",
          "name": "stdout",
          "text": [
            "[0.3181720664932486, 0.26272087358686047, 0.2751269719000181, 0.30443509113603956, 0.29985244766484376, 0.2839696291334308, 0.3048381001668464, 0.2815332979257938, 0.3491373066737992, 0.35652778517253936]\n",
            "[0.7669498997995992, 0.7754549098196393, 0.8122645290581162, 0.8031102204408818, 0.8332344689378758, 0.8515831663326653, 0.8580761523046092, 0.8585170340681363, 0.8736032064128256, 0.8802725450901804]\n"
          ]
        },
        {
          "output_type": "stream",
          "name": "stderr",
          "text": [
            "2023-05-03 14:41:58 [INFO]: epoch 0: training loss_generator 3.4638, train loss_discriminator 0.5453\n",
            "2023-05-03 14:42:15 [INFO]: epoch 1: training loss_generator 2.7648, train loss_discriminator 0.4618\n",
            "2023-05-03 14:42:32 [INFO]: epoch 2: training loss_generator 2.4803, train loss_discriminator 0.4181\n",
            "2023-05-03 14:42:50 [INFO]: epoch 3: training loss_generator 2.3007, train loss_discriminator 0.3962\n",
            "2023-05-03 14:43:07 [INFO]: epoch 4: training loss_generator 2.1382, train loss_discriminator 0.3826\n",
            "2023-05-03 14:43:07 [INFO]: Finished training.\n",
            "/usr/local/lib/python3.10/dist-packages/sklearn/cluster/_kmeans.py:870: FutureWarning: The default value of `n_init` will change from 10 to 'auto' in 1.4. Set the value of `n_init` explicitly to suppress the warning\n",
            "  warnings.warn(\n",
            "2023-05-03 14:43:10 [INFO]: No given device, using default device: cpu\n",
            "2023-05-03 14:43:10 [INFO]: Model initialized successfully with the number of trainable parameters: 203956\n"
          ]
        },
        {
          "output_type": "stream",
          "name": "stdout",
          "text": [
            "[0.3181720664932486, 0.26272087358686047, 0.2751269719000181, 0.30443509113603956, 0.29985244766484376, 0.2839696291334308, 0.3048381001668464, 0.2815332979257938, 0.3491373066737992, 0.35652778517253936, 0.32836361470309006]\n",
            "[0.7669498997995992, 0.7754549098196393, 0.8122645290581162, 0.8031102204408818, 0.8332344689378758, 0.8515831663326653, 0.8580761523046092, 0.8585170340681363, 0.8736032064128256, 0.8802725450901804, 0.8904689378757515]\n"
          ]
        },
        {
          "output_type": "stream",
          "name": "stderr",
          "text": [
            "2023-05-03 14:43:29 [INFO]: epoch 0: training loss_generator 3.5647, train loss_discriminator 0.6313\n",
            "2023-05-03 14:43:46 [INFO]: epoch 1: training loss_generator 2.8314, train loss_discriminator 0.5520\n",
            "2023-05-03 14:44:04 [INFO]: epoch 2: training loss_generator 2.5278, train loss_discriminator 0.4817\n",
            "2023-05-03 14:44:21 [INFO]: epoch 3: training loss_generator 2.3415, train loss_discriminator 0.4442\n",
            "2023-05-03 14:44:37 [INFO]: epoch 4: training loss_generator 2.1773, train loss_discriminator 0.4212\n",
            "2023-05-03 14:44:37 [INFO]: Finished training.\n",
            "/usr/local/lib/python3.10/dist-packages/sklearn/cluster/_kmeans.py:870: FutureWarning: The default value of `n_init` will change from 10 to 'auto' in 1.4. Set the value of `n_init` explicitly to suppress the warning\n",
            "  warnings.warn(\n"
          ]
        },
        {
          "output_type": "stream",
          "name": "stdout",
          "text": [
            "[0.3181720664932486, 0.26272087358686047, 0.2751269719000181, 0.30443509113603956, 0.29985244766484376, 0.2839696291334308, 0.3048381001668464, 0.2815332979257938, 0.3491373066737992, 0.35652778517253936, 0.32836361470309006, 0.3361406975225542]\n",
            "[0.7669498997995992, 0.7754549098196393, 0.8122645290581162, 0.8031102204408818, 0.8332344689378758, 0.8515831663326653, 0.8580761523046092, 0.8585170340681363, 0.8736032064128256, 0.8802725450901804, 0.8904689378757515, 0.8901402805611223]\n"
          ]
        }
      ]
    },
    {
      "cell_type": "markdown",
      "source": [
        "### UCR UEA WAFER"
      ],
      "metadata": {
        "id": "A-jpnhDoqXei"
      }
    },
    {
      "cell_type": "code",
      "execution_count": null,
      "metadata": {
        "colab": {
          "base_uri": "https://localhost:8080/"
        },
        "id": "1BtxLirgfWAi",
        "outputId": "131283ec-5aac-45a7-c31f-57394694b0f8"
      },
      "outputs": [
        {
          "output_type": "stream",
          "name": "stdout",
          "text": [
            "Start downloading...\n",
            "Successfully downloaded data to /tmp/tmpth88orr7/Wafer.zip.\n",
            "Successfully extracted data to /root/.tsdb_cached_datasets/UCR_UEA_Wafer\n",
            "Successfully saved to /root/.tsdb_cached_datasets/UCR_UEA_Wafer/UCR_UEA_Wafer_cache.pkl\n",
            "Loaded successfully!\n"
          ]
        }
      ],
      "source": [
        "import tsdb\n",
        "data = tsdb.load_dataset('UCR_UEA_Wafer')\n"
      ]
    },
    {
      "cell_type": "code",
      "execution_count": null,
      "metadata": {
        "id": "OsduzanWg88_"
      },
      "outputs": [],
      "source": [
        "data['X_train'].shape\n"
      ]
    },
    {
      "cell_type": "code",
      "execution_count": null,
      "metadata": {
        "id": "2IjL__t-g89A"
      },
      "outputs": [],
      "source": [
        "pd.DataFrame(data['X_train'].reshape(1000, 152 ))"
      ]
    },
    {
      "cell_type": "code",
      "execution_count": null,
      "metadata": {
        "id": "zMMWG8lSg89A"
      },
      "outputs": [],
      "source": [
        "X = pd.DataFrame(data['X_train'].reshape( 1000,152 ))\n",
        "#X = data['X_train']\n",
        "num_samples = 1000\n",
        "X = StandardScaler().fit_transform(X.to_numpy())\n",
        "X = X.reshape(num_samples, 152, -1)\n",
        "X_intact, X, missing_mask, indicating_mask = mcar(X, 0.1) # hold out 10% observed values as ground truth\n",
        "X = masked_fill(X, 1 - missing_mask, np.nan)\n"
      ]
    },
    {
      "cell_type": "code",
      "execution_count": null,
      "metadata": {
        "id": "iOANQNCyg89A"
      },
      "outputs": [],
      "source": [
        "dataset = {\"X\": X}\n"
      ]
    },
    {
      "cell_type": "code",
      "execution_count": null,
      "metadata": {
        "colab": {
          "base_uri": "https://localhost:8080/"
        },
        "id": "q2-bVld6g89A",
        "outputId": "52926aa7-df89-4913-aa54-4ba59c4ef557"
      },
      "outputs": [
        {
          "output_type": "execute_result",
          "data": {
            "text/plain": [
              "(1000, 152, 1)"
            ]
          },
          "metadata": {},
          "execution_count": 26
        }
      ],
      "source": [
        "X.shape"
      ]
    },
    {
      "cell_type": "code",
      "execution_count": null,
      "metadata": {
        "colab": {
          "base_uri": "https://localhost:8080/"
        },
        "id": "7jR7Q14Ug89B",
        "outputId": "b1219e04-d38c-4075-a3d1-eb89bfbf7c0b"
      },
      "outputs": [
        {
          "metadata": {
            "tags": null
          },
          "name": "stderr",
          "output_type": "stream",
          "text": [
            "2023-05-03 14:54:34 [INFO]: No given device, using default device: cpu\n",
            "2023-05-03 14:54:34 [INFO]: Model initialized successfully with the number of trainable parameters: 203956\n",
            "2023-05-03 14:56:05 [INFO]: epoch 0: training loss_generator 4.1729, train loss_discriminator 0.5281\n",
            "2023-05-03 14:56:47 [INFO]: epoch 1: training loss_generator 3.0371, train loss_discriminator 0.4299\n",
            "2023-05-03 14:57:32 [INFO]: epoch 2: training loss_generator 2.5428, train loss_discriminator 0.3963\n",
            "2023-05-03 14:58:16 [INFO]: epoch 3: training loss_generator 2.2143, train loss_discriminator 0.3793\n",
            "2023-05-03 14:58:59 [INFO]: epoch 4: training loss_generator 1.9986, train loss_discriminator 0.3689\n",
            "2023-05-03 14:58:59 [INFO]: Finished training.\n",
            "/usr/local/lib/python3.10/dist-packages/sklearn/cluster/_kmeans.py:870: FutureWarning: The default value of `n_init` will change from 10 to 'auto' in 1.4. Set the value of `n_init` explicitly to suppress the warning\n",
            "  warnings.warn(\n",
            "2023-05-03 14:59:07 [INFO]: No given device, using default device: cpu\n",
            "2023-05-03 14:59:07 [INFO]: Model initialized successfully with the number of trainable parameters: 203956\n"
          ]
        },
        {
          "metadata": {
            "tags": null
          },
          "name": "stdout",
          "output_type": "stream",
          "text": [
            "[-0.0009681427793321633]\n",
            "[0.5482202202202202]\n"
          ]
        },
        {
          "metadata": {
            "tags": null
          },
          "name": "stderr",
          "output_type": "stream",
          "text": [
            "2023-05-03 14:59:57 [INFO]: epoch 0: training loss_generator 3.7943, train loss_discriminator 0.4810\n",
            "2023-05-03 15:00:41 [INFO]: epoch 1: training loss_generator 2.8752, train loss_discriminator 0.4054\n",
            "2023-05-03 15:01:25 [INFO]: epoch 2: training loss_generator 2.5013, train loss_discriminator 0.3794\n",
            "2023-05-03 15:02:09 [INFO]: epoch 3: training loss_generator 2.2111, train loss_discriminator 0.3662\n",
            "2023-05-03 15:02:52 [INFO]: epoch 4: training loss_generator 2.0040, train loss_discriminator 0.3587\n",
            "2023-05-03 15:02:52 [INFO]: Finished training.\n",
            "/usr/local/lib/python3.10/dist-packages/sklearn/cluster/_kmeans.py:870: FutureWarning: The default value of `n_init` will change from 10 to 'auto' in 1.4. Set the value of `n_init` explicitly to suppress the warning\n",
            "  warnings.warn(\n",
            "2023-05-03 15:03:01 [INFO]: No given device, using default device: cpu\n",
            "2023-05-03 15:03:01 [INFO]: Model initialized successfully with the number of trainable parameters: 203956\n"
          ]
        },
        {
          "metadata": {
            "tags": null
          },
          "name": "stdout",
          "output_type": "stream",
          "text": [
            "[-0.0009681427793321633, -0.0007624635793391563]\n",
            "[0.5482202202202202, 0.5075275275275275]\n"
          ]
        },
        {
          "metadata": {
            "tags": null
          },
          "name": "stderr",
          "output_type": "stream",
          "text": [
            "2023-05-03 15:03:51 [INFO]: epoch 0: training loss_generator 3.7784, train loss_discriminator 0.5754\n",
            "2023-05-03 15:04:34 [INFO]: epoch 1: training loss_generator 2.8621, train loss_discriminator 0.4550\n",
            "2023-05-03 15:05:20 [INFO]: epoch 2: training loss_generator 2.4970, train loss_discriminator 0.4128\n",
            "2023-05-03 15:06:03 [INFO]: epoch 3: training loss_generator 2.2045, train loss_discriminator 0.3916\n",
            "2023-05-03 15:06:46 [INFO]: epoch 4: training loss_generator 1.9959, train loss_discriminator 0.3788\n",
            "2023-05-03 15:06:46 [INFO]: Finished training.\n",
            "/usr/local/lib/python3.10/dist-packages/sklearn/cluster/_kmeans.py:870: FutureWarning: The default value of `n_init` will change from 10 to 'auto' in 1.4. Set the value of `n_init` explicitly to suppress the warning\n",
            "  warnings.warn(\n",
            "2023-05-03 15:06:55 [INFO]: No given device, using default device: cpu\n",
            "2023-05-03 15:06:55 [INFO]: Model initialized successfully with the number of trainable parameters: 203956\n"
          ]
        },
        {
          "metadata": {
            "tags": null
          },
          "name": "stdout",
          "output_type": "stream",
          "text": [
            "[-0.0009681427793321633, -0.0007624635793391563, -0.0015578320898902852]\n",
            "[0.5482202202202202, 0.5075275275275275, 0.4830950950950951]\n"
          ]
        },
        {
          "metadata": {
            "tags": null
          },
          "name": "stderr",
          "output_type": "stream",
          "text": [
            "2023-05-03 15:07:44 [INFO]: epoch 0: training loss_generator 4.1990, train loss_discriminator 0.4899\n",
            "2023-05-03 15:08:28 [INFO]: epoch 1: training loss_generator 3.0809, train loss_discriminator 0.4102\n",
            "2023-05-03 15:09:10 [INFO]: epoch 2: training loss_generator 2.6361, train loss_discriminator 0.3829\n",
            "2023-05-03 15:09:51 [INFO]: epoch 3: training loss_generator 2.3003, train loss_discriminator 0.3690\n",
            "2023-05-03 15:10:33 [INFO]: epoch 4: training loss_generator 2.0727, train loss_discriminator 0.3607\n",
            "2023-05-03 15:10:33 [INFO]: Finished training.\n",
            "/usr/local/lib/python3.10/dist-packages/sklearn/cluster/_kmeans.py:870: FutureWarning: The default value of `n_init` will change from 10 to 'auto' in 1.4. Set the value of `n_init` explicitly to suppress the warning\n",
            "  warnings.warn(\n",
            "2023-05-03 15:10:43 [INFO]: No given device, using default device: cpu\n",
            "2023-05-03 15:10:43 [INFO]: Model initialized successfully with the number of trainable parameters: 203956\n"
          ]
        },
        {
          "metadata": {
            "tags": null
          },
          "name": "stdout",
          "output_type": "stream",
          "text": [
            "[-0.0009681427793321633, -0.0007624635793391563, -0.0015578320898902852, -2.7379763896739478e-06]\n",
            "[0.5482202202202202, 0.5075275275275275, 0.4830950950950951, 0.47132332332332333]\n"
          ]
        },
        {
          "metadata": {
            "tags": null
          },
          "name": "stderr",
          "output_type": "stream",
          "text": [
            "2023-05-03 15:11:28 [INFO]: epoch 0: training loss_generator 3.9563, train loss_discriminator 0.5444\n",
            "2023-05-03 15:12:10 [INFO]: epoch 1: training loss_generator 2.9194, train loss_discriminator 0.4401\n",
            "2023-05-03 15:12:51 [INFO]: epoch 2: training loss_generator 2.4278, train loss_discriminator 0.4027\n",
            "2023-05-03 15:13:32 [INFO]: epoch 3: training loss_generator 2.1184, train loss_discriminator 0.3836\n",
            "2023-05-03 15:14:13 [INFO]: epoch 4: training loss_generator 1.9173, train loss_discriminator 0.3722\n",
            "2023-05-03 15:14:13 [INFO]: Finished training.\n",
            "/usr/local/lib/python3.10/dist-packages/sklearn/cluster/_kmeans.py:870: FutureWarning: The default value of `n_init` will change from 10 to 'auto' in 1.4. Set the value of `n_init` explicitly to suppress the warning\n",
            "  warnings.warn(\n",
            "2023-05-03 15:14:22 [INFO]: No given device, using default device: cpu\n",
            "2023-05-03 15:14:22 [INFO]: Model initialized successfully with the number of trainable parameters: 203956\n"
          ]
        },
        {
          "metadata": {
            "tags": null
          },
          "name": "stdout",
          "output_type": "stream",
          "text": [
            "[-0.0009681427793321633, -0.0007624635793391563, -0.0015578320898902852, -2.7379763896739478e-06, 0.010368427127844916]\n",
            "[0.5482202202202202, 0.5075275275275275, 0.4830950950950951, 0.47132332332332333, 0.36576376376376374]\n"
          ]
        },
        {
          "metadata": {
            "tags": null
          },
          "name": "stderr",
          "output_type": "stream",
          "text": [
            "2023-05-03 15:15:08 [INFO]: epoch 0: training loss_generator 4.0233, train loss_discriminator 0.5585\n",
            "2023-05-03 15:15:49 [INFO]: epoch 1: training loss_generator 2.9852, train loss_discriminator 0.4459\n",
            "2023-05-03 15:16:32 [INFO]: epoch 2: training loss_generator 2.5625, train loss_discriminator 0.4067\n",
            "2023-05-03 15:17:14 [INFO]: epoch 3: training loss_generator 2.2408, train loss_discriminator 0.3869\n",
            "2023-05-03 15:17:56 [INFO]: epoch 4: training loss_generator 2.0221, train loss_discriminator 0.3750\n",
            "2023-05-03 15:17:56 [INFO]: Finished training.\n",
            "/usr/local/lib/python3.10/dist-packages/sklearn/cluster/_kmeans.py:870: FutureWarning: The default value of `n_init` will change from 10 to 'auto' in 1.4. Set the value of `n_init` explicitly to suppress the warning\n",
            "  warnings.warn(\n",
            "2023-05-03 15:18:04 [INFO]: No given device, using default device: cpu\n",
            "2023-05-03 15:18:04 [INFO]: Model initialized successfully with the number of trainable parameters: 203956\n"
          ]
        },
        {
          "metadata": {
            "tags": null
          },
          "name": "stdout",
          "output_type": "stream",
          "text": [
            "[-0.0009681427793321633, -0.0007624635793391563, -0.0015578320898902852, -2.7379763896739478e-06, 0.010368427127844916, 0.010122245581517692]\n",
            "[0.5482202202202202, 0.5075275275275275, 0.4830950950950951, 0.47132332332332333, 0.36576376376376374, 0.3477297297297297]\n"
          ]
        },
        {
          "metadata": {
            "tags": null
          },
          "name": "stderr",
          "output_type": "stream",
          "text": [
            "2023-05-03 15:18:55 [INFO]: epoch 0: training loss_generator 3.4881, train loss_discriminator 0.4945\n",
            "2023-05-03 15:19:37 [INFO]: epoch 1: training loss_generator 2.7069, train loss_discriminator 0.4124\n",
            "2023-05-03 15:20:18 [INFO]: epoch 2: training loss_generator 2.3296, train loss_discriminator 0.3842\n",
            "2023-05-03 15:21:02 [INFO]: epoch 3: training loss_generator 2.0503, train loss_discriminator 0.3700\n",
            "2023-05-03 15:21:44 [INFO]: epoch 4: training loss_generator 1.8641, train loss_discriminator 0.3613\n",
            "2023-05-03 15:21:44 [INFO]: Finished training.\n",
            "/usr/local/lib/python3.10/dist-packages/sklearn/cluster/_kmeans.py:870: FutureWarning: The default value of `n_init` will change from 10 to 'auto' in 1.4. Set the value of `n_init` explicitly to suppress the warning\n",
            "  warnings.warn(\n",
            "2023-05-03 15:21:54 [INFO]: No given device, using default device: cpu\n",
            "2023-05-03 15:21:54 [INFO]: Model initialized successfully with the number of trainable parameters: 203956\n"
          ]
        },
        {
          "metadata": {
            "tags": null
          },
          "name": "stdout",
          "output_type": "stream",
          "text": [
            "[-0.0009681427793321633, -0.0007624635793391563, -0.0015578320898902852, -2.7379763896739478e-06, 0.010368427127844916, 0.010122245581517692, 0.005382124762140342]\n",
            "[0.5482202202202202, 0.5075275275275275, 0.4830950950950951, 0.47132332332332333, 0.36576376376376374, 0.3477297297297297, 0.3524384384384384]\n"
          ]
        },
        {
          "metadata": {
            "tags": null
          },
          "name": "stderr",
          "output_type": "stream",
          "text": [
            "2023-05-03 15:22:39 [INFO]: epoch 0: training loss_generator 3.8005, train loss_discriminator 0.5191\n",
            "2023-05-03 15:23:20 [INFO]: epoch 1: training loss_generator 2.8565, train loss_discriminator 0.4245\n",
            "2023-05-03 15:24:01 [INFO]: epoch 2: training loss_generator 2.4208, train loss_discriminator 0.3925\n",
            "2023-05-03 15:24:43 [INFO]: epoch 3: training loss_generator 2.1166, train loss_discriminator 0.3762\n",
            "2023-05-03 15:25:25 [INFO]: epoch 4: training loss_generator 1.9190, train loss_discriminator 0.3665\n",
            "2023-05-03 15:25:25 [INFO]: Finished training.\n",
            "/usr/local/lib/python3.10/dist-packages/sklearn/cluster/_kmeans.py:870: FutureWarning: The default value of `n_init` will change from 10 to 'auto' in 1.4. Set the value of `n_init` explicitly to suppress the warning\n",
            "  warnings.warn(\n",
            "2023-05-03 15:25:33 [INFO]: No given device, using default device: cpu\n",
            "2023-05-03 15:25:33 [INFO]: Model initialized successfully with the number of trainable parameters: 203956\n"
          ]
        },
        {
          "metadata": {
            "tags": null
          },
          "name": "stdout",
          "output_type": "stream",
          "text": [
            "[-0.0009681427793321633, -0.0007624635793391563, -0.0015578320898902852, -2.7379763896739478e-06, 0.010368427127844916, 0.010122245581517692, 0.005382124762140342, 0.011056590366728502]\n",
            "[0.5482202202202202, 0.5075275275275275, 0.4830950950950951, 0.47132332332332333, 0.36576376376376374, 0.3477297297297297, 0.3524384384384384, 0.3531911911911912]\n"
          ]
        },
        {
          "metadata": {
            "tags": null
          },
          "name": "stderr",
          "output_type": "stream",
          "text": [
            "2023-05-03 15:26:21 [INFO]: epoch 0: training loss_generator 3.6410, train loss_discriminator 0.5355\n",
            "2023-05-03 15:27:02 [INFO]: epoch 1: training loss_generator 2.7976, train loss_discriminator 0.4337\n",
            "2023-05-03 15:27:43 [INFO]: epoch 2: training loss_generator 2.4040, train loss_discriminator 0.3986\n",
            "2023-05-03 15:28:24 [INFO]: epoch 3: training loss_generator 2.1187, train loss_discriminator 0.3808\n",
            "2023-05-03 15:29:06 [INFO]: epoch 4: training loss_generator 1.9240, train loss_discriminator 0.3701\n",
            "2023-05-03 15:29:06 [INFO]: Finished training.\n",
            "/usr/local/lib/python3.10/dist-packages/sklearn/cluster/_kmeans.py:870: FutureWarning: The default value of `n_init` will change from 10 to 'auto' in 1.4. Set the value of `n_init` explicitly to suppress the warning\n",
            "  warnings.warn(\n",
            "2023-05-03 15:29:15 [INFO]: No given device, using default device: cpu\n",
            "2023-05-03 15:29:15 [INFO]: Model initialized successfully with the number of trainable parameters: 203956\n"
          ]
        },
        {
          "metadata": {
            "tags": null
          },
          "name": "stdout",
          "output_type": "stream",
          "text": [
            "[-0.0009681427793321633, -0.0007624635793391563, -0.0015578320898902852, -2.7379763896739478e-06, 0.010368427127844916, 0.010122245581517692, 0.005382124762140342, 0.011056590366728502, 0.006399382299831183]\n",
            "[0.5482202202202202, 0.5075275275275275, 0.4830950950950951, 0.47132332332332333, 0.36576376376376374, 0.3477297297297297, 0.3524384384384384, 0.3531911911911912, 0.34779379379379377]\n"
          ]
        },
        {
          "metadata": {
            "tags": null
          },
          "name": "stderr",
          "output_type": "stream",
          "text": [
            "2023-05-03 15:30:01 [INFO]: epoch 0: training loss_generator 3.4349, train loss_discriminator 0.4783\n",
            "2023-05-03 15:30:42 [INFO]: epoch 1: training loss_generator 2.6812, train loss_discriminator 0.4038\n",
            "2023-05-03 15:31:23 [INFO]: epoch 2: training loss_generator 2.3324, train loss_discriminator 0.3784\n",
            "2023-05-03 15:32:04 [INFO]: epoch 3: training loss_generator 2.0611, train loss_discriminator 0.3657\n",
            "2023-05-03 15:32:45 [INFO]: epoch 4: training loss_generator 1.8757, train loss_discriminator 0.3580\n",
            "2023-05-03 15:32:45 [INFO]: Finished training.\n",
            "/usr/local/lib/python3.10/dist-packages/sklearn/cluster/_kmeans.py:870: FutureWarning: The default value of `n_init` will change from 10 to 'auto' in 1.4. Set the value of `n_init` explicitly to suppress the warning\n",
            "  warnings.warn(\n",
            "2023-05-03 15:32:54 [INFO]: No given device, using default device: cpu\n",
            "2023-05-03 15:32:54 [INFO]: Model initialized successfully with the number of trainable parameters: 203956\n"
          ]
        },
        {
          "metadata": {
            "tags": null
          },
          "name": "stdout",
          "output_type": "stream",
          "text": [
            "[-0.0009681427793321633, -0.0007624635793391563, -0.0015578320898902852, -2.7379763896739478e-06, 0.010368427127844916, 0.010122245581517692, 0.005382124762140342, 0.011056590366728502, 0.006399382299831183, 0.008503607337940576]\n",
            "[0.5482202202202202, 0.5075275275275275, 0.4830950950950951, 0.47132332332332333, 0.36576376376376374, 0.3477297297297297, 0.3524384384384384, 0.3531911911911912, 0.34779379379379377, 0.3567467467467467]\n"
          ]
        },
        {
          "metadata": {
            "tags": null
          },
          "name": "stderr",
          "output_type": "stream",
          "text": [
            "2023-05-03 15:33:41 [INFO]: epoch 0: training loss_generator 3.3031, train loss_discriminator 0.5694\n",
            "2023-05-03 15:34:23 [INFO]: epoch 1: training loss_generator 2.6012, train loss_discriminator 0.4514\n",
            "2023-05-03 15:35:04 [INFO]: epoch 2: training loss_generator 2.2278, train loss_discriminator 0.4102\n",
            "2023-05-03 15:35:46 [INFO]: epoch 3: training loss_generator 1.9692, train loss_discriminator 0.3899\n",
            "2023-05-03 15:36:27 [INFO]: epoch 4: training loss_generator 1.7967, train loss_discriminator 0.3774\n",
            "2023-05-03 15:36:27 [INFO]: Finished training.\n",
            "/usr/local/lib/python3.10/dist-packages/sklearn/cluster/_kmeans.py:870: FutureWarning: The default value of `n_init` will change from 10 to 'auto' in 1.4. Set the value of `n_init` explicitly to suppress the warning\n",
            "  warnings.warn(\n",
            "2023-05-03 15:36:36 [INFO]: No given device, using default device: cpu\n",
            "2023-05-03 15:36:36 [INFO]: Model initialized successfully with the number of trainable parameters: 203956\n"
          ]
        },
        {
          "metadata": {
            "tags": null
          },
          "name": "stdout",
          "output_type": "stream",
          "text": [
            "[-0.0009681427793321633, -0.0007624635793391563, -0.0015578320898902852, -2.7379763896739478e-06, 0.010368427127844916, 0.010122245581517692, 0.005382124762140342, 0.011056590366728502, 0.006399382299831183, 0.008503607337940576, 0.01083249307021781]\n",
            "[0.5482202202202202, 0.5075275275275275, 0.4830950950950951, 0.47132332332332333, 0.36576376376376374, 0.3477297297297297, 0.3524384384384384, 0.3531911911911912, 0.34779379379379377, 0.3567467467467467, 0.33248248248248247]\n"
          ]
        },
        {
          "metadata": {
            "tags": null
          },
          "name": "stderr",
          "output_type": "stream",
          "text": [
            "2023-05-03 15:37:22 [INFO]: epoch 0: training loss_generator 2.8778, train loss_discriminator 0.5562\n",
            "2023-05-03 15:38:03 [INFO]: epoch 1: training loss_generator 2.3919, train loss_discriminator 0.4437\n",
            "2023-05-03 15:38:45 [INFO]: epoch 2: training loss_generator 2.0913, train loss_discriminator 0.4053\n",
            "2023-05-03 15:39:26 [INFO]: epoch 3: training loss_generator 1.8604, train loss_discriminator 0.3860\n",
            "2023-05-03 15:40:08 [INFO]: epoch 4: training loss_generator 1.7065, train loss_discriminator 0.3744\n",
            "2023-05-03 15:40:08 [INFO]: Finished training.\n",
            "/usr/local/lib/python3.10/dist-packages/sklearn/cluster/_kmeans.py:870: FutureWarning: The default value of `n_init` will change from 10 to 'auto' in 1.4. Set the value of `n_init` explicitly to suppress the warning\n",
            "  warnings.warn(\n",
            "2023-05-03 15:40:16 [INFO]: No given device, using default device: cpu\n",
            "2023-05-03 15:40:16 [INFO]: Model initialized successfully with the number of trainable parameters: 203956\n"
          ]
        },
        {
          "metadata": {
            "tags": null
          },
          "name": "stdout",
          "output_type": "stream",
          "text": [
            "[-0.0009681427793321633, -0.0007624635793391563, -0.0015578320898902852, -2.7379763896739478e-06, 0.010368427127844916, 0.010122245581517692, 0.005382124762140342, 0.011056590366728502, 0.006399382299831183, 0.008503607337940576, 0.01083249307021781, 0.005855164651801958]\n",
            "[0.5482202202202202, 0.5075275275275275, 0.4830950950950951, 0.47132332332332333, 0.36576376376376374, 0.3477297297297297, 0.3524384384384384, 0.3531911911911912, 0.34779379379379377, 0.3567467467467467, 0.33248248248248247, 0.3388148148148148]\n"
          ]
        },
        {
          "metadata": {
            "tags": null
          },
          "name": "stderr",
          "output_type": "stream",
          "text": [
            "2023-05-03 15:41:02 [INFO]: epoch 0: training loss_generator 3.3347, train loss_discriminator 0.6118\n",
            "2023-05-03 15:41:43 [INFO]: epoch 1: training loss_generator 2.6324, train loss_discriminator 0.4745\n",
            "2023-05-03 15:42:24 [INFO]: epoch 2: training loss_generator 2.2831, train loss_discriminator 0.4262\n",
            "2023-05-03 15:43:05 [INFO]: epoch 3: training loss_generator 2.0196, train loss_discriminator 0.4019\n",
            "2023-05-03 15:43:46 [INFO]: epoch 4: training loss_generator 1.8402, train loss_discriminator 0.3871\n",
            "2023-05-03 15:43:46 [INFO]: Finished training.\n",
            "/usr/local/lib/python3.10/dist-packages/sklearn/cluster/_kmeans.py:870: FutureWarning: The default value of `n_init` will change from 10 to 'auto' in 1.4. Set the value of `n_init` explicitly to suppress the warning\n",
            "  warnings.warn(\n",
            "2023-05-03 15:43:56 [INFO]: No given device, using default device: cpu\n",
            "2023-05-03 15:43:56 [INFO]: Model initialized successfully with the number of trainable parameters: 203956\n"
          ]
        },
        {
          "metadata": {
            "tags": null
          },
          "name": "stdout",
          "output_type": "stream",
          "text": [
            "[-0.0009681427793321633, -0.0007624635793391563, -0.0015578320898902852, -2.7379763896739478e-06, 0.010368427127844916, 0.010122245581517692, 0.005382124762140342, 0.011056590366728502, 0.006399382299831183, 0.008503607337940576, 0.01083249307021781, 0.005855164651801958, 0.010093138387606792]\n",
            "[0.5482202202202202, 0.5075275275275275, 0.4830950950950951, 0.47132332332332333, 0.36576376376376374, 0.3477297297297297, 0.3524384384384384, 0.3531911911911912, 0.34779379379379377, 0.3567467467467467, 0.33248248248248247, 0.3388148148148148, 0.32265865865865867]\n"
          ]
        },
        {
          "output_type": "stream",
          "name": "stderr",
          "text": [
            "2023-05-03 15:44:41 [INFO]: epoch 0: training loss_generator 3.3147, train loss_discriminator 0.5377\n",
            "2023-05-03 15:45:22 [INFO]: epoch 1: training loss_generator 2.6378, train loss_discriminator 0.4352\n",
            "2023-05-03 15:46:04 [INFO]: epoch 2: training loss_generator 2.2966, train loss_discriminator 0.3993\n",
            "2023-05-03 15:46:45 [INFO]: epoch 3: training loss_generator 2.0285, train loss_discriminator 0.3814\n",
            "2023-05-03 15:47:27 [INFO]: epoch 4: training loss_generator 1.8473, train loss_discriminator 0.3707\n",
            "2023-05-03 15:47:27 [INFO]: Finished training.\n",
            "/usr/local/lib/python3.10/dist-packages/sklearn/cluster/_kmeans.py:870: FutureWarning: The default value of `n_init` will change from 10 to 'auto' in 1.4. Set the value of `n_init` explicitly to suppress the warning\n",
            "  warnings.warn(\n",
            "2023-05-03 15:47:37 [INFO]: No given device, using default device: cpu\n",
            "2023-05-03 15:47:37 [INFO]: Model initialized successfully with the number of trainable parameters: 203956\n"
          ]
        },
        {
          "output_type": "stream",
          "name": "stdout",
          "text": [
            "[-0.0009681427793321633, -0.0007624635793391563, -0.0015578320898902852, -2.7379763896739478e-06, 0.010368427127844916, 0.010122245581517692, 0.005382124762140342, 0.011056590366728502, 0.006399382299831183, 0.008503607337940576, 0.01083249307021781, 0.005855164651801958, 0.010093138387606792, 0.04012142997108463]\n",
            "[0.5482202202202202, 0.5075275275275275, 0.4830950950950951, 0.47132332332332333, 0.36576376376376374, 0.3477297297297297, 0.3524384384384384, 0.3531911911911912, 0.34779379379379377, 0.3567467467467467, 0.33248248248248247, 0.3388148148148148, 0.32265865865865867, 0.2764284284284284]\n"
          ]
        },
        {
          "output_type": "stream",
          "name": "stderr",
          "text": [
            "2023-05-03 15:48:22 [INFO]: epoch 0: training loss_generator 2.9209, train loss_discriminator 0.5275\n",
            "2023-05-03 15:49:04 [INFO]: epoch 1: training loss_generator 2.3556, train loss_discriminator 0.4294\n",
            "2023-05-03 15:49:45 [INFO]: epoch 2: training loss_generator 2.0014, train loss_discriminator 0.3956\n",
            "2023-05-03 15:50:26 [INFO]: epoch 3: training loss_generator 1.7875, train loss_discriminator 0.3787\n",
            "2023-05-03 15:51:08 [INFO]: epoch 4: training loss_generator 1.6513, train loss_discriminator 0.3685\n",
            "2023-05-03 15:51:08 [INFO]: Finished training.\n",
            "/usr/local/lib/python3.10/dist-packages/sklearn/cluster/_kmeans.py:870: FutureWarning: The default value of `n_init` will change from 10 to 'auto' in 1.4. Set the value of `n_init` explicitly to suppress the warning\n",
            "  warnings.warn(\n",
            "2023-05-03 15:51:16 [INFO]: No given device, using default device: cpu\n",
            "2023-05-03 15:51:16 [INFO]: Model initialized successfully with the number of trainable parameters: 203956\n"
          ]
        },
        {
          "output_type": "stream",
          "name": "stdout",
          "text": [
            "[-0.0009681427793321633, -0.0007624635793391563, -0.0015578320898902852, -2.7379763896739478e-06, 0.010368427127844916, 0.010122245581517692, 0.005382124762140342, 0.011056590366728502, 0.006399382299831183, 0.008503607337940576, 0.01083249307021781, 0.005855164651801958, 0.010093138387606792, 0.04012142997108463, 0.042705373927268725]\n",
            "[0.5482202202202202, 0.5075275275275275, 0.4830950950950951, 0.47132332332332333, 0.36576376376376374, 0.3477297297297297, 0.3524384384384384, 0.3531911911911912, 0.34779379379379377, 0.3567467467467467, 0.33248248248248247, 0.3388148148148148, 0.32265865865865867, 0.2764284284284284, 0.2837317317317317]\n"
          ]
        },
        {
          "output_type": "stream",
          "name": "stderr",
          "text": [
            "2023-05-03 15:52:05 [INFO]: epoch 0: training loss_generator 3.0423, train loss_discriminator 0.5271\n",
            "2023-05-03 15:52:46 [INFO]: epoch 1: training loss_generator 2.4005, train loss_discriminator 0.4297\n",
            "2023-05-03 15:53:27 [INFO]: epoch 2: training loss_generator 2.0331, train loss_discriminator 0.3961\n",
            "2023-05-03 15:54:08 [INFO]: epoch 3: training loss_generator 1.8166, train loss_discriminator 0.3790\n",
            "2023-05-03 15:54:50 [INFO]: epoch 4: training loss_generator 1.6748, train loss_discriminator 0.3688\n",
            "2023-05-03 15:54:50 [INFO]: Finished training.\n",
            "/usr/local/lib/python3.10/dist-packages/sklearn/cluster/_kmeans.py:870: FutureWarning: The default value of `n_init` will change from 10 to 'auto' in 1.4. Set the value of `n_init` explicitly to suppress the warning\n",
            "  warnings.warn(\n",
            "2023-05-03 15:54:59 [INFO]: No given device, using default device: cpu\n",
            "2023-05-03 15:54:59 [INFO]: Model initialized successfully with the number of trainable parameters: 203956\n"
          ]
        },
        {
          "output_type": "stream",
          "name": "stdout",
          "text": [
            "[-0.0009681427793321633, -0.0007624635793391563, -0.0015578320898902852, -2.7379763896739478e-06, 0.010368427127844916, 0.010122245581517692, 0.005382124762140342, 0.011056590366728502, 0.006399382299831183, 0.008503607337940576, 0.01083249307021781, 0.005855164651801958, 0.010093138387606792, 0.04012142997108463, 0.042705373927268725, 0.008428584784226707]\n",
            "[0.5482202202202202, 0.5075275275275275, 0.4830950950950951, 0.47132332332332333, 0.36576376376376374, 0.3477297297297297, 0.3524384384384384, 0.3531911911911912, 0.34779379379379377, 0.3567467467467467, 0.33248248248248247, 0.3388148148148148, 0.32265865865865867, 0.2764284284284284, 0.2837317317317317, 0.3017997997997998]\n"
          ]
        },
        {
          "output_type": "stream",
          "name": "stderr",
          "text": [
            "2023-05-03 15:55:45 [INFO]: epoch 0: training loss_generator 2.8802, train loss_discriminator 0.4991\n",
            "2023-05-03 15:56:25 [INFO]: epoch 1: training loss_generator 2.3683, train loss_discriminator 0.4154\n",
            "2023-05-03 15:57:06 [INFO]: epoch 2: training loss_generator 2.0271, train loss_discriminator 0.3863\n",
            "2023-05-03 15:57:47 [INFO]: epoch 3: training loss_generator 1.8076, train loss_discriminator 0.3717\n",
            "2023-05-03 15:58:29 [INFO]: epoch 4: training loss_generator 1.6637, train loss_discriminator 0.3628\n",
            "2023-05-03 15:58:29 [INFO]: Finished training.\n",
            "/usr/local/lib/python3.10/dist-packages/sklearn/cluster/_kmeans.py:870: FutureWarning: The default value of `n_init` will change from 10 to 'auto' in 1.4. Set the value of `n_init` explicitly to suppress the warning\n",
            "  warnings.warn(\n",
            "2023-05-03 15:58:38 [INFO]: No given device, using default device: cpu\n",
            "2023-05-03 15:58:38 [INFO]: Model initialized successfully with the number of trainable parameters: 203956\n"
          ]
        },
        {
          "output_type": "stream",
          "name": "stdout",
          "text": [
            "[-0.0009681427793321633, -0.0007624635793391563, -0.0015578320898902852, -2.7379763896739478e-06, 0.010368427127844916, 0.010122245581517692, 0.005382124762140342, 0.011056590366728502, 0.006399382299831183, 0.008503607337940576, 0.01083249307021781, 0.005855164651801958, 0.010093138387606792, 0.04012142997108463, 0.042705373927268725, 0.008428584784226707, 0.008841275682414619]\n",
            "[0.5482202202202202, 0.5075275275275275, 0.4830950950950951, 0.47132332332332333, 0.36576376376376374, 0.3477297297297297, 0.3524384384384384, 0.3531911911911912, 0.34779379379379377, 0.3567467467467467, 0.33248248248248247, 0.3388148148148148, 0.32265865865865867, 0.2764284284284284, 0.2837317317317317, 0.3017997997997998, 0.2981881881881882]\n"
          ]
        },
        {
          "output_type": "stream",
          "name": "stderr",
          "text": [
            "2023-05-03 15:59:24 [INFO]: epoch 0: training loss_generator 2.8761, train loss_discriminator 0.5811\n",
            "2023-05-03 16:00:05 [INFO]: epoch 1: training loss_generator 2.3641, train loss_discriminator 0.4576\n",
            "2023-05-03 16:00:47 [INFO]: epoch 2: training loss_generator 2.0294, train loss_discriminator 0.4146\n",
            "2023-05-03 16:01:29 [INFO]: epoch 3: training loss_generator 1.8098, train loss_discriminator 0.3928\n",
            "2023-05-03 16:02:11 [INFO]: epoch 4: training loss_generator 1.6669, train loss_discriminator 0.3799\n",
            "2023-05-03 16:02:11 [INFO]: Finished training.\n",
            "/usr/local/lib/python3.10/dist-packages/sklearn/cluster/_kmeans.py:870: FutureWarning: The default value of `n_init` will change from 10 to 'auto' in 1.4. Set the value of `n_init` explicitly to suppress the warning\n",
            "  warnings.warn(\n"
          ]
        },
        {
          "output_type": "stream",
          "name": "stdout",
          "text": [
            "[-0.0009681427793321633, -0.0007624635793391563, -0.0015578320898902852, -2.7379763896739478e-06, 0.010368427127844916, 0.010122245581517692, 0.005382124762140342, 0.011056590366728502, 0.006399382299831183, 0.008503607337940576, 0.01083249307021781, 0.005855164651801958, 0.010093138387606792, 0.04012142997108463, 0.042705373927268725, 0.008428584784226707, 0.008841275682414619, 0.0279718665259866]\n",
            "[0.5482202202202202, 0.5075275275275275, 0.4830950950950951, 0.47132332332332333, 0.36576376376376374, 0.3477297297297297, 0.3524384384384384, 0.3531911911911912, 0.34779379379379377, 0.3567467467467467, 0.33248248248248247, 0.3388148148148148, 0.32265865865865867, 0.2764284284284284, 0.2837317317317317, 0.3017997997997998, 0.2981881881881882, 0.26686886886886885]\n"
          ]
        }
      ],
      "source": [
        "results=[]\n",
        "AMS=[]\n",
        "RII=[]\n",
        "y=data['y_train']\n",
        "for i in range(2,20):\n",
        "\n",
        "  crli = CRLI(\n",
        "    n_steps=1,\n",
        "    n_features=1,\n",
        "    n_clusters=i,\n",
        "    n_generator_layers=2,\n",
        "    rnn_hidden_size=64,\n",
        "    epochs=5\n",
        "  )\n",
        "\n",
        "  crli.fit(dataset)\n",
        "  clustt=crli.cluster(dataset)\n",
        "  results.append(clustt)\n",
        "  RI = cal_rand_index(clustt, y)\n",
        "  RII.append(RI)\n",
        "  AM=adjusted_mutual_info_score(clustt, y)\n",
        "  AMS.append(AM)\n",
        "  print(AMS)\n",
        "  print(RII)\n",
        "#with open(\"/content/drive/MyDrive/Doctorado/2023/Abril/PyPOTS/pypots/tests/firtsexperiment2.txt\", \"w\") as output:\n",
        " #   output.write(str(results))"
      ]
    },
    {
      "cell_type": "markdown",
      "source": [
        "## UCR_UEA_ArrowHead"
      ],
      "metadata": {
        "id": "CSYQ5Bokk88g"
      }
    },
    {
      "cell_type": "code",
      "source": [
        "import tsdb\n",
        "import pandas as pd\n",
        "data4 = tsdb.load_dataset('UCR_UEA_ArrowHead') #3 classes\n",
        "Four=pd.DataFrame(data4['X_train'].reshape(36, 251 ))"
      ],
      "metadata": {
        "colab": {
          "base_uri": "https://localhost:8080/"
        },
        "outputId": "ec639ec9-fea3-43b0-885a-1dfee97f3656",
        "id": "N7oMyTVrk8RL"
      },
      "execution_count": null,
      "outputs": [
        {
          "output_type": "stream",
          "name": "stdout",
          "text": [
            "Dataset UCR_UEA_ArrowHead has already been downloaded. Processing directly...\n",
            "Dataset UCR_UEA_ArrowHead has already been cached. Loading from cache directly...\n",
            "Loaded successfully!\n"
          ]
        }
      ]
    },
    {
      "cell_type": "code",
      "execution_count": null,
      "metadata": {
        "colab": {
          "base_uri": "https://localhost:8080/"
        },
        "outputId": "691f99eb-6a63-46d1-88e4-679ea3b522c8",
        "id": "U0cSXrB6lQQB"
      },
      "outputs": [
        {
          "output_type": "execute_result",
          "data": {
            "text/plain": [
              "(36, 251, 1)"
            ]
          },
          "metadata": {},
          "execution_count": 12
        }
      ],
      "source": [
        "data4['X_train'].shape\n"
      ]
    },
    {
      "cell_type": "code",
      "execution_count": null,
      "metadata": {
        "id": "tU_zDZlAlQQB"
      },
      "outputs": [],
      "source": [
        "X = pd.DataFrame(data4['X_train'].reshape(36,251 ))\n",
        "#X = data['X_train']\n",
        "num_samples =36 \n",
        "X = StandardScaler().fit_transform(X.to_numpy())\n",
        "X = X.reshape(num_samples,251 , -1)\n",
        "X_intact, X, missing_mask, indicating_mask = mcar(X, 0.1) # hold out 10% observed values as ground truth\n",
        "X = masked_fill(X, 1 - missing_mask, np.nan)\n",
        "y=data4['y_train']"
      ]
    },
    {
      "cell_type": "code",
      "source": [
        "y"
      ],
      "metadata": {
        "colab": {
          "base_uri": "https://localhost:8080/"
        },
        "id": "HHzRFyoK4iMw",
        "outputId": "1eb0f420-5fa7-41eb-9933-554e26d5bba5"
      },
      "execution_count": null,
      "outputs": [
        {
          "output_type": "execute_result",
          "data": {
            "text/plain": [
              "array([0, 1, 2, 0, 1, 2, 0, 1, 2, 0, 1, 2, 0, 1, 2, 0, 1, 2, 0, 1, 2, 0,\n",
              "       1, 2, 0, 1, 2, 0, 1, 2, 0, 1, 2, 0, 1, 2])"
            ]
          },
          "metadata": {},
          "execution_count": 14
        }
      ]
    },
    {
      "cell_type": "code",
      "execution_count": null,
      "metadata": {
        "id": "tlCm_HkDlQQC"
      },
      "outputs": [],
      "source": [
        "dataset = {\"X\": X}\n"
      ]
    },
    {
      "cell_type": "code",
      "source": [
        "X.shape"
      ],
      "metadata": {
        "colab": {
          "base_uri": "https://localhost:8080/"
        },
        "id": "70Yqj3Ur41AN",
        "outputId": "5f24b557-ad8c-4906-eb27-fd2a5c03318a"
      },
      "execution_count": null,
      "outputs": [
        {
          "output_type": "execute_result",
          "data": {
            "text/plain": [
              "(36, 251, 1)"
            ]
          },
          "metadata": {},
          "execution_count": 16
        }
      ]
    },
    {
      "cell_type": "code",
      "execution_count": null,
      "metadata": {
        "colab": {
          "base_uri": "https://localhost:8080/"
        },
        "outputId": "fce10fa2-5644-4d3f-bb09-0f4db586b876",
        "id": "_L8cnepmlQQC"
      },
      "outputs": [
        {
          "output_type": "execute_result",
          "data": {
            "text/plain": [
              "(36, 251, 1)"
            ]
          },
          "metadata": {},
          "execution_count": 17
        }
      ],
      "source": [
        "X.shape"
      ]
    },
    {
      "cell_type": "code",
      "execution_count": null,
      "metadata": {
        "colab": {
          "base_uri": "https://localhost:8080/"
        },
        "outputId": "850c6f63-84d5-43f8-ea8e-3c37e60c1e36",
        "id": "bcuP_TfklQQC"
      },
      "outputs": [
        {
          "output_type": "stream",
          "name": "stderr",
          "text": [
            "2023-05-04 08:07:21 [INFO]: No given device, using default device: cpu\n",
            "2023-05-04 08:07:21 [INFO]: Model initialized successfully with the number of trainable parameters: 203956\n",
            "2023-05-04 08:07:30 [INFO]: epoch 0: training loss_generator 14.5875, train loss_discriminator 0.7593\n",
            "2023-05-04 08:07:34 [INFO]: epoch 1: training loss_generator 11.1856, train loss_discriminator 0.7456\n",
            "2023-05-04 08:07:38 [INFO]: epoch 2: training loss_generator 9.3827, train loss_discriminator 0.7322\n",
            "2023-05-04 08:07:46 [INFO]: epoch 3: training loss_generator 8.0843, train loss_discriminator 0.7186\n",
            "2023-05-04 08:07:52 [INFO]: epoch 4: training loss_generator 7.4627, train loss_discriminator 0.7049\n",
            "2023-05-04 08:07:52 [INFO]: Finished training.\n",
            "/usr/local/lib/python3.10/dist-packages/sklearn/cluster/_kmeans.py:870: FutureWarning: The default value of `n_init` will change from 10 to 'auto' in 1.4. Set the value of `n_init` explicitly to suppress the warning\n",
            "  warnings.warn(\n",
            "2023-05-04 08:07:53 [INFO]: No given device, using default device: cpu\n",
            "2023-05-04 08:07:53 [INFO]: Model initialized successfully with the number of trainable parameters: 203956\n"
          ]
        },
        {
          "output_type": "stream",
          "name": "stdout",
          "text": [
            "[0.16784883932312408]\n",
            "[0.5936507936507937]\n"
          ]
        },
        {
          "output_type": "stream",
          "name": "stderr",
          "text": [
            "2023-05-04 08:07:58 [INFO]: epoch 0: training loss_generator 11.3272, train loss_discriminator 0.5656\n",
            "2023-05-04 08:08:06 [INFO]: epoch 1: training loss_generator 9.2103, train loss_discriminator 0.5555\n",
            "2023-05-04 08:08:11 [INFO]: epoch 2: training loss_generator 7.9327, train loss_discriminator 0.5450\n",
            "2023-05-04 08:08:17 [INFO]: epoch 3: training loss_generator 6.8656, train loss_discriminator 0.5340\n",
            "2023-05-04 08:08:21 [INFO]: epoch 4: training loss_generator 6.1037, train loss_discriminator 0.5232\n",
            "2023-05-04 08:08:21 [INFO]: Finished training.\n",
            "/usr/local/lib/python3.10/dist-packages/sklearn/cluster/_kmeans.py:870: FutureWarning: The default value of `n_init` will change from 10 to 'auto' in 1.4. Set the value of `n_init` explicitly to suppress the warning\n",
            "  warnings.warn(\n",
            "2023-05-04 08:08:22 [INFO]: No given device, using default device: cpu\n",
            "2023-05-04 08:08:22 [INFO]: Model initialized successfully with the number of trainable parameters: 203956\n"
          ]
        },
        {
          "output_type": "stream",
          "name": "stdout",
          "text": [
            "[0.16784883932312408, 0.12771379112464176]\n",
            "[0.5936507936507937, 0.6095238095238096]\n"
          ]
        },
        {
          "output_type": "stream",
          "name": "stderr",
          "text": [
            "2023-05-04 08:08:26 [INFO]: epoch 0: training loss_generator 10.2472, train loss_discriminator 0.7406\n",
            "2023-05-04 08:08:32 [INFO]: epoch 1: training loss_generator 8.3690, train loss_discriminator 0.7279\n",
            "2023-05-04 08:08:37 [INFO]: epoch 2: training loss_generator 7.2760, train loss_discriminator 0.7150\n",
            "2023-05-04 08:08:41 [INFO]: epoch 3: training loss_generator 6.4012, train loss_discriminator 0.7018\n",
            "2023-05-04 08:08:47 [INFO]: epoch 4: training loss_generator 5.7299, train loss_discriminator 0.6882\n",
            "2023-05-04 08:08:47 [INFO]: Finished training.\n",
            "/usr/local/lib/python3.10/dist-packages/sklearn/cluster/_kmeans.py:870: FutureWarning: The default value of `n_init` will change from 10 to 'auto' in 1.4. Set the value of `n_init` explicitly to suppress the warning\n",
            "  warnings.warn(\n",
            "2023-05-04 08:08:47 [INFO]: No given device, using default device: cpu\n",
            "2023-05-04 08:08:47 [INFO]: Model initialized successfully with the number of trainable parameters: 203956\n"
          ]
        },
        {
          "output_type": "stream",
          "name": "stdout",
          "text": [
            "[0.16784883932312408, 0.12771379112464176, 0.12357391832075487]\n",
            "[0.5936507936507937, 0.6095238095238096, 0.626984126984127]\n"
          ]
        },
        {
          "output_type": "stream",
          "name": "stderr",
          "text": [
            "2023-05-04 08:08:51 [INFO]: epoch 0: training loss_generator 11.5816, train loss_discriminator 0.6854\n",
            "2023-05-04 08:08:55 [INFO]: epoch 1: training loss_generator 9.3288, train loss_discriminator 0.6753\n",
            "2023-05-04 08:09:00 [INFO]: epoch 2: training loss_generator 7.7839, train loss_discriminator 0.6652\n",
            "2023-05-04 08:09:05 [INFO]: epoch 3: training loss_generator 6.9381, train loss_discriminator 0.6548\n",
            "2023-05-04 08:09:09 [INFO]: epoch 4: training loss_generator 6.4970, train loss_discriminator 0.6441\n",
            "2023-05-04 08:09:09 [INFO]: Finished training.\n",
            "/usr/local/lib/python3.10/dist-packages/sklearn/cluster/_kmeans.py:870: FutureWarning: The default value of `n_init` will change from 10 to 'auto' in 1.4. Set the value of `n_init` explicitly to suppress the warning\n",
            "  warnings.warn(\n",
            "2023-05-04 08:09:09 [INFO]: No given device, using default device: cpu\n",
            "2023-05-04 08:09:09 [INFO]: Model initialized successfully with the number of trainable parameters: 203956\n"
          ]
        },
        {
          "output_type": "stream",
          "name": "stdout",
          "text": [
            "[0.16784883932312408, 0.12771379112464176, 0.12357391832075487, 0.08356353266319691]\n",
            "[0.5936507936507937, 0.6095238095238096, 0.626984126984127, 0.6396825396825396]\n"
          ]
        },
        {
          "output_type": "stream",
          "name": "stderr",
          "text": [
            "2023-05-04 08:09:14 [INFO]: epoch 0: training loss_generator 9.0874, train loss_discriminator 0.8432\n",
            "2023-05-04 08:09:19 [INFO]: epoch 1: training loss_generator 7.1879, train loss_discriminator 0.8278\n",
            "2023-05-04 08:09:23 [INFO]: epoch 2: training loss_generator 6.3960, train loss_discriminator 0.8126\n",
            "2023-05-04 08:09:27 [INFO]: epoch 3: training loss_generator 5.7768, train loss_discriminator 0.7980\n",
            "2023-05-04 08:09:32 [INFO]: epoch 4: training loss_generator 5.3426, train loss_discriminator 0.7836\n",
            "2023-05-04 08:09:33 [INFO]: Finished training.\n",
            "/usr/local/lib/python3.10/dist-packages/sklearn/cluster/_kmeans.py:870: FutureWarning: The default value of `n_init` will change from 10 to 'auto' in 1.4. Set the value of `n_init` explicitly to suppress the warning\n",
            "  warnings.warn(\n",
            "2023-05-04 08:09:33 [INFO]: No given device, using default device: cpu\n",
            "2023-05-04 08:09:33 [INFO]: Model initialized successfully with the number of trainable parameters: 203956\n"
          ]
        },
        {
          "output_type": "stream",
          "name": "stdout",
          "text": [
            "[0.16784883932312408, 0.12771379112464176, 0.12357391832075487, 0.08356353266319691, 0.07960884428567491]\n",
            "[0.5936507936507937, 0.6095238095238096, 0.626984126984127, 0.6396825396825396, 0.6603174603174603]\n"
          ]
        },
        {
          "output_type": "stream",
          "name": "stderr",
          "text": [
            "2023-05-04 08:09:37 [INFO]: epoch 0: training loss_generator 9.3348, train loss_discriminator 0.6684\n",
            "2023-05-04 08:09:42 [INFO]: epoch 1: training loss_generator 8.5042, train loss_discriminator 0.6581\n",
            "2023-05-04 08:09:48 [INFO]: epoch 2: training loss_generator 7.0574, train loss_discriminator 0.6478\n",
            "2023-05-04 08:09:54 [INFO]: epoch 3: training loss_generator 6.0907, train loss_discriminator 0.6376\n",
            "2023-05-04 08:09:58 [INFO]: epoch 4: training loss_generator 5.5644, train loss_discriminator 0.6274\n",
            "2023-05-04 08:09:58 [INFO]: Finished training.\n",
            "/usr/local/lib/python3.10/dist-packages/sklearn/cluster/_kmeans.py:870: FutureWarning: The default value of `n_init` will change from 10 to 'auto' in 1.4. Set the value of `n_init` explicitly to suppress the warning\n",
            "  warnings.warn(\n",
            "2023-05-04 08:10:00 [INFO]: No given device, using default device: cpu\n",
            "2023-05-04 08:10:00 [INFO]: Model initialized successfully with the number of trainable parameters: 203956\n"
          ]
        },
        {
          "output_type": "stream",
          "name": "stdout",
          "text": [
            "[0.16784883932312408, 0.12771379112464176, 0.12357391832075487, 0.08356353266319691, 0.07960884428567491, 0.0882645858356313]\n",
            "[0.5936507936507937, 0.6095238095238096, 0.626984126984127, 0.6396825396825396, 0.6603174603174603, 0.6730158730158731]\n"
          ]
        },
        {
          "output_type": "stream",
          "name": "stderr",
          "text": [
            "2023-05-04 08:10:04 [INFO]: epoch 0: training loss_generator 8.8053, train loss_discriminator 0.6386\n",
            "2023-05-04 08:10:08 [INFO]: epoch 1: training loss_generator 7.6171, train loss_discriminator 0.6291\n",
            "2023-05-04 08:10:12 [INFO]: epoch 2: training loss_generator 6.4868, train loss_discriminator 0.6192\n",
            "2023-05-04 08:10:18 [INFO]: epoch 3: training loss_generator 5.7925, train loss_discriminator 0.6090\n",
            "2023-05-04 08:10:22 [INFO]: epoch 4: training loss_generator 5.4805, train loss_discriminator 0.5988\n",
            "2023-05-04 08:10:22 [INFO]: Finished training.\n",
            "/usr/local/lib/python3.10/dist-packages/sklearn/cluster/_kmeans.py:870: FutureWarning: The default value of `n_init` will change from 10 to 'auto' in 1.4. Set the value of `n_init` explicitly to suppress the warning\n",
            "  warnings.warn(\n",
            "2023-05-04 08:10:22 [INFO]: No given device, using default device: cpu\n",
            "2023-05-04 08:10:22 [INFO]: Model initialized successfully with the number of trainable parameters: 203956\n"
          ]
        },
        {
          "output_type": "stream",
          "name": "stdout",
          "text": [
            "[0.16784883932312408, 0.12771379112464176, 0.12357391832075487, 0.08356353266319691, 0.07960884428567491, 0.0882645858356313, 0.06816016141108684]\n",
            "[0.5936507936507937, 0.6095238095238096, 0.626984126984127, 0.6396825396825396, 0.6603174603174603, 0.6730158730158731, 0.6619047619047619]\n"
          ]
        },
        {
          "output_type": "stream",
          "name": "stderr",
          "text": [
            "2023-05-04 08:10:26 [INFO]: epoch 0: training loss_generator 7.8906, train loss_discriminator 0.7314\n",
            "2023-05-04 08:10:32 [INFO]: epoch 1: training loss_generator 6.9337, train loss_discriminator 0.7200\n",
            "2023-05-04 08:10:36 [INFO]: epoch 2: training loss_generator 5.8973, train loss_discriminator 0.7089\n",
            "2023-05-04 08:10:40 [INFO]: epoch 3: training loss_generator 5.1630, train loss_discriminator 0.6981\n",
            "2023-05-04 08:10:45 [INFO]: epoch 4: training loss_generator 4.6175, train loss_discriminator 0.6873\n",
            "2023-05-04 08:10:45 [INFO]: Finished training.\n",
            "/usr/local/lib/python3.10/dist-packages/sklearn/cluster/_kmeans.py:870: FutureWarning: The default value of `n_init` will change from 10 to 'auto' in 1.4. Set the value of `n_init` explicitly to suppress the warning\n",
            "  warnings.warn(\n",
            "2023-05-04 08:10:46 [INFO]: No given device, using default device: cpu\n",
            "2023-05-04 08:10:46 [INFO]: Model initialized successfully with the number of trainable parameters: 203956\n"
          ]
        },
        {
          "output_type": "stream",
          "name": "stdout",
          "text": [
            "[0.16784883932312408, 0.12771379112464176, 0.12357391832075487, 0.08356353266319691, 0.07960884428567491, 0.0882645858356313, 0.06816016141108684, 0.07886635684361809]\n",
            "[0.5936507936507937, 0.6095238095238096, 0.626984126984127, 0.6396825396825396, 0.6603174603174603, 0.6730158730158731, 0.6619047619047619, 0.6682539682539682]\n"
          ]
        },
        {
          "output_type": "stream",
          "name": "stderr",
          "text": [
            "2023-05-04 08:10:50 [INFO]: epoch 0: training loss_generator 5.6688, train loss_discriminator 0.7818\n",
            "2023-05-04 08:10:54 [INFO]: epoch 1: training loss_generator 6.2026, train loss_discriminator 0.7711\n",
            "2023-05-04 08:10:59 [INFO]: epoch 2: training loss_generator 5.7099, train loss_discriminator 0.7611\n",
            "2023-05-04 08:11:04 [INFO]: epoch 3: training loss_generator 4.9123, train loss_discriminator 0.7511\n",
            "2023-05-04 08:11:08 [INFO]: epoch 4: training loss_generator 4.7056, train loss_discriminator 0.7410\n",
            "2023-05-04 08:11:08 [INFO]: Finished training.\n",
            "/usr/local/lib/python3.10/dist-packages/sklearn/cluster/_kmeans.py:870: FutureWarning: The default value of `n_init` will change from 10 to 'auto' in 1.4. Set the value of `n_init` explicitly to suppress the warning\n",
            "  warnings.warn(\n",
            "2023-05-04 08:11:08 [INFO]: No given device, using default device: cpu\n",
            "2023-05-04 08:11:08 [INFO]: Model initialized successfully with the number of trainable parameters: 203956\n"
          ]
        },
        {
          "output_type": "stream",
          "name": "stdout",
          "text": [
            "[0.16784883932312408, 0.12771379112464176, 0.12357391832075487, 0.08356353266319691, 0.07960884428567491, 0.0882645858356313, 0.06816016141108684, 0.07886635684361809, 0.07320860375663725]\n",
            "[0.5936507936507937, 0.6095238095238096, 0.626984126984127, 0.6396825396825396, 0.6603174603174603, 0.6730158730158731, 0.6619047619047619, 0.6682539682539682, 0.6682539682539682]\n"
          ]
        },
        {
          "output_type": "stream",
          "name": "stderr",
          "text": [
            "2023-05-04 08:11:13 [INFO]: epoch 0: training loss_generator 6.2797, train loss_discriminator 0.7346\n",
            "2023-05-04 08:11:18 [INFO]: epoch 1: training loss_generator 6.3830, train loss_discriminator 0.7203\n",
            "2023-05-04 08:11:23 [INFO]: epoch 2: training loss_generator 5.6123, train loss_discriminator 0.7064\n",
            "2023-05-04 08:11:27 [INFO]: epoch 3: training loss_generator 4.9025, train loss_discriminator 0.6929\n",
            "2023-05-04 08:11:32 [INFO]: epoch 4: training loss_generator 4.5546, train loss_discriminator 0.6797\n",
            "2023-05-04 08:11:32 [INFO]: Finished training.\n",
            "/usr/local/lib/python3.10/dist-packages/sklearn/cluster/_kmeans.py:870: FutureWarning: The default value of `n_init` will change from 10 to 'auto' in 1.4. Set the value of `n_init` explicitly to suppress the warning\n",
            "  warnings.warn(\n",
            "2023-05-04 08:11:33 [INFO]: No given device, using default device: cpu\n",
            "2023-05-04 08:11:33 [INFO]: Model initialized successfully with the number of trainable parameters: 203956\n"
          ]
        },
        {
          "output_type": "stream",
          "name": "stdout",
          "text": [
            "[0.16784883932312408, 0.12771379112464176, 0.12357391832075487, 0.08356353266319691, 0.07960884428567491, 0.0882645858356313, 0.06816016141108684, 0.07886635684361809, 0.07320860375663725, 0.03843473331486791]\n",
            "[0.5936507936507937, 0.6095238095238096, 0.626984126984127, 0.6396825396825396, 0.6603174603174603, 0.6730158730158731, 0.6619047619047619, 0.6682539682539682, 0.6682539682539682, 0.6666666666666666]\n"
          ]
        },
        {
          "output_type": "stream",
          "name": "stderr",
          "text": [
            "2023-05-04 08:11:37 [INFO]: epoch 0: training loss_generator 8.3511, train loss_discriminator 0.6164\n",
            "2023-05-04 08:11:41 [INFO]: epoch 1: training loss_generator 6.6026, train loss_discriminator 0.6070\n",
            "2023-05-04 08:11:46 [INFO]: epoch 2: training loss_generator 6.1966, train loss_discriminator 0.5975\n",
            "2023-05-04 08:11:51 [INFO]: epoch 3: training loss_generator 5.8553, train loss_discriminator 0.5878\n",
            "2023-05-04 08:11:55 [INFO]: epoch 4: training loss_generator 5.2518, train loss_discriminator 0.5784\n",
            "2023-05-04 08:11:55 [INFO]: Finished training.\n",
            "/usr/local/lib/python3.10/dist-packages/sklearn/cluster/_kmeans.py:870: FutureWarning: The default value of `n_init` will change from 10 to 'auto' in 1.4. Set the value of `n_init` explicitly to suppress the warning\n",
            "  warnings.warn(\n",
            "2023-05-04 08:11:55 [INFO]: No given device, using default device: cpu\n",
            "2023-05-04 08:11:55 [INFO]: Model initialized successfully with the number of trainable parameters: 203956\n"
          ]
        },
        {
          "output_type": "stream",
          "name": "stdout",
          "text": [
            "[0.16784883932312408, 0.12771379112464176, 0.12357391832075487, 0.08356353266319691, 0.07960884428567491, 0.0882645858356313, 0.06816016141108684, 0.07886635684361809, 0.07320860375663725, 0.03843473331486791, 0.1180841715936629]\n",
            "[0.5936507936507937, 0.6095238095238096, 0.626984126984127, 0.6396825396825396, 0.6603174603174603, 0.6730158730158731, 0.6619047619047619, 0.6682539682539682, 0.6682539682539682, 0.6666666666666666, 0.6825396825396826]\n"
          ]
        },
        {
          "output_type": "stream",
          "name": "stderr",
          "text": [
            "2023-05-04 08:12:00 [INFO]: epoch 0: training loss_generator 9.5241, train loss_discriminator 0.7215\n",
            "2023-05-04 08:12:05 [INFO]: epoch 1: training loss_generator 7.0296, train loss_discriminator 0.7091\n",
            "2023-05-04 08:12:09 [INFO]: epoch 2: training loss_generator 5.8963, train loss_discriminator 0.6970\n",
            "2023-05-04 08:12:13 [INFO]: epoch 3: training loss_generator 5.1789, train loss_discriminator 0.6850\n",
            "2023-05-04 08:12:19 [INFO]: epoch 4: training loss_generator 4.6823, train loss_discriminator 0.6728\n",
            "2023-05-04 08:12:19 [INFO]: Finished training.\n",
            "/usr/local/lib/python3.10/dist-packages/sklearn/cluster/_kmeans.py:870: FutureWarning: The default value of `n_init` will change from 10 to 'auto' in 1.4. Set the value of `n_init` explicitly to suppress the warning\n",
            "  warnings.warn(\n",
            "2023-05-04 08:12:19 [INFO]: No given device, using default device: cpu\n",
            "2023-05-04 08:12:19 [INFO]: Model initialized successfully with the number of trainable parameters: 203956\n"
          ]
        },
        {
          "output_type": "stream",
          "name": "stdout",
          "text": [
            "[0.16784883932312408, 0.12771379112464176, 0.12357391832075487, 0.08356353266319691, 0.07960884428567491, 0.0882645858356313, 0.06816016141108684, 0.07886635684361809, 0.07320860375663725, 0.03843473331486791, 0.1180841715936629, 0.16567666935587194]\n",
            "[0.5936507936507937, 0.6095238095238096, 0.626984126984127, 0.6396825396825396, 0.6603174603174603, 0.6730158730158731, 0.6619047619047619, 0.6682539682539682, 0.6682539682539682, 0.6666666666666666, 0.6825396825396826, 0.7]\n"
          ]
        },
        {
          "output_type": "stream",
          "name": "stderr",
          "text": [
            "2023-05-04 08:12:23 [INFO]: epoch 0: training loss_generator 5.2586, train loss_discriminator 0.6889\n",
            "2023-05-04 08:12:27 [INFO]: epoch 1: training loss_generator 4.7673, train loss_discriminator 0.6755\n",
            "2023-05-04 08:12:33 [INFO]: epoch 2: training loss_generator 4.3623, train loss_discriminator 0.6628\n",
            "2023-05-04 08:12:37 [INFO]: epoch 3: training loss_generator 4.0782, train loss_discriminator 0.6497\n",
            "2023-05-04 08:12:41 [INFO]: epoch 4: training loss_generator 3.6374, train loss_discriminator 0.6363\n",
            "2023-05-04 08:12:41 [INFO]: Finished training.\n",
            "/usr/local/lib/python3.10/dist-packages/sklearn/cluster/_kmeans.py:870: FutureWarning: The default value of `n_init` will change from 10 to 'auto' in 1.4. Set the value of `n_init` explicitly to suppress the warning\n",
            "  warnings.warn(\n"
          ]
        },
        {
          "output_type": "stream",
          "name": "stdout",
          "text": [
            "[0.16784883932312408, 0.12771379112464176, 0.12357391832075487, 0.08356353266319691, 0.07960884428567491, 0.0882645858356313, 0.06816016141108684, 0.07886635684361809, 0.07320860375663725, 0.03843473331486791, 0.1180841715936629, 0.16567666935587194, 0.049788078976205574]\n",
            "[0.5936507936507937, 0.6095238095238096, 0.626984126984127, 0.6396825396825396, 0.6603174603174603, 0.6730158730158731, 0.6619047619047619, 0.6682539682539682, 0.6682539682539682, 0.6666666666666666, 0.6825396825396826, 0.7, 0.6730158730158731]\n"
          ]
        }
      ],
      "source": [
        "results=[]\n",
        "AMS=[]\n",
        "RII=[]\n",
        "\n",
        "for i in range(2,15):\n",
        "\n",
        "  crli = CRLI(\n",
        "    n_steps=1,\n",
        "    n_features=1,\n",
        "    n_clusters=i,\n",
        "    n_generator_layers=2,\n",
        "    rnn_hidden_size=64,\n",
        "    epochs=5\n",
        "  )\n",
        "\n",
        "  crli.fit(dataset)\n",
        "  clustt=crli.cluster(dataset)\n",
        "  results.append(clustt)\n",
        "  RI = cal_rand_index(clustt, y)\n",
        "  RII.append(RI)\n",
        "  AM=adjusted_mutual_info_score(clustt, y)\n",
        "  AMS.append(AM)\n",
        "  print(AMS)\n",
        "  print(RII)\n",
        "with open(\"/content/drive/MyDrive/Doctorado/2023/Abril/PyPOTS/pypots/tests/firtsexperiment3.txt\", \"w\") as output:\n",
        "    output.write(str(results))"
      ]
    },
    {
      "cell_type": "code",
      "source": [
        "y.shape"
      ],
      "metadata": {
        "colab": {
          "base_uri": "https://localhost:8080/"
        },
        "id": "WP_n7ayq2bi8",
        "outputId": "2a292d50-3bb2-4545-985c-032c4c51ad0a"
      },
      "execution_count": null,
      "outputs": [
        {
          "output_type": "execute_result",
          "data": {
            "text/plain": [
              "(1000,)"
            ]
          },
          "metadata": {},
          "execution_count": 80
        }
      ]
    },
    {
      "cell_type": "code",
      "source": [
        "clustt.shape"
      ],
      "metadata": {
        "colab": {
          "base_uri": "https://localhost:8080/"
        },
        "id": "135MczU62daR",
        "outputId": "d7aac7d3-4b1c-4ef2-dcc4-2372c02c1bc6"
      },
      "execution_count": null,
      "outputs": [
        {
          "output_type": "execute_result",
          "data": {
            "text/plain": [
              "(36,)"
            ]
          },
          "metadata": {},
          "execution_count": 81
        }
      ]
    },
    {
      "cell_type": "markdown",
      "source": [
        "## UEA_BeetleFly"
      ],
      "metadata": {
        "id": "751vHIfalEOU"
      }
    },
    {
      "cell_type": "code",
      "source": [],
      "metadata": {
        "id": "C3BMiLDN2awY"
      },
      "execution_count": null,
      "outputs": []
    },
    {
      "cell_type": "code",
      "source": [
        "import tsdb\n",
        "data5 = tsdb.load_dataset('UCR_UEA_BeetleFly') # 2 classes \n",
        "Five=pd.DataFrame(data5['X_train'].reshape( 20,512 ))"
      ],
      "metadata": {
        "colab": {
          "base_uri": "https://localhost:8080/"
        },
        "outputId": "bf15d1b9-76db-4fdf-f046-ac7e0d3d3bbb",
        "id": "VuHMAd8Hk8RL"
      },
      "execution_count": null,
      "outputs": [
        {
          "output_type": "stream",
          "name": "stdout",
          "text": [
            "Start downloading...\n",
            "Successfully downloaded data to /tmp/tmpvfv3i20n/BeetleFly.zip.\n",
            "Successfully extracted data to /root/.tsdb_cached_datasets/UCR_UEA_BeetleFly\n",
            "Successfully saved to /root/.tsdb_cached_datasets/UCR_UEA_BeetleFly/UCR_UEA_BeetleFly_cache.pkl\n",
            "Loaded successfully!\n"
          ]
        }
      ]
    },
    {
      "cell_type": "code",
      "source": [
        "data5['X_test'].shape\n"
      ],
      "metadata": {
        "colab": {
          "base_uri": "https://localhost:8080/"
        },
        "id": "LB9pY2xLu02W",
        "outputId": "e8858970-713e-4f16-d74d-66200c143b2e"
      },
      "execution_count": null,
      "outputs": [
        {
          "output_type": "execute_result",
          "data": {
            "text/plain": [
              "(20, 512, 1)"
            ]
          },
          "metadata": {},
          "execution_count": 20
        }
      ]
    },
    {
      "cell_type": "code",
      "execution_count": null,
      "metadata": {
        "colab": {
          "base_uri": "https://localhost:8080/"
        },
        "outputId": "6d13b8b7-604d-4169-d61c-9bdf6f221fb3",
        "id": "2ESanCTWu1TC"
      },
      "outputs": [
        {
          "output_type": "execute_result",
          "data": {
            "text/plain": [
              "(20, 512, 1)"
            ]
          },
          "metadata": {},
          "execution_count": 21
        }
      ],
      "source": [
        "data5['X_train'].shape\n"
      ]
    },
    {
      "cell_type": "code",
      "execution_count": null,
      "metadata": {
        "id": "8XtqHxJSu1TD"
      },
      "outputs": [],
      "source": []
    },
    {
      "cell_type": "code",
      "execution_count": null,
      "metadata": {
        "id": "HsU4qAWhu1TD"
      },
      "outputs": [],
      "source": [
        "X = pd.DataFrame(data5['X_train'].reshape(20,512 ))\n",
        "#X = data['X_train']\n",
        "num_samples = 20\n",
        "X = StandardScaler().fit_transform(X.to_numpy())\n",
        "X = X.reshape(num_samples, 512, -1)\n",
        "X_intact, X, missing_mask, indicating_mask = mcar(X, 0.1) # hold out 10% observed values as ground truth\n",
        "X = masked_fill(X, 1 - missing_mask, np.nan)\n",
        "y=data5['y_train']"
      ]
    },
    {
      "cell_type": "code",
      "execution_count": null,
      "metadata": {
        "id": "1s3Rev3Lu1TD"
      },
      "outputs": [],
      "source": [
        "dataset = {\"X\": X}\n"
      ]
    },
    {
      "cell_type": "code",
      "execution_count": null,
      "metadata": {
        "colab": {
          "base_uri": "https://localhost:8080/"
        },
        "outputId": "4d765faa-90bc-4cc0-b24d-e789df5db005",
        "id": "KN9eqFWNu1TD"
      },
      "outputs": [
        {
          "output_type": "execute_result",
          "data": {
            "text/plain": [
              "(20, 512, 1)"
            ]
          },
          "metadata": {},
          "execution_count": 24
        }
      ],
      "source": [
        "X.shape"
      ]
    },
    {
      "cell_type": "code",
      "execution_count": null,
      "metadata": {
        "colab": {
          "base_uri": "https://localhost:8080/"
        },
        "outputId": "f855be41-a4de-4897-f95a-01430fbfaa4b",
        "id": "e8nyCzQNu1TD"
      },
      "outputs": [
        {
          "output_type": "stream",
          "name": "stderr",
          "text": [
            "2023-05-04 08:12:43 [INFO]: No given device, using default device: cpu\n",
            "2023-05-04 08:12:43 [INFO]: Model initialized successfully with the number of trainable parameters: 203956\n",
            "2023-05-04 08:12:48 [INFO]: epoch 0: training loss_generator 14.1804, train loss_discriminator 0.7760\n",
            "2023-05-04 08:12:53 [INFO]: epoch 1: training loss_generator 12.6445, train loss_discriminator 0.7709\n",
            "2023-05-04 08:12:57 [INFO]: epoch 2: training loss_generator 11.3716, train loss_discriminator 0.7657\n",
            "2023-05-04 08:13:03 [INFO]: epoch 3: training loss_generator 10.2134, train loss_discriminator 0.7605\n",
            "2023-05-04 08:13:08 [INFO]: epoch 4: training loss_generator 9.3251, train loss_discriminator 0.7553\n",
            "2023-05-04 08:13:08 [INFO]: Finished training.\n",
            "/usr/local/lib/python3.10/dist-packages/sklearn/cluster/_kmeans.py:870: FutureWarning: The default value of `n_init` will change from 10 to 'auto' in 1.4. Set the value of `n_init` explicitly to suppress the warning\n",
            "  warnings.warn(\n",
            "2023-05-04 08:13:09 [INFO]: No given device, using default device: cpu\n",
            "2023-05-04 08:13:09 [INFO]: Model initialized successfully with the number of trainable parameters: 203956\n"
          ]
        },
        {
          "output_type": "stream",
          "name": "stdout",
          "text": [
            "[-0.01041068636355499]\n",
            "[0.49473684210526314]\n"
          ]
        },
        {
          "output_type": "stream",
          "name": "stderr",
          "text": [
            "2023-05-04 08:13:14 [INFO]: epoch 0: training loss_generator 12.9925, train loss_discriminator 0.7043\n",
            "2023-05-04 08:13:19 [INFO]: epoch 1: training loss_generator 11.4091, train loss_discriminator 0.6990\n",
            "2023-05-04 08:13:24 [INFO]: epoch 2: training loss_generator 10.1312, train loss_discriminator 0.6938\n",
            "2023-05-04 08:13:30 [INFO]: epoch 3: training loss_generator 9.0612, train loss_discriminator 0.6886\n",
            "2023-05-04 08:13:35 [INFO]: epoch 4: training loss_generator 8.1239, train loss_discriminator 0.6835\n",
            "2023-05-04 08:13:35 [INFO]: Finished training.\n",
            "/usr/local/lib/python3.10/dist-packages/sklearn/cluster/_kmeans.py:870: FutureWarning: The default value of `n_init` will change from 10 to 'auto' in 1.4. Set the value of `n_init` explicitly to suppress the warning\n",
            "  warnings.warn(\n",
            "2023-05-04 08:13:36 [INFO]: No given device, using default device: cpu\n",
            "2023-05-04 08:13:36 [INFO]: Model initialized successfully with the number of trainable parameters: 203956\n"
          ]
        },
        {
          "output_type": "stream",
          "name": "stdout",
          "text": [
            "[-0.01041068636355499, 0.012032232366971356]\n",
            "[0.49473684210526314, 0.5210526315789473]\n"
          ]
        },
        {
          "output_type": "stream",
          "name": "stderr",
          "text": [
            "2023-05-04 08:13:40 [INFO]: epoch 0: training loss_generator 9.6540, train loss_discriminator 0.6975\n",
            "2023-05-04 08:13:46 [INFO]: epoch 1: training loss_generator 8.9261, train loss_discriminator 0.6923\n",
            "2023-05-04 08:13:51 [INFO]: epoch 2: training loss_generator 8.1486, train loss_discriminator 0.6871\n",
            "2023-05-04 08:13:56 [INFO]: epoch 3: training loss_generator 7.3744, train loss_discriminator 0.6820\n",
            "2023-05-04 08:14:02 [INFO]: epoch 4: training loss_generator 6.7627, train loss_discriminator 0.6769\n",
            "2023-05-04 08:14:02 [INFO]: Finished training.\n",
            "/usr/local/lib/python3.10/dist-packages/sklearn/cluster/_kmeans.py:870: FutureWarning: The default value of `n_init` will change from 10 to 'auto' in 1.4. Set the value of `n_init` explicitly to suppress the warning\n",
            "  warnings.warn(\n",
            "2023-05-04 08:14:03 [INFO]: No given device, using default device: cpu\n",
            "2023-05-04 08:14:03 [INFO]: Model initialized successfully with the number of trainable parameters: 203956\n"
          ]
        },
        {
          "output_type": "stream",
          "name": "stdout",
          "text": [
            "[-0.01041068636355499, 0.012032232366971356, -0.01055946850151426]\n",
            "[0.49473684210526314, 0.5210526315789473, 0.5105263157894737]\n"
          ]
        },
        {
          "output_type": "stream",
          "name": "stderr",
          "text": [
            "2023-05-04 08:14:07 [INFO]: epoch 0: training loss_generator 10.8578, train loss_discriminator 0.6187\n",
            "2023-05-04 08:14:11 [INFO]: epoch 1: training loss_generator 8.8915, train loss_discriminator 0.6132\n",
            "2023-05-04 08:14:17 [INFO]: epoch 2: training loss_generator 7.9973, train loss_discriminator 0.6078\n",
            "2023-05-04 08:14:22 [INFO]: epoch 3: training loss_generator 7.4544, train loss_discriminator 0.6024\n",
            "2023-05-04 08:14:27 [INFO]: epoch 4: training loss_generator 6.6904, train loss_discriminator 0.5969\n",
            "2023-05-04 08:14:27 [INFO]: Finished training.\n",
            "/usr/local/lib/python3.10/dist-packages/sklearn/cluster/_kmeans.py:870: FutureWarning: The default value of `n_init` will change from 10 to 'auto' in 1.4. Set the value of `n_init` explicitly to suppress the warning\n",
            "  warnings.warn(\n",
            "2023-05-04 08:14:29 [INFO]: No given device, using default device: cpu\n",
            "2023-05-04 08:14:29 [INFO]: Model initialized successfully with the number of trainable parameters: 203956\n"
          ]
        },
        {
          "output_type": "stream",
          "name": "stdout",
          "text": [
            "[-0.01041068636355499, 0.012032232366971356, -0.01055946850151426, -0.057458955142489804]\n",
            "[0.49473684210526314, 0.5210526315789473, 0.5105263157894737, 0.5]\n"
          ]
        },
        {
          "output_type": "stream",
          "name": "stderr",
          "text": [
            "2023-05-04 08:14:34 [INFO]: epoch 0: training loss_generator 9.9566, train loss_discriminator 0.5977\n",
            "2023-05-04 08:14:38 [INFO]: epoch 1: training loss_generator 8.9232, train loss_discriminator 0.5926\n",
            "2023-05-04 08:14:44 [INFO]: epoch 2: training loss_generator 7.8502, train loss_discriminator 0.5876\n",
            "2023-05-04 08:14:49 [INFO]: epoch 3: training loss_generator 7.1175, train loss_discriminator 0.5826\n",
            "2023-05-04 08:14:54 [INFO]: epoch 4: training loss_generator 6.6048, train loss_discriminator 0.5776\n",
            "2023-05-04 08:14:54 [INFO]: Finished training.\n",
            "/usr/local/lib/python3.10/dist-packages/sklearn/cluster/_kmeans.py:870: FutureWarning: The default value of `n_init` will change from 10 to 'auto' in 1.4. Set the value of `n_init` explicitly to suppress the warning\n",
            "  warnings.warn(\n",
            "2023-05-04 08:14:55 [INFO]: No given device, using default device: cpu\n",
            "2023-05-04 08:14:55 [INFO]: Model initialized successfully with the number of trainable parameters: 203956\n"
          ]
        },
        {
          "output_type": "stream",
          "name": "stdout",
          "text": [
            "[-0.01041068636355499, 0.012032232366971356, -0.01055946850151426, -0.057458955142489804, -0.05349062857993227]\n",
            "[0.49473684210526314, 0.5210526315789473, 0.5105263157894737, 0.5, 0.5]\n"
          ]
        },
        {
          "output_type": "stream",
          "name": "stderr",
          "text": [
            "2023-05-04 08:15:00 [INFO]: epoch 0: training loss_generator 9.3785, train loss_discriminator 0.7839\n",
            "2023-05-04 08:15:05 [INFO]: epoch 1: training loss_generator 7.4706, train loss_discriminator 0.7761\n",
            "2023-05-04 08:15:09 [INFO]: epoch 2: training loss_generator 6.8327, train loss_discriminator 0.7684\n",
            "2023-05-04 08:15:15 [INFO]: epoch 3: training loss_generator 6.0185, train loss_discriminator 0.7610\n",
            "2023-05-04 08:15:21 [INFO]: epoch 4: training loss_generator 5.5530, train loss_discriminator 0.7537\n",
            "2023-05-04 08:15:21 [INFO]: Finished training.\n",
            "/usr/local/lib/python3.10/dist-packages/sklearn/cluster/_kmeans.py:870: FutureWarning: The default value of `n_init` will change from 10 to 'auto' in 1.4. Set the value of `n_init` explicitly to suppress the warning\n",
            "  warnings.warn(\n",
            "2023-05-04 08:15:21 [INFO]: No given device, using default device: cpu\n",
            "2023-05-04 08:15:21 [INFO]: Model initialized successfully with the number of trainable parameters: 203956\n"
          ]
        },
        {
          "output_type": "stream",
          "name": "stdout",
          "text": [
            "[-0.01041068636355499, 0.012032232366971356, -0.01055946850151426, -0.057458955142489804, -0.05349062857993227, -0.08526743599407711]\n",
            "[0.49473684210526314, 0.5210526315789473, 0.5105263157894737, 0.5, 0.5, 0.5]\n"
          ]
        },
        {
          "output_type": "stream",
          "name": "stderr",
          "text": [
            "2023-05-04 08:15:26 [INFO]: epoch 0: training loss_generator 10.8239, train loss_discriminator 0.6457\n",
            "2023-05-04 08:15:32 [INFO]: epoch 1: training loss_generator 10.1849, train loss_discriminator 0.6405\n",
            "2023-05-04 08:15:36 [INFO]: epoch 2: training loss_generator 8.9744, train loss_discriminator 0.6354\n",
            "2023-05-04 08:15:41 [INFO]: epoch 3: training loss_generator 8.2023, train loss_discriminator 0.6303\n",
            "2023-05-04 08:15:47 [INFO]: epoch 4: training loss_generator 7.4385, train loss_discriminator 0.6252\n",
            "2023-05-04 08:15:47 [INFO]: Finished training.\n",
            "/usr/local/lib/python3.10/dist-packages/sklearn/cluster/_kmeans.py:870: FutureWarning: The default value of `n_init` will change from 10 to 'auto' in 1.4. Set the value of `n_init` explicitly to suppress the warning\n",
            "  warnings.warn(\n",
            "2023-05-04 08:15:48 [INFO]: No given device, using default device: cpu\n",
            "2023-05-04 08:15:48 [INFO]: Model initialized successfully with the number of trainable parameters: 203956\n"
          ]
        },
        {
          "output_type": "stream",
          "name": "stdout",
          "text": [
            "[-0.01041068636355499, 0.012032232366971356, -0.01055946850151426, -0.057458955142489804, -0.05349062857993227, -0.08526743599407711, 0.005951550338232228]\n",
            "[0.49473684210526314, 0.5210526315789473, 0.5105263157894737, 0.5, 0.5, 0.5, 0.531578947368421]\n"
          ]
        },
        {
          "output_type": "stream",
          "name": "stderr",
          "text": [
            "2023-05-04 08:15:52 [INFO]: epoch 0: training loss_generator 6.3725, train loss_discriminator 0.6631\n",
            "2023-05-04 08:15:57 [INFO]: epoch 1: training loss_generator 6.2344, train loss_discriminator 0.6583\n",
            "2023-05-04 08:16:03 [INFO]: epoch 2: training loss_generator 5.8701, train loss_discriminator 0.6536\n",
            "2023-05-04 08:16:08 [INFO]: epoch 3: training loss_generator 5.5730, train loss_discriminator 0.6491\n",
            "2023-05-04 08:16:14 [INFO]: epoch 4: training loss_generator 5.2091, train loss_discriminator 0.6446\n",
            "2023-05-04 08:16:14 [INFO]: Finished training.\n",
            "/usr/local/lib/python3.10/dist-packages/sklearn/cluster/_kmeans.py:870: FutureWarning: The default value of `n_init` will change from 10 to 'auto' in 1.4. Set the value of `n_init` explicitly to suppress the warning\n",
            "  warnings.warn(\n",
            "2023-05-04 08:16:15 [INFO]: No given device, using default device: cpu\n",
            "2023-05-04 08:16:15 [INFO]: Model initialized successfully with the number of trainable parameters: 203956\n"
          ]
        },
        {
          "output_type": "stream",
          "name": "stdout",
          "text": [
            "[-0.01041068636355499, 0.012032232366971356, -0.01055946850151426, -0.057458955142489804, -0.05349062857993227, -0.08526743599407711, 0.005951550338232228, -0.030199885425985347]\n",
            "[0.49473684210526314, 0.5210526315789473, 0.5105263157894737, 0.5, 0.5, 0.5, 0.531578947368421, 0.5105263157894737]\n"
          ]
        },
        {
          "output_type": "stream",
          "name": "stderr",
          "text": [
            "2023-05-04 08:16:20 [INFO]: epoch 0: training loss_generator 6.9352, train loss_discriminator 0.6817\n",
            "2023-05-04 08:16:24 [INFO]: epoch 1: training loss_generator 7.2074, train loss_discriminator 0.6770\n",
            "2023-05-04 08:16:29 [INFO]: epoch 2: training loss_generator 6.6648, train loss_discriminator 0.6724\n",
            "2023-05-04 08:16:34 [INFO]: epoch 3: training loss_generator 6.0239, train loss_discriminator 0.6678\n",
            "2023-05-04 08:16:39 [INFO]: epoch 4: training loss_generator 5.4546, train loss_discriminator 0.6634\n",
            "2023-05-04 08:16:39 [INFO]: Finished training.\n",
            "/usr/local/lib/python3.10/dist-packages/sklearn/cluster/_kmeans.py:870: FutureWarning: The default value of `n_init` will change from 10 to 'auto' in 1.4. Set the value of `n_init` explicitly to suppress the warning\n",
            "  warnings.warn(\n",
            "2023-05-04 08:16:40 [INFO]: No given device, using default device: cpu\n",
            "2023-05-04 08:16:40 [INFO]: Model initialized successfully with the number of trainable parameters: 203956\n"
          ]
        },
        {
          "output_type": "stream",
          "name": "stdout",
          "text": [
            "[-0.01041068636355499, 0.012032232366971356, -0.01055946850151426, -0.057458955142489804, -0.05349062857993227, -0.08526743599407711, 0.005951550338232228, -0.030199885425985347, -0.0011519234879340768]\n",
            "[0.49473684210526314, 0.5210526315789473, 0.5105263157894737, 0.5, 0.5, 0.5, 0.531578947368421, 0.5105263157894737, 0.5157894736842106]\n"
          ]
        },
        {
          "output_type": "stream",
          "name": "stderr",
          "text": [
            "2023-05-04 08:16:45 [INFO]: epoch 0: training loss_generator 7.2767, train loss_discriminator 0.6751\n",
            "2023-05-04 08:16:50 [INFO]: epoch 1: training loss_generator 6.3509, train loss_discriminator 0.6691\n",
            "2023-05-04 08:16:55 [INFO]: epoch 2: training loss_generator 5.4818, train loss_discriminator 0.6631\n",
            "2023-05-04 08:17:00 [INFO]: epoch 3: training loss_generator 5.2042, train loss_discriminator 0.6572\n",
            "2023-05-04 08:17:05 [INFO]: epoch 4: training loss_generator 5.0886, train loss_discriminator 0.6513\n",
            "2023-05-04 08:17:05 [INFO]: Finished training.\n",
            "/usr/local/lib/python3.10/dist-packages/sklearn/cluster/_kmeans.py:870: FutureWarning: The default value of `n_init` will change from 10 to 'auto' in 1.4. Set the value of `n_init` explicitly to suppress the warning\n",
            "  warnings.warn(\n",
            "2023-05-04 08:17:06 [INFO]: No given device, using default device: cpu\n",
            "2023-05-04 08:17:06 [INFO]: Model initialized successfully with the number of trainable parameters: 203956\n"
          ]
        },
        {
          "output_type": "stream",
          "name": "stdout",
          "text": [
            "[-0.01041068636355499, 0.012032232366971356, -0.01055946850151426, -0.057458955142489804, -0.05349062857993227, -0.08526743599407711, 0.005951550338232228, -0.030199885425985347, -0.0011519234879340768, 0.003120116583062033]\n",
            "[0.49473684210526314, 0.5210526315789473, 0.5105263157894737, 0.5, 0.5, 0.5, 0.531578947368421, 0.5105263157894737, 0.5157894736842106, 0.5210526315789473]\n"
          ]
        },
        {
          "output_type": "stream",
          "name": "stderr",
          "text": [
            "2023-05-04 08:17:10 [INFO]: epoch 0: training loss_generator 6.8376, train loss_discriminator 0.7671\n",
            "2023-05-04 08:17:16 [INFO]: epoch 1: training loss_generator 7.4720, train loss_discriminator 0.7622\n",
            "2023-05-04 08:17:20 [INFO]: epoch 2: training loss_generator 6.3295, train loss_discriminator 0.7573\n",
            "2023-05-04 08:17:25 [INFO]: epoch 3: training loss_generator 5.7850, train loss_discriminator 0.7525\n",
            "2023-05-04 08:17:31 [INFO]: epoch 4: training loss_generator 5.3766, train loss_discriminator 0.7477\n",
            "2023-05-04 08:17:31 [INFO]: Finished training.\n",
            "/usr/local/lib/python3.10/dist-packages/sklearn/cluster/_kmeans.py:870: FutureWarning: The default value of `n_init` will change from 10 to 'auto' in 1.4. Set the value of `n_init` explicitly to suppress the warning\n",
            "  warnings.warn(\n",
            "2023-05-04 08:17:32 [INFO]: No given device, using default device: cpu\n",
            "2023-05-04 08:17:32 [INFO]: Model initialized successfully with the number of trainable parameters: 203956\n"
          ]
        },
        {
          "output_type": "stream",
          "name": "stdout",
          "text": [
            "[-0.01041068636355499, 0.012032232366971356, -0.01055946850151426, -0.057458955142489804, -0.05349062857993227, -0.08526743599407711, 0.005951550338232228, -0.030199885425985347, -0.0011519234879340768, 0.003120116583062033, -0.028748939593180905]\n",
            "[0.49473684210526314, 0.5210526315789473, 0.5105263157894737, 0.5, 0.5, 0.5, 0.531578947368421, 0.5105263157894737, 0.5157894736842106, 0.5210526315789473, 0.5157894736842106]\n"
          ]
        },
        {
          "output_type": "stream",
          "name": "stderr",
          "text": [
            "2023-05-04 08:17:36 [INFO]: epoch 0: training loss_generator 6.9606, train loss_discriminator 0.6316\n",
            "2023-05-04 08:17:40 [INFO]: epoch 1: training loss_generator 6.2052, train loss_discriminator 0.6272\n",
            "2023-05-04 08:17:45 [INFO]: epoch 2: training loss_generator 5.4610, train loss_discriminator 0.6228\n",
            "2023-05-04 08:17:50 [INFO]: epoch 3: training loss_generator 5.0299, train loss_discriminator 0.6184\n",
            "2023-05-04 08:17:55 [INFO]: epoch 4: training loss_generator 4.7813, train loss_discriminator 0.6141\n",
            "2023-05-04 08:17:55 [INFO]: Finished training.\n",
            "/usr/local/lib/python3.10/dist-packages/sklearn/cluster/_kmeans.py:870: FutureWarning: The default value of `n_init` will change from 10 to 'auto' in 1.4. Set the value of `n_init` explicitly to suppress the warning\n",
            "  warnings.warn(\n",
            "2023-05-04 08:17:55 [INFO]: No given device, using default device: cpu\n",
            "2023-05-04 08:17:55 [INFO]: Model initialized successfully with the number of trainable parameters: 203956\n"
          ]
        },
        {
          "output_type": "stream",
          "name": "stdout",
          "text": [
            "[-0.01041068636355499, 0.012032232366971356, -0.01055946850151426, -0.057458955142489804, -0.05349062857993227, -0.08526743599407711, 0.005951550338232228, -0.030199885425985347, -0.0011519234879340768, 0.003120116583062033, -0.028748939593180905, -0.03956797265264242]\n",
            "[0.49473684210526314, 0.5210526315789473, 0.5105263157894737, 0.5, 0.5, 0.5, 0.531578947368421, 0.5105263157894737, 0.5157894736842106, 0.5210526315789473, 0.5157894736842106, 0.5157894736842106]\n"
          ]
        },
        {
          "output_type": "stream",
          "name": "stderr",
          "text": [
            "2023-05-04 08:18:01 [INFO]: epoch 0: training loss_generator 4.8855, train loss_discriminator 0.7613\n",
            "2023-05-04 08:18:05 [INFO]: epoch 1: training loss_generator 4.9477, train loss_discriminator 0.7559\n",
            "2023-05-04 08:18:10 [INFO]: epoch 2: training loss_generator 4.4644, train loss_discriminator 0.7506\n",
            "2023-05-04 08:18:15 [INFO]: epoch 3: training loss_generator 4.3174, train loss_discriminator 0.7454\n",
            "2023-05-04 08:18:20 [INFO]: epoch 4: training loss_generator 3.9669, train loss_discriminator 0.7403\n",
            "2023-05-04 08:18:20 [INFO]: Finished training.\n",
            "/usr/local/lib/python3.10/dist-packages/sklearn/cluster/_kmeans.py:870: FutureWarning: The default value of `n_init` will change from 10 to 'auto' in 1.4. Set the value of `n_init` explicitly to suppress the warning\n",
            "  warnings.warn(\n"
          ]
        },
        {
          "output_type": "stream",
          "name": "stdout",
          "text": [
            "[-0.01041068636355499, 0.012032232366971356, -0.01055946850151426, -0.057458955142489804, -0.05349062857993227, -0.08526743599407711, 0.005951550338232228, -0.030199885425985347, -0.0011519234879340768, 0.003120116583062033, -0.028748939593180905, -0.03956797265264242, -0.011118877602713474]\n",
            "[0.49473684210526314, 0.5210526315789473, 0.5105263157894737, 0.5, 0.5, 0.5, 0.531578947368421, 0.5105263157894737, 0.5157894736842106, 0.5210526315789473, 0.5157894736842106, 0.5157894736842106, 0.5210526315789473]\n"
          ]
        }
      ],
      "source": [
        "results=[]\n",
        "AMS=[]\n",
        "RII=[]\n",
        "\n",
        "for i in range(2,15):\n",
        "\n",
        "  crli = CRLI(\n",
        "    n_steps=1,\n",
        "    n_features=1,\n",
        "    n_clusters=i,\n",
        "    n_generator_layers=2,\n",
        "    rnn_hidden_size=64,\n",
        "    epochs=5\n",
        "  )\n",
        "\n",
        "  crli.fit(dataset)\n",
        "  clustt=crli.cluster(dataset)\n",
        "  results.append(clustt)\n",
        "  RI = cal_rand_index(clustt, y)\n",
        "  RII.append(RI)\n",
        "  AM=adjusted_mutual_info_score(clustt, y)\n",
        "  AMS.append(AM)\n",
        "  print(AMS)\n",
        "  print(RII)\n",
        "with open(\"/content/drive/MyDrive/Doctorado/2023/Abril/PyPOTS/pypots/tests/firtsexperiment2.txt\", \"w\") as output:\n",
        "    output.write(str(results))"
      ]
    },
    {
      "cell_type": "code",
      "source": [],
      "metadata": {
        "id": "liSOagsFu08O"
      },
      "execution_count": null,
      "outputs": []
    },
    {
      "cell_type": "code",
      "source": [],
      "metadata": {
        "id": "3dlgP9llu0_a"
      },
      "execution_count": null,
      "outputs": []
    },
    {
      "cell_type": "markdown",
      "source": [
        "## UCR_UEA_Car"
      ],
      "metadata": {
        "id": "K5G6fLRmlHD4"
      }
    },
    {
      "cell_type": "code",
      "source": [
        "import tsdb\n",
        "data6 = tsdb.load_dataset('UCR_UEA_Car') # Car 4 classes\n",
        "Six=pd.DataFrame(data6['X_train'].reshape( 60,577 ))"
      ],
      "metadata": {
        "colab": {
          "base_uri": "https://localhost:8080/"
        },
        "outputId": "c7819dc3-b094-48fd-b8f7-561a7b80d4be",
        "id": "HvnI6maCk8RL"
      },
      "execution_count": null,
      "outputs": [
        {
          "output_type": "stream",
          "name": "stdout",
          "text": [
            "Start downloading...\n",
            "Successfully downloaded data to /tmp/tmp4hvi7m54/Car.zip.\n",
            "Successfully extracted data to /root/.tsdb_cached_datasets/UCR_UEA_Car\n",
            "Successfully saved to /root/.tsdb_cached_datasets/UCR_UEA_Car/UCR_UEA_Car_cache.pkl\n",
            "Loaded successfully!\n"
          ]
        }
      ]
    },
    {
      "cell_type": "code",
      "source": [
        "data6['X_test'].shape\n"
      ],
      "metadata": {
        "colab": {
          "base_uri": "https://localhost:8080/"
        },
        "outputId": "458eeae1-907f-4f86-eaca-b77c73f5cfa9",
        "id": "bxuhWT0QC__r"
      },
      "execution_count": null,
      "outputs": [
        {
          "output_type": "execute_result",
          "data": {
            "text/plain": [
              "(60, 577, 1)"
            ]
          },
          "metadata": {},
          "execution_count": 27
        }
      ]
    },
    {
      "cell_type": "code",
      "execution_count": null,
      "metadata": {
        "id": "x5SHeKP3C__s"
      },
      "outputs": [],
      "source": [
        "X = pd.DataFrame(data6['X_train'].reshape( 60,577 ))\n",
        "#X = data['X_train']\n",
        "num_samples = 60\n",
        "X = StandardScaler().fit_transform(X.to_numpy())\n",
        "X = X.reshape(num_samples, 577, -1)\n",
        "X_intact, X, missing_mask, indicating_mask = mcar(X, 0.1) # hold out 10% observed values as ground truth\n",
        "X = masked_fill(X, 1 - missing_mask, np.nan)\n",
        "y=data6['y_train']"
      ]
    },
    {
      "cell_type": "code",
      "execution_count": null,
      "metadata": {
        "id": "GwjsILvZC__s"
      },
      "outputs": [],
      "source": [
        "dataset = {\"X\": X}\n"
      ]
    },
    {
      "cell_type": "code",
      "execution_count": null,
      "metadata": {
        "colab": {
          "base_uri": "https://localhost:8080/"
        },
        "outputId": "3aeb3aa1-78fe-49c3-f61a-0c69a684fd23",
        "id": "Qc5g21xDC__s"
      },
      "outputs": [
        {
          "output_type": "stream",
          "name": "stderr",
          "text": [
            "2023-05-04 08:18:22 [INFO]: No given device, using default device: cpu\n",
            "2023-05-04 08:18:22 [INFO]: Model initialized successfully with the number of trainable parameters: 203956\n",
            "2023-05-04 08:18:35 [INFO]: epoch 0: training loss_generator 14.9028, train loss_discriminator 0.7077\n",
            "2023-05-04 08:18:48 [INFO]: epoch 1: training loss_generator 11.3563, train loss_discriminator 0.6971\n",
            "2023-05-04 08:19:01 [INFO]: epoch 2: training loss_generator 9.0991, train loss_discriminator 0.6865\n",
            "2023-05-04 08:19:13 [INFO]: epoch 3: training loss_generator 7.6468, train loss_discriminator 0.6757\n",
            "2023-05-04 08:19:25 [INFO]: epoch 4: training loss_generator 6.6750, train loss_discriminator 0.6647\n",
            "2023-05-04 08:19:25 [INFO]: Finished training.\n",
            "/usr/local/lib/python3.10/dist-packages/sklearn/cluster/_kmeans.py:870: FutureWarning: The default value of `n_init` will change from 10 to 'auto' in 1.4. Set the value of `n_init` explicitly to suppress the warning\n",
            "  warnings.warn(\n",
            "2023-05-04 08:19:28 [INFO]: No given device, using default device: cpu\n",
            "2023-05-04 08:19:28 [INFO]: Model initialized successfully with the number of trainable parameters: 203956\n"
          ]
        },
        {
          "output_type": "stream",
          "name": "stdout",
          "text": [
            "[-0.01085684472156369]\n",
            "[0.4711864406779661]\n"
          ]
        },
        {
          "output_type": "stream",
          "name": "stderr",
          "text": [
            "2023-05-04 08:19:40 [INFO]: epoch 0: training loss_generator 15.2766, train loss_discriminator 0.6075\n",
            "2023-05-04 08:19:52 [INFO]: epoch 1: training loss_generator 12.1685, train loss_discriminator 0.5983\n",
            "2023-05-04 08:20:05 [INFO]: epoch 2: training loss_generator 9.8427, train loss_discriminator 0.5892\n",
            "2023-05-04 08:20:17 [INFO]: epoch 3: training loss_generator 8.2538, train loss_discriminator 0.5804\n",
            "2023-05-04 08:20:30 [INFO]: epoch 4: training loss_generator 7.1420, train loss_discriminator 0.5716\n",
            "2023-05-04 08:20:30 [INFO]: Finished training.\n",
            "/usr/local/lib/python3.10/dist-packages/sklearn/cluster/_kmeans.py:870: FutureWarning: The default value of `n_init` will change from 10 to 'auto' in 1.4. Set the value of `n_init` explicitly to suppress the warning\n",
            "  warnings.warn(\n",
            "2023-05-04 08:20:32 [INFO]: No given device, using default device: cpu\n",
            "2023-05-04 08:20:32 [INFO]: Model initialized successfully with the number of trainable parameters: 203956\n"
          ]
        },
        {
          "output_type": "stream",
          "name": "stdout",
          "text": [
            "[-0.01085684472156369, 0.03020068179649698]\n",
            "[0.4711864406779661, 0.5887005649717514]\n"
          ]
        },
        {
          "output_type": "stream",
          "name": "stderr",
          "text": [
            "2023-05-04 08:20:44 [INFO]: epoch 0: training loss_generator 13.5520, train loss_discriminator 0.7020\n",
            "2023-05-04 08:20:55 [INFO]: epoch 1: training loss_generator 10.7930, train loss_discriminator 0.6901\n",
            "2023-05-04 08:21:08 [INFO]: epoch 2: training loss_generator 8.7894, train loss_discriminator 0.6784\n",
            "2023-05-04 08:21:21 [INFO]: epoch 3: training loss_generator 7.4220, train loss_discriminator 0.6667\n",
            "2023-05-04 08:21:34 [INFO]: epoch 4: training loss_generator 6.4979, train loss_discriminator 0.6551\n",
            "2023-05-04 08:21:34 [INFO]: Finished training.\n",
            "/usr/local/lib/python3.10/dist-packages/sklearn/cluster/_kmeans.py:870: FutureWarning: The default value of `n_init` will change from 10 to 'auto' in 1.4. Set the value of `n_init` explicitly to suppress the warning\n",
            "  warnings.warn(\n",
            "2023-05-04 08:21:36 [INFO]: No given device, using default device: cpu\n",
            "2023-05-04 08:21:36 [INFO]: Model initialized successfully with the number of trainable parameters: 203956\n"
          ]
        },
        {
          "output_type": "stream",
          "name": "stdout",
          "text": [
            "[-0.01085684472156369, 0.03020068179649698, 0.03981720202014316]\n",
            "[0.4711864406779661, 0.5887005649717514, 0.6248587570621469]\n"
          ]
        },
        {
          "output_type": "stream",
          "name": "stderr",
          "text": [
            "2023-05-04 08:21:48 [INFO]: epoch 0: training loss_generator 11.9060, train loss_discriminator 0.7314\n",
            "2023-05-04 08:22:00 [INFO]: epoch 1: training loss_generator 9.2346, train loss_discriminator 0.7205\n",
            "2023-05-04 08:22:12 [INFO]: epoch 2: training loss_generator 7.6328, train loss_discriminator 0.7099\n",
            "2023-05-04 08:22:25 [INFO]: epoch 3: training loss_generator 6.4619, train loss_discriminator 0.6995\n",
            "2023-05-04 08:22:39 [INFO]: epoch 4: training loss_generator 5.6953, train loss_discriminator 0.6890\n",
            "2023-05-04 08:22:39 [INFO]: Finished training.\n",
            "/usr/local/lib/python3.10/dist-packages/sklearn/cluster/_kmeans.py:870: FutureWarning: The default value of `n_init` will change from 10 to 'auto' in 1.4. Set the value of `n_init` explicitly to suppress the warning\n",
            "  warnings.warn(\n",
            "2023-05-04 08:22:42 [INFO]: No given device, using default device: cpu\n",
            "2023-05-04 08:22:42 [INFO]: Model initialized successfully with the number of trainable parameters: 203956\n"
          ]
        },
        {
          "output_type": "stream",
          "name": "stdout",
          "text": [
            "[-0.01085684472156369, 0.03020068179649698, 0.03981720202014316, 0.032079677140597354]\n",
            "[0.4711864406779661, 0.5887005649717514, 0.6248587570621469, 0.6242937853107344]\n"
          ]
        },
        {
          "output_type": "stream",
          "name": "stderr",
          "text": [
            "2023-05-04 08:22:54 [INFO]: epoch 0: training loss_generator 14.1856, train loss_discriminator 0.8025\n",
            "2023-05-04 08:23:08 [INFO]: epoch 1: training loss_generator 11.4192, train loss_discriminator 0.7868\n",
            "2023-05-04 08:23:21 [INFO]: epoch 2: training loss_generator 9.4596, train loss_discriminator 0.7723\n",
            "2023-05-04 08:23:35 [INFO]: epoch 3: training loss_generator 7.9554, train loss_discriminator 0.7586\n",
            "2023-05-04 08:23:48 [INFO]: epoch 4: training loss_generator 6.9355, train loss_discriminator 0.7454\n",
            "2023-05-04 08:23:48 [INFO]: Finished training.\n",
            "/usr/local/lib/python3.10/dist-packages/sklearn/cluster/_kmeans.py:870: FutureWarning: The default value of `n_init` will change from 10 to 'auto' in 1.4. Set the value of `n_init` explicitly to suppress the warning\n",
            "  warnings.warn(\n",
            "2023-05-04 08:23:50 [INFO]: No given device, using default device: cpu\n",
            "2023-05-04 08:23:50 [INFO]: Model initialized successfully with the number of trainable parameters: 203956\n"
          ]
        },
        {
          "output_type": "stream",
          "name": "stdout",
          "text": [
            "[-0.01085684472156369, 0.03020068179649698, 0.03981720202014316, 0.032079677140597354, 0.05199346741274839]\n",
            "[0.4711864406779661, 0.5887005649717514, 0.6248587570621469, 0.6242937853107344, 0.6474576271186441]\n"
          ]
        },
        {
          "output_type": "stream",
          "name": "stderr",
          "text": [
            "2023-05-04 08:24:03 [INFO]: epoch 0: training loss_generator 13.0172, train loss_discriminator 0.7052\n",
            "2023-05-04 08:24:16 [INFO]: epoch 1: training loss_generator 10.5593, train loss_discriminator 0.6931\n",
            "2023-05-04 08:24:30 [INFO]: epoch 2: training loss_generator 8.8105, train loss_discriminator 0.6813\n",
            "2023-05-04 08:24:42 [INFO]: epoch 3: training loss_generator 7.4486, train loss_discriminator 0.6697\n",
            "2023-05-04 08:24:54 [INFO]: epoch 4: training loss_generator 6.4962, train loss_discriminator 0.6581\n",
            "2023-05-04 08:24:54 [INFO]: Finished training.\n",
            "/usr/local/lib/python3.10/dist-packages/sklearn/cluster/_kmeans.py:870: FutureWarning: The default value of `n_init` will change from 10 to 'auto' in 1.4. Set the value of `n_init` explicitly to suppress the warning\n",
            "  warnings.warn(\n",
            "2023-05-04 08:24:57 [INFO]: No given device, using default device: cpu\n",
            "2023-05-04 08:24:57 [INFO]: Model initialized successfully with the number of trainable parameters: 203956\n"
          ]
        },
        {
          "output_type": "stream",
          "name": "stdout",
          "text": [
            "[-0.01085684472156369, 0.03020068179649698, 0.03981720202014316, 0.032079677140597354, 0.05199346741274839, 0.02715753451441887]\n",
            "[0.4711864406779661, 0.5887005649717514, 0.6248587570621469, 0.6242937853107344, 0.6474576271186441, 0.6706214689265537]\n"
          ]
        },
        {
          "output_type": "stream",
          "name": "stderr",
          "text": [
            "2023-05-04 08:25:08 [INFO]: epoch 0: training loss_generator 12.7385, train loss_discriminator 0.7264\n",
            "2023-05-04 08:25:21 [INFO]: epoch 1: training loss_generator 9.9071, train loss_discriminator 0.7156\n",
            "2023-05-04 08:25:34 [INFO]: epoch 2: training loss_generator 8.3050, train loss_discriminator 0.7046\n",
            "2023-05-04 08:25:47 [INFO]: epoch 3: training loss_generator 7.0752, train loss_discriminator 0.6934\n",
            "2023-05-04 08:25:59 [INFO]: epoch 4: training loss_generator 6.2154, train loss_discriminator 0.6819\n",
            "2023-05-04 08:25:59 [INFO]: Finished training.\n",
            "/usr/local/lib/python3.10/dist-packages/sklearn/cluster/_kmeans.py:870: FutureWarning: The default value of `n_init` will change from 10 to 'auto' in 1.4. Set the value of `n_init` explicitly to suppress the warning\n",
            "  warnings.warn(\n",
            "2023-05-04 08:26:01 [INFO]: No given device, using default device: cpu\n",
            "2023-05-04 08:26:01 [INFO]: Model initialized successfully with the number of trainable parameters: 203956\n"
          ]
        },
        {
          "output_type": "stream",
          "name": "stdout",
          "text": [
            "[-0.01085684472156369, 0.03020068179649698, 0.03981720202014316, 0.032079677140597354, 0.05199346741274839, 0.02715753451441887, 0.04501266890557368]\n",
            "[0.4711864406779661, 0.5887005649717514, 0.6248587570621469, 0.6242937853107344, 0.6474576271186441, 0.6706214689265537, 0.6779661016949152]\n"
          ]
        },
        {
          "output_type": "stream",
          "name": "stderr",
          "text": [
            "2023-05-04 08:26:13 [INFO]: epoch 0: training loss_generator 13.3857, train loss_discriminator 0.6565\n",
            "2023-05-04 08:26:25 [INFO]: epoch 1: training loss_generator 10.9180, train loss_discriminator 0.6422\n",
            "2023-05-04 08:26:37 [INFO]: epoch 2: training loss_generator 8.9602, train loss_discriminator 0.6281\n",
            "2023-05-04 08:26:50 [INFO]: epoch 3: training loss_generator 7.5369, train loss_discriminator 0.6141\n",
            "2023-05-04 08:27:03 [INFO]: epoch 4: training loss_generator 6.5552, train loss_discriminator 0.6003\n",
            "2023-05-04 08:27:03 [INFO]: Finished training.\n",
            "/usr/local/lib/python3.10/dist-packages/sklearn/cluster/_kmeans.py:870: FutureWarning: The default value of `n_init` will change from 10 to 'auto' in 1.4. Set the value of `n_init` explicitly to suppress the warning\n",
            "  warnings.warn(\n",
            "2023-05-04 08:27:05 [INFO]: No given device, using default device: cpu\n",
            "2023-05-04 08:27:05 [INFO]: Model initialized successfully with the number of trainable parameters: 203956\n"
          ]
        },
        {
          "output_type": "stream",
          "name": "stdout",
          "text": [
            "[-0.01085684472156369, 0.03020068179649698, 0.03981720202014316, 0.032079677140597354, 0.05199346741274839, 0.02715753451441887, 0.04501266890557368, 0.03909635707267217]\n",
            "[0.4711864406779661, 0.5887005649717514, 0.6248587570621469, 0.6242937853107344, 0.6474576271186441, 0.6706214689265537, 0.6779661016949152, 0.6790960451977401]\n"
          ]
        },
        {
          "output_type": "stream",
          "name": "stderr",
          "text": [
            "2023-05-04 08:27:17 [INFO]: epoch 0: training loss_generator 12.3947, train loss_discriminator 0.6128\n",
            "2023-05-04 08:27:30 [INFO]: epoch 1: training loss_generator 10.6673, train loss_discriminator 0.6016\n",
            "2023-05-04 08:27:42 [INFO]: epoch 2: training loss_generator 8.6300, train loss_discriminator 0.5906\n",
            "2023-05-04 08:27:54 [INFO]: epoch 3: training loss_generator 7.3961, train loss_discriminator 0.5797\n",
            "2023-05-04 08:28:07 [INFO]: epoch 4: training loss_generator 6.4842, train loss_discriminator 0.5687\n",
            "2023-05-04 08:28:07 [INFO]: Finished training.\n",
            "/usr/local/lib/python3.10/dist-packages/sklearn/cluster/_kmeans.py:870: FutureWarning: The default value of `n_init` will change from 10 to 'auto' in 1.4. Set the value of `n_init` explicitly to suppress the warning\n",
            "  warnings.warn(\n",
            "2023-05-04 08:28:09 [INFO]: No given device, using default device: cpu\n",
            "2023-05-04 08:28:09 [INFO]: Model initialized successfully with the number of trainable parameters: 203956\n"
          ]
        },
        {
          "output_type": "stream",
          "name": "stdout",
          "text": [
            "[-0.01085684472156369, 0.03020068179649698, 0.03981720202014316, 0.032079677140597354, 0.05199346741274839, 0.02715753451441887, 0.04501266890557368, 0.03909635707267217, 0.025340462904676002]\n",
            "[0.4711864406779661, 0.5887005649717514, 0.6248587570621469, 0.6242937853107344, 0.6474576271186441, 0.6706214689265537, 0.6779661016949152, 0.6790960451977401, 0.696045197740113]\n"
          ]
        },
        {
          "output_type": "stream",
          "name": "stderr",
          "text": [
            "2023-05-04 08:28:21 [INFO]: epoch 0: training loss_generator 11.7573, train loss_discriminator 0.7441\n",
            "2023-05-04 08:28:33 [INFO]: epoch 1: training loss_generator 9.3541, train loss_discriminator 0.7340\n",
            "2023-05-04 08:28:46 [INFO]: epoch 2: training loss_generator 7.6731, train loss_discriminator 0.7241\n",
            "2023-05-04 08:28:59 [INFO]: epoch 3: training loss_generator 6.4873, train loss_discriminator 0.7143\n",
            "2023-05-04 08:29:11 [INFO]: epoch 4: training loss_generator 5.7195, train loss_discriminator 0.7043\n",
            "2023-05-04 08:29:11 [INFO]: Finished training.\n",
            "/usr/local/lib/python3.10/dist-packages/sklearn/cluster/_kmeans.py:870: FutureWarning: The default value of `n_init` will change from 10 to 'auto' in 1.4. Set the value of `n_init` explicitly to suppress the warning\n",
            "  warnings.warn(\n",
            "2023-05-04 08:29:13 [INFO]: No given device, using default device: cpu\n",
            "2023-05-04 08:29:13 [INFO]: Model initialized successfully with the number of trainable parameters: 203956\n"
          ]
        },
        {
          "output_type": "stream",
          "name": "stdout",
          "text": [
            "[-0.01085684472156369, 0.03020068179649698, 0.03981720202014316, 0.032079677140597354, 0.05199346741274839, 0.02715753451441887, 0.04501266890557368, 0.03909635707267217, 0.025340462904676002, 0.06208617547031939]\n",
            "[0.4711864406779661, 0.5887005649717514, 0.6248587570621469, 0.6242937853107344, 0.6474576271186441, 0.6706214689265537, 0.6779661016949152, 0.6790960451977401, 0.696045197740113, 0.7096045197740113]\n"
          ]
        },
        {
          "output_type": "stream",
          "name": "stderr",
          "text": [
            "2023-05-04 08:29:25 [INFO]: epoch 0: training loss_generator 8.9952, train loss_discriminator 0.5832\n",
            "2023-05-04 08:29:37 [INFO]: epoch 1: training loss_generator 7.6022, train loss_discriminator 0.5752\n",
            "2023-05-04 08:29:51 [INFO]: epoch 2: training loss_generator 6.6529, train loss_discriminator 0.5668\n",
            "2023-05-04 08:30:05 [INFO]: epoch 3: training loss_generator 5.7640, train loss_discriminator 0.5581\n",
            "2023-05-04 08:30:19 [INFO]: epoch 4: training loss_generator 5.1359, train loss_discriminator 0.5489\n",
            "2023-05-04 08:30:19 [INFO]: Finished training.\n",
            "/usr/local/lib/python3.10/dist-packages/sklearn/cluster/_kmeans.py:870: FutureWarning: The default value of `n_init` will change from 10 to 'auto' in 1.4. Set the value of `n_init` explicitly to suppress the warning\n",
            "  warnings.warn(\n",
            "2023-05-04 08:30:21 [INFO]: No given device, using default device: cpu\n",
            "2023-05-04 08:30:21 [INFO]: Model initialized successfully with the number of trainable parameters: 203956\n"
          ]
        },
        {
          "output_type": "stream",
          "name": "stdout",
          "text": [
            "[-0.01085684472156369, 0.03020068179649698, 0.03981720202014316, 0.032079677140597354, 0.05199346741274839, 0.02715753451441887, 0.04501266890557368, 0.03909635707267217, 0.025340462904676002, 0.06208617547031939, 0.026576063096382368]\n",
            "[0.4711864406779661, 0.5887005649717514, 0.6248587570621469, 0.6242937853107344, 0.6474576271186441, 0.6706214689265537, 0.6779661016949152, 0.6790960451977401, 0.696045197740113, 0.7096045197740113, 0.7056497175141243]\n"
          ]
        },
        {
          "output_type": "stream",
          "name": "stderr",
          "text": [
            "2023-05-04 08:30:35 [INFO]: epoch 0: training loss_generator 12.8114, train loss_discriminator 0.6542\n",
            "2023-05-04 08:30:49 [INFO]: epoch 1: training loss_generator 10.2607, train loss_discriminator 0.6431\n",
            "2023-05-04 08:31:03 [INFO]: epoch 2: training loss_generator 8.7322, train loss_discriminator 0.6321\n",
            "2023-05-04 08:31:17 [INFO]: epoch 3: training loss_generator 7.5236, train loss_discriminator 0.6212\n",
            "2023-05-04 08:31:31 [INFO]: epoch 4: training loss_generator 6.5892, train loss_discriminator 0.6103\n",
            "2023-05-04 08:31:31 [INFO]: Finished training.\n",
            "/usr/local/lib/python3.10/dist-packages/sklearn/cluster/_kmeans.py:870: FutureWarning: The default value of `n_init` will change from 10 to 'auto' in 1.4. Set the value of `n_init` explicitly to suppress the warning\n",
            "  warnings.warn(\n",
            "2023-05-04 08:31:33 [INFO]: No given device, using default device: cpu\n",
            "2023-05-04 08:31:33 [INFO]: Model initialized successfully with the number of trainable parameters: 203956\n"
          ]
        },
        {
          "output_type": "stream",
          "name": "stdout",
          "text": [
            "[-0.01085684472156369, 0.03020068179649698, 0.03981720202014316, 0.032079677140597354, 0.05199346741274839, 0.02715753451441887, 0.04501266890557368, 0.03909635707267217, 0.025340462904676002, 0.06208617547031939, 0.026576063096382368, 0.026297767784252798]\n",
            "[0.4711864406779661, 0.5887005649717514, 0.6248587570621469, 0.6242937853107344, 0.6474576271186441, 0.6706214689265537, 0.6779661016949152, 0.6790960451977401, 0.696045197740113, 0.7096045197740113, 0.7056497175141243, 0.711864406779661]\n"
          ]
        },
        {
          "output_type": "stream",
          "name": "stderr",
          "text": [
            "2023-05-04 08:31:46 [INFO]: epoch 0: training loss_generator 9.4543, train loss_discriminator 0.6716\n",
            "2023-05-04 08:31:59 [INFO]: epoch 1: training loss_generator 7.8202, train loss_discriminator 0.6608\n",
            "2023-05-04 08:32:14 [INFO]: epoch 2: training loss_generator 6.6061, train loss_discriminator 0.6502\n",
            "2023-05-04 08:32:27 [INFO]: epoch 3: training loss_generator 5.7413, train loss_discriminator 0.6397\n",
            "2023-05-04 08:32:41 [INFO]: epoch 4: training loss_generator 5.1115, train loss_discriminator 0.6291\n",
            "2023-05-04 08:32:41 [INFO]: Finished training.\n"
          ]
        },
        {
          "output_type": "stream",
          "name": "stdout",
          "text": [
            "[-0.01085684472156369, 0.03020068179649698, 0.03981720202014316, 0.032079677140597354, 0.05199346741274839, 0.02715753451441887, 0.04501266890557368, 0.03909635707267217, 0.025340462904676002, 0.06208617547031939, 0.026576063096382368, 0.026297767784252798, 0.014241521900381712]\n",
            "[0.4711864406779661, 0.5887005649717514, 0.6248587570621469, 0.6242937853107344, 0.6474576271186441, 0.6706214689265537, 0.6779661016949152, 0.6790960451977401, 0.696045197740113, 0.7096045197740113, 0.7056497175141243, 0.711864406779661, 0.7135593220338983]\n"
          ]
        },
        {
          "output_type": "stream",
          "name": "stderr",
          "text": [
            "/usr/local/lib/python3.10/dist-packages/sklearn/cluster/_kmeans.py:870: FutureWarning: The default value of `n_init` will change from 10 to 'auto' in 1.4. Set the value of `n_init` explicitly to suppress the warning\n",
            "  warnings.warn(\n"
          ]
        }
      ],
      "source": [
        "results=[]\n",
        "AMS=[]\n",
        "RII=[]\n",
        "\n",
        "for i in range(2,15):\n",
        "\n",
        "  crli = CRLI(\n",
        "    n_steps=1,\n",
        "    n_features=1,\n",
        "    n_clusters=i,\n",
        "    n_generator_layers=2,\n",
        "    rnn_hidden_size=64,\n",
        "    epochs=5\n",
        "  )\n",
        "\n",
        "  crli.fit(dataset)\n",
        "  clustt=crli.cluster(dataset)\n",
        "  results.append(clustt)\n",
        "  RI = cal_rand_index(clustt, y)\n",
        "  RII.append(RI)\n",
        "  AM=adjusted_mutual_info_score(clustt, y)\n",
        "  AMS.append(AM)\n",
        "  print(AMS)\n",
        "  print(RII)\n",
        "with open(\"/content/drive/MyDrive/Doctorado/2023/Abril/PyPOTS/pypots/tests/firtsexperiment2.txt\", \"w\") as output:\n",
        "    output.write(str(results))"
      ]
    },
    {
      "cell_type": "code",
      "execution_count": null,
      "metadata": {
        "id": "o0_OrijdfWTJ"
      },
      "outputs": [],
      "source": []
    },
    {
      "cell_type": "code",
      "execution_count": null,
      "metadata": {
        "id": "odO2u01WfWWO"
      },
      "outputs": [],
      "source": []
    },
    {
      "cell_type": "code",
      "execution_count": null,
      "metadata": {
        "id": "t66HhdrzKif5"
      },
      "outputs": [],
      "source": []
    }
  ],
  "metadata": {
    "colab": {
      "provenance": [],
      "toc_visible": true
    },
    "kernelspec": {
      "display_name": "Python 3",
      "name": "python3"
    },
    "language_info": {
      "name": "python"
    }
  },
  "nbformat": 4,
  "nbformat_minor": 0
}